{
 "cells": [
  {
   "cell_type": "markdown",
   "metadata": {},
   "source": [
    "# Data Act Report\n",
    "\n",
    "### by Travis Gillespie"
   ]
  },
  {
   "cell_type": "markdown",
   "metadata": {},
   "source": [
    "## Table of Contents\n",
    "- [Introduction](#intro)\n",
    "- [Understand the Model, and Visualizing the Data](#visualize)\n",
    "   - [Insight One: Price Difference](#one)\n",
    "   - [Insight Two: Given Visualization](#two)\n",
    "   - [Insight Three: Predicted Visualization](#three)\n",
    "- [Recommendation](#recommendation)\n",
    "- [Resources](#resources)"
   ]
  },
  {
   "cell_type": "markdown",
   "metadata": {},
   "source": [
    "<a id='intro'></a>\n",
    "## Introduction"
   ]
  },
  {
   "cell_type": "markdown",
   "metadata": {},
   "source": [
    "The purpose of this project is to get familiar with Udacity's project submission processes, plus understand some of the terms that will be used throughout the program. The visuals included in this report represent data gathered, assessed, cleaned, and graphed in the [*predicting_diamond_prices.ipynb*](./predicting_diamond_prices.ipynb) file. This section analyzes the visualizations created during the data wrangling process.\n",
    "\n"
   ]
  },
  {
   "cell_type": "markdown",
   "metadata": {},
   "source": [
    "First, I had to get familiar with both datasets. Then, predict the prices of diamonds using the [new dataset](./diamond-data/new-diamonds.csv). I was able to calculate the predicted prices using the given formula below for the regression model. I used python to build the predicted prices and bids columns, created two scatter plots, then wrote the dataframe out to a [new csv file](./report/new-diamondsReport.csv)."
   ]
  },
  {
   "cell_type": "markdown",
   "metadata": {},
   "source": [
    "<center>$-5269 + (8413 \\times$\n",
    "<span style = \"color : RoyalBlue \"> $Carat$</span>\n",
    "$) + (158.1 \\times$\n",
    "<span style = \"color : RoyalBlue \"> $Cut$</span>\n",
    "$) + (454 \\times$ \n",
    "<span style = \"color : RoyalBlue \"> $Clarity$</span>\n",
    "$)$</center>"
   ]
  },
  {
   "cell_type": "markdown",
   "metadata": {},
   "source": [
    "____"
   ]
  },
  {
   "cell_type": "markdown",
   "metadata": {},
   "source": [
    "<a id='visualize'></a>\n",
    "## Understand the Model, and Visualizing the Data"
   ]
  },
  {
   "cell_type": "markdown",
   "metadata": {},
   "source": [
    "<a id='one'></a>\n",
    "### Insight One: Price Difference"
   ]
  },
  {
   "cell_type": "markdown",
   "metadata": {},
   "source": [
    "* According to the linear model provided, if a diamond is 1 carat heavier than another with the same cut and clarity, how much more would the retail price of the heavier diamond be? Why?\n",
    "\n",
    "    * <span style = \"color : RoyalBlue \"> $predictedPriceHeavyDiamond$</span>\n",
    "    $-$\n",
    "    <span style = \"color : RoyalBlue \"> $predictedPriceLightDiamond$</span>\n",
    "    $= \\$8413$\n",
    "    \n",
    "    * The original calculation can be found in the file [*predicting_diamond_prices.ipynb*](./predicting_diamond_prices.ipynb). Also, a mockup of these calculations is below. \n"
   ]
  },
  {
   "cell_type": "markdown",
   "metadata": {},
   "source": [
    "``` python\n",
    "# Declare variables for rows in df that meet the following criteria\n",
    "\n",
    "# carat = 1\n",
    "# cut = \"Premium\"\n",
    "# clarity = \"SI1\"\n",
    "predictedPriceLightDiamond = df_predicted.loc[(df_predicted['carat'] == 1) &\n",
    "                         (df_predicted['cut'] == 'Premium') &\n",
    "                         (df_predicted['clarity'] == 'SI1')].iloc[0]['price']\n",
    "predictedPriceLightDiamond\n",
    "\n",
    "\n",
    "\n",
    "# carat = 2\n",
    "# cut = \"Premium\"\n",
    "# clarity = \"SI1\"\n",
    "predictedPriceHeavyDiamond =  df_predicted.loc[(df_predicted['carat'] == 2) &\n",
    "                                (df_predicted['cut'] == 'Premium') &\n",
    "                                (df_predicted['clarity'] == 'SI1')].iloc[0]['price']\n",
    "predictedPriceHeavyDiamond\n",
    "\n",
    "# predictedPriceLightDiamond = 5138.4\n",
    "# predictedPriceHeavyDiamond = 13551.4\n",
    "# predictedPriceHeavyDiamond - predictedPriceLightDiamond = 8413\n",
    "```"
   ]
  },
  {
   "cell_type": "markdown",
   "metadata": {},
   "source": [
    "<a id='two'></a>\n",
    "### Insight Two: Visualization"
   ]
  },
  {
   "cell_type": "markdown",
   "metadata": {},
   "source": [
    "<img src=\"assets/images/relationshipCaratAndPrice_Given.png\" width=\"75%\" align=\"left\">"
   ]
  },
  {
   "cell_type": "markdown",
   "metadata": {},
   "source": [
    "____"
   ]
  },
  {
   "cell_type": "markdown",
   "metadata": {},
   "source": [
    "<a id='three'></a>\n",
    "### Insight Three: Visualization"
   ]
  },
  {
   "cell_type": "markdown",
   "metadata": {},
   "source": [
    "* If you were interested in a 1.5 carat diamond with a Very Good cut (represented by a 3 in the model) and a VS2 clarity rating (represented by a 5 in the model), what retail price would the model predict for the diamond?\n",
    "\n",
    "    * $-5269 + (8413 \\times$\n",
    "<span style = \"color : RoyalBlue \"> $1.5$</span>\n",
    "$) + (158.1 \\times$\n",
    "<span style = \"color : RoyalBlue \"> $3$</span>\n",
    "$) + (454 \\times$ \n",
    "<span style = \"color : RoyalBlue \"> $5$</span>\n",
    "$)$</span>\n",
    "    * $= \\$10,094.80$"
   ]
  },
  {
   "cell_type": "markdown",
   "metadata": {},
   "source": [
    "* What strikes you about this comparison? After seeing this plot, do you feel confident in the model’s ability to predict prices?\n",
    "\n",
    "    * This graph displays a positive correlation between carat and price. There are fewer observations with diamonds that are 2 carats and greater, so it is difficult to determine how close the predicted values would be to the line of best fit. I found it interesting that some prices are below zero. Does this mean the seller would pay the buyer money for taking the diamond off their hands? Obviously not, this would be a foolish business model.\n",
    "    * There are probably some modifications that need to be made to the formula for this regression model. Another  simple solution to cleaning up the dataset by removing rows that contain a negative number in the price column. As shown earler in the dataframe labaeled _df_predictedNegativePrices_, there are 291 rows that contain a negative price that could potentially be dropped from the dataset, or better yet, use these items to improve the algorithm. \n",
    "    * Regardless of the future modifications, I feel confident in the initial formula. The relationship between carat and predicted price is considered a strong positive linear relationship of appoximately 0.98. Since, bid price is 70% of predicted price, the corrilation coefficient between carat and bid is identical (i.e. 0.98)."
   ]
  },
  {
   "cell_type": "markdown",
   "metadata": {},
   "source": [
    "<img src=\"assets/images/relationshipCaratAndPrice_Predicted.png\" width=\"75%\" align=\"left\">"
   ]
  },
  {
   "cell_type": "markdown",
   "metadata": {},
   "source": [
    "____"
   ]
  },
  {
   "cell_type": "markdown",
   "metadata": {},
   "source": [
    "<a id='recommendation'></a>\n",
    "### Recommendation"
   ]
  },
  {
   "cell_type": "markdown",
   "metadata": {},
   "source": [
    "* What bid do you recommend for the jewelry company? Please explain how you arrived at that number.\n",
    "\n",
    "    * As expained in the intro section, I was able to use the linear regression model to calculate the predicted prices.\n",
    "    * I then calculated what 70% of the predicted prices sum value.\n",
    "    * If the goal is to bid at 70% of the sum total price, my recommendation is to place a bid at <span style = \"color : RoyalBlue   \"> $8,213,465.93 </span>."
   ]
  },
  {
   "cell_type": "markdown",
   "metadata": {},
   "source": [
    "____"
   ]
  },
  {
   "cell_type": "markdown",
   "metadata": {},
   "source": [
    "<a id='resources'></a>\n",
    "## Resources"
   ]
  },
  {
   "cell_type": "markdown",
   "metadata": {},
   "source": [
    "1. [LaTex Math Symbols](https://www.overleaf.com/learn/latex/List_of_Greek_letters_and_math_symbols)"
   ]
  },
  {
   "cell_type": "code",
   "execution_count": null,
   "metadata": {},
   "outputs": [],
   "source": []
  }
 ],
 "metadata": {
  "kernelspec": {
   "display_name": "Python 3",
   "language": "python",
   "name": "python3"
  },
  "language_info": {
   "codemirror_mode": {
    "name": "ipython",
    "version": 3
   },
   "file_extension": ".py",
   "mimetype": "text/x-python",
   "name": "python",
   "nbconvert_exporter": "python",
   "pygments_lexer": "ipython3",
   "version": "3.6.4"
  }
 },
 "nbformat": 4,
 "nbformat_minor": 2
}
