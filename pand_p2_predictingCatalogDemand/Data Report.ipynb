{
 "cells": [
  {
   "cell_type": "markdown",
   "metadata": {},
   "source": [
    "# Data Report – Predicting Catalog Demand\n",
    "\n",
    "### by Travis Gillespie"
   ]
  },
  {
   "cell_type": "markdown",
   "metadata": {},
   "source": [
    "## Table of Contents\n",
    "- [Introduction](#intro)\n",
    "- [Business and Data Understanding](#businessUnderstanding)\n",
    "    - [Key Decisions](#keyDecisions)\n",
    "- [Analysis, Modeling, and Validation](#analysisModelingValidation)\n",
    "    - [Question 1](#analysis_Question1)\n",
    "    - [Question 2](#analysis_Question2)\n",
    "    - [Question 3](#analysis_Question3)\n",
    "- [Presentation/Visualization](#presentationVisualization)\n",
    "    - [Question 1](#visual_Question1)\n",
    "    - [Question 2](#visual_Question2)\n",
    "    - [Question 3](#visual_Question3)"
   ]
  },
  {
   "cell_type": "markdown",
   "metadata": {},
   "source": [
    "<a id='intro'></a>\n",
    "## Introduction"
   ]
  },
  {
   "cell_type": "markdown",
   "metadata": {},
   "source": [
    "You recently started working for a company that manufactures and sells high-end home goods. Last year the company sent out its first print catalog, and is preparing to send out this year's catalog in the coming months. The company has 250 new customers from their mailing list that they want to send the catalog to.\n",
    "\n",
    "Your manager has been asked to determine how much profit the company can expect from sending a catalog to these customers. You, the business analyst, are assigned to help your manager run the numbers. While fairly knowledgeable about data analysis, your manager is not very familiar with predictive models.\n",
    "\n",
    "You’ve been asked to predict the expected profit from these 250 new customers. Management does not want to send the catalog out to these new customers unless the expected profit contribution exceeds $10,000."
   ]
  },
  {
   "cell_type": "markdown",
   "metadata": {},
   "source": [
    "<a id='businessUnderstanding'></a>\n",
    "## Business and Data Understanding"
   ]
  },
  {
   "cell_type": "markdown",
   "metadata": {},
   "source": [
    "<a id='keyDecisions'></a>\n",
    "### Key Decisions"
   ]
  },
  {
   "cell_type": "markdown",
   "metadata": {},
   "source": [
    "<a id='keyDecisions_Question1'></a>\n",
    "### Question 1"
   ]
  },
  {
   "cell_type": "markdown",
   "metadata": {},
   "source": [
    "_What decisions needs to be made?_\n",
    "\n",
    "Whether or not to send this year's company catalog to new customers; dependant on the profit exceeding $10,000.\n",
    "\n",
    "\n"
   ]
  },
  {
   "cell_type": "markdown",
   "metadata": {},
   "source": [
    "<a id='keyDecisions_Question2'></a>\n",
    "### Question 2"
   ]
  },
  {
   "cell_type": "markdown",
   "metadata": {},
   "source": [
    "_What data is needed to inform those decisions?_\n",
    "\n",
    "* The expected revenue from 250 new customers.\n",
    "* The probability a custome will buy the catalog.\n",
    "* Number of catalogs purchased.\n",
    "* Categorical varibles converted to dummy variables\n",
    "\n",
    "\n"
   ]
  },
  {
   "cell_type": "markdown",
   "metadata": {},
   "source": [
    "<a id='analysisModelingValidation'></a>\n",
    "## Analysis, Modeling, and Validation"
   ]
  },
  {
   "cell_type": "markdown",
   "metadata": {},
   "source": [
    "<a id='analysis_Question1'></a>\n",
    "### Question 1"
   ]
  },
  {
   "cell_type": "markdown",
   "metadata": {},
   "source": [
    "_How and why did you select the predictor variables in your model?_"
   ]
  },
  {
   "cell_type": "markdown",
   "metadata": {},
   "source": [
    "Using linear regression models I was able to assess which predictor variables have the strogest correlation."
   ]
  },
  {
   "cell_type": "markdown",
   "metadata": {},
   "source": [
    "<img src=\"assets/images/regplot_df_Customers.png\" alt=\"IMAGE\" title=\"TITLE\" width=\"75%\" align=\"left\" >"
   ]
  },
  {
   "cell_type": "markdown",
   "metadata": {},
   "source": [
    "<img src=\"assets/images/pearsonCorrelation.png\" alt=\"IMAGE\" title=\"TITLE\" width=\"75%\" align=\"left\" >"
   ]
  },
  {
   "cell_type": "markdown",
   "metadata": {},
   "source": [
    "The pair plot and Pearson Correlation matrix (above) suggests *Avg_Sale_Amount* and *Avg_Num_Products_Purchased* have a strong positive correlation of approximately 0.8558."
   ]
  },
  {
   "cell_type": "markdown",
   "metadata": {},
   "source": [
    "<img src=\"assets/images/scatterPlot.png\" alt=\"IMAGE\" title=\"TITLE\" width=\"75%\" align=\"left\" >"
   ]
  },
  {
   "cell_type": "markdown",
   "metadata": {},
   "source": [
    "The scatter plot provides a cleaner display of the relationship between *Avg_Sale_Amount* and *Avg_Num_Products_Purchased* as a positive correlation."
   ]
  },
  {
   "cell_type": "markdown",
   "metadata": {},
   "source": [
    "<a id='analysis_Question2'></a>\n",
    "### Question 2"
   ]
  },
  {
   "cell_type": "markdown",
   "metadata": {},
   "source": [
    "*Explain why you believe your linear model is a good model.*"
   ]
  },
  {
   "cell_type": "markdown",
   "metadata": {},
   "source": [
    "<img src=\"assets/images/linearRegression_Summary.png\" alt=\"IMAGE\" title=\"TITLE\" width=\"75%\" align=\"left\" >"
   ]
  },
  {
   "cell_type": "markdown",
   "metadata": {},
   "source": [
    "First categorical variables were converted to dummy variables rather than assign random numbers to each category for the model. Thus preventing an erroneous relationship between the target variabel and the category variable(s) due to arbitrarily assigned value(s).\n",
    "\n",
    "\n",
    "From there a simple regression analysis was conducted using the dummy variables. The Adjusted R-squared value is 0.837, indicating a strong positive correlation between my predictor variables (listed below):\n",
    "\n",
    "* Avg_Num_Products_Purchased\n",
    "* Customer_Segment_Loyalty_Club_Only\n",
    "* Customer_Segment_Loyalty_Club_and_Credit_Card\n",
    "* Customer_Segment_Store_Mailing_List \n",
    "\n",
    "Note: The p-value is truncated after the third decimal place. Although, I cannot determine if p-value is exactly equal zero, the data suggests this a very small p-value (e.g. p < 0.05, and p < 0.001) which is statistically significant."
   ]
  },
  {
   "cell_type": "markdown",
   "metadata": {},
   "source": [
    "<a id='analysis_Question3'></a>\n",
    "### Question 3"
   ]
  },
  {
   "cell_type": "markdown",
   "metadata": {},
   "source": [
    "*What is the best linear regression equation based on the available data? Each coefficient should have no more than 2 digits after the decimal (ex: 1.28).*"
   ]
  },
  {
   "cell_type": "markdown",
   "metadata": {},
   "source": [
    "$Predicted Average Sale Amount \\space = \\space 303.46\\space+\\space$<br>$\n",
    "$$\\space\\space\\space\\space\\space\\space\\space\\space\\space\\space\\space\\space\\space\\space\\space\\space\\space\\space\\space\\space$$\\space\\space\\space\\space\\space\\space\\space\\space\\space\\space\\space\\space\\space\\space\\space\\space\\space\\space\\space\\space\n",
    "(66.98  \\space\\times\\space$\n",
    "<span style = \"color : DodgerBlue \"> $AvgNumProductsPurchased$</span>\n",
    "$)\\space+\\space$<br>$\n",
    "$$\\space\\space\\space\\space\\space\\space\\space\\space\\space\\space\\space\\space\\space\\space\\space\\space\\space\\space\\space\\space$$\\space\\space\\space\\space\\space\\space\\space\\space\\space\\space\\space\\space\\space\\space\\space\\space\\space\\space\\space\\space\n",
    "($ -$149.36 \\space\\times\\space$\n",
    "<span style = \"color : DodgerBlue \"> $CustomerSegmentLoyaltyClubOnly$</span>\n",
    "$)\\space+\\space$<br>$\n",
    "$$\\space\\space\\space\\space\\space\\space\\space\\space\\space\\space\\space\\space\\space\\space\\space\\space\\space\\space\\space\\space$$\\space\\space\\space\\space\\space\\space\\space\\space\\space\\space\\space\\space\\space\\space\\space\\space\\space\\space\\space\\space\n",
    "(281.84 \\space\\times\\space$\n",
    "<span style = \"color : DodgerBlue \"> $CustomerSegmentLoyaltyClubAndCreditCard$</span>\n",
    "$)\\space+\\space$<br>$\n",
    "$$\\space\\space\\space\\space\\space\\space\\space\\space\\space\\space\\space\\space\\space\\space\\space\\space\\space\\space\\space\\space$$\\space\\space\\space\\space\\space\\space\\space\\space\\space\\space\\space\\space\\space\\space\\space\\space\\space\\space\\space\\space\n",
    "($ -$245.42 \\space\\times\\space$\n",
    "<span style = \"color : DodgerBlue \"> $CustomerSegmentStoreMailingList$</span>\n",
    "$)$"
   ]
  },
  {
   "cell_type": "markdown",
   "metadata": {},
   "source": [
    "<a id='presentationVisualization'></a>\n",
    "## Presentation/Visualization  "
   ]
  },
  {
   "cell_type": "markdown",
   "metadata": {},
   "source": [
    "<a id='visual_Question1'></a>\n",
    "### Question 1"
   ]
  },
  {
   "cell_type": "markdown",
   "metadata": {},
   "source": [
    "*What is your recommendation? Should the company send the catalog to these 250 customers?*"
   ]
  },
  {
   "cell_type": "markdown",
   "metadata": {},
   "source": [
    "Yes. The company should send the catalog out to the 250 new customers in their mailing list."
   ]
  },
  {
   "cell_type": "markdown",
   "metadata": {},
   "source": [
    "<a id='visual_Question2'></a>\n",
    "### Question 2"
   ]
  },
  {
   "cell_type": "markdown",
   "metadata": {},
   "source": [
    "*How did you come up with your recommendation?*"
   ]
  },
  {
   "cell_type": "markdown",
   "metadata": {},
   "source": [
    "First I used my multiple linear regression model to calculate the *Predicted_Average_Sale_Amount*, then I calculated *Predicted_Revenue*, and finally calculated *Predicted_Profit*. I placed these values for these variables in corresponding columns in the dataset labeled [df_mailingList_dummies](./assets/data/df_mailingList_dummies.csv). To find the overall value for these variables I calulcated the sum of their corresponding column within the dataset. The overall values were finally written to a csv titled [df_overallValues](./assets/data/df_overallValues.csv)."
   ]
  },
  {
   "cell_type": "markdown",
   "metadata": {},
   "source": [
    "Further information on how each vairable was calcualted is listed below, while the actual calculations reside in the [Data Wrangling](./Data%20Wrangling.ipynb#three) file.\n",
    "\n",
    "* *Predicted_Average_Sale_Amount* is calculated by following the *PredictedAverageSaleAmount* formula above. Substitute the formula's variables with corresponding column values for each of the 250 customers in the mailing list dataset. Finally sum the *Predicted_Average_Sale_Amount* values. Example formula below:\n",
    "    * ``` Python \n",
    "    PredictedAverageSaleAmount = 303.46 +  \n",
    "                                 (66.98 × AvgNumProductsPurchased) +\n",
    "                                 (- 149.36 × CustomerSegmentLoyaltyClubOnly) +\n",
    "                                 (281.84 × CustomerSegmentLoyaltyClubAndCreditCard) +\n",
    "                                 (- 245.42 × CustomerSegmentStoreMailingList)\n",
    "    ```\n",
    "\n",
    "\n",
    "* *Predicted_Revenue* is calculated by finding the product of *Average_Sale_Amount* and *Score_Yes* (the probability a customer will respond and make a purchase), then taking the sum of all those values. Example formula below:\n",
    "    * ```Python\n",
    "    Predicted_Revenue = Predicted_Average_Sale_Amount * Score_Yes\n",
    "\n",
    "    ```\n",
    "    \n",
    "\n",
    "* *Predicted_Profit* is calculated by subtracting the catalog cost (given $6.50) from the product of *Predicted_Revenue* and average gross margin (which is a given value of 50%). Example formula below:\n",
    "    * ```Python\n",
    "    Predicted_Profit = (0.5 * Predicted_Revenue) - 6.5\n",
    "    ```\n",
    "\n"
   ]
  },
  {
   "cell_type": "markdown",
   "metadata": {},
   "source": [
    "<a id='visual_Question3'></a>\n",
    "### Question 3"
   ]
  },
  {
   "cell_type": "markdown",
   "metadata": {},
   "source": [
    "*What is the expected profit from the new catalog (assuming the catalog is sent to these 250 customers)?*"
   ]
  },
  {
   "cell_type": "markdown",
   "metadata": {},
   "source": [
    "As shown in the image below, the *Overall Predicted Profit* is approximately ``` $21,987.96```. This is more than double the $10,000 breaking point."
   ]
  },
  {
   "cell_type": "markdown",
   "metadata": {},
   "source": [
    "<img src=\"./assets/images/overall_values.png\" alt=\"IMAGE\" title=\"TITLE\" width=\"50%\" align=\"left\" >"
   ]
  },
  {
   "cell_type": "code",
   "execution_count": null,
   "metadata": {},
   "outputs": [],
   "source": []
  }
 ],
 "metadata": {
  "kernelspec": {
   "display_name": "Python 3",
   "language": "python",
   "name": "python3"
  },
  "language_info": {
   "codemirror_mode": {
    "name": "ipython",
    "version": 3
   },
   "file_extension": ".py",
   "mimetype": "text/x-python",
   "name": "python",
   "nbconvert_exporter": "python",
   "pygments_lexer": "ipython3",
   "version": "3.7.0"
  }
 },
 "nbformat": 4,
 "nbformat_minor": 2
}
