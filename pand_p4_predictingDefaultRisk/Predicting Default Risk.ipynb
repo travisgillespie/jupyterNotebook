{
  "cells": [
    {
      "metadata": {},
      "cell_type": "markdown",
      "source": "# RESOURCES\n\n* ## [project details](https://classroom.udacity.com/nanodegrees/nd008t/parts/54e2103b-5630-497a-bc37-c05d45cda549/modules/12c50013-ad11-4980-88a0-13d474cda9b8/lessons/ee56f886-070e-40ca-bfc8-cab2c5cdde7d/concepts/ac7bf309-3e98-4a2f-ad4e-555905d7cd07)\n* ## [rubric](https://review.udacity.com/#!/rubrics/265/view)\n* ## [main project folder](https://udacity-travismgillespie.notebooks.azure.com/j/tree)\n* ## variance\n    * ### [use R-squared to describe variance](https://classroom.udacity.com/nanodegrees/nd008t/parts/9cd2f005-f9b1-4953-ba02-ad65805b2a4a/modules/fc4c1ffe-01f6-4c11-b38b-646ecf1d3c59/lessons/576552b9-a1b4-45be-9428-572331a4e186/concepts/82bfe969-921b-4175-adb5-797e84ba6107): also look into [project 2](https://udacity-travismgillespie.notebooks.azure.com/j/notebooks/project2/Data%20Wrangling.ipynb) diamond catalog to see if I calculated correlation p and r-squared at same time... may have used a corr-matrix\n* ## feature selection\n    * ### [use p-value & correlation to select predictor variable](https://classroom.udacity.com/nanodegrees/nd008t/parts/9cd2f005-f9b1-4953-ba02-ad65805b2a4a/modules/fc4c1ffe-01f6-4c11-b38b-646ecf1d3c59/lessons/576552b9-a1b4-45be-9428-572331a4e186/concepts/82bfe969-921b-4175-adb5-797e84ba6107)\n    * ### [predictor variables](https://classroom.udacity.com/nanodegrees/nd008t/parts/9cd2f005-f9b1-4953-ba02-ad65805b2a4a/modules/fc4c1ffe-01f6-4c11-b38b-646ecf1d3c59/lessons/576552b9-a1b4-45be-9428-572331a4e186/concepts/631d190c-8626-4dd7-92df-f5bd96913c48): udacity\n    * ### [explanatory variables (aka predictor variables)](https://classroom.udacity.com/nanodegrees/nd008t/parts/9cd2f005-f9b1-4953-ba02-ad65805b2a4a/modules/fc4c1ffe-01f6-4c11-b38b-646ecf1d3c59/lessons/576552b9-a1b4-45be-9428-572331a4e186/concepts/631d190c-8626-4dd7-92df-f5bd96913c48): udacity\n    * ### [feature selection ex](https://www.youtube.com/watch?v=hhmsHY2vWY4)\n    * ### [feature selection correlation and p-value](https://towardsdatascience.com/feature-selection-correlation-and-p-value-da8921bfb3cf)\n* ## coefficients\n    * ### [calculate coefficients](https://classroom.udacity.com/nanodegrees/nd008t/parts/9cd2f005-f9b1-4953-ba02-ad65805b2a4a/modules/fc4c1ffe-01f6-4c11-b38b-646ecf1d3c59/lessons/576552b9-a1b4-45be-9428-572331a4e186/concepts/631d190c-8626-4dd7-92df-f5bd96913c48): watch udacity video\n* ## linear regression\n    * ### [packt ex](https://www.youtube.com/watch?v=Eqv98w1ukZk): good example of seeds and splitting test set\n* ## logistic regression\n    * ### [StatQuest](https://www.youtube.com/watch?v=yIYKR4sgzI8)\n    * ### [data school ex](https://www.youtube.com/watch?v=RlQuVL6-qe8&index=4&list=PL5-da3qGB5ICeMbQuqbbCOQWcS6OYBr5A)\n    * ### [Titanic ex](https://www.youtube.com/watch?v=VCJdg7YBbAQ)\n    * ### [logistic regression ex](https://www.youtube.com/watch?v=1nWFHa6K23w)\n* ## decision tree\n    * ### [iris google developers](https://www.youtube.com/watch?v=tNa99PG8hR8&list=PLOU2XLYxmsIIuiBfYad6rFYQU_jL2ryal&index=2)\n* ## boosted tree (aka Gradient boosting)\n    * ### [documentation: scikit learn](https://scikit-learn.org/stable/modules/ensemble.html#gradient-tree-boosting)\n    * ### [gradient boosting ex](https://www.youtube.com/watch?v=gIJHI5jSChM)\n    * ### [gradient boosting ex](https://www.youtube.com/watch?v=sRktKszFmSk)\n    * ### [gradient boosting ex](https://www.youtube.com/watch?v=X3Wbfb4M33w)\n    * ### [gradient boosting ex](https://www.youtube.com/watch?v=2WfKzyi__l4)\n    * ### [ada boosting ex](https://www.youtube.com/watch?v=GM3CDQfQ4sw)\n    * ### [additional boosting reading](https://en.wikipedia.org/wiki/Gradient_boosting)\n* ## forest model (aka random forest model)\n    * ### [documentation: scikit learn](https://scikit-learn.org/stable/modules/ensemble.html#random-forests)\n    * ### [forest model udacity](https://classroom.udacity.com/nanodegrees/nd008t/parts/54e2103b-5630-497a-bc37-c05d45cda549/modules/12c50013-ad11-4980-88a0-13d474cda9b8/lessons/59e0ee88-1a1e-459d-a79e-53ef74c13e77/concepts/65b13e59-9be3-45f8-a6f3-196369dc3c3d)\n    * ### [random forest example](https://www.youtube.com/watch?v=D_2LkhMJcfY)\n    \n* ## backward elemenation\n    * ### [looking up details on SL = 0.05](https://www.kaggle.com/umeshsati54/backward-elimination)"
    },
    {
      "metadata": {
        "trusted": true
      },
      "cell_type": "code",
      "source": "import pandas as pd\nimport numpy as np\nimport seaborn as sns\nimport matplotlib.pyplot as plt\n# from scipy.stats import iqr\n\n# from sklearn import tree # user for decision tree... https://www.youtube.com/watch?v=tNa99PG8hR8&list=PLOU2XLYxmsIIuiBfYad6rFYQU_jL2ryal&index=2\n\n# from sklearn.linear_model import LogisticRegression # use for logistic regression \n\n# boosted tree??? # is this the same as Gradient tree boosting??? https://scikit-learn.org/stable/modules/ensemble.html#gradient-tree-boosting\n\n# forest model ??? # is this the same as random forest??? https://scikit-learn.org/stable/modules/ensemble.html#random-forests",
      "execution_count": 32,
      "outputs": []
    },
    {
      "metadata": {},
      "cell_type": "markdown",
      "source": "## Train Data Set"
    },
    {
      "metadata": {
        "trusted": true
      },
      "cell_type": "code",
      "source": "",
      "execution_count": null,
      "outputs": []
    },
    {
      "metadata": {
        "trusted": true
      },
      "cell_type": "code",
      "source": "#training set contains one additional column Credit Application Result\ntrain = pd.read_excel('./data/credit-data-training.xlsx')\n# train.sort_values('Purpose', inplace=True)",
      "execution_count": 33,
      "outputs": []
    },
    {
      "metadata": {
        "trusted": true
      },
      "cell_type": "code",
      "source": "# given provided training set has been cleaned shouldn't need to be modified\n# consider dropping age where nill\n# train[\"Age-years\"].unique()\n# train[\"Duration-in-Current-address\"].unique()\ntrain.info()",
      "execution_count": 34,
      "outputs": [
        {
          "output_type": "stream",
          "text": "<class 'pandas.core.frame.DataFrame'>\nRangeIndex: 500 entries, 0 to 499\nData columns (total 20 columns):\nCredit-Application-Result            500 non-null object\nAccount-Balance                      500 non-null object\nDuration-of-Credit-Month             500 non-null int64\nPayment-Status-of-Previous-Credit    500 non-null object\nPurpose                              500 non-null object\nCredit-Amount                        500 non-null int64\nValue-Savings-Stocks                 500 non-null object\nLength-of-current-employment         500 non-null object\nInstalment-per-cent                  500 non-null int64\nGuarantors                           500 non-null object\nDuration-in-Current-address          156 non-null float64\nMost-valuable-available-asset        500 non-null int64\nAge-years                            488 non-null float64\nConcurrent-Credits                   500 non-null object\nType-of-apartment                    500 non-null int64\nNo-of-Credits-at-this-Bank           500 non-null object\nOccupation                           500 non-null int64\nNo-of-dependents                     500 non-null int64\nTelephone                            500 non-null int64\nForeign-Worker                       500 non-null int64\ndtypes: float64(2), int64(9), object(9)\nmemory usage: 78.2+ KB\n",
          "name": "stdout"
        }
      ]
    },
    {
      "metadata": {
        "trusted": true
      },
      "cell_type": "code",
      "source": "train.var(axis=0)",
      "execution_count": 35,
      "outputs": [
        {
          "output_type": "execute_result",
          "execution_count": 35,
          "data": {
            "text/plain": "Duration-of-Credit-Month         1.514726e+02\nCredit-Amount                    8.016752e+06\nInstalment-per-cent              1.240381e+00\nDuration-in-Current-address      1.322539e+00\nMost-valuable-available-asset    1.132665e+00\nAge-years                        1.322850e+02\nType-of-apartment                2.913988e-01\nOccupation                       0.000000e+00\nNo-of-dependents                 1.249339e-01\nTelephone                        2.404810e-01\nForeign-Worker                   3.662926e-02\ndtype: float64"
          },
          "metadata": {}
        }
      ]
    },
    {
      "metadata": {},
      "cell_type": "markdown",
      "source": "# <span style=\"color:red\">TASKS</span>\n\n* update data types\n* Do I split test data 70% and 30%... or do I use the training data given to me? based on titanic video I might split my training data, to train the model, then use unknown dataset to test the model... 3 vids can help... \n    * [data school](https://www.youtube.com/watch?v=RlQuVL6-qe8&index=4&list=PL5-da3qGB5ICeMbQuqbbCOQWcS6OYBr5A): \n    * [packt](https://www.youtube.com/watch?v=Eqv98w1ukZk): splits data set as projedct instructions describe\n    * [titanic](https://www.youtube.com/watch?v=VCJdg7YBbAQ): describes creating dummies from dataset\n    * [iris google dev]([iris google developers](https://www.youtube.com/watch?v=tNa99PG8hR8&list=PLOU2XLYxmsIIuiBfYad6rFYQU_jL2ryal&index=2)\n\n* Create dummies on fields with multiple numeric/text values (e.g. sex, ticket class)\n* Correlation & P-values, select predictors\n    * watch udacity videos and other videos if needed\n    \n* Does target variable also need to be converted to numeric, or is that only an Altryx issue???\n    * if so create new column np.where([train[\"Credit-Application-Result\"] == 'Creditworthy', 1, 0)"
    },
    {
      "metadata": {},
      "cell_type": "markdown",
      "source": "## Test Data Set"
    },
    {
      "metadata": {
        "trusted": true
      },
      "cell_type": "code",
      "source": "#test set missing one column... Credit Application Result is the result you are tryting to predict\ntest = pd.read_excel('./data/customers-to-score.xlsx')\n# test.sort_values('Purpose', inplace=True)\ntest.head()",
      "execution_count": 36,
      "outputs": [
        {
          "output_type": "execute_result",
          "execution_count": 36,
          "data": {
            "text/html": "<div>\n<style scoped>\n    .dataframe tbody tr th:only-of-type {\n        vertical-align: middle;\n    }\n\n    .dataframe tbody tr th {\n        vertical-align: top;\n    }\n\n    .dataframe thead th {\n        text-align: right;\n    }\n</style>\n<table border=\"1\" class=\"dataframe\">\n  <thead>\n    <tr style=\"text-align: right;\">\n      <th></th>\n      <th>Account-Balance</th>\n      <th>Duration-of-Credit-Month</th>\n      <th>Payment-Status-of-Previous-Credit</th>\n      <th>Purpose</th>\n      <th>Credit-Amount</th>\n      <th>Value-Savings-Stocks</th>\n      <th>Length-of-current-employment</th>\n      <th>Instalment-per-cent</th>\n      <th>Guarantors</th>\n      <th>Duration-in-Current-address</th>\n      <th>Most-valuable-available-asset</th>\n      <th>Age-years</th>\n      <th>Concurrent-Credits</th>\n      <th>Type-of-apartment</th>\n      <th>No-of-Credits-at-this-Bank</th>\n      <th>Occupation</th>\n      <th>No-of-dependents</th>\n      <th>Telephone</th>\n      <th>Foreign-Worker</th>\n    </tr>\n  </thead>\n  <tbody>\n    <tr>\n      <th>0</th>\n      <td>No Account</td>\n      <td>9</td>\n      <td>No Problems (in this bank)</td>\n      <td>Home Related</td>\n      <td>2799</td>\n      <td>None</td>\n      <td>&lt; 1yr</td>\n      <td>2</td>\n      <td>None</td>\n      <td>2</td>\n      <td>1</td>\n      <td>36</td>\n      <td>Other Banks/Depts</td>\n      <td>1</td>\n      <td>More than 1</td>\n      <td>1</td>\n      <td>2</td>\n      <td>1</td>\n      <td>1</td>\n    </tr>\n    <tr>\n      <th>1</th>\n      <td>No Account</td>\n      <td>12</td>\n      <td>No Problems (in this bank)</td>\n      <td>Home Related</td>\n      <td>2122</td>\n      <td>None</td>\n      <td>&lt; 1yr</td>\n      <td>3</td>\n      <td>None</td>\n      <td>2</td>\n      <td>1</td>\n      <td>39</td>\n      <td>Other Banks/Depts</td>\n      <td>1</td>\n      <td>More than 1</td>\n      <td>1</td>\n      <td>2</td>\n      <td>1</td>\n      <td>2</td>\n    </tr>\n    <tr>\n      <th>2</th>\n      <td>No Account</td>\n      <td>24</td>\n      <td>Paid Up</td>\n      <td>Home Related</td>\n      <td>3758</td>\n      <td>£100-£1000</td>\n      <td>&lt; 1yr</td>\n      <td>1</td>\n      <td>None</td>\n      <td>4</td>\n      <td>4</td>\n      <td>23</td>\n      <td>Other Banks/Depts</td>\n      <td>1</td>\n      <td>1</td>\n      <td>1</td>\n      <td>1</td>\n      <td>1</td>\n      <td>1</td>\n    </tr>\n    <tr>\n      <th>3</th>\n      <td>No Account</td>\n      <td>11</td>\n      <td>No Problems (in this bank)</td>\n      <td>Home Related</td>\n      <td>3905</td>\n      <td>None</td>\n      <td>&lt; 1yr</td>\n      <td>2</td>\n      <td>None</td>\n      <td>2</td>\n      <td>1</td>\n      <td>36</td>\n      <td>Other Banks/Depts</td>\n      <td>1</td>\n      <td>More than 1</td>\n      <td>1</td>\n      <td>2</td>\n      <td>1</td>\n      <td>1</td>\n    </tr>\n    <tr>\n      <th>4</th>\n      <td>No Account</td>\n      <td>6</td>\n      <td>No Problems (in this bank)</td>\n      <td>Home Related</td>\n      <td>1957</td>\n      <td>None</td>\n      <td>1-4 yrs</td>\n      <td>1</td>\n      <td>None</td>\n      <td>4</td>\n      <td>3</td>\n      <td>31</td>\n      <td>Other Banks/Depts</td>\n      <td>2</td>\n      <td>1</td>\n      <td>1</td>\n      <td>1</td>\n      <td>1</td>\n      <td>1</td>\n    </tr>\n  </tbody>\n</table>\n</div>",
            "text/plain": "  Account-Balance  Duration-of-Credit-Month Payment-Status-of-Previous-Credit  \\\n0      No Account                         9        No Problems (in this bank)   \n1      No Account                        12        No Problems (in this bank)   \n2      No Account                        24                           Paid Up   \n3      No Account                        11        No Problems (in this bank)   \n4      No Account                         6        No Problems (in this bank)   \n\n        Purpose  Credit-Amount Value-Savings-Stocks  \\\n0  Home Related           2799                 None   \n1  Home Related           2122                 None   \n2  Home Related           3758           £100-£1000   \n3  Home Related           3905                 None   \n4  Home Related           1957                 None   \n\n  Length-of-current-employment  Instalment-per-cent Guarantors  \\\n0                        < 1yr                    2       None   \n1                        < 1yr                    3       None   \n2                        < 1yr                    1       None   \n3                        < 1yr                    2       None   \n4                      1-4 yrs                    1       None   \n\n   Duration-in-Current-address  Most-valuable-available-asset  Age-years  \\\n0                            2                              1         36   \n1                            2                              1         39   \n2                            4                              4         23   \n3                            2                              1         36   \n4                            4                              3         31   \n\n  Concurrent-Credits  Type-of-apartment No-of-Credits-at-this-Bank  \\\n0  Other Banks/Depts                  1                More than 1   \n1  Other Banks/Depts                  1                More than 1   \n2  Other Banks/Depts                  1                          1   \n3  Other Banks/Depts                  1                More than 1   \n4  Other Banks/Depts                  2                          1   \n\n   Occupation  No-of-dependents  Telephone  Foreign-Worker  \n0           1                 2          1               1  \n1           1                 2          1               2  \n2           1                 1          1               1  \n3           1                 2          1               1  \n4           1                 1          1               1  "
          },
          "metadata": {}
        }
      ]
    },
    {
      "metadata": {
        "trusted": true
      },
      "cell_type": "markdown",
      "source": "Test data set has no null values."
    },
    {
      "metadata": {
        "trusted": true,
        "scrolled": true
      },
      "cell_type": "code",
      "source": "test.info()",
      "execution_count": 37,
      "outputs": [
        {
          "output_type": "stream",
          "text": "<class 'pandas.core.frame.DataFrame'>\nRangeIndex: 500 entries, 0 to 499\nData columns (total 19 columns):\nAccount-Balance                      500 non-null object\nDuration-of-Credit-Month             500 non-null int64\nPayment-Status-of-Previous-Credit    500 non-null object\nPurpose                              500 non-null object\nCredit-Amount                        500 non-null int64\nValue-Savings-Stocks                 500 non-null object\nLength-of-current-employment         500 non-null object\nInstalment-per-cent                  500 non-null int64\nGuarantors                           500 non-null object\nDuration-in-Current-address          500 non-null int64\nMost-valuable-available-asset        500 non-null int64\nAge-years                            500 non-null int64\nConcurrent-Credits                   500 non-null object\nType-of-apartment                    500 non-null int64\nNo-of-Credits-at-this-Bank           500 non-null object\nOccupation                           500 non-null int64\nNo-of-dependents                     500 non-null int64\nTelephone                            500 non-null int64\nForeign-Worker                       500 non-null int64\ndtypes: int64(11), object(8)\nmemory usage: 74.3+ KB\n",
          "name": "stdout"
        }
      ]
    },
    {
      "metadata": {},
      "cell_type": "markdown",
      "source": "## Clean Test Data"
    },
    {
      "metadata": {},
      "cell_type": "markdown",
      "source": "As indicated above using test.info(), the test data set has no null values. There might be some columns that are removed later for other reasons, but leaving this data set as is for now."
    },
    {
      "metadata": {
        "trusted": true
      },
      "cell_type": "code",
      "source": "test.isnull().sum()",
      "execution_count": 38,
      "outputs": [
        {
          "output_type": "execute_result",
          "execution_count": 38,
          "data": {
            "text/plain": "Account-Balance                      0\nDuration-of-Credit-Month             0\nPayment-Status-of-Previous-Credit    0\nPurpose                              0\nCredit-Amount                        0\nValue-Savings-Stocks                 0\nLength-of-current-employment         0\nInstalment-per-cent                  0\nGuarantors                           0\nDuration-in-Current-address          0\nMost-valuable-available-asset        0\nAge-years                            0\nConcurrent-Credits                   0\nType-of-apartment                    0\nNo-of-Credits-at-this-Bank           0\nOccupation                           0\nNo-of-dependents                     0\nTelephone                            0\nForeign-Worker                       0\ndtype: int64"
          },
          "metadata": {}
        }
      ]
    },
    {
      "metadata": {},
      "cell_type": "markdown",
      "source": "# CLEAN DATA"
    },
    {
      "metadata": {},
      "cell_type": "markdown",
      "source": "## Clean Train Data"
    },
    {
      "metadata": {},
      "cell_type": "markdown",
      "source": "Note:\n1. Use the median age of _Age-years_ column to impute missing values.\n* Dropping _Duration-in-Current-address_ becasue more than half field is null... ≈ 69%"
    },
    {
      "metadata": {
        "trusted": true
      },
      "cell_type": "code",
      "source": "test['Age-years'].mean()",
      "execution_count": 39,
      "outputs": [
        {
          "output_type": "execute_result",
          "execution_count": 39,
          "data": {
            "text/plain": "35.626"
          },
          "metadata": {}
        }
      ]
    },
    {
      "metadata": {
        "trusted": true
      },
      "cell_type": "code",
      "source": "# median age to impute missing values with\ntrain_imputeAge = train['Age-years'].median()\ntrain_imputeAge",
      "execution_count": 40,
      "outputs": [
        {
          "output_type": "execute_result",
          "execution_count": 40,
          "data": {
            "text/plain": "33.0"
          },
          "metadata": {}
        }
      ]
    },
    {
      "metadata": {
        "trusted": true
      },
      "cell_type": "code",
      "source": "# fill missing age values with imputed values\ntrain['Age-years'].fillna(train_imputeAge, inplace=True)\n",
      "execution_count": 41,
      "outputs": []
    },
    {
      "metadata": {
        "trusted": true,
        "scrolled": true
      },
      "cell_type": "code",
      "source": "# calculate average of ages after imputing the mean value\ntrain['Age-years'].mean()",
      "execution_count": 42,
      "outputs": [
        {
          "output_type": "execute_result",
          "execution_count": 42,
          "data": {
            "text/plain": "35.574"
          },
          "metadata": {}
        }
      ]
    },
    {
      "metadata": {
        "trusted": true
      },
      "cell_type": "code",
      "source": "# count the number of null values in Duration-in-Current-address\ntrain[\"Duration-in-Current-address\"].isnull().sum()",
      "execution_count": 43,
      "outputs": [
        {
          "output_type": "execute_result",
          "execution_count": 43,
          "data": {
            "text/plain": "344"
          },
          "metadata": {}
        }
      ]
    },
    {
      "metadata": {
        "trusted": true
      },
      "cell_type": "code",
      "source": "# calculate percent of null values in Duration-in-Current-address\ntrain[\"Duration-in-Current-address\"].isnull().sum()/train[\"Duration-in-Current-address\"].shape[0]\n",
      "execution_count": 44,
      "outputs": [
        {
          "output_type": "execute_result",
          "execution_count": 44,
          "data": {
            "text/plain": "0.688"
          },
          "metadata": {}
        }
      ]
    },
    {
      "metadata": {
        "trusted": true
      },
      "cell_type": "code",
      "source": "# Dropping Duration-in-Current-address becasue more than half field is null\ntrain.drop('Duration-in-Current-address', axis=1, inplace=True)\n",
      "execution_count": 45,
      "outputs": []
    },
    {
      "metadata": {
        "trusted": true,
        "scrolled": false
      },
      "cell_type": "code",
      "source": "# there are no more no values in the train dataset\ntrain.isnull().sum()",
      "execution_count": 46,
      "outputs": [
        {
          "output_type": "execute_result",
          "execution_count": 46,
          "data": {
            "text/plain": "Credit-Application-Result            0\nAccount-Balance                      0\nDuration-of-Credit-Month             0\nPayment-Status-of-Previous-Credit    0\nPurpose                              0\nCredit-Amount                        0\nValue-Savings-Stocks                 0\nLength-of-current-employment         0\nInstalment-per-cent                  0\nGuarantors                           0\nMost-valuable-available-asset        0\nAge-years                            0\nConcurrent-Credits                   0\nType-of-apartment                    0\nNo-of-Credits-at-this-Bank           0\nOccupation                           0\nNo-of-dependents                     0\nTelephone                            0\nForeign-Worker                       0\ndtype: int64"
          },
          "metadata": {}
        }
      ]
    },
    {
      "metadata": {
        "trusted": true
      },
      "cell_type": "code",
      "source": "",
      "execution_count": null,
      "outputs": []
    },
    {
      "metadata": {},
      "cell_type": "markdown",
      "source": "# Feature Selection"
    },
    {
      "metadata": {},
      "cell_type": "markdown",
      "source": "Note:\n\nWhen when two features are highly correlated they are linearly dependent, and will have the same or similar effect on the dependent variable (target variable???). Therefore, when two features have high correlation, one of the two features can be dropped.\n\n??? using the funciton np.random.seed() allowed me to make random numbers predictable and replicable ???\n??? we randomize the order of data to affect how the model is trained (i.e. don't want order to affect how we learn)... order of the data  is not a part in determining if an applicant is creditworthy or not.... \nhttps://www.youtube.com/watch?v=nKW8Ndu7Mjw\n\n\n??? do i need to create dummy variables first, before doing the following steps... to find out start small with 2 columns and see if you get the same values???\n\nlabeled the categorical variable using scikit-learn's LabelEncoder() class to transform non-numberical data to numerical data types.\n\nThen calcualted each column's variance and removed items with low variance. In this case, I removed columns Concurrent-Credits and Occupation for both having a variance of zero; meaning they had the same value accross the entire field. \n\nthen generated correlation matrix with df_training_corr.corr(), which I passed to a correlation heat-map using seaborn. \n\nI then wrote a script that allowed me to compare the correlation between features. If two features had a correlation higher than 0.7, then one of the features was removed. My features were selected once the dataset only had the columns with correlation less than 0.7.\n\n"
    },
    {
      "metadata": {
        "trusted": true
      },
      "cell_type": "code",
      "source": "df_training_corr = train.copy()",
      "execution_count": 47,
      "outputs": []
    },
    {
      "metadata": {
        "trusted": true
      },
      "cell_type": "code",
      "source": "from sklearn.preprocessing import LabelEncoder, OneHotEncoder\nimport warnings\nwarnings.filterwarnings(\"ignore\")\nfrom sklearn.model_selection import train_test_split\nfrom sklearn.svm import SVC\nfrom sklearn.metrics import confusion_matrix\nnp.random.seed(1)",
      "execution_count": 48,
      "outputs": []
    },
    {
      "metadata": {
        "trusted": true
      },
      "cell_type": "code",
      "source": "df_training_corr.head()",
      "execution_count": 49,
      "outputs": [
        {
          "output_type": "execute_result",
          "execution_count": 49,
          "data": {
            "text/html": "<div>\n<style scoped>\n    .dataframe tbody tr th:only-of-type {\n        vertical-align: middle;\n    }\n\n    .dataframe tbody tr th {\n        vertical-align: top;\n    }\n\n    .dataframe thead th {\n        text-align: right;\n    }\n</style>\n<table border=\"1\" class=\"dataframe\">\n  <thead>\n    <tr style=\"text-align: right;\">\n      <th></th>\n      <th>Credit-Application-Result</th>\n      <th>Account-Balance</th>\n      <th>Duration-of-Credit-Month</th>\n      <th>Payment-Status-of-Previous-Credit</th>\n      <th>Purpose</th>\n      <th>Credit-Amount</th>\n      <th>Value-Savings-Stocks</th>\n      <th>Length-of-current-employment</th>\n      <th>Instalment-per-cent</th>\n      <th>Guarantors</th>\n      <th>Most-valuable-available-asset</th>\n      <th>Age-years</th>\n      <th>Concurrent-Credits</th>\n      <th>Type-of-apartment</th>\n      <th>No-of-Credits-at-this-Bank</th>\n      <th>Occupation</th>\n      <th>No-of-dependents</th>\n      <th>Telephone</th>\n      <th>Foreign-Worker</th>\n    </tr>\n  </thead>\n  <tbody>\n    <tr>\n      <th>0</th>\n      <td>Creditworthy</td>\n      <td>Some Balance</td>\n      <td>4</td>\n      <td>Paid Up</td>\n      <td>Other</td>\n      <td>1494</td>\n      <td>£100-£1000</td>\n      <td>&lt; 1yr</td>\n      <td>1</td>\n      <td>None</td>\n      <td>1</td>\n      <td>33.0</td>\n      <td>Other Banks/Depts</td>\n      <td>2</td>\n      <td>1</td>\n      <td>1</td>\n      <td>2</td>\n      <td>1</td>\n      <td>2</td>\n    </tr>\n    <tr>\n      <th>1</th>\n      <td>Creditworthy</td>\n      <td>Some Balance</td>\n      <td>4</td>\n      <td>Paid Up</td>\n      <td>Home Related</td>\n      <td>1494</td>\n      <td>£100-£1000</td>\n      <td>&lt; 1yr</td>\n      <td>1</td>\n      <td>None</td>\n      <td>1</td>\n      <td>29.0</td>\n      <td>Other Banks/Depts</td>\n      <td>2</td>\n      <td>1</td>\n      <td>1</td>\n      <td>2</td>\n      <td>1</td>\n      <td>2</td>\n    </tr>\n    <tr>\n      <th>2</th>\n      <td>Creditworthy</td>\n      <td>Some Balance</td>\n      <td>4</td>\n      <td>No Problems (in this bank)</td>\n      <td>Home Related</td>\n      <td>1544</td>\n      <td>None</td>\n      <td>1-4 yrs</td>\n      <td>2</td>\n      <td>None</td>\n      <td>1</td>\n      <td>42.0</td>\n      <td>Other Banks/Depts</td>\n      <td>2</td>\n      <td>More than 1</td>\n      <td>1</td>\n      <td>2</td>\n      <td>1</td>\n      <td>1</td>\n    </tr>\n    <tr>\n      <th>3</th>\n      <td>Creditworthy</td>\n      <td>Some Balance</td>\n      <td>4</td>\n      <td>No Problems (in this bank)</td>\n      <td>Home Related</td>\n      <td>3380</td>\n      <td>None</td>\n      <td>1-4 yrs</td>\n      <td>1</td>\n      <td>None</td>\n      <td>1</td>\n      <td>37.0</td>\n      <td>Other Banks/Depts</td>\n      <td>2</td>\n      <td>1</td>\n      <td>1</td>\n      <td>2</td>\n      <td>1</td>\n      <td>1</td>\n    </tr>\n    <tr>\n      <th>4</th>\n      <td>Creditworthy</td>\n      <td>No Account</td>\n      <td>6</td>\n      <td>Paid Up</td>\n      <td>Home Related</td>\n      <td>343</td>\n      <td>None</td>\n      <td>&lt; 1yr</td>\n      <td>4</td>\n      <td>None</td>\n      <td>1</td>\n      <td>27.0</td>\n      <td>Other Banks/Depts</td>\n      <td>2</td>\n      <td>1</td>\n      <td>1</td>\n      <td>1</td>\n      <td>1</td>\n      <td>1</td>\n    </tr>\n  </tbody>\n</table>\n</div>",
            "text/plain": "  Credit-Application-Result Account-Balance  Duration-of-Credit-Month  \\\n0              Creditworthy    Some Balance                         4   \n1              Creditworthy    Some Balance                         4   \n2              Creditworthy    Some Balance                         4   \n3              Creditworthy    Some Balance                         4   \n4              Creditworthy      No Account                         6   \n\n  Payment-Status-of-Previous-Credit       Purpose  Credit-Amount  \\\n0                           Paid Up         Other           1494   \n1                           Paid Up  Home Related           1494   \n2        No Problems (in this bank)  Home Related           1544   \n3        No Problems (in this bank)  Home Related           3380   \n4                           Paid Up  Home Related            343   \n\n  Value-Savings-Stocks Length-of-current-employment  Instalment-per-cent  \\\n0           £100-£1000                        < 1yr                    1   \n1           £100-£1000                        < 1yr                    1   \n2                 None                      1-4 yrs                    2   \n3                 None                      1-4 yrs                    1   \n4                 None                        < 1yr                    4   \n\n  Guarantors  Most-valuable-available-asset  Age-years Concurrent-Credits  \\\n0       None                              1       33.0  Other Banks/Depts   \n1       None                              1       29.0  Other Banks/Depts   \n2       None                              1       42.0  Other Banks/Depts   \n3       None                              1       37.0  Other Banks/Depts   \n4       None                              1       27.0  Other Banks/Depts   \n\n   Type-of-apartment No-of-Credits-at-this-Bank  Occupation  No-of-dependents  \\\n0                  2                          1           1                 2   \n1                  2                          1           1                 2   \n2                  2                More than 1           1                 2   \n3                  2                          1           1                 2   \n4                  2                          1           1                 1   \n\n   Telephone  Foreign-Worker  \n0          1               2  \n1          1               2  \n2          1               1  \n3          1               1  \n4          1               1  "
          },
          "metadata": {}
        }
      ]
    },
    {
      "metadata": {
        "trusted": true
      },
      "cell_type": "code",
      "source": "df_training_corr.columns",
      "execution_count": 50,
      "outputs": [
        {
          "output_type": "execute_result",
          "execution_count": 50,
          "data": {
            "text/plain": "Index(['Credit-Application-Result', 'Account-Balance',\n       'Duration-of-Credit-Month', 'Payment-Status-of-Previous-Credit',\n       'Purpose', 'Credit-Amount', 'Value-Savings-Stocks',\n       'Length-of-current-employment', 'Instalment-per-cent', 'Guarantors',\n       'Most-valuable-available-asset', 'Age-years', 'Concurrent-Credits',\n       'Type-of-apartment', 'No-of-Credits-at-this-Bank', 'Occupation',\n       'No-of-dependents', 'Telephone', 'Foreign-Worker'],\n      dtype='object')"
          },
          "metadata": {}
        }
      ]
    },
    {
      "metadata": {
        "trusted": true
      },
      "cell_type": "code",
      "source": "# encode the categorciacl variables\nlabel_encoder = LabelEncoder()\n# encode the categorciacl variables\nlabel_encoder = LabelEncoder()\ndf_training_corr.iloc[:,0] = label_encoder.fit_transform(df_training_corr.iloc[:,0]).astype('float64')\ndf_training_corr.iloc[:,1] = label_encoder.fit_transform(df_training_corr.iloc[:,1]).astype('float64')\ndf_training_corr.iloc[:,2] = label_encoder.fit_transform(df_training_corr.iloc[:,2])\ndf_training_corr.iloc[:,3] = label_encoder.fit_transform(df_training_corr.iloc[:,3]).astype('float64')\ndf_training_corr.iloc[:,4] = label_encoder.fit_transform(df_training_corr.iloc[:,4]).astype('float64')\ndf_training_corr.iloc[:,5] = label_encoder.fit_transform(df_training_corr.iloc[:,5])\ndf_training_corr.iloc[:,6] = label_encoder.fit_transform(df_training_corr.iloc[:,6]).astype('float64')\ndf_training_corr.iloc[:,7] = label_encoder.fit_transform(df_training_corr.iloc[:,7]).astype('float64')\ndf_training_corr.iloc[:,8] = label_encoder.fit_transform(df_training_corr.iloc[:,8])\ndf_training_corr.iloc[:,9] = label_encoder.fit_transform(df_training_corr.iloc[:,9]).astype('float64')\ndf_training_corr.iloc[:,10] = label_encoder.fit_transform(df_training_corr.iloc[:,10])\ndf_training_corr.iloc[:,11] = label_encoder.fit_transform(df_training_corr.iloc[:,11])\ndf_training_corr.iloc[:,12] = label_encoder.fit_transform(df_training_corr.iloc[:,12])\ndf_training_corr.iloc[:,13] = label_encoder.fit_transform(df_training_corr.iloc[:,13]).astype('float64')\ndf_training_corr.iloc[:,14] = label_encoder.fit_transform(df_training_corr.iloc[:,14])\ndf_training_corr.iloc[:,15] = label_encoder.fit_transform(df_training_corr.iloc[:,15]).astype('float64')\ndf_training_corr.iloc[:,16] = label_encoder.fit_transform(df_training_corr.iloc[:,16])\ndf_training_corr.iloc[:,17] = label_encoder.fit_transform(df_training_corr.iloc[:,17])\ndf_training_corr.iloc[:,18] = label_encoder.fit_transform(df_training_corr.iloc[:,18])\n\n\n\n\n\n# df_training_corr.iloc[:,0] = label_encoder.fit_transform(df_training_corr.iloc[:,0]).astype('float64')\n# df_training_corr.iloc[:,1] = label_encoder.fit_transform(df_training_corr.iloc[:,1]).astype('float64')\n# df_training_corr.iloc[:,2] = label_encoder.fit_transform(df_training_corr.iloc[:,2]).astype('float64')\n# df_training_corr.iloc[:,3] = label_encoder.fit_transform(df_training_corr.iloc[:,3]).astype('float64')\n# df_training_corr.iloc[:,4] = label_encoder.fit_transform(df_training_corr.iloc[:,4]).astype('float64')\n# df_training_corr.iloc[:,5] = label_encoder.fit_transform(df_training_corr.iloc[:,5]).astype('float64')\n# df_training_corr.iloc[:,6] = label_encoder.fit_transform(df_training_corr.iloc[:,6]).astype('float64')\n# df_training_corr.iloc[:,7] = label_encoder.fit_transform(df_training_corr.iloc[:,7]).astype('float64')\n# df_training_corr.iloc[:,8] = label_encoder.fit_transform(df_training_corr.iloc[:,8]).astype('float64')\n# df_training_corr.iloc[:,9] = label_encoder.fit_transform(df_training_corr.iloc[:,9]).astype('float64')\n# df_training_corr.iloc[:,10] = label_encoder.fit_transform(df_training_corr.iloc[:,10]).astype('float64')\n# df_training_corr.iloc[:,11] = label_encoder.fit_transform(df_training_corr.iloc[:,11]).astype('float64')\n# df_training_corr.iloc[:,12] = label_encoder.fit_transform(df_training_corr.iloc[:,12]).astype('float64')\n# df_training_corr.iloc[:,13] = label_encoder.fit_transform(df_training_corr.iloc[:,13]).astype('float64')\n# df_training_corr.iloc[:,14] = label_encoder.fit_transform(df_training_corr.iloc[:,14]).astype('float64')\n# df_training_corr.iloc[:,15] = label_encoder.fit_transform(df_training_corr.iloc[:,15]).astype('float64')\n# df_training_corr.iloc[:,16] = label_encoder.fit_transform(df_training_corr.iloc[:,16]).astype('float64')\n# df_training_corr.iloc[:,17] = label_encoder.fit_transform(df_training_corr.iloc[:,17]).astype('float64')\n# df_training_corr.iloc[:,18] = label_encoder.fit_transform(df_training_corr.iloc[:,18]).astype('float64')",
      "execution_count": 51,
      "outputs": []
    },
    {
      "metadata": {},
      "cell_type": "markdown",
      "source": "Note:\n\n[scikit-learn VerianceThreshold](https://scikit-learn.org/stable/modules/generated/sklearn.feature_selection.VarianceThreshold.html) can be used to remove features with low variance. The default variance is set at 0.0. In this case Concurrent-Credits and Occupation variability are equal to zero. They will be removed from the dataframe."
    },
    {
      "metadata": {},
      "cell_type": "markdown",
      "source": "## Removing Features Based On Variance"
    },
    {
      "metadata": {
        "trusted": true
      },
      "cell_type": "code",
      "source": "from sklearn.feature_selection import VarianceThreshold\nselector = VarianceThreshold(threshold = 0.0)\nselector = selector.fit_transform(df_training_corr)",
      "execution_count": 52,
      "outputs": []
    },
    {
      "metadata": {
        "trusted": true
      },
      "cell_type": "code",
      "source": "# Notice Concurrent-Credits and Occupation have both been removed from the dataset. There are only 17 columns now.\nselector.var(axis=0)",
      "execution_count": 53,
      "outputs": [
        {
          "output_type": "execute_result",
          "execution_count": 53,
          "data": {
            "text/plain": "array([2.03344000e-01, 2.49424000e-01, 5.79474240e+01, 3.67104000e-01,\n       1.28289600e+00, 1.77202275e+04, 3.59056000e-01, 6.19504000e-01,\n       1.23790000e+00, 7.86040000e-02, 1.13040000e+00, 1.26508400e+02,\n       2.90816000e-01, 2.30400000e-01, 1.24684000e-01, 2.40000000e-01,\n       3.65560000e-02])"
          },
          "metadata": {}
        }
      ]
    },
    {
      "metadata": {
        "trusted": true
      },
      "cell_type": "code",
      "source": "# testing df_trfaining_corr dataset for low variance\ndf_training_corr.var(axis=0)",
      "execution_count": 54,
      "outputs": [
        {
          "output_type": "execute_result",
          "execution_count": 54,
          "data": {
            "text/plain": "Credit-Application-Result                0.203752\nAccount-Balance                          0.249924\nDuration-of-Credit-Month                58.063551\nPayment-Status-of-Previous-Credit        0.367840\nPurpose                                  1.285467\nCredit-Amount                        17755.738978\nValue-Savings-Stocks                     0.359776\nLength-of-current-employment             0.620745\nInstalment-per-cent                      1.240381\nGuarantors                               0.078762\nMost-valuable-available-asset            1.132665\nAge-years                              126.761924\nConcurrent-Credits                       0.000000\nType-of-apartment                        0.291399\nNo-of-Credits-at-this-Bank               0.230862\nOccupation                               0.000000\nNo-of-dependents                         0.124934\nTelephone                                0.240481\nForeign-Worker                           0.036629\ndtype: float64"
          },
          "metadata": {}
        }
      ]
    },
    {
      "metadata": {
        "trusted": true
      },
      "cell_type": "code",
      "source": "# dropping columns with zero variance\ndf_training_corr = df_training_corr.drop(columns = ['Concurrent-Credits', 'Occupation'])",
      "execution_count": 55,
      "outputs": []
    },
    {
      "metadata": {
        "trusted": true
      },
      "cell_type": "code",
      "source": "# display dataset with columns dropped\ndf_training_corr.columns",
      "execution_count": 56,
      "outputs": [
        {
          "output_type": "execute_result",
          "execution_count": 56,
          "data": {
            "text/plain": "Index(['Credit-Application-Result', 'Account-Balance',\n       'Duration-of-Credit-Month', 'Payment-Status-of-Previous-Credit',\n       'Purpose', 'Credit-Amount', 'Value-Savings-Stocks',\n       'Length-of-current-employment', 'Instalment-per-cent', 'Guarantors',\n       'Most-valuable-available-asset', 'Age-years', 'Type-of-apartment',\n       'No-of-Credits-at-this-Bank', 'No-of-dependents', 'Telephone',\n       'Foreign-Worker'],\n      dtype='object')"
          },
          "metadata": {}
        }
      ]
    },
    {
      "metadata": {
        "trusted": true
      },
      "cell_type": "code",
      "source": "corr = df_training_corr.corr()\ncorr",
      "execution_count": 110,
      "outputs": [
        {
          "output_type": "execute_result",
          "execution_count": 110,
          "data": {
            "text/html": "<div>\n<style scoped>\n    .dataframe tbody tr th:only-of-type {\n        vertical-align: middle;\n    }\n\n    .dataframe tbody tr th {\n        vertical-align: top;\n    }\n\n    .dataframe thead th {\n        text-align: right;\n    }\n</style>\n<table border=\"1\" class=\"dataframe\">\n  <thead>\n    <tr style=\"text-align: right;\">\n      <th></th>\n      <th>Credit-Application-Result</th>\n      <th>Account-Balance</th>\n      <th>Duration-of-Credit-Month</th>\n      <th>Payment-Status-of-Previous-Credit</th>\n      <th>Purpose</th>\n      <th>Credit-Amount</th>\n      <th>Value-Savings-Stocks</th>\n      <th>Length-of-current-employment</th>\n      <th>Instalment-per-cent</th>\n      <th>Guarantors</th>\n      <th>Most-valuable-available-asset</th>\n      <th>Age-years</th>\n      <th>Type-of-apartment</th>\n      <th>No-of-Credits-at-this-Bank</th>\n      <th>No-of-dependents</th>\n      <th>Telephone</th>\n      <th>Foreign-Worker</th>\n    </tr>\n  </thead>\n  <tbody>\n    <tr>\n      <th>Credit-Application-Result</th>\n      <td>1.000000</td>\n      <td>-0.316080</td>\n      <td>0.204267</td>\n      <td>0.224816</td>\n      <td>-0.064939</td>\n      <td>0.125099</td>\n      <td>-0.111796</td>\n      <td>0.103188</td>\n      <td>0.062107</td>\n      <td>0.044105</td>\n      <td>0.141332</td>\n      <td>-0.053108</td>\n      <td>0.026516</td>\n      <td>-0.056549</td>\n      <td>0.041048</td>\n      <td>0.028971</td>\n      <td>-0.009186</td>\n    </tr>\n    <tr>\n      <th>Account-Balance</th>\n      <td>-0.316080</td>\n      <td>1.000000</td>\n      <td>-0.076655</td>\n      <td>-0.211714</td>\n      <td>0.006449</td>\n      <td>-0.074718</td>\n      <td>0.204129</td>\n      <td>-0.003216</td>\n      <td>0.070618</td>\n      <td>-0.135237</td>\n      <td>-0.006328</td>\n      <td>0.076364</td>\n      <td>0.090121</td>\n      <td>0.094442</td>\n      <td>0.002858</td>\n      <td>0.006540</td>\n      <td>-0.084702</td>\n    </tr>\n    <tr>\n      <th>Duration-of-Credit-Month</th>\n      <td>0.204267</td>\n      <td>-0.076655</td>\n      <td>1.000000</td>\n      <td>0.016492</td>\n      <td>-0.043800</td>\n      <td>0.608342</td>\n      <td>-0.046715</td>\n      <td>-0.012474</td>\n      <td>0.104346</td>\n      <td>0.009341</td>\n      <td>0.302388</td>\n      <td>-0.080413</td>\n      <td>0.127579</td>\n      <td>0.009677</td>\n      <td>-0.080918</td>\n      <td>0.150271</td>\n      <td>-0.131171</td>\n    </tr>\n    <tr>\n      <th>Payment-Status-of-Previous-Credit</th>\n      <td>0.224816</td>\n      <td>-0.211714</td>\n      <td>0.016492</td>\n      <td>1.000000</td>\n      <td>0.019048</td>\n      <td>-0.036918</td>\n      <td>-0.051694</td>\n      <td>0.046770</td>\n      <td>-0.024684</td>\n      <td>0.123012</td>\n      <td>0.017014</td>\n      <td>-0.170006</td>\n      <td>-0.104646</td>\n      <td>-0.491838</td>\n      <td>-0.004412</td>\n      <td>-0.059294</td>\n      <td>-0.010635</td>\n    </tr>\n    <tr>\n      <th>Purpose</th>\n      <td>-0.064939</td>\n      <td>0.006449</td>\n      <td>-0.043800</td>\n      <td>0.019048</td>\n      <td>1.000000</td>\n      <td>0.082760</td>\n      <td>0.070394</td>\n      <td>0.056840</td>\n      <td>-0.094049</td>\n      <td>0.031264</td>\n      <td>-0.005580</td>\n      <td>-0.097184</td>\n      <td>-0.070490</td>\n      <td>-0.119042</td>\n      <td>-0.082991</td>\n      <td>-0.030277</td>\n      <td>0.014887</td>\n    </tr>\n    <tr>\n      <th>Credit-Amount</th>\n      <td>0.125099</td>\n      <td>-0.074718</td>\n      <td>0.608342</td>\n      <td>-0.036918</td>\n      <td>0.082760</td>\n      <td>1.000000</td>\n      <td>-0.029459</td>\n      <td>0.083392</td>\n      <td>-0.320682</td>\n      <td>-0.021888</td>\n      <td>0.330981</td>\n      <td>0.023838</td>\n      <td>0.126051</td>\n      <td>-0.030706</td>\n      <td>0.029148</td>\n      <td>0.248260</td>\n      <td>0.017457</td>\n    </tr>\n    <tr>\n      <th>Value-Savings-Stocks</th>\n      <td>-0.111796</td>\n      <td>0.204129</td>\n      <td>-0.046715</td>\n      <td>-0.051694</td>\n      <td>0.070394</td>\n      <td>-0.029459</td>\n      <td>1.000000</td>\n      <td>0.022967</td>\n      <td>-0.006180</td>\n      <td>-0.084715</td>\n      <td>-0.082124</td>\n      <td>0.068478</td>\n      <td>-0.002278</td>\n      <td>0.012795</td>\n      <td>0.023858</td>\n      <td>0.031340</td>\n      <td>-0.000489</td>\n    </tr>\n    <tr>\n      <th>Length-of-current-employment</th>\n      <td>0.103188</td>\n      <td>-0.003216</td>\n      <td>-0.012474</td>\n      <td>0.046770</td>\n      <td>0.056840</td>\n      <td>0.083392</td>\n      <td>0.022967</td>\n      <td>1.000000</td>\n      <td>-0.102362</td>\n      <td>0.030344</td>\n      <td>-0.092062</td>\n      <td>-0.080941</td>\n      <td>-0.004222</td>\n      <td>-0.087453</td>\n      <td>-0.054490</td>\n      <td>-0.040457</td>\n      <td>0.080857</td>\n    </tr>\n    <tr>\n      <th>Instalment-per-cent</th>\n      <td>0.062107</td>\n      <td>0.070618</td>\n      <td>0.104346</td>\n      <td>-0.024684</td>\n      <td>-0.094049</td>\n      <td>-0.320682</td>\n      <td>-0.006180</td>\n      <td>-0.102362</td>\n      <td>1.000000</td>\n      <td>0.022889</td>\n      <td>0.081493</td>\n      <td>0.040482</td>\n      <td>0.074533</td>\n      <td>0.056923</td>\n      <td>-0.125894</td>\n      <td>0.029354</td>\n      <td>-0.133411</td>\n    </tr>\n    <tr>\n      <th>Guarantors</th>\n      <td>0.044105</td>\n      <td>-0.135237</td>\n      <td>0.009341</td>\n      <td>0.123012</td>\n      <td>0.031264</td>\n      <td>-0.021888</td>\n      <td>-0.084715</td>\n      <td>0.030344</td>\n      <td>0.022889</td>\n      <td>1.000000</td>\n      <td>-0.050187</td>\n      <td>-0.075613</td>\n      <td>-0.104555</td>\n      <td>-0.051718</td>\n      <td>0.014586</td>\n      <td>-0.075719</td>\n      <td>0.200207</td>\n    </tr>\n    <tr>\n      <th>Most-valuable-available-asset</th>\n      <td>0.141332</td>\n      <td>-0.006328</td>\n      <td>0.302388</td>\n      <td>0.017014</td>\n      <td>-0.005580</td>\n      <td>0.330981</td>\n      <td>-0.082124</td>\n      <td>-0.092062</td>\n      <td>0.081493</td>\n      <td>-0.050187</td>\n      <td>1.000000</td>\n      <td>0.085763</td>\n      <td>0.373101</td>\n      <td>0.024298</td>\n      <td>0.046454</td>\n      <td>0.203509</td>\n      <td>-0.146005</td>\n    </tr>\n    <tr>\n      <th>Age-years</th>\n      <td>-0.053108</td>\n      <td>0.076364</td>\n      <td>-0.080413</td>\n      <td>-0.170006</td>\n      <td>-0.097184</td>\n      <td>0.023838</td>\n      <td>0.068478</td>\n      <td>-0.080941</td>\n      <td>0.040482</td>\n      <td>-0.075613</td>\n      <td>0.085763</td>\n      <td>1.000000</td>\n      <td>0.329218</td>\n      <td>0.126249</td>\n      <td>0.118129</td>\n      <td>0.173134</td>\n      <td>-0.003962</td>\n    </tr>\n    <tr>\n      <th>Type-of-apartment</th>\n      <td>0.026516</td>\n      <td>0.090121</td>\n      <td>0.127579</td>\n      <td>-0.104646</td>\n      <td>-0.070490</td>\n      <td>0.126051</td>\n      <td>-0.002278</td>\n      <td>-0.004222</td>\n      <td>0.074533</td>\n      <td>-0.104555</td>\n      <td>0.373101</td>\n      <td>0.329218</td>\n      <td>1.000000</td>\n      <td>0.053776</td>\n      <td>0.170738</td>\n      <td>0.101443</td>\n      <td>-0.089848</td>\n    </tr>\n    <tr>\n      <th>No-of-Credits-at-this-Bank</th>\n      <td>-0.056549</td>\n      <td>0.094442</td>\n      <td>0.009677</td>\n      <td>-0.491838</td>\n      <td>-0.119042</td>\n      <td>-0.030706</td>\n      <td>0.012795</td>\n      <td>-0.087453</td>\n      <td>0.056923</td>\n      <td>-0.051718</td>\n      <td>0.024298</td>\n      <td>0.126249</td>\n      <td>0.053776</td>\n      <td>1.000000</td>\n      <td>0.032096</td>\n      <td>-0.017010</td>\n      <td>-0.040098</td>\n    </tr>\n    <tr>\n      <th>No-of-dependents</th>\n      <td>0.041048</td>\n      <td>0.002858</td>\n      <td>-0.080918</td>\n      <td>-0.004412</td>\n      <td>-0.082991</td>\n      <td>0.029148</td>\n      <td>0.023858</td>\n      <td>-0.054490</td>\n      <td>-0.125894</td>\n      <td>0.014586</td>\n      <td>0.046454</td>\n      <td>0.118129</td>\n      <td>0.170738</td>\n      <td>0.032096</td>\n      <td>1.000000</td>\n      <td>-0.048559</td>\n      <td>0.065943</td>\n    </tr>\n    <tr>\n      <th>Telephone</th>\n      <td>0.028971</td>\n      <td>0.006540</td>\n      <td>0.150271</td>\n      <td>-0.059294</td>\n      <td>-0.030277</td>\n      <td>0.248260</td>\n      <td>0.031340</td>\n      <td>-0.040457</td>\n      <td>0.029354</td>\n      <td>-0.075719</td>\n      <td>0.203509</td>\n      <td>0.173134</td>\n      <td>0.101443</td>\n      <td>-0.017010</td>\n      <td>-0.048559</td>\n      <td>1.000000</td>\n      <td>-0.055516</td>\n    </tr>\n    <tr>\n      <th>Foreign-Worker</th>\n      <td>-0.009186</td>\n      <td>-0.084702</td>\n      <td>-0.131171</td>\n      <td>-0.010635</td>\n      <td>0.014887</td>\n      <td>0.017457</td>\n      <td>-0.000489</td>\n      <td>0.080857</td>\n      <td>-0.133411</td>\n      <td>0.200207</td>\n      <td>-0.146005</td>\n      <td>-0.003962</td>\n      <td>-0.089848</td>\n      <td>-0.040098</td>\n      <td>0.065943</td>\n      <td>-0.055516</td>\n      <td>1.000000</td>\n    </tr>\n  </tbody>\n</table>\n</div>",
            "text/plain": "                                   Credit-Application-Result  Account-Balance  \\\nCredit-Application-Result                           1.000000        -0.316080   \nAccount-Balance                                    -0.316080         1.000000   \nDuration-of-Credit-Month                            0.204267        -0.076655   \nPayment-Status-of-Previous-Credit                   0.224816        -0.211714   \nPurpose                                            -0.064939         0.006449   \nCredit-Amount                                       0.125099        -0.074718   \nValue-Savings-Stocks                               -0.111796         0.204129   \nLength-of-current-employment                        0.103188        -0.003216   \nInstalment-per-cent                                 0.062107         0.070618   \nGuarantors                                          0.044105        -0.135237   \nMost-valuable-available-asset                       0.141332        -0.006328   \nAge-years                                          -0.053108         0.076364   \nType-of-apartment                                   0.026516         0.090121   \nNo-of-Credits-at-this-Bank                         -0.056549         0.094442   \nNo-of-dependents                                    0.041048         0.002858   \nTelephone                                           0.028971         0.006540   \nForeign-Worker                                     -0.009186        -0.084702   \n\n                                   Duration-of-Credit-Month  \\\nCredit-Application-Result                          0.204267   \nAccount-Balance                                   -0.076655   \nDuration-of-Credit-Month                           1.000000   \nPayment-Status-of-Previous-Credit                  0.016492   \nPurpose                                           -0.043800   \nCredit-Amount                                      0.608342   \nValue-Savings-Stocks                              -0.046715   \nLength-of-current-employment                      -0.012474   \nInstalment-per-cent                                0.104346   \nGuarantors                                         0.009341   \nMost-valuable-available-asset                      0.302388   \nAge-years                                         -0.080413   \nType-of-apartment                                  0.127579   \nNo-of-Credits-at-this-Bank                         0.009677   \nNo-of-dependents                                  -0.080918   \nTelephone                                          0.150271   \nForeign-Worker                                    -0.131171   \n\n                                   Payment-Status-of-Previous-Credit  \\\nCredit-Application-Result                                   0.224816   \nAccount-Balance                                            -0.211714   \nDuration-of-Credit-Month                                    0.016492   \nPayment-Status-of-Previous-Credit                           1.000000   \nPurpose                                                     0.019048   \nCredit-Amount                                              -0.036918   \nValue-Savings-Stocks                                       -0.051694   \nLength-of-current-employment                                0.046770   \nInstalment-per-cent                                        -0.024684   \nGuarantors                                                  0.123012   \nMost-valuable-available-asset                               0.017014   \nAge-years                                                  -0.170006   \nType-of-apartment                                          -0.104646   \nNo-of-Credits-at-this-Bank                                 -0.491838   \nNo-of-dependents                                           -0.004412   \nTelephone                                                  -0.059294   \nForeign-Worker                                             -0.010635   \n\n                                    Purpose  Credit-Amount  \\\nCredit-Application-Result         -0.064939       0.125099   \nAccount-Balance                    0.006449      -0.074718   \nDuration-of-Credit-Month          -0.043800       0.608342   \nPayment-Status-of-Previous-Credit  0.019048      -0.036918   \nPurpose                            1.000000       0.082760   \nCredit-Amount                      0.082760       1.000000   \nValue-Savings-Stocks               0.070394      -0.029459   \nLength-of-current-employment       0.056840       0.083392   \nInstalment-per-cent               -0.094049      -0.320682   \nGuarantors                         0.031264      -0.021888   \nMost-valuable-available-asset     -0.005580       0.330981   \nAge-years                         -0.097184       0.023838   \nType-of-apartment                 -0.070490       0.126051   \nNo-of-Credits-at-this-Bank        -0.119042      -0.030706   \nNo-of-dependents                  -0.082991       0.029148   \nTelephone                         -0.030277       0.248260   \nForeign-Worker                     0.014887       0.017457   \n\n                                   Value-Savings-Stocks  \\\nCredit-Application-Result                     -0.111796   \nAccount-Balance                                0.204129   \nDuration-of-Credit-Month                      -0.046715   \nPayment-Status-of-Previous-Credit             -0.051694   \nPurpose                                        0.070394   \nCredit-Amount                                 -0.029459   \nValue-Savings-Stocks                           1.000000   \nLength-of-current-employment                   0.022967   \nInstalment-per-cent                           -0.006180   \nGuarantors                                    -0.084715   \nMost-valuable-available-asset                 -0.082124   \nAge-years                                      0.068478   \nType-of-apartment                             -0.002278   \nNo-of-Credits-at-this-Bank                     0.012795   \nNo-of-dependents                               0.023858   \nTelephone                                      0.031340   \nForeign-Worker                                -0.000489   \n\n                                   Length-of-current-employment  \\\nCredit-Application-Result                              0.103188   \nAccount-Balance                                       -0.003216   \nDuration-of-Credit-Month                              -0.012474   \nPayment-Status-of-Previous-Credit                      0.046770   \nPurpose                                                0.056840   \nCredit-Amount                                          0.083392   \nValue-Savings-Stocks                                   0.022967   \nLength-of-current-employment                           1.000000   \nInstalment-per-cent                                   -0.102362   \nGuarantors                                             0.030344   \nMost-valuable-available-asset                         -0.092062   \nAge-years                                             -0.080941   \nType-of-apartment                                     -0.004222   \nNo-of-Credits-at-this-Bank                            -0.087453   \nNo-of-dependents                                      -0.054490   \nTelephone                                             -0.040457   \nForeign-Worker                                         0.080857   \n\n                                   Instalment-per-cent  Guarantors  \\\nCredit-Application-Result                     0.062107    0.044105   \nAccount-Balance                               0.070618   -0.135237   \nDuration-of-Credit-Month                      0.104346    0.009341   \nPayment-Status-of-Previous-Credit            -0.024684    0.123012   \nPurpose                                      -0.094049    0.031264   \nCredit-Amount                                -0.320682   -0.021888   \nValue-Savings-Stocks                         -0.006180   -0.084715   \nLength-of-current-employment                 -0.102362    0.030344   \nInstalment-per-cent                           1.000000    0.022889   \nGuarantors                                    0.022889    1.000000   \nMost-valuable-available-asset                 0.081493   -0.050187   \nAge-years                                     0.040482   -0.075613   \nType-of-apartment                             0.074533   -0.104555   \nNo-of-Credits-at-this-Bank                    0.056923   -0.051718   \nNo-of-dependents                             -0.125894    0.014586   \nTelephone                                     0.029354   -0.075719   \nForeign-Worker                               -0.133411    0.200207   \n\n                                   Most-valuable-available-asset  Age-years  \\\nCredit-Application-Result                               0.141332  -0.053108   \nAccount-Balance                                        -0.006328   0.076364   \nDuration-of-Credit-Month                                0.302388  -0.080413   \nPayment-Status-of-Previous-Credit                       0.017014  -0.170006   \nPurpose                                                -0.005580  -0.097184   \nCredit-Amount                                           0.330981   0.023838   \nValue-Savings-Stocks                                   -0.082124   0.068478   \nLength-of-current-employment                           -0.092062  -0.080941   \nInstalment-per-cent                                     0.081493   0.040482   \nGuarantors                                             -0.050187  -0.075613   \nMost-valuable-available-asset                           1.000000   0.085763   \nAge-years                                               0.085763   1.000000   \nType-of-apartment                                       0.373101   0.329218   \nNo-of-Credits-at-this-Bank                              0.024298   0.126249   \nNo-of-dependents                                        0.046454   0.118129   \nTelephone                                               0.203509   0.173134   \nForeign-Worker                                         -0.146005  -0.003962   \n\n                                   Type-of-apartment  \\\nCredit-Application-Result                   0.026516   \nAccount-Balance                             0.090121   \nDuration-of-Credit-Month                    0.127579   \nPayment-Status-of-Previous-Credit          -0.104646   \nPurpose                                    -0.070490   \nCredit-Amount                               0.126051   \nValue-Savings-Stocks                       -0.002278   \nLength-of-current-employment               -0.004222   \nInstalment-per-cent                         0.074533   \nGuarantors                                 -0.104555   \nMost-valuable-available-asset               0.373101   \nAge-years                                   0.329218   \nType-of-apartment                           1.000000   \nNo-of-Credits-at-this-Bank                  0.053776   \nNo-of-dependents                            0.170738   \nTelephone                                   0.101443   \nForeign-Worker                             -0.089848   \n\n                                   No-of-Credits-at-this-Bank  \\\nCredit-Application-Result                           -0.056549   \nAccount-Balance                                      0.094442   \nDuration-of-Credit-Month                             0.009677   \nPayment-Status-of-Previous-Credit                   -0.491838   \nPurpose                                             -0.119042   \nCredit-Amount                                       -0.030706   \nValue-Savings-Stocks                                 0.012795   \nLength-of-current-employment                        -0.087453   \nInstalment-per-cent                                  0.056923   \nGuarantors                                          -0.051718   \nMost-valuable-available-asset                        0.024298   \nAge-years                                            0.126249   \nType-of-apartment                                    0.053776   \nNo-of-Credits-at-this-Bank                           1.000000   \nNo-of-dependents                                     0.032096   \nTelephone                                           -0.017010   \nForeign-Worker                                      -0.040098   \n\n                                   No-of-dependents  Telephone  Foreign-Worker  \nCredit-Application-Result                  0.041048   0.028971       -0.009186  \nAccount-Balance                            0.002858   0.006540       -0.084702  \nDuration-of-Credit-Month                  -0.080918   0.150271       -0.131171  \nPayment-Status-of-Previous-Credit         -0.004412  -0.059294       -0.010635  \nPurpose                                   -0.082991  -0.030277        0.014887  \nCredit-Amount                              0.029148   0.248260        0.017457  \nValue-Savings-Stocks                       0.023858   0.031340       -0.000489  \nLength-of-current-employment              -0.054490  -0.040457        0.080857  \nInstalment-per-cent                       -0.125894   0.029354       -0.133411  \nGuarantors                                 0.014586  -0.075719        0.200207  \nMost-valuable-available-asset              0.046454   0.203509       -0.146005  \nAge-years                                  0.118129   0.173134       -0.003962  \nType-of-apartment                          0.170738   0.101443       -0.089848  \nNo-of-Credits-at-this-Bank                 0.032096  -0.017010       -0.040098  \nNo-of-dependents                           1.000000  -0.048559        0.065943  \nTelephone                                 -0.048559   1.000000       -0.055516  \nForeign-Worker                             0.065943  -0.055516        1.000000  "
          },
          "metadata": {}
        }
      ]
    },
    {
      "metadata": {},
      "cell_type": "markdown",
      "source": "## Selecting Features Based On Correlation"
    },
    {
      "metadata": {
        "trusted": true
      },
      "cell_type": "code",
      "source": "# GENERATE THE HEATMAP\nsns.heatmap(corr)",
      "execution_count": 58,
      "outputs": [
        {
          "output_type": "execute_result",
          "execution_count": 58,
          "data": {
            "text/plain": "<matplotlib.axes._subplots.AxesSubplot at 0x7f26366edb38>"
          },
          "metadata": {}
        },
        {
          "output_type": "display_data",
          "data": {
            "image/png": "[encoded data removed]",
            "text/plain": "<Figure size 432x288 with 2 Axes>"
          },
          "metadata": {
            "needs_background": "light"
          }
        }
      ]
    },
    {
      "metadata": {
        "trusted": true
      },
      "cell_type": "code",
      "source": "corr.shape",
      "execution_count": 59,
      "outputs": [
        {
          "output_type": "execute_result",
          "execution_count": 59,
          "data": {
            "text/plain": "(17, 17)"
          },
          "metadata": {}
        }
      ]
    },
    {
      "metadata": {},
      "cell_type": "markdown",
      "source": "Note: \n\nNotice there are still 17 columns, meaning no features have correlation of 0.7 or higher. Therefore no features will be removed from the dataset based on correlation value."
    },
    {
      "metadata": {
        "trusted": true
      },
      "cell_type": "code",
      "source": "columns = np.full((corr.shape[0],), True, dtype=bool)\nfor i in range(corr.shape[0]):\n    for j in range(i+1, corr.shape[0]):\n        if corr.iloc[i,j] >= 0.7:\n            if columns[j]:\n                columns[j] = False\n\n# print(df_training_corr.shape)\n# print(columns)\n# print(df_training_corr.columns)\n\nselected_columns = df_training_corr.columns[columns]\ndata = df_training_corr[selected_columns]\n\n######\n######\n######\n\nselected_columns = selected_columns[1:].values\nimport statsmodels.formula.api as sm\ndef backwardElimination(x, Y, sl, columns):\n    numVars = len(x[0])\n#     print(numVars)\n    for i in range(0, numVars):\n        print(x.shape)\n        print(Y.shape)\n        print(i)\n        model = sm.OLS(Y, x[:,i])\n        fit = model.fit()\n        print(fit.pvalues)\n        print(pearsonr(x[:,i],Y))\n        maxVar = max(fit.pvalues).astype(float)\n#         print(maxVar)\n        if maxVar > sl:\n            for j in range(0, numVars - i):\n                if (fit.pvalues[j].astype(float) == maxVar):\n                    x = np.delete(x, j, 1)\n                    columns = np.delete(columns, j)\n                    \n    fit.summary()\n#     print(x)\n#     print(columns)\n    return x, columns\n\nSL = 0.05 # eliminating features which have p > SL... p-value gives us the probability of finding the observed or a more extreme result when the null hypothesis is true. So when the p-value increases with the removal or addition of a feature, the probability of obtaining the observed results also increases.\ndata_modeled, selected_columns = backwardElimination(data.iloc[:,1:].values, data.iloc[:,0].values, SL, selected_columns)\n\n",
      "execution_count": 153,
      "outputs": [
        {
          "output_type": "stream",
          "text": "(500, 16)\n(500,)\n0\n[8.98960001e-05]\n(-0.316080415357103, 4.606667913072385e-13)\n(500, 16)\n(500,)\n1\n[1.71455652e-40]\n(0.20426748844977163, 4.12926552010384e-06)\n(500, 16)\n(500,)\n2\n[2.40071869e-36]\n(0.2248163306996876, 3.7816745410357406e-07)\n(500, 16)\n(500,)\n3\n[8.12593764e-07]\n(-0.06493934113987966, 0.14706291450026981)\n(500, 16)\n(500,)\n4\n[5.0420305e-35]\n(0.12509930891209795, 0.005089456146558994)\n(500, 16)\n(500,)\n5\n[1.22413234e-24]\n(-0.11179572513635885, 0.012369726204027619)\n(500, 16)\n(500,)\n6\n[8.1972369e-34]\n(0.10318772479503494, 0.02101383021915678)\n(500, 16)\n(500,)\n7\n[7.38594567e-32]\n(0.06210677614454265, 0.16555988807936584)\n(500, 16)\n(500,)\n8\n[1.51681139e-05]\n(0.04410468863289883, 0.3250066484772024)\n(500, 16)\n(500,)\n9\n[4.10472814e-32]\n(0.14133237000961582, 0.001533356178731641)\n(500, 16)\n(500,)\n10\n[2.54026641e-22]\n(-0.053107730248044625, 0.23586353187790915)\n(500, 16)\n(500,)\n11\n[3.63649123e-29]\n(0.02651552309674559, 0.5541686021638893)\n(500, 16)\n(500,)\n12\n[1.41237969e-10]\n(-0.05654894399648671, 0.20683428497499687)\n(500, 16)\n(500,)\n13\n[9.37334602e-08]\n(0.04104790524379512, 0.35969424577991316)\n(500, 16)\n(500,)\n14\n[2.03314678e-16]\n(0.02897067885691287, 0.5180731960297045)\n(500, 16)\n(500,)\n15\n[0.03122222]\n(-0.009186078789909053, 0.8376524582242173)\n",
          "name": "stdout"
        }
      ]
    },
    {
      "metadata": {
        "trusted": true
      },
      "cell_type": "code",
      "source": "pearsonr(data['Account-Balance'], data['Credit-Application-Result'])\n# data.head()",
      "execution_count": 132,
      "outputs": [
        {
          "output_type": "execute_result",
          "execution_count": 132,
          "data": {
            "text/plain": "(-0.316080415357103, 4.606667913072385e-13)"
          },
          "metadata": {}
        }
      ]
    },
    {
      "metadata": {
        "trusted": true
      },
      "cell_type": "code",
      "source": "# BREAK",
      "execution_count": 61,
      "outputs": []
    },
    {
      "metadata": {
        "trusted": true
      },
      "cell_type": "code",
      "source": "# OLS: https://www.youtube.com/watch?v=L_h7XFUGWAk\nselected_columns = selected_columns[1:].values\nimport statsmodels.formula.api as sm\ndef backwardElimination(x, Y, sl, columns):\n    numVars = len(x[0])\n    for i in range(0, numVars):\n        regressor_OLS = sm.OLS(Y, x).fit()\n        print(regressor_OLS.pvalues)        \n        maxVar = max(regressor_OLS.pvalues).astype(float)\n        print(maxVar)\n        if maxVar > sl:\n            for j in range(0, numVars - i):\n                if (regressor_OLS.pvalues[j].astype(float) == maxVar):\n                    x = np.delete(x, j, 1)\n                    columns = np.delete(columns, j)\n                    \n    regressor_OLS.summary()\n#     print(x)\n#     print(columns)\n    return x, columns\n\nSL = 0.05 # eliminating features which have p > SL... p-value gives us the probability of finding the observed or a more extreme result when the null hypothesis is true. So when the p-value increases with the removal or addition of a feature, the probability of obtaining the observed results also increases.\ndata_modeled, selected_columns = backwardElimination(data.iloc[:,1:].values, data.iloc[:,0].values, SL, selected_columns)\n",
      "execution_count": 112,
      "outputs": [
        {
          "output_type": "error",
          "ename": "AttributeError",
          "evalue": "'numpy.ndarray' object has no attribute 'values'",
          "traceback": [
            "\u001b[0;31m---------------------------------------------------------------------------\u001b[0m",
            "\u001b[0;31mAttributeError\u001b[0m                            Traceback (most recent call last)",
            "\u001b[0;32m<ipython-input-112-4bd0905e1fdc>\u001b[0m in \u001b[0;36m<module>\u001b[0;34m\u001b[0m\n\u001b[0;32m----> 1\u001b[0;31m \u001b[0mselected_columns\u001b[0m \u001b[0;34m=\u001b[0m \u001b[0mselected_columns\u001b[0m\u001b[0;34m[\u001b[0m\u001b[0;36m1\u001b[0m\u001b[0;34m:\u001b[0m\u001b[0;34m]\u001b[0m\u001b[0;34m.\u001b[0m\u001b[0mvalues\u001b[0m\u001b[0;34m\u001b[0m\u001b[0m\n\u001b[0m\u001b[1;32m      2\u001b[0m \u001b[0;32mimport\u001b[0m \u001b[0mstatsmodels\u001b[0m\u001b[0;34m.\u001b[0m\u001b[0mformula\u001b[0m\u001b[0;34m.\u001b[0m\u001b[0mapi\u001b[0m \u001b[0;32mas\u001b[0m \u001b[0msm\u001b[0m\u001b[0;34m\u001b[0m\u001b[0m\n\u001b[1;32m      3\u001b[0m \u001b[0;32mdef\u001b[0m \u001b[0mbackwardElimination\u001b[0m\u001b[0;34m(\u001b[0m\u001b[0mx\u001b[0m\u001b[0;34m,\u001b[0m \u001b[0mY\u001b[0m\u001b[0;34m,\u001b[0m \u001b[0msl\u001b[0m\u001b[0;34m,\u001b[0m \u001b[0mcolumns\u001b[0m\u001b[0;34m)\u001b[0m\u001b[0;34m:\u001b[0m\u001b[0;34m\u001b[0m\u001b[0m\n\u001b[1;32m      4\u001b[0m     \u001b[0mnumVars\u001b[0m \u001b[0;34m=\u001b[0m \u001b[0mlen\u001b[0m\u001b[0;34m(\u001b[0m\u001b[0mx\u001b[0m\u001b[0;34m[\u001b[0m\u001b[0;36m0\u001b[0m\u001b[0;34m]\u001b[0m\u001b[0;34m)\u001b[0m\u001b[0;34m\u001b[0m\u001b[0m\n\u001b[1;32m      5\u001b[0m     \u001b[0;32mfor\u001b[0m \u001b[0mi\u001b[0m \u001b[0;32min\u001b[0m \u001b[0mrange\u001b[0m\u001b[0;34m(\u001b[0m\u001b[0;36m0\u001b[0m\u001b[0;34m,\u001b[0m \u001b[0mnumVars\u001b[0m\u001b[0;34m)\u001b[0m\u001b[0;34m:\u001b[0m\u001b[0;34m\u001b[0m\u001b[0m\n",
            "\u001b[0;31mAttributeError\u001b[0m: 'numpy.ndarray' object has no attribute 'values'"
          ]
        }
      ]
    },
    {
      "metadata": {
        "trusted": true
      },
      "cell_type": "code",
      "source": "for i in data:\n    print(i)\n    print(\"p-val:\",pearsonr(data[i], result['diagnosis'])[0])\n    print(\"Corr: \",pearsonr(data[i], result['diagnosis'])[1])\n    print()\n",
      "execution_count": 109,
      "outputs": [
        {
          "output_type": "stream",
          "text": "Account-Balance\np-val: -0.316080415357103\nCorr:  4.606667913072385e-13\n\nDuration-of-Credit-Month\np-val: 0.20426748844977163\nCorr:  4.12926552010384e-06\n\nPayment-Status-of-Previous-Credit\np-val: 0.2248163306996876\nCorr:  3.7816745410357406e-07\n\nLength-of-current-employment\np-val: 0.10318772479503494\nCorr:  0.02101383021915678\n\nInstalment-per-cent\np-val: 0.06210677614454265\nCorr:  0.16555988807936584\n\nMost-valuable-available-asset\np-val: 0.14133237000961582\nCorr:  0.001533356178731641\n\n",
          "name": "stdout"
        }
      ]
    },
    {
      "metadata": {
        "trusted": true
      },
      "cell_type": "code",
      "source": "# this is target value\nresult = pd.DataFrame()\nresult['diagnosis'] = data.iloc[:,0]\nresult['diagnosis'].head()",
      "execution_count": 63,
      "outputs": [
        {
          "output_type": "execute_result",
          "execution_count": 63,
          "data": {
            "text/plain": "0    0.0\n1    0.0\n2    0.0\n3    0.0\n4    0.0\nName: diagnosis, dtype: float64"
          },
          "metadata": {}
        }
      ]
    },
    {
      "metadata": {
        "trusted": true
      },
      "cell_type": "code",
      "source": "# this dataframe of downselected features\ndata = pd.DataFrame(data = data_modeled, columns = selected_columns)\ndata.head()",
      "execution_count": 64,
      "outputs": [
        {
          "output_type": "execute_result",
          "execution_count": 64,
          "data": {
            "text/html": "<div>\n<style scoped>\n    .dataframe tbody tr th:only-of-type {\n        vertical-align: middle;\n    }\n\n    .dataframe tbody tr th {\n        vertical-align: top;\n    }\n\n    .dataframe thead th {\n        text-align: right;\n    }\n</style>\n<table border=\"1\" class=\"dataframe\">\n  <thead>\n    <tr style=\"text-align: right;\">\n      <th></th>\n      <th>Account-Balance</th>\n      <th>Duration-of-Credit-Month</th>\n      <th>Payment-Status-of-Previous-Credit</th>\n      <th>Length-of-current-employment</th>\n      <th>Instalment-per-cent</th>\n      <th>Most-valuable-available-asset</th>\n    </tr>\n  </thead>\n  <tbody>\n    <tr>\n      <th>0</th>\n      <td>1.0</td>\n      <td>0.0</td>\n      <td>1.0</td>\n      <td>2.0</td>\n      <td>0.0</td>\n      <td>0.0</td>\n    </tr>\n    <tr>\n      <th>1</th>\n      <td>1.0</td>\n      <td>0.0</td>\n      <td>1.0</td>\n      <td>2.0</td>\n      <td>0.0</td>\n      <td>0.0</td>\n    </tr>\n    <tr>\n      <th>2</th>\n      <td>1.0</td>\n      <td>0.0</td>\n      <td>0.0</td>\n      <td>0.0</td>\n      <td>1.0</td>\n      <td>0.0</td>\n    </tr>\n    <tr>\n      <th>3</th>\n      <td>1.0</td>\n      <td>0.0</td>\n      <td>0.0</td>\n      <td>0.0</td>\n      <td>0.0</td>\n      <td>0.0</td>\n    </tr>\n    <tr>\n      <th>4</th>\n      <td>0.0</td>\n      <td>1.0</td>\n      <td>1.0</td>\n      <td>2.0</td>\n      <td>3.0</td>\n      <td>0.0</td>\n    </tr>\n  </tbody>\n</table>\n</div>",
            "text/plain": "   Account-Balance  Duration-of-Credit-Month  \\\n0              1.0                       0.0   \n1              1.0                       0.0   \n2              1.0                       0.0   \n3              1.0                       0.0   \n4              0.0                       1.0   \n\n   Payment-Status-of-Previous-Credit  Length-of-current-employment  \\\n0                                1.0                           2.0   \n1                                1.0                           2.0   \n2                                0.0                           0.0   \n3                                0.0                           0.0   \n4                                1.0                           2.0   \n\n   Instalment-per-cent  Most-valuable-available-asset  \n0                  0.0                            0.0  \n1                  0.0                            0.0  \n2                  1.0                            0.0  \n3                  0.0                            0.0  \n4                  3.0                            0.0  "
          },
          "metadata": {}
        }
      ]
    },
    {
      "metadata": {},
      "cell_type": "markdown",
      "source": "Note:\n\nThe data set has been downselected to 6 features:\n* _Account-Balance_\n* _Duration-of-Credit-Month_\n* _Payment-Status-of-Previous-Credit_\n* _Length-of-current-employment_\n* _Instalment-per-cent_\n* _Most-valuable-available-asset_"
    },
    {
      "metadata": {},
      "cell_type": "markdown",
      "source": "## Visualizing the Data"
    },
    {
      "metadata": {
        "trusted": true
      },
      "cell_type": "code",
      "source": "# sns.countplot(data=data, x=result['diagnosis'], hue='Account-Balance')\n# sns.distplot(data=data, x=result['diagnosis'], hue='Account-Balance')\n# sns.distplot(data['Account-Balance'][result['diagnosis']==0, color='b', label = 'Crediworthy', kde=False)\n# sns.distplot(data['Account-Balance'], color='r', label = 'Non-Crediworthy', kde=False)",
      "execution_count": 65,
      "outputs": []
    },
    {
      "metadata": {
        "trusted": true
      },
      "cell_type": "markdown",
      "source": "# <span style=\"color: red\">BREAK</span>\n\nfix graphs... used original table explain that you are using them out of simplicity... then go into stats models"
    },
    {
      "metadata": {
        "trusted": true
      },
      "cell_type": "code",
      "source": "# train.columns",
      "execution_count": 66,
      "outputs": []
    },
    {
      "metadata": {
        "trusted": true
      },
      "cell_type": "code",
      "source": "# analyze the results of credit applicatons\n\nsns.countplot(data=train, x=\"Credit-Application-Result\")",
      "execution_count": 67,
      "outputs": [
        {
          "output_type": "execute_result",
          "execution_count": 67,
          "data": {
            "text/plain": "<matplotlib.axes._subplots.AxesSubplot at 0x7f2636308518>"
          },
          "metadata": {}
        },
        {
          "output_type": "display_data",
          "data": {
            "image/png": "[encoded data removed]",
            "text/plain": "<Figure size 432x288 with 1 Axes>"
          },
          "metadata": {
            "needs_background": "light"
          }
        }
      ]
    },
    {
      "metadata": {
        "trusted": true
      },
      "cell_type": "code",
      "source": "sns.countplot(data=train, x='Credit-Application-Result', hue='Account-Balance')",
      "execution_count": 68,
      "outputs": [
        {
          "output_type": "execute_result",
          "execution_count": 68,
          "data": {
            "text/plain": "<matplotlib.axes._subplots.AxesSubplot at 0x7f26362e2f60>"
          },
          "metadata": {}
        },
        {
          "output_type": "display_data",
          "data": {
            "image/png": "[encoded data removed]",
            "text/plain": "<Figure size 432x288 with 1 Axes>"
          },
          "metadata": {
            "needs_background": "light"
          }
        }
      ]
    },
    {
      "metadata": {
        "trusted": true
      },
      "cell_type": "code",
      "source": "sns.countplot(data=train, x=\"Credit-Application-Result\", hue=\"Account-Balance\")",
      "execution_count": 69,
      "outputs": [
        {
          "output_type": "execute_result",
          "execution_count": 69,
          "data": {
            "text/plain": "<matplotlib.axes._subplots.AxesSubplot at 0x7f26362a8748>"
          },
          "metadata": {}
        },
        {
          "output_type": "display_data",
          "data": {
            "image/png": "[encoded data removed]",
            "text/plain": "<Figure size 432x288 with 1 Axes>"
          },
          "metadata": {
            "needs_background": "light"
          }
        }
      ]
    },
    {
      "metadata": {
        "trusted": true
      },
      "cell_type": "code",
      "source": "sns.countplot(data=train, x=\"Credit-Application-Result\", hue=\"Duration-of-Credit-Month\")\n# ax.legend(loc=4)\nplt.legend(bbox_to_anchor=(1.05, 1), loc=2, borderaxespad=0., ).set_title(\"Duration-of-Credit-Month\")\n",
      "execution_count": 70,
      "outputs": [
        {
          "output_type": "display_data",
          "data": {
            "image/png": "[encoded data removed]",
            "text/plain": "<Figure size 432x288 with 1 Axes>"
          },
          "metadata": {
            "needs_background": "light"
          }
        }
      ]
    },
    {
      "metadata": {
        "trusted": true
      },
      "cell_type": "code",
      "source": "sns.countplot(data=train, x=\"Credit-Application-Result\", hue=\"Payment-Status-of-Previous-Credit\")\n",
      "execution_count": 71,
      "outputs": [
        {
          "output_type": "execute_result",
          "execution_count": 71,
          "data": {
            "text/plain": "<matplotlib.axes._subplots.AxesSubplot at 0x7f2635fb3a90>"
          },
          "metadata": {}
        },
        {
          "output_type": "display_data",
          "data": {
            "image/png": "[encoded data removed]",
            "text/plain": "<Figure size 432x288 with 1 Axes>"
          },
          "metadata": {
            "needs_background": "light"
          }
        }
      ]
    },
    {
      "metadata": {
        "trusted": true
      },
      "cell_type": "code",
      "source": "sns.countplot(data=train, x=\"Credit-Application-Result\", hue=\"Length-of-current-employment\")",
      "execution_count": 72,
      "outputs": [
        {
          "output_type": "execute_result",
          "execution_count": 72,
          "data": {
            "text/plain": "<matplotlib.axes._subplots.AxesSubplot at 0x7f2635eda3c8>"
          },
          "metadata": {}
        },
        {
          "output_type": "display_data",
          "data": {
            "image/png": "[encoded data removed]",
            "text/plain": "<Figure size 432x288 with 1 Axes>"
          },
          "metadata": {
            "needs_background": "light"
          }
        }
      ]
    },
    {
      "metadata": {
        "trusted": true
      },
      "cell_type": "code",
      "source": "sns.countplot(data=train, x=\"Credit-Application-Result\", hue=\"Instalment-per-cent\")",
      "execution_count": 73,
      "outputs": [
        {
          "output_type": "execute_result",
          "execution_count": 73,
          "data": {
            "text/plain": "<matplotlib.axes._subplots.AxesSubplot at 0x7f2635ebf9e8>"
          },
          "metadata": {}
        },
        {
          "output_type": "display_data",
          "data": {
            "image/png": "[encoded data removed]",
            "text/plain": "<Figure size 432x288 with 1 Axes>"
          },
          "metadata": {
            "needs_background": "light"
          }
        }
      ]
    },
    {
      "metadata": {
        "trusted": true
      },
      "cell_type": "code",
      "source": "sns.countplot(data=train, x=\"Credit-Application-Result\", hue=\"Most-valuable-available-asset\")",
      "execution_count": 74,
      "outputs": [
        {
          "output_type": "execute_result",
          "execution_count": 74,
          "data": {
            "text/plain": "<matplotlib.axes._subplots.AxesSubplot at 0x7f2635b80208>"
          },
          "metadata": {}
        },
        {
          "output_type": "display_data",
          "data": {
            "image/png": "[encoded data removed]",
            "text/plain": "<Figure size 432x288 with 1 Axes>"
          },
          "metadata": {
            "needs_background": "light"
          }
        }
      ]
    },
    {
      "metadata": {
        "trusted": true
      },
      "cell_type": "code",
      "source": "# Account-Balance\n# Duration-of-Credit-Month\n# Payment-Status-of-Previous-Credit\n# Length-of-current-employment\n# Instalment-per-cent\n# Most-valuable-available-asset",
      "execution_count": 75,
      "outputs": []
    },
    {
      "metadata": {
        "trusted": true
      },
      "cell_type": "code",
      "source": "# sns.countplot(data=train, x='Credit-Application-Result', hue='Account-Balance')\n# sns.countplot(data=data, x=result['diagnosis'], hue='Account-Balance')",
      "execution_count": 76,
      "outputs": []
    },
    {
      "metadata": {},
      "cell_type": "markdown",
      "source": "Taking a look at relationship between the target variable (i.e. _Credit-Application-Result_) and all other features in the training set."
    },
    {
      "metadata": {},
      "cell_type": "markdown",
      "source": "There are more creditworthy applicants (≈350) vs non-creditworth applicants (≈150)"
    },
    {
      "metadata": {},
      "cell_type": "markdown",
      "source": "Out of all the applicantion results who was creditworth and who was not credithworthy in regards to Account-Balance. More people were deemed Creditworth if they had some balance."
    },
    {
      "metadata": {},
      "cell_type": "markdown",
      "source": "Tough to determine any relationship regarding Duration-of-Credit-Month."
    },
    {
      "metadata": {},
      "cell_type": "markdown",
      "source": "Regarding payment-Status-of-Previous-Credit, More people were marked as creditworthy if they were  "
    },
    {
      "metadata": {
        "trusted": true
      },
      "cell_type": "code",
      "source": "# sns.countplot(data=train, x=\"Credit-Application-Result\", hue=\"Purpose\")\n# More people were marked as creditworthy if the purpose was home related",
      "execution_count": 77,
      "outputs": []
    },
    {
      "metadata": {
        "trusted": true
      },
      "cell_type": "code",
      "source": "# sns.countplot(data=train, x=\"Credit-Application-Result\", hue=\"Credit-Amount\")\n",
      "execution_count": 78,
      "outputs": []
    },
    {
      "metadata": {
        "trusted": true
      },
      "cell_type": "code",
      "source": "# bins = 5000\n# x = train[\"Credit-Amount\"][train[\"Credit-Application-Result\"] == \"Creditworthy\"] \n# y = train[\"Credit-Amount\"][train[\"Credit-Application-Result\"] == \"Non-Creditworthy\"] \n\n# plt.hist(x, bins, alpha=0.5, label='x')\n# plt.hist(y, bins, alpha=0.5, label='y')\n# plt.legend(loc='upper right')\n# plt.show()\n\n\n\n# the histogram of the data\n# plt.hist(train[\"Credit-Amount\"], bins=1000)\n# plt.show()\n",
      "execution_count": 79,
      "outputs": []
    },
    {
      "metadata": {
        "trusted": true
      },
      "cell_type": "code",
      "source": "# sns.countplot(data=train, x=\"Credit-Application-Result\", hue=\"Value-Savings-Stocks\")",
      "execution_count": 80,
      "outputs": []
    },
    {
      "metadata": {
        "trusted": true
      },
      "cell_type": "code",
      "source": "# sns.countplot(data=train, x=\"Credit-Application-Result\", hue=\"Guarantors\")",
      "execution_count": 81,
      "outputs": []
    },
    {
      "metadata": {
        "trusted": true
      },
      "cell_type": "code",
      "source": "# sns.countplot(data=train, x=\"Credit-Application-Result\", hue=\"Age-years\")",
      "execution_count": 82,
      "outputs": []
    },
    {
      "metadata": {},
      "cell_type": "markdown",
      "source": "I don't know how _Age_ didn't make the list. Will need to investigate further."
    },
    {
      "metadata": {
        "trusted": true
      },
      "cell_type": "code",
      "source": "# https://markhneedham.com/blog/2013/01/27/pythonnumpy-selecting-specific-column-in-2d-array/\n# To select specific column use the following format... basically stating select all rows from pecific index\n# zeroth column is Credit-Application-Result\nselector[:,0]\n\n# Account Balance has index 1\nselector[:,1]\n",
      "execution_count": 83,
      "outputs": [
        {
          "output_type": "execute_result",
          "execution_count": 83,
          "data": {
            "text/plain": "array([1., 1., 1., 1., 0., 1., 0., 0., 0., 1., 0., 1., 1., 0., 1., 0., 0.,\n       1., 1., 1., 1., 0., 0., 0., 0., 1., 1., 1., 0., 1., 1., 1., 0., 1.,\n       0., 1., 0., 0., 1., 1., 0., 0., 0., 0., 0., 0., 0., 1., 1., 0., 0.,\n       0., 0., 0., 1., 1., 1., 0., 1., 0., 0., 1., 0., 0., 0., 0., 0., 0.,\n       1., 1., 1., 0., 0., 1., 1., 1., 1., 1., 1., 0., 0., 1., 1., 0., 1.,\n       0., 0., 1., 0., 0., 0., 0., 0., 0., 0., 0., 1., 0., 1., 0., 0., 1.,\n       1., 0., 0., 1., 0., 1., 1., 0., 1., 0., 0., 0., 1., 1., 1., 0., 0.,\n       1., 0., 0., 0., 0., 1., 0., 1., 0., 0., 0., 1., 1., 1., 0., 0., 0.,\n       1., 0., 1., 1., 1., 0., 0., 1., 1., 0., 1., 1., 0., 1., 0., 1., 1.,\n       0., 0., 1., 0., 0., 0., 1., 0., 1., 1., 0., 0., 1., 1., 1., 0., 1.,\n       1., 0., 0., 0., 0., 1., 1., 1., 1., 0., 0., 1., 0., 0., 0., 1., 0.,\n       1., 0., 1., 1., 1., 0., 1., 0., 1., 1., 1., 0., 1., 0., 0., 1., 1.,\n       1., 1., 1., 1., 0., 0., 1., 0., 1., 1., 1., 0., 0., 0., 0., 0., 1.,\n       1., 1., 0., 1., 0., 1., 1., 0., 0., 1., 1., 0., 1., 1., 1., 0., 1.,\n       1., 0., 1., 1., 0., 0., 0., 0., 0., 1., 0., 0., 0., 1., 0., 0., 0.,\n       0., 0., 1., 0., 0., 1., 1., 1., 0., 1., 1., 1., 0., 0., 0., 1., 1.,\n       1., 1., 1., 1., 1., 0., 0., 0., 0., 1., 1., 1., 1., 1., 1., 1., 1.,\n       0., 0., 0., 1., 1., 0., 1., 1., 0., 1., 1., 0., 1., 0., 1., 0., 0.,\n       0., 1., 1., 1., 1., 0., 1., 0., 0., 1., 1., 0., 1., 0., 1., 0., 0.,\n       0., 1., 1., 1., 1., 1., 0., 0., 1., 1., 1., 0., 0., 1., 0., 0., 1.,\n       0., 1., 0., 1., 0., 1., 1., 0., 1., 1., 1., 0., 1., 0., 1., 1., 0.,\n       0., 1., 1., 0., 0., 0., 1., 1., 1., 1., 1., 0., 1., 1., 0., 0., 0.,\n       0., 1., 1., 1., 0., 0., 0., 0., 1., 1., 0., 1., 1., 0., 1., 1., 1.,\n       1., 0., 0., 0., 1., 0., 0., 1., 1., 1., 0., 0., 1., 0., 1., 0., 1.,\n       0., 1., 1., 0., 0., 0., 0., 1., 0., 0., 1., 1., 0., 0., 0., 0., 1.,\n       1., 1., 0., 0., 0., 1., 1., 0., 1., 0., 1., 0., 0., 0., 1., 1., 0.,\n       1., 0., 0., 0., 1., 1., 0., 0., 0., 1., 1., 0., 0., 0., 1., 0., 1.,\n       0., 0., 0., 0., 0., 0., 1., 0., 0., 1., 1., 0., 0., 0., 1., 0., 0.,\n       1., 0., 0., 0., 0., 0., 1., 0., 0., 0., 1., 0., 0., 0., 0., 0., 0.,\n       1., 0., 0., 0., 0., 1., 0.])"
          },
          "metadata": {}
        }
      ]
    },
    {
      "metadata": {
        "trusted": true
      },
      "cell_type": "code",
      "source": "# sns.countplot(data=train, x=\"Credit-Application-Result\", hue=\"Concurrent-Credits\")",
      "execution_count": 84,
      "outputs": []
    },
    {
      "metadata": {
        "trusted": true
      },
      "cell_type": "code",
      "source": "",
      "execution_count": null,
      "outputs": []
    },
    {
      "metadata": {
        "trusted": true
      },
      "cell_type": "code",
      "source": "# sns.countplot(data=train, x=\"Credit-Application-Result\", hue=\"Type-of-apartment\")",
      "execution_count": 85,
      "outputs": []
    },
    {
      "metadata": {
        "trusted": true
      },
      "cell_type": "code",
      "source": "# sns.countplot(data=train, x=\"Credit-Application-Result\", hue=\"No-of-Credits-at-this-Bank\")",
      "execution_count": 86,
      "outputs": []
    },
    {
      "metadata": {
        "trusted": true
      },
      "cell_type": "code",
      "source": "",
      "execution_count": null,
      "outputs": []
    },
    {
      "metadata": {
        "trusted": true
      },
      "cell_type": "code",
      "source": "# sns.countplot(data=train, x=\"Credit-Application-Result\", hue=\"Occupation\")",
      "execution_count": 87,
      "outputs": []
    },
    {
      "metadata": {
        "trusted": true
      },
      "cell_type": "code",
      "source": "# sns.countplot(data=train, x=\"Credit-Application-Result\", hue=\"No-of-dependents\")",
      "execution_count": 88,
      "outputs": []
    },
    {
      "metadata": {
        "trusted": true
      },
      "cell_type": "code",
      "source": "# sns.countplot(data=train, x=\"Credit-Application-Result\", hue=\"Telephone\")",
      "execution_count": 89,
      "outputs": []
    },
    {
      "metadata": {
        "trusted": true,
        "scrolled": true
      },
      "cell_type": "code",
      "source": "# sns.countplot(data=train, x=\"Credit-Application-Result\", hue=\"Foreign-Worker\")",
      "execution_count": 90,
      "outputs": []
    },
    {
      "metadata": {
        "trusted": true
      },
      "cell_type": "code",
      "source": "# fig = plt.figure(figsize = (20, 25))\n# j = 0\n# for i in data.columns:\n#     plt.subplot(6, 4, j+1)\n#     j += 1\n#     sns.distplot(data[i][result['diagnosis']==0], color='g', label = 'Creditworthy', kde=False)\n#     sns.distplot(data[i][result['diagnosis']==1], color='r', label = 'Non-Crediworthy', kde=False)\n#     plt.legend(loc='best')\n# fig.suptitle('Default Risk Data Analysis')\n# fig.tight_layout()\n# fig.subplots_adjust(top=0.95)\n# plt.savefig(\"./assets/down selected features.png\", psi=300)\n# plt.show()",
      "execution_count": 91,
      "outputs": []
    },
    {
      "metadata": {
        "trusted": true
      },
      "cell_type": "code",
      "source": "# df_training_corr.head()",
      "execution_count": 92,
      "outputs": []
    },
    {
      "metadata": {
        "trusted": true
      },
      "cell_type": "code",
      "source": "# selector[0]",
      "execution_count": 93,
      "outputs": []
    },
    {
      "metadata": {
        "trusted": true
      },
      "cell_type": "code",
      "source": "# sns.countplot(data=selector[:,0:2], x=selector[:,0], hue=selector[:,1])\n# sns.distplot(data[i][result['diagnosis']==0], color='g', label = 'Creditworthy', kde=False)\n# sns.distplot(data[0][result['diagnosis']==1], color='r', label = 'Non-Crediworthy', kde=False)\n",
      "execution_count": 94,
      "outputs": []
    },
    {
      "metadata": {
        "trusted": true
      },
      "cell_type": "code",
      "source": "# sns.countplot(data=selector[:,0:2], x=selector[:,0], hue=selector[:,1])\n# sns.countplot(data=df_training_corr, x='Credit-Application-Result', hue='Account-Balance')\n",
      "execution_count": 95,
      "outputs": []
    },
    {
      "metadata": {
        "trusted": true,
        "scrolled": false
      },
      "cell_type": "code",
      "source": "# sns.countplot(data=selector[:,0:2], x=selector[:,0], hue=selector[:,1])\n# sns.countplot(data=df_training_corr, x='Account-Balance', hue='Credit-Application-Result')\n",
      "execution_count": 96,
      "outputs": []
    },
    {
      "metadata": {
        "trusted": true
      },
      "cell_type": "code",
      "source": "# sns.countplot(data=train, x=\"Credit-Application-Result\", hue=\"Account-Balance\")",
      "execution_count": 97,
      "outputs": []
    },
    {
      "metadata": {
        "trusted": true
      },
      "cell_type": "code",
      "source": "# train[\"Account-Balance\"].unique()",
      "execution_count": 98,
      "outputs": []
    },
    {
      "metadata": {
        "trusted": true
      },
      "cell_type": "code",
      "source": "# data[\"Account-Balance\"].unique()",
      "execution_count": 99,
      "outputs": []
    },
    {
      "metadata": {
        "trusted": true
      },
      "cell_type": "code",
      "source": "# data[\"Length-of-current-employment\"].unique()",
      "execution_count": 100,
      "outputs": []
    },
    {
      "metadata": {
        "trusted": true
      },
      "cell_type": "code",
      "source": "# test for variance across dataset\n# data.var(axis=0)",
      "execution_count": 101,
      "outputs": []
    },
    {
      "metadata": {
        "trusted": true
      },
      "cell_type": "code",
      "source": "# df_training_corr.var(axis=0)",
      "execution_count": 102,
      "outputs": []
    },
    {
      "metadata": {
        "trusted": true
      },
      "cell_type": "code",
      "source": "# BREAK",
      "execution_count": 103,
      "outputs": []
    },
    {
      "metadata": {
        "trusted": true
      },
      "cell_type": "code",
      "source": "# Look into correlations for the following fields:\n# possPredictors = [\"Account-Balance\",\n#                   \"Payment-Status-of-Previous-Credit\",\n#                   \"Purpose\",\n#                   \"Credit-Amount\",\n#                   \"Value-Savings-Stocks\",\n#                   \"Length-of-current-employment\",\n#                   \"Instalment-per-cent\",\n#                   \"Guarantors\",\n#                   \"Most-valuable-available-asset\",\n#                   \"Age-years\",\n#                   \"Concurrent-Credits\",\n#                   \"Type-of-apartment\",\n#                   \"No-of-Credits-at-this-Bank\",\n#                   \"Occupation\",\n#                   \"No-of-dependents\",\n#                   \"Telephone\",\n#                   \"Foreign-Worker\"\n#                 ]\n",
      "execution_count": 104,
      "outputs": []
    },
    {
      "metadata": {
        "trusted": true
      },
      "cell_type": "code",
      "source": "# df_training_corr[\"Credit-Application-Result\"]=df_training_corr[\"Credit-Application-Result\"].astype('category').cat.codes\n# df_training_corr[\"Account-Balance\"]=df_training_corr[\"Account-Balance\"].astype('category').cat.codes\n# df_training_corr[\"Credit-Application-Result\"].dtype\n",
      "execution_count": 105,
      "outputs": []
    },
    {
      "metadata": {
        "trusted": true
      },
      "cell_type": "code",
      "source": "# first create dummies, and drop unwanted va\n\n# https://code.i-harness.com/en/q/186322a\n# https://docs.scipy.org/doc/scipy-0.14.0/reference/generated/scipy.stats.pearsonr.html#scipy.stats.pearsonr\n# pearson(x,y)... or predictor and target\n# Where the first value in the tuple is the correlation value, and second is the p-value.\n# creditworthy = np.where(df_training_corr[\"Credit-Application-Result\"]==\"Creditworthy\", 1, 0)\n\nfrom scipy.stats import pearsonr\nfor i in data:\n    print(i)\n    print(\"p-val:\",pearsonr(data[i], result['diagnosis'])[0])\n    print(\"Corr: \",pearsonr(data[i], result['diagnosis'])[1])\n    print()\n",
      "execution_count": 106,
      "outputs": [
        {
          "output_type": "stream",
          "text": "Account-Balance\np-val: -0.316080415357103\nCorr:  4.606667913072385e-13\n\nDuration-of-Credit-Month\np-val: 0.20426748844977163\nCorr:  4.12926552010384e-06\n\nPayment-Status-of-Previous-Credit\np-val: 0.2248163306996876\nCorr:  3.7816745410357406e-07\n\nLength-of-current-employment\np-val: 0.10318772479503494\nCorr:  0.02101383021915678\n\nInstalment-per-cent\np-val: 0.06210677614454265\nCorr:  0.16555988807936584\n\nMost-valuable-available-asset\np-val: 0.14133237000961582\nCorr:  0.001533356178731641\n\n",
          "name": "stdout"
        }
      ]
    },
    {
      "metadata": {
        "trusted": true
      },
      "cell_type": "code",
      "source": "# from scipy.stats import spearmanr\n# for i in data:\n#     print(i)\n#     print(\"p-val:\",spearmanr(data[i], result['diagnosis'])[0])\n#     print(\"Corr: \",spearmanr(data[i], result['diagnosis'])[1])\n#     print()\n\n",
      "execution_count": 107,
      "outputs": []
    },
    {
      "metadata": {
        "trusted": true
      },
      "cell_type": "code",
      "source": "BREAK\n# pearsonr(train[\"Credit-Amount\"], creditworthy)",
      "execution_count": 108,
      "outputs": [
        {
          "output_type": "error",
          "ename": "NameError",
          "evalue": "name 'BREAK' is not defined",
          "traceback": [
            "\u001b[0;31m---------------------------------------------------------------------------\u001b[0m",
            "\u001b[0;31mNameError\u001b[0m                                 Traceback (most recent call last)",
            "\u001b[0;32m<ipython-input-108-c7d6b08c1077>\u001b[0m in \u001b[0;36m<module>\u001b[0;34m\u001b[0m\n\u001b[0;32m----> 1\u001b[0;31m \u001b[0mBREAK\u001b[0m\u001b[0;34m\u001b[0m\u001b[0m\n\u001b[0m\u001b[1;32m      2\u001b[0m \u001b[0;31m# pearsonr(train[\"Credit-Amount\"], creditworthy)\u001b[0m\u001b[0;34m\u001b[0m\u001b[0;34m\u001b[0m\u001b[0m\n",
            "\u001b[0;31mNameError\u001b[0m: name 'BREAK' is not defined"
          ]
        }
      ]
    },
    {
      "metadata": {
        "trusted": true
      },
      "cell_type": "code",
      "source": "train.info()\n# train.head()",
      "execution_count": null,
      "outputs": []
    },
    {
      "metadata": {
        "trusted": true
      },
      "cell_type": "code",
      "source": "",
      "execution_count": null,
      "outputs": []
    },
    {
      "metadata": {
        "trusted": true
      },
      "cell_type": "code",
      "source": "# data_cols = [\"Credit-Application-Result\",\n#              \"Account-Balance\",\n#              \"Payment-Status-of-Previous-Credit\",\n#              \"Purpose\",\n#              \"Value-Savings-Stocks\",\n#              \"Guarantors\",\n#              \"Concurrent-Credits\",\n#              \"No-of-Credits-at-this-Bank\"]\n\n# label_encoder = LabelEncoder()\n# for i in data_cols:\n#     data.loc[:,i] = label_encoder.fit_transform(data.loc[:,i]).astype('float64')",
      "execution_count": null,
      "outputs": []
    },
    {
      "metadata": {
        "trusted": true
      },
      "cell_type": "code",
      "source": "# dummy columns\ndummy_cols = [\"Account-Balance\", \"Purpose\"]\n\n# Purpose_Home Related, Purpose_New car, Purpose_Other, Purpose_Used car\n# Account-Balance_No Account, Account-Balance_Some Balance\n\ntrain = pd.get_dummies(train, columns=dummy_cols, drop_first=True)",
      "execution_count": null,
      "outputs": []
    },
    {
      "metadata": {
        "trusted": true
      },
      "cell_type": "code",
      "source": "",
      "execution_count": null,
      "outputs": []
    },
    {
      "metadata": {
        "trusted": true
      },
      "cell_type": "code",
      "source": "train.iloc[0:5,0:5]",
      "execution_count": null,
      "outputs": []
    },
    {
      "metadata": {
        "trusted": true
      },
      "cell_type": "code",
      "source": "train[\"Credit-Application-Result\"].unique()",
      "execution_count": null,
      "outputs": []
    },
    {
      "metadata": {
        "trusted": true
      },
      "cell_type": "code",
      "source": "pearsonr(train[\"Account-Balance\"], train[\"Credit-Application-Result\"])",
      "execution_count": null,
      "outputs": []
    },
    {
      "metadata": {
        "trusted": true
      },
      "cell_type": "code",
      "source": "break\n",
      "execution_count": null,
      "outputs": []
    },
    {
      "metadata": {
        "trusted": true
      },
      "cell_type": "code",
      "source": "import numpy as np\nimport pandas as pd\nimport seaborn as sns\nimport matplotlib.pyplot as plt\nfrom sklearn.preprocessing import LabelEncoder, OneHotEncoder\nimport warnings\nwarnings.filterwarnings(\"ignore\")\nfrom sklearn.model_selection import train_test_split\nfrom sklearn.svm import SVC\nfrom sklearn.metrics import confusion_matrix",
      "execution_count": null,
      "outputs": []
    },
    {
      "metadata": {
        "trusted": true
      },
      "cell_type": "code",
      "source": "data = train.copy()\n# data = data.iloc[:,1:-1]",
      "execution_count": null,
      "outputs": []
    },
    {
      "metadata": {
        "trusted": true
      },
      "cell_type": "code",
      "source": "data.head()",
      "execution_count": null,
      "outputs": []
    },
    {
      "metadata": {
        "trusted": true
      },
      "cell_type": "code",
      "source": "data_cols = [\"Credit-Application-Result\",\n             \"Account-Balance\",\n             \"Payment-Status-of-Previous-Credit\",\n             \"Purpose\",\n             \"Value-Savings-Stocks\",\n             \"Guarantors\",\n             \"Concurrent-Credits\",\n             \"No-of-Credits-at-this-Bank\"]\n\nlabel_encoder = LabelEncoder()\nfor i in data_cols:\n    data.loc[:,i] = label_encoder.fit_transform(data.loc[:,i]).astype('float64')",
      "execution_count": null,
      "outputs": []
    },
    {
      "metadata": {
        "trusted": true
      },
      "cell_type": "code",
      "source": "corr = data.corr()\n",
      "execution_count": null,
      "outputs": []
    },
    {
      "metadata": {
        "trusted": true
      },
      "cell_type": "code",
      "source": "sns.heatmap(corr)",
      "execution_count": null,
      "outputs": []
    },
    {
      "metadata": {
        "trusted": true
      },
      "cell_type": "code",
      "source": "",
      "execution_count": null,
      "outputs": []
    },
    {
      "metadata": {
        "trusted": true
      },
      "cell_type": "code",
      "source": "",
      "execution_count": null,
      "outputs": []
    },
    {
      "metadata": {
        "trusted": true
      },
      "cell_type": "code",
      "source": "",
      "execution_count": null,
      "outputs": []
    },
    {
      "metadata": {
        "trusted": true
      },
      "cell_type": "code",
      "source": "# # COLORMAPS\n\n# # use cmap to set the chart colors\n# cmap = sns.choose_colorbrewer_palette(data_type = \"d\") # set data_type to d, q, or s",
      "execution_count": null,
      "outputs": []
    },
    {
      "metadata": {
        "trusted": true
      },
      "cell_type": "code",
      "source": "# CORRELATION MATRIX\n# def correlationMatrix(dataset,suffix):\n#     corr = dataset.corr(method='pearson')\n    \n#     # Generate a mask for the upper triangle\n#     mask = np.zeros_like(corr, dtype=np.bool)\n#     mask[np.triu_indices_from(mask)] = True\n\n#     # Set up the matplotlib figure\n# #     fig, ax = plt.subplots(figsize=(10, 6))\n#     fig, ax = plt.subplots()\n\n#     # Draw the heatmap with the mask and correct aspect ratio\n#     sns.heatmap(corr, annot=True, fmt='.4f',\n#                 cmap=cmap, cbar=True, ax=ax, mask = mask,\n#                 square=False, linewidths=.5,cbar_kws={\"shrink\": .5})\n#     ax.set_title('Heatmap', fontsize = 18)\n#     ax.set_xlabel('Variable 1', fontsize = 15)\n#     ax.set_ylabel('Variable 2', fontsize = 15)\n#     ax.set_yticklabels(ax.get_yticklabels(), rotation=\"horizontal\", fontsize = 10)\n#     ax.set_xticklabels(ax.get_xticklabels(), fontsize = 10)\n#     plt.tight_layout()\n#     plt.savefig('./assets/pearsonCorrelation_{}'.format(suffix), dpi = 300, bbox_inches='tight', pad_inches=0.0)\n#     plt.show()",
      "execution_count": null,
      "outputs": []
    },
    {
      "metadata": {
        "trusted": true
      },
      "cell_type": "code",
      "source": "# correlationMatrix(corr,\"train\")",
      "execution_count": null,
      "outputs": []
    },
    {
      "metadata": {
        "trusted": true
      },
      "cell_type": "code",
      "source": "",
      "execution_count": null,
      "outputs": []
    },
    {
      "metadata": {
        "trusted": true
      },
      "cell_type": "code",
      "source": "# correlationMatrix(train,\"train\")",
      "execution_count": null,
      "outputs": []
    },
    {
      "metadata": {
        "trusted": true
      },
      "cell_type": "code",
      "source": "# correlationMatrix(test,\"test\")",
      "execution_count": null,
      "outputs": []
    },
    {
      "metadata": {
        "trusted": true
      },
      "cell_type": "markdown",
      "source": "# LOGISTIC REGRESSION"
    },
    {
      "metadata": {
        "trusted": true
      },
      "cell_type": "code",
      "source": "# dummy columns\ndummy_cols = [\"Account-Balance\", \"Purpose\"]",
      "execution_count": null,
      "outputs": []
    },
    {
      "metadata": {
        "trusted": true
      },
      "cell_type": "code",
      "source": "",
      "execution_count": null,
      "outputs": []
    },
    {
      "metadata": {
        "trusted": true
      },
      "cell_type": "code",
      "source": "# Purpose_Home Related, Purpose_New car, Purpose_Other, Purpose_Used car\n# Account-Balance_No Account, Account-Balance_Some Balance\n\ntrain = pd.get_dummies(train, columns=dummy_cols, drop_first=True)",
      "execution_count": null,
      "outputs": []
    },
    {
      "metadata": {
        "trusted": true
      },
      "cell_type": "code",
      "source": "train.columns",
      "execution_count": null,
      "outputs": []
    },
    {
      "metadata": {
        "trusted": true
      },
      "cell_type": "code",
      "source": "test = pd.get_dummies(test, columns=dummy_cols)",
      "execution_count": null,
      "outputs": []
    },
    {
      "metadata": {
        "trusted": true
      },
      "cell_type": "code",
      "source": "test.columns",
      "execution_count": null,
      "outputs": []
    },
    {
      "metadata": {
        "trusted": true
      },
      "cell_type": "code",
      "source": "# Dummies:'Account-Balance_No Account', 'Account-Balance_Some Balance', \n# Dummies:'Purpose_Home Related', 'Purpose_New car', 'Purpose_Used car'\n\n# create list of feature names\nfeature_cols = [\"Credit-Amount\",\n                \"Account-Balance_Some Balance\",\n                \"Purpose_New car\",\n                \"Purpose_New car\",\n                \"Purpose_Used car\"\n               ]\n\n# store feature matrix in \"X\"... train data featres\nX_train = train[feature_cols]\n\n# store response vector in \"y\"... train data target\ny_train = train[\"Credit-Application-Result\"]\n\n# predict new observations... test data\nX_test = test[feature_cols]",
      "execution_count": null,
      "outputs": []
    },
    {
      "metadata": {
        "trusted": true
      },
      "cell_type": "code",
      "source": "# import the class\nfrom sklearn.linear_model import LogisticRegression\n\n# instantiate the model (using the default parameters)\nlogreg = LogisticRegression()\n\n# fit the model with data\nlogreg.fit(X_train, y_train)\n\n# predict new targets based on test data\ny_pred = logreg.predict(X_test)\n",
      "execution_count": null,
      "outputs": []
    },
    {
      "metadata": {
        "trusted": true
      },
      "cell_type": "code",
      "source": "# looking at coefficient of the model, print the regression coefficient: https://www.youtube.com/watch?v=Eqv98w1ukZk\nprint(logreg.coef_)",
      "execution_count": null,
      "outputs": []
    },
    {
      "metadata": {
        "trusted": true
      },
      "cell_type": "code",
      "source": "from sklearn.metrics import classification_report\nprint(classification_report(y_train,y_pred))\n",
      "execution_count": null,
      "outputs": []
    },
    {
      "metadata": {
        "trusted": true
      },
      "cell_type": "code",
      "source": "# correlationMatrix(train,\"train\")",
      "execution_count": null,
      "outputs": []
    },
    {
      "metadata": {
        "trusted": true
      },
      "cell_type": "code",
      "source": "# correlationMatrix(train,\"test\")",
      "execution_count": null,
      "outputs": []
    },
    {
      "metadata": {
        "trusted": true
      },
      "cell_type": "code",
      "source": "",
      "execution_count": null,
      "outputs": []
    },
    {
      "metadata": {
        "trusted": true
      },
      "cell_type": "code",
      "source": "",
      "execution_count": null,
      "outputs": []
    },
    {
      "metadata": {
        "trusted": true
      },
      "cell_type": "code",
      "source": "",
      "execution_count": null,
      "outputs": []
    },
    {
      "metadata": {
        "trusted": true
      },
      "cell_type": "code",
      "source": "",
      "execution_count": null,
      "outputs": []
    },
    {
      "metadata": {
        "trusted": true
      },
      "cell_type": "code",
      "source": "",
      "execution_count": null,
      "outputs": []
    },
    {
      "metadata": {
        "trusted": true
      },
      "cell_type": "code",
      "source": "",
      "execution_count": null,
      "outputs": []
    },
    {
      "metadata": {
        "trusted": true
      },
      "cell_type": "code",
      "source": "",
      "execution_count": null,
      "outputs": []
    },
    {
      "metadata": {
        "trusted": true
      },
      "cell_type": "code",
      "source": "",
      "execution_count": null,
      "outputs": []
    }
  ],
  "metadata": {
    "kernelspec": {
      "name": "python36",
      "display_name": "Python 3.6",
      "language": "python"
    },
    "toc": {
      "nav_menu": {},
      "number_sections": true,
      "sideBar": true,
      "skip_h1_title": false,
      "base_numbering": 1,
      "title_cell": "Table of Contents",
      "title_sidebar": "Contents",
      "toc_cell": false,
      "toc_position": {},
      "toc_section_display": true,
      "toc_window_display": false
    },
    "language_info": {
      "mimetype": "text/x-python",
      "nbconvert_exporter": "python",
      "name": "python",
      "pygments_lexer": "ipython3",
      "version": "3.6.6",
      "file_extension": ".py",
      "codemirror_mode": {
        "version": 3,
        "name": "ipython"
      }
    }
  },
  "nbformat": 4,
  "nbformat_minor": 2
}