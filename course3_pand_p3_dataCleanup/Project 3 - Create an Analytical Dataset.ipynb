{
  "cells": [
    {
      "metadata": {
        "trusted": true
      },
      "cell_type": "code",
      "source": "import pandas as pd\nimport numpy as np\nimport matplotlib.pyplot as plt\nimport seaborn as sns\nfrom scipy.stats import iqr",
      "execution_count": 1,
      "outputs": []
    },
    {
      "metadata": {},
      "cell_type": "markdown",
      "source": "# Introduction"
    },
    {
      "metadata": {},
      "cell_type": "markdown",
      "source": "### [Syllabus](https://s3.amazonaws.com/video.udacity-data.com/topher/2018/June/5b1aec85_band-syllabus-v5-1/band-syllabus-v5-1.pdf)\n\n### [Rubric](https://review.udacity.com/#!/rubrics/382/view)\n\n### [Project Overview](https://classroom.udacity.com/nanodegrees/nd008t/parts/f2ec3aba-7d0e-4a88-8564-536d196b77f0/modules/fa6303d5-2abf-40dc-8230-fd7320eacc92/lessons/8207eb5c-8e75-4abb-aa72-f6f5c02bec25/concepts/c13ef592-7839-4a04-8acd-1edcff8b5470)\n\n### [Data](./data)\n* *[p2-2010-pawdacity-monthly-sales.csv](./data/p2-2010-pawdacity-monthly-sales-p2-2010-pawdacity-monthly-sales.csv)* - This file contains all of the monthly sales for all Pawdacity stores for 2010.\n\n* *[p2-partially-parsed-wy-web-scrape.csv](./data/p2-partially-parsed-wy-web-scrape.csv)* - This is a partially parsed data file that can be used for population numbers.\n\n* *[p2-wy-453910-naics-data.csv](./data/p2-wy-453910-naics-data.csv)* - NAICS data on the sales of all competitor stores where total sales is equal to 12 months of sales\n\n* *[p2-wy-demographic-data.csv](./data/p2-wy-demographic-data.csv)* - This file contains demographic data for each city and county in Wyoming."
    },
    {
      "metadata": {},
      "cell_type": "markdown",
      "source": "# Wrangle Data"
    },
    {
      "metadata": {
        "trusted": true
      },
      "cell_type": "code",
      "source": "#2010 monthly sales for stores\nmonthlySales_original = pd.read_csv(\"./data/p2-2010-pawdacity-monthly-sales-p2-2010-pawdacity-monthly-sales.csv\")\nmonthlySales = monthlySales_original.copy()\n\n# use for population\nwebScrape_original = pd.read_csv(\"./data/p2-partially-parsed-wy-web-scrape.csv\")\nwebScrape = webScrape_original.copy()\n\n# 12 month total sales cycle for competitor stores\nnaics_original = pd.read_csv(\"./data/p2-wy-453910-naics-data.csv\")\nnaics = naics_original.copy()\n\n# \ndemographic_original = pd.read_csv(\"./data/p2-wy-demographic-data.csv\")\ndemographic = demographic_original.copy()\n",
      "execution_count": 2,
      "outputs": []
    },
    {
      "metadata": {},
      "cell_type": "markdown",
      "source": "### monthlySales"
    },
    {
      "metadata": {
        "trusted": true
      },
      "cell_type": "code",
      "source": "monthlySales.head(2)",
      "execution_count": 3,
      "outputs": [
        {
          "output_type": "execute_result",
          "execution_count": 3,
          "data": {
            "text/html": "<div>\n<table border=\"1\" class=\"dataframe\">\n  <thead>\n    <tr style=\"text-align: right;\">\n      <th></th>\n      <th>NAME</th>\n      <th>ADDRESS</th>\n      <th>CITY</th>\n      <th>STATE</th>\n      <th>ZIP</th>\n      <th>January</th>\n      <th>February</th>\n      <th>March</th>\n      <th>April</th>\n      <th>May</th>\n      <th>June</th>\n      <th>July</th>\n      <th>August</th>\n      <th>September</th>\n      <th>October</th>\n      <th>November</th>\n      <th>December</th>\n    </tr>\n  </thead>\n  <tbody>\n    <tr>\n      <th>0</th>\n      <td>Pawdacity</td>\n      <td>509 Fort St # A</td>\n      <td>Buffalo</td>\n      <td>WY</td>\n      <td>82834</td>\n      <td>16200</td>\n      <td>13392</td>\n      <td>14688</td>\n      <td>17064</td>\n      <td>18360</td>\n      <td>14040</td>\n      <td>12960</td>\n      <td>19224</td>\n      <td>15984</td>\n      <td>13392</td>\n      <td>13176</td>\n      <td>16848</td>\n    </tr>\n    <tr>\n      <th>1</th>\n      <td>Pawdacity</td>\n      <td>601 SE Wyoming Blvd Unit 252</td>\n      <td>Casper</td>\n      <td>WY</td>\n      <td>82609</td>\n      <td>29160</td>\n      <td>21600</td>\n      <td>27000</td>\n      <td>27648</td>\n      <td>29160</td>\n      <td>27216</td>\n      <td>25488</td>\n      <td>25704</td>\n      <td>22896</td>\n      <td>25272</td>\n      <td>28944</td>\n      <td>27648</td>\n    </tr>\n  </tbody>\n</table>\n</div>",
            "text/plain": "        NAME                       ADDRESS     CITY STATE    ZIP  January  \\\n0  Pawdacity               509 Fort St # A  Buffalo    WY  82834    16200   \n1  Pawdacity  601 SE Wyoming Blvd Unit 252   Casper    WY  82609    29160   \n\n   February  March  April    May   June   July  August  September  October  \\\n0     13392  14688  17064  18360  14040  12960   19224      15984    13392   \n1     21600  27000  27648  29160  27216  25488   25704      22896    25272   \n\n   November  December  \n0     13176     16848  \n1     28944     27648  "
          },
          "metadata": {}
        }
      ]
    },
    {
      "metadata": {
        "trusted": true
      },
      "cell_type": "code",
      "source": "monthlySales.info()",
      "execution_count": 4,
      "outputs": [
        {
          "output_type": "stream",
          "text": "<class 'pandas.core.frame.DataFrame'>\nRangeIndex: 11 entries, 0 to 10\nData columns (total 17 columns):\nNAME         11 non-null object\nADDRESS      11 non-null object\nCITY         11 non-null object\nSTATE        11 non-null object\nZIP          11 non-null int64\nJanuary      11 non-null int64\nFebruary     11 non-null int64\nMarch        11 non-null int64\nApril        11 non-null int64\nMay          11 non-null int64\nJune         11 non-null int64\nJuly         11 non-null int64\nAugust       11 non-null int64\nSeptember    11 non-null int64\nOctober      11 non-null int64\nNovember     11 non-null int64\nDecember     11 non-null int64\ndtypes: int64(13), object(4)\nmemory usage: 1.5+ KB\n",
          "name": "stdout"
        }
      ]
    },
    {
      "metadata": {},
      "cell_type": "markdown",
      "source": "### Partially Parsed Data"
    },
    {
      "metadata": {
        "trusted": true
      },
      "cell_type": "code",
      "source": "webScrape.head()",
      "execution_count": 5,
      "outputs": [
        {
          "output_type": "execute_result",
          "execution_count": 5,
          "data": {
            "text/html": "<div>\n<table border=\"1\" class=\"dataframe\">\n  <thead>\n    <tr style=\"text-align: right;\">\n      <th></th>\n      <th>City|County</th>\n      <th>2014 Estimate</th>\n      <th>2010 Census</th>\n      <th>2000 Census</th>\n    </tr>\n  </thead>\n  <tbody>\n    <tr>\n      <th>0</th>\n      <td>Afton|Lincoln</td>\n      <td>&lt;td&gt;1,968&lt;/td&gt;</td>\n      <td>&lt;td&gt;1,911&lt;/td&gt;</td>\n      <td>&lt;td&gt;1,818&lt;/td&gt;</td>\n    </tr>\n    <tr>\n      <th>1</th>\n      <td>Albin|Laramie</td>\n      <td>&lt;td&gt;185&lt;/td&gt;</td>\n      <td>&lt;td&gt;181&lt;/td&gt;</td>\n      <td>&lt;td&gt;120&lt;/td&gt;</td>\n    </tr>\n    <tr>\n      <th>2</th>\n      <td>Alpine|Lincoln</td>\n      <td>&lt;td&gt;845&lt;/td&gt;</td>\n      <td>&lt;td&gt;828&lt;/td&gt;</td>\n      <td>&lt;td&gt;550&lt;/td&gt;</td>\n    </tr>\n    <tr>\n      <th>3</th>\n      <td>Baggs|Carbon</td>\n      <td>&lt;td&gt;439&lt;/td&gt;</td>\n      <td>&lt;td&gt;440&lt;/td&gt;</td>\n      <td>&lt;td&gt;348&lt;/td&gt;</td>\n    </tr>\n    <tr>\n      <th>4</th>\n      <td>Bairoil|Sweetwater</td>\n      <td>&lt;td&gt;107&lt;/td&gt;</td>\n      <td>&lt;td&gt;106&lt;/td&gt;</td>\n      <td>&lt;td&gt;97&lt;/td&gt;</td>\n    </tr>\n  </tbody>\n</table>\n</div>",
            "text/plain": "          City|County   2014 Estimate     2010 Census     2000 Census\n0       Afton|Lincoln  <td>1,968</td>  <td>1,911</td>  <td>1,818</td>\n1       Albin|Laramie    <td>185</td>    <td>181</td>    <td>120</td>\n2      Alpine|Lincoln    <td>845</td>    <td>828</td>    <td>550</td>\n3        Baggs|Carbon    <td>439</td>    <td>440</td>    <td>348</td>\n4  Bairoil|Sweetwater    <td>107</td>    <td>106</td>     <td>97</td>"
          },
          "metadata": {}
        }
      ]
    },
    {
      "metadata": {
        "trusted": true
      },
      "cell_type": "code",
      "source": "webScrape.info()",
      "execution_count": 6,
      "outputs": [
        {
          "output_type": "stream",
          "text": "<class 'pandas.core.frame.DataFrame'>\nRangeIndex: 103 entries, 0 to 102\nData columns (total 4 columns):\nCity|County      99 non-null object\n2014 Estimate    103 non-null object\n2010 Census      103 non-null object\n2000 Census      103 non-null object\ndtypes: object(4)\nmemory usage: 3.3+ KB\n",
          "name": "stdout"
        }
      ]
    },
    {
      "metadata": {
        "trusted": true
      },
      "cell_type": "code",
      "source": "len(webScrape[\"City|County\"].unique())",
      "execution_count": 7,
      "outputs": [
        {
          "output_type": "execute_result",
          "execution_count": 7,
          "data": {
            "text/plain": "100"
          },
          "metadata": {}
        }
      ]
    },
    {
      "metadata": {},
      "cell_type": "markdown",
      "source": "### Competitor Stores"
    },
    {
      "metadata": {
        "trusted": true
      },
      "cell_type": "code",
      "source": "naics.head(2)",
      "execution_count": 8,
      "outputs": [
        {
          "output_type": "execute_result",
          "execution_count": 8,
          "data": {
            "text/html": "<div>\n<table border=\"1\" class=\"dataframe\">\n  <thead>\n    <tr style=\"text-align: right;\">\n      <th></th>\n      <th>BUSINESS NAME</th>\n      <th>PHYSICAL CITY NAME</th>\n      <th>SALES VOLUME</th>\n      <th>CASS_LastLine</th>\n    </tr>\n  </thead>\n  <tbody>\n    <tr>\n      <th>0</th>\n      <td>Mile High Mobile Pet LLC</td>\n      <td>Cheyenne</td>\n      <td>300000</td>\n      <td>Cheyenne, WY 82007-3528</td>\n    </tr>\n    <tr>\n      <th>1</th>\n      <td>Pets City Inc</td>\n      <td>Cheyenne</td>\n      <td>640000</td>\n      <td>Cheyenne, WY 82009-4851</td>\n    </tr>\n  </tbody>\n</table>\n</div>",
            "text/plain": "              BUSINESS NAME PHYSICAL CITY NAME  SALES VOLUME  \\\n0  Mile High Mobile Pet LLC           Cheyenne        300000   \n1             Pets City Inc           Cheyenne        640000   \n\n             CASS_LastLine  \n0  Cheyenne, WY 82007-3528  \n1  Cheyenne, WY 82009-4851  "
          },
          "metadata": {}
        }
      ]
    },
    {
      "metadata": {
        "trusted": true
      },
      "cell_type": "code",
      "source": "naics.info()",
      "execution_count": 9,
      "outputs": [
        {
          "output_type": "stream",
          "text": "<class 'pandas.core.frame.DataFrame'>\nRangeIndex: 32 entries, 0 to 31\nData columns (total 4 columns):\nBUSINESS NAME         32 non-null object\nPHYSICAL CITY NAME    32 non-null object\nSALES VOLUME          32 non-null int64\nCASS_LastLine         32 non-null object\ndtypes: int64(1), object(3)\nmemory usage: 1.1+ KB\n",
          "name": "stdout"
        }
      ]
    },
    {
      "metadata": {},
      "cell_type": "markdown",
      "source": "### Demographics"
    },
    {
      "metadata": {
        "trusted": true
      },
      "cell_type": "code",
      "source": "demographic.head()",
      "execution_count": 10,
      "outputs": [
        {
          "output_type": "execute_result",
          "execution_count": 10,
          "data": {
            "text/html": "<div>\n<table border=\"1\" class=\"dataframe\">\n  <thead>\n    <tr style=\"text-align: right;\">\n      <th></th>\n      <th>City</th>\n      <th>County</th>\n      <th>Land Area</th>\n      <th>Households with Under 18</th>\n      <th>Population Density</th>\n      <th>Total Families</th>\n    </tr>\n  </thead>\n  <tbody>\n    <tr>\n      <th>0</th>\n      <td>Laramie</td>\n      <td>Albany</td>\n      <td>2513.745235</td>\n      <td>2075</td>\n      <td>5.19</td>\n      <td>4668.93</td>\n    </tr>\n    <tr>\n      <th>1</th>\n      <td>Rock River</td>\n      <td>Albany</td>\n      <td>200.444000</td>\n      <td>165</td>\n      <td>0.41</td>\n      <td>372.30</td>\n    </tr>\n    <tr>\n      <th>2</th>\n      <td>Basin</td>\n      <td>Big Horn</td>\n      <td>543.951304</td>\n      <td>250</td>\n      <td>0.66</td>\n      <td>566.43</td>\n    </tr>\n    <tr>\n      <th>3</th>\n      <td>Burlington</td>\n      <td>Big Horn</td>\n      <td>137.646214</td>\n      <td>63</td>\n      <td>0.17</td>\n      <td>143.34</td>\n    </tr>\n    <tr>\n      <th>4</th>\n      <td>Byron</td>\n      <td>Big Horn</td>\n      <td>252.489592</td>\n      <td>116</td>\n      <td>0.31</td>\n      <td>262.93</td>\n    </tr>\n  </tbody>\n</table>\n</div>",
            "text/plain": "         City    County    Land Area  Households with Under 18  \\\n0     Laramie    Albany  2513.745235                      2075   \n1  Rock River    Albany   200.444000                       165   \n2       Basin  Big Horn   543.951304                       250   \n3  Burlington  Big Horn   137.646214                        63   \n4       Byron  Big Horn   252.489592                       116   \n\n   Population Density  Total Families  \n0                5.19         4668.93  \n1                0.41          372.30  \n2                0.66          566.43  \n3                0.17          143.34  \n4                0.31          262.93  "
          },
          "metadata": {}
        }
      ]
    },
    {
      "metadata": {
        "trusted": true
      },
      "cell_type": "code",
      "source": "demographic.info()",
      "execution_count": 11,
      "outputs": [
        {
          "output_type": "stream",
          "text": "<class 'pandas.core.frame.DataFrame'>\nRangeIndex: 99 entries, 0 to 98\nData columns (total 6 columns):\nCity                        99 non-null object\nCounty                      99 non-null object\nLand Area                   99 non-null float64\nHouseholds with Under 18    99 non-null int64\nPopulation Density          99 non-null float64\nTotal Families              99 non-null float64\ndtypes: float64(3), int64(1), object(2)\nmemory usage: 4.7+ KB\n",
          "name": "stdout"
        }
      ]
    },
    {
      "metadata": {},
      "cell_type": "markdown",
      "source": "# Clean Data"
    },
    {
      "metadata": {},
      "cell_type": "markdown",
      "source": "#### clean webScrape"
    },
    {
      "metadata": {
        "trusted": true
      },
      "cell_type": "code",
      "source": "# drop rows with null values\n\nwebScrape.dropna(inplace=True)\nwebScrape.info()",
      "execution_count": 12,
      "outputs": [
        {
          "output_type": "stream",
          "text": "<class 'pandas.core.frame.DataFrame'>\nInt64Index: 99 entries, 0 to 98\nData columns (total 4 columns):\nCity|County      99 non-null object\n2014 Estimate    99 non-null object\n2010 Census      99 non-null object\n2000 Census      99 non-null object\ndtypes: object(4)\nmemory usage: 3.9+ KB\n",
          "name": "stdout"
        }
      ]
    },
    {
      "metadata": {
        "trusted": true
      },
      "cell_type": "code",
      "source": "# cleanup partially parsed data\n# str_cols = webScrape.select_dtypes(['object']).columns\n# should I drop fow 7 since 2000 Census is not available or just set value to nil?\n\nstrings_List = ['<sup id=\"cite_ref-4\" class=\"reference\"><a href=\"#cite_note-4\">\\[4\\]</a></sup></td>',\n                '<sup id=\"cite_ref-5\" class=\"reference\"><a href=\"#cite_note-5\">\\[5\\]</a></sup></td>',\n                '/',\n                '<td>',\n                '\\?',\n                '-',\n                ','\n               ]\nfor text in strings_List:\n    webScrape.replace(text, '',regex=True, inplace = True)",
      "execution_count": 13,
      "outputs": []
    },
    {
      "metadata": {
        "trusted": true
      },
      "cell_type": "code",
      "source": "# splitting city|county\nwebScrape['City'] = webScrape['City|County'].str.split('|').apply(lambda x: x[0])\n\n# removing additional whitspace at the end of strings (e.g. Basin at index 6)\nwebScrape['City'] = webScrape['City'].str.rstrip()",
      "execution_count": 14,
      "outputs": []
    },
    {
      "metadata": {
        "trusted": true
      },
      "cell_type": "code",
      "source": "# dropping Big River since 2000 Census is empty\n# webScrape = webScrape[webScrape['City|County'] != 'Bear River|Uinta']\n\n# dropping 2000 Census column since only using 2010 data, which also allows me to keep row for Big River at index 7, and convert columns to int\n# webScrape = webScrape[['City|County', 'City', '2014 Estimate', '2010 Census']]",
      "execution_count": 15,
      "outputs": []
    },
    {
      "metadata": {
        "trusted": true
      },
      "cell_type": "code",
      "source": "webScrape.head(8)",
      "execution_count": 16,
      "outputs": [
        {
          "output_type": "execute_result",
          "execution_count": 16,
          "data": {
            "text/html": "<div>\n<table border=\"1\" class=\"dataframe\">\n  <thead>\n    <tr style=\"text-align: right;\">\n      <th></th>\n      <th>City|County</th>\n      <th>2014 Estimate</th>\n      <th>2010 Census</th>\n      <th>2000 Census</th>\n      <th>City</th>\n    </tr>\n  </thead>\n  <tbody>\n    <tr>\n      <th>0</th>\n      <td>Afton|Lincoln</td>\n      <td>1968</td>\n      <td>1911</td>\n      <td>1818</td>\n      <td>Afton</td>\n    </tr>\n    <tr>\n      <th>1</th>\n      <td>Albin|Laramie</td>\n      <td>185</td>\n      <td>181</td>\n      <td>120</td>\n      <td>Albin</td>\n    </tr>\n    <tr>\n      <th>2</th>\n      <td>Alpine|Lincoln</td>\n      <td>845</td>\n      <td>828</td>\n      <td>550</td>\n      <td>Alpine</td>\n    </tr>\n    <tr>\n      <th>3</th>\n      <td>Baggs|Carbon</td>\n      <td>439</td>\n      <td>440</td>\n      <td>348</td>\n      <td>Baggs</td>\n    </tr>\n    <tr>\n      <th>4</th>\n      <td>Bairoil|Sweetwater</td>\n      <td>107</td>\n      <td>106</td>\n      <td>97</td>\n      <td>Bairoil</td>\n    </tr>\n    <tr>\n      <th>5</th>\n      <td>Bar Nunn|Natrona</td>\n      <td>2735</td>\n      <td>2213</td>\n      <td>936</td>\n      <td>Bar Nunn</td>\n    </tr>\n    <tr>\n      <th>6</th>\n      <td>Basin |Big Horn</td>\n      <td>1312</td>\n      <td>1285</td>\n      <td>1238</td>\n      <td>Basin</td>\n    </tr>\n    <tr>\n      <th>7</th>\n      <td>Bear River|Uinta</td>\n      <td>521</td>\n      <td>518</td>\n      <td></td>\n      <td>Bear River</td>\n    </tr>\n  </tbody>\n</table>\n</div>",
            "text/plain": "          City|County 2014 Estimate 2010 Census 2000 Census        City\n0       Afton|Lincoln          1968        1911        1818       Afton\n1       Albin|Laramie           185         181         120       Albin\n2      Alpine|Lincoln           845         828         550      Alpine\n3        Baggs|Carbon           439         440         348       Baggs\n4  Bairoil|Sweetwater           107         106          97     Bairoil\n5    Bar Nunn|Natrona          2735        2213         936    Bar Nunn\n6     Basin |Big Horn          1312        1285        1238       Basin\n7    Bear River|Uinta           521         518              Bear River"
          },
          "metadata": {}
        }
      ]
    },
    {
      "metadata": {
        "trusted": true
      },
      "cell_type": "code",
      "source": "# webScrape[['2014 Estimate', '2010 Census', '2000 Census']] = webScrape[['2014 Estimate', '2010 Census', '2000 Census']].astype(int)\nwebScrape[['2014 Estimate', '2010 Census']] = webScrape[['2014 Estimate', '2010 Census']].astype(int)\nwebScrape.info()",
      "execution_count": 17,
      "outputs": [
        {
          "output_type": "stream",
          "text": "<class 'pandas.core.frame.DataFrame'>\nInt64Index: 99 entries, 0 to 98\nData columns (total 5 columns):\nCity|County      99 non-null object\n2014 Estimate    99 non-null int64\n2010 Census      99 non-null int64\n2000 Census      99 non-null object\nCity             99 non-null object\ndtypes: int64(2), object(3)\nmemory usage: 4.6+ KB\n",
          "name": "stdout"
        }
      ]
    },
    {
      "metadata": {},
      "cell_type": "markdown",
      "source": "#### clean monthlySales"
    },
    {
      "metadata": {
        "trusted": true
      },
      "cell_type": "code",
      "source": "monthlySales.rename(columns = {'CITY':'City'}, inplace=True)\nmonthlySales.columns\n",
      "execution_count": 18,
      "outputs": [
        {
          "output_type": "execute_result",
          "execution_count": 18,
          "data": {
            "text/plain": "Index(['NAME', 'ADDRESS', 'City', 'STATE', 'ZIP', 'January', 'February',\n       'March', 'April', 'May', 'June', 'July', 'August', 'September',\n       'October', 'November', 'December'],\n      dtype='object')"
          },
          "metadata": {}
        }
      ]
    },
    {
      "metadata": {
        "trusted": true
      },
      "cell_type": "code",
      "source": "monthlySales['Total Sales'] = monthlySales[['January', 'February', 'March', 'April', 'May', 'June', 'July', 'August', 'September', 'October', 'November', 'December']].sum(axis=1)",
      "execution_count": 19,
      "outputs": []
    },
    {
      "metadata": {},
      "cell_type": "markdown",
      "source": "#### clean naics"
    },
    {
      "metadata": {
        "trusted": true
      },
      "cell_type": "code",
      "source": "naics.rename(columns = {'PHYSICAL CITY NAME': 'City'}, inplace=True)",
      "execution_count": 20,
      "outputs": []
    },
    {
      "metadata": {
        "trusted": true
      },
      "cell_type": "code",
      "source": "naics.columns",
      "execution_count": 21,
      "outputs": [
        {
          "output_type": "execute_result",
          "execution_count": 21,
          "data": {
            "text/plain": "Index(['BUSINESS NAME', 'City', 'SALES VOLUME', 'CASS_LastLine'], dtype='object')"
          },
          "metadata": {}
        }
      ]
    },
    {
      "metadata": {},
      "cell_type": "markdown",
      "source": "#### clean demographic"
    },
    {
      "metadata": {
        "trusted": true
      },
      "cell_type": "code",
      "source": "# there are no known issues to clean",
      "execution_count": 22,
      "outputs": []
    },
    {
      "metadata": {},
      "cell_type": "markdown",
      "source": "#### merge data"
    },
    {
      "metadata": {},
      "cell_type": "markdown",
      "source": "Create a dataset with the following columns\n* City\n* 2010 Census Population\n* Total Pawdacity Sales\n* Households with Under 18\n* Land Area\n* Population Density\n* Total Families"
    },
    {
      "metadata": {
        "trusted": true
      },
      "cell_type": "code",
      "source": "columnHeaders = ['City', '2010 Census Population', 'Total Pawdacity Sales by Store', 'Households with Under 18', 'Land Area', 'Population Density', 'Total Families']\n",
      "execution_count": 23,
      "outputs": []
    },
    {
      "metadata": {
        "trusted": true
      },
      "cell_type": "code",
      "source": "demographic.columns",
      "execution_count": 24,
      "outputs": [
        {
          "output_type": "execute_result",
          "execution_count": 24,
          "data": {
            "text/plain": "Index(['City', 'County', 'Land Area', 'Households with Under 18',\n       'Population Density', 'Total Families'],\n      dtype='object')"
          },
          "metadata": {}
        }
      ]
    },
    {
      "metadata": {
        "trusted": true
      },
      "cell_type": "code",
      "source": "# use how='inner' if you are only merging data for pawdacity stores\ndf_merged = webScrape[['City', '2010 Census']].merge(monthlySales[['City', 'Total Sales']], left_on='City', right_on='City',suffixes=('_x','_y'), how='inner')\ndf_merged = df_merged.merge(demographic[['City', 'Households with Under 18', 'Land Area', 'Population Density', 'Total Families']], left_on='City', right_on='City', suffixes=('_x','_y'), how='inner')\n\n# This is my training set\ndf_merged\n",
      "execution_count": 25,
      "outputs": [
        {
          "output_type": "execute_result",
          "execution_count": 25,
          "data": {
            "text/html": "<div>\n<table border=\"1\" class=\"dataframe\">\n  <thead>\n    <tr style=\"text-align: right;\">\n      <th></th>\n      <th>City</th>\n      <th>2010 Census</th>\n      <th>Total Sales</th>\n      <th>Households with Under 18</th>\n      <th>Land Area</th>\n      <th>Population Density</th>\n      <th>Total Families</th>\n    </tr>\n  </thead>\n  <tbody>\n    <tr>\n      <th>0</th>\n      <td>Buffalo</td>\n      <td>4585</td>\n      <td>185328</td>\n      <td>746</td>\n      <td>3115.507500</td>\n      <td>1.55</td>\n      <td>1819.50</td>\n    </tr>\n    <tr>\n      <th>1</th>\n      <td>Casper</td>\n      <td>35316</td>\n      <td>317736</td>\n      <td>7788</td>\n      <td>3894.309100</td>\n      <td>11.16</td>\n      <td>8756.32</td>\n    </tr>\n    <tr>\n      <th>2</th>\n      <td>Cheyenne</td>\n      <td>59466</td>\n      <td>917892</td>\n      <td>7158</td>\n      <td>1500.178400</td>\n      <td>20.34</td>\n      <td>14612.64</td>\n    </tr>\n    <tr>\n      <th>3</th>\n      <td>Cody</td>\n      <td>9520</td>\n      <td>218376</td>\n      <td>1403</td>\n      <td>2998.956960</td>\n      <td>1.82</td>\n      <td>3515.62</td>\n    </tr>\n    <tr>\n      <th>4</th>\n      <td>Douglas</td>\n      <td>6120</td>\n      <td>208008</td>\n      <td>832</td>\n      <td>1829.465100</td>\n      <td>1.46</td>\n      <td>1744.08</td>\n    </tr>\n    <tr>\n      <th>5</th>\n      <td>Evanston</td>\n      <td>12359</td>\n      <td>283824</td>\n      <td>1486</td>\n      <td>999.497100</td>\n      <td>4.95</td>\n      <td>2712.64</td>\n    </tr>\n    <tr>\n      <th>6</th>\n      <td>Gillette</td>\n      <td>29087</td>\n      <td>543132</td>\n      <td>4052</td>\n      <td>2748.852900</td>\n      <td>5.80</td>\n      <td>7189.43</td>\n    </tr>\n    <tr>\n      <th>7</th>\n      <td>Powell</td>\n      <td>6314</td>\n      <td>233928</td>\n      <td>1251</td>\n      <td>2673.574550</td>\n      <td>1.62</td>\n      <td>3134.18</td>\n    </tr>\n    <tr>\n      <th>8</th>\n      <td>Riverton</td>\n      <td>10615</td>\n      <td>303264</td>\n      <td>2680</td>\n      <td>4796.859815</td>\n      <td>2.34</td>\n      <td>5556.49</td>\n    </tr>\n    <tr>\n      <th>9</th>\n      <td>Rock Springs</td>\n      <td>23036</td>\n      <td>253584</td>\n      <td>4022</td>\n      <td>6620.201916</td>\n      <td>2.78</td>\n      <td>7572.18</td>\n    </tr>\n    <tr>\n      <th>10</th>\n      <td>Sheridan</td>\n      <td>17444</td>\n      <td>308232</td>\n      <td>2646</td>\n      <td>1893.977048</td>\n      <td>8.98</td>\n      <td>6039.71</td>\n    </tr>\n  </tbody>\n</table>\n</div>",
            "text/plain": "            City  2010 Census  Total Sales  Households with Under 18  \\\n0        Buffalo         4585       185328                       746   \n1         Casper        35316       317736                      7788   \n2       Cheyenne        59466       917892                      7158   \n3           Cody         9520       218376                      1403   \n4        Douglas         6120       208008                       832   \n5       Evanston        12359       283824                      1486   \n6       Gillette        29087       543132                      4052   \n7         Powell         6314       233928                      1251   \n8       Riverton        10615       303264                      2680   \n9   Rock Springs        23036       253584                      4022   \n10      Sheridan        17444       308232                      2646   \n\n      Land Area  Population Density  Total Families  \n0   3115.507500                1.55         1819.50  \n1   3894.309100               11.16         8756.32  \n2   1500.178400               20.34        14612.64  \n3   2998.956960                1.82         3515.62  \n4   1829.465100                1.46         1744.08  \n5    999.497100                4.95         2712.64  \n6   2748.852900                5.80         7189.43  \n7   2673.574550                1.62         3134.18  \n8   4796.859815                2.34         5556.49  \n9   6620.201916                2.78         7572.18  \n10  1893.977048                8.98         6039.71  "
          },
          "metadata": {}
        }
      ]
    },
    {
      "metadata": {},
      "cell_type": "markdown",
      "source": "# Analyze Data"
    },
    {
      "metadata": {},
      "cell_type": "markdown",
      "source": "If you’ve done everything correctly, the sum for each of the above columns should be:\n* Census Population: 213,862\n* Total Pawdacity Sales: 3,773,304\n* Households with Under 18: 34,064\n* Land Area: 33,071\n* Population Density: 63\n* Total Families: 62,653\n"
    },
    {
      "metadata": {},
      "cell_type": "markdown",
      "source": "### Sum and Average"
    },
    {
      "metadata": {
        "trusted": true
      },
      "cell_type": "code",
      "source": "# calculating sum of training set\ncolumnSum = ['Column', 'Sum']\ndf_merged_sum = df_merged.sum()\ndf_merged_sum = pd.DataFrame(df_merged_sum)\ndf_merged_sum.reset_index(inplace=True)\ndf_merged_sum.columns = columnSum\ndf_merged_sum",
      "execution_count": 26,
      "outputs": [
        {
          "output_type": "execute_result",
          "execution_count": 26,
          "data": {
            "text/html": "<div>\n<table border=\"1\" class=\"dataframe\">\n  <thead>\n    <tr style=\"text-align: right;\">\n      <th></th>\n      <th>Column</th>\n      <th>Sum</th>\n    </tr>\n  </thead>\n  <tbody>\n    <tr>\n      <th>0</th>\n      <td>City</td>\n      <td>BuffaloCasperCheyenneCodyDouglasEvanstonGillet...</td>\n    </tr>\n    <tr>\n      <th>1</th>\n      <td>2010 Census</td>\n      <td>213862</td>\n    </tr>\n    <tr>\n      <th>2</th>\n      <td>Total Sales</td>\n      <td>3773304</td>\n    </tr>\n    <tr>\n      <th>3</th>\n      <td>Households with Under 18</td>\n      <td>34064</td>\n    </tr>\n    <tr>\n      <th>4</th>\n      <td>Land Area</td>\n      <td>33071.4</td>\n    </tr>\n    <tr>\n      <th>5</th>\n      <td>Population Density</td>\n      <td>62.8</td>\n    </tr>\n    <tr>\n      <th>6</th>\n      <td>Total Families</td>\n      <td>62652.8</td>\n    </tr>\n  </tbody>\n</table>\n</div>",
            "text/plain": "                     Column                                                Sum\n0                      City  BuffaloCasperCheyenneCodyDouglasEvanstonGillet...\n1               2010 Census                                             213862\n2               Total Sales                                            3773304\n3  Households with Under 18                                              34064\n4                 Land Area                                            33071.4\n5        Population Density                                               62.8\n6            Total Families                                            62652.8"
          },
          "metadata": {}
        }
      ]
    },
    {
      "metadata": {
        "trusted": true
      },
      "cell_type": "code",
      "source": "# calculating average of training set\ncolumnMean = ['Column', 'Average']\ndf_merged_mean = df_merged.mean()\ndf_merged_mean = pd.DataFrame(df_merged_mean)\ndf_merged_mean.reset_index(inplace=True)\ndf_merged_mean.columns = columnMean\ndf_merged_mean",
      "execution_count": 27,
      "outputs": [
        {
          "output_type": "execute_result",
          "execution_count": 27,
          "data": {
            "text/html": "<div>\n<table border=\"1\" class=\"dataframe\">\n  <thead>\n    <tr style=\"text-align: right;\">\n      <th></th>\n      <th>Column</th>\n      <th>Average</th>\n    </tr>\n  </thead>\n  <tbody>\n    <tr>\n      <th>0</th>\n      <td>2010 Census</td>\n      <td>19442.000000</td>\n    </tr>\n    <tr>\n      <th>1</th>\n      <td>Total Sales</td>\n      <td>343027.636364</td>\n    </tr>\n    <tr>\n      <th>2</th>\n      <td>Households with Under 18</td>\n      <td>3096.727273</td>\n    </tr>\n    <tr>\n      <th>3</th>\n      <td>Land Area</td>\n      <td>3006.489126</td>\n    </tr>\n    <tr>\n      <th>4</th>\n      <td>Population Density</td>\n      <td>5.709091</td>\n    </tr>\n    <tr>\n      <th>5</th>\n      <td>Total Families</td>\n      <td>5695.708182</td>\n    </tr>\n  </tbody>\n</table>\n</div>",
            "text/plain": "                     Column        Average\n0               2010 Census   19442.000000\n1               Total Sales  343027.636364\n2  Households with Under 18    3096.727273\n3                 Land Area    3006.489126\n4        Population Density       5.709091\n5            Total Families    5695.708182"
          },
          "metadata": {}
        }
      ]
    },
    {
      "metadata": {
        "trusted": true
      },
      "cell_type": "code",
      "source": "# creating dataframe to display both sum and average of training set\ncalc_stats = df_merged_sum.merge(df_merged_mean, left_on='Column', right_on='Column')\n\ncalc_stats['Sum'] = calc_stats['Sum'].astype(float).round()\ncalc_stats['Average'] = calc_stats['Average'].astype(float).round(2)\n\ncalc_stats",
      "execution_count": 28,
      "outputs": [
        {
          "output_type": "execute_result",
          "execution_count": 28,
          "data": {
            "text/html": "<div>\n<table border=\"1\" class=\"dataframe\">\n  <thead>\n    <tr style=\"text-align: right;\">\n      <th></th>\n      <th>Column</th>\n      <th>Sum</th>\n      <th>Average</th>\n    </tr>\n  </thead>\n  <tbody>\n    <tr>\n      <th>0</th>\n      <td>2010 Census</td>\n      <td>213862.0</td>\n      <td>19442.00</td>\n    </tr>\n    <tr>\n      <th>1</th>\n      <td>Total Sales</td>\n      <td>3773304.0</td>\n      <td>343027.64</td>\n    </tr>\n    <tr>\n      <th>2</th>\n      <td>Households with Under 18</td>\n      <td>34064.0</td>\n      <td>3096.73</td>\n    </tr>\n    <tr>\n      <th>3</th>\n      <td>Land Area</td>\n      <td>33071.0</td>\n      <td>3006.49</td>\n    </tr>\n    <tr>\n      <th>4</th>\n      <td>Population Density</td>\n      <td>63.0</td>\n      <td>5.71</td>\n    </tr>\n    <tr>\n      <th>5</th>\n      <td>Total Families</td>\n      <td>62653.0</td>\n      <td>5695.71</td>\n    </tr>\n  </tbody>\n</table>\n</div>",
            "text/plain": "                     Column        Sum    Average\n0               2010 Census   213862.0   19442.00\n1               Total Sales  3773304.0  343027.64\n2  Households with Under 18    34064.0    3096.73\n3                 Land Area    33071.0    3006.49\n4        Population Density       63.0       5.71\n5            Total Families    62653.0    5695.71"
          },
          "metadata": {}
        }
      ]
    },
    {
      "metadata": {
        "trusted": true
      },
      "cell_type": "code",
      "source": "df_stats = df_merged.describe()\ndf_stats",
      "execution_count": 29,
      "outputs": [
        {
          "output_type": "execute_result",
          "execution_count": 29,
          "data": {
            "text/html": "<div>\n<table border=\"1\" class=\"dataframe\">\n  <thead>\n    <tr style=\"text-align: right;\">\n      <th></th>\n      <th>2010 Census</th>\n      <th>Total Sales</th>\n      <th>Households with Under 18</th>\n      <th>Land Area</th>\n      <th>Population Density</th>\n      <th>Total Families</th>\n    </tr>\n  </thead>\n  <tbody>\n    <tr>\n      <th>count</th>\n      <td>11.000000</td>\n      <td>11.000000</td>\n      <td>11.000000</td>\n      <td>11.000000</td>\n      <td>11.000000</td>\n      <td>11.000000</td>\n    </tr>\n    <tr>\n      <th>mean</th>\n      <td>19442.000000</td>\n      <td>343027.636364</td>\n      <td>3096.727273</td>\n      <td>3006.489126</td>\n      <td>5.709091</td>\n      <td>5695.708182</td>\n    </tr>\n    <tr>\n      <th>std</th>\n      <td>16616.018584</td>\n      <td>213538.712215</td>\n      <td>2453.003061</td>\n      <td>1617.460342</td>\n      <td>5.849685</td>\n      <td>3816.049660</td>\n    </tr>\n    <tr>\n      <th>min</th>\n      <td>4585.000000</td>\n      <td>185328.000000</td>\n      <td>746.000000</td>\n      <td>999.497100</td>\n      <td>1.460000</td>\n      <td>1744.080000</td>\n    </tr>\n    <tr>\n      <th>25%</th>\n      <td>7917.000000</td>\n      <td>226152.000000</td>\n      <td>1327.000000</td>\n      <td>1861.721074</td>\n      <td>1.720000</td>\n      <td>2923.410000</td>\n    </tr>\n    <tr>\n      <th>50%</th>\n      <td>12359.000000</td>\n      <td>283824.000000</td>\n      <td>2646.000000</td>\n      <td>2748.852900</td>\n      <td>2.780000</td>\n      <td>5556.490000</td>\n    </tr>\n    <tr>\n      <th>75%</th>\n      <td>26061.500000</td>\n      <td>312984.000000</td>\n      <td>4037.000000</td>\n      <td>3504.908300</td>\n      <td>7.390000</td>\n      <td>7380.805000</td>\n    </tr>\n    <tr>\n      <th>max</th>\n      <td>59466.000000</td>\n      <td>917892.000000</td>\n      <td>7788.000000</td>\n      <td>6620.201916</td>\n      <td>20.340000</td>\n      <td>14612.640000</td>\n    </tr>\n  </tbody>\n</table>\n</div>",
            "text/plain": "        2010 Census    Total Sales  Households with Under 18    Land Area  \\\ncount     11.000000      11.000000                 11.000000    11.000000   \nmean   19442.000000  343027.636364               3096.727273  3006.489126   \nstd    16616.018584  213538.712215               2453.003061  1617.460342   \nmin     4585.000000  185328.000000                746.000000   999.497100   \n25%     7917.000000  226152.000000               1327.000000  1861.721074   \n50%    12359.000000  283824.000000               2646.000000  2748.852900   \n75%    26061.500000  312984.000000               4037.000000  3504.908300   \nmax    59466.000000  917892.000000               7788.000000  6620.201916   \n\n       Population Density  Total Families  \ncount           11.000000       11.000000  \nmean             5.709091     5695.708182  \nstd              5.849685     3816.049660  \nmin              1.460000     1744.080000  \n25%              1.720000     2923.410000  \n50%              2.780000     5556.490000  \n75%              7.390000     7380.805000  \nmax             20.340000    14612.640000  "
          },
          "metadata": {}
        }
      ]
    },
    {
      "metadata": {
        "trusted": true
      },
      "cell_type": "code",
      "source": "# Find Outliers by calculating interquartile ranges",
      "execution_count": 30,
      "outputs": []
    },
    {
      "metadata": {
        "trusted": true
      },
      "cell_type": "code",
      "source": "iqr(df_stats['2010 Census'])\n",
      "execution_count": 31,
      "outputs": [
        {
          "output_type": "execute_result",
          "execution_count": 31,
          "data": {
            "text/plain": "14012.875"
          },
          "metadata": {}
        }
      ]
    },
    {
      "metadata": {
        "trusted": true
      },
      "cell_type": "code",
      "source": "# building stats datafarme with interquartile ranges using iqr() funciton\n# https://medium.com/datadriveninvestor/finding-outliers-in-dataset-using-python-efc3fce6ce32\ndf_New = pd.DataFrame({'Stats': ['Q1', 'Q3', 'IQR','Lower Bound', 'Upper Bound']})\n\nfor i in df_stats.columns:\n    tempList = []\n    \n    q1, q3= np.percentile(df_stats[[i]],[25,75])\n    #iqr = q3 - q1\n    IQR = iqr(df_stats[i])\n#     lower_bound = q1 - (1.5 * q1)\n#     upper_bound = q3 + (1.5 * q3)\n    lower_bound = q1 - (1.5 * IQR)\n    upper_bound = q3 + (1.5 * IQR)\n    \n    df_New[i] = [q1, q3, IQR, lower_bound, upper_bound]\n\ndf_New",
      "execution_count": 32,
      "outputs": [
        {
          "output_type": "execute_result",
          "execution_count": 32,
          "data": {
            "text/html": "<div>\n<table border=\"1\" class=\"dataframe\">\n  <thead>\n    <tr style=\"text-align: right;\">\n      <th></th>\n      <th>Stats</th>\n      <th>2010 Census</th>\n      <th>Total Sales</th>\n      <th>Households with Under 18</th>\n      <th>Land Area</th>\n      <th>Population Density</th>\n      <th>Total Families</th>\n    </tr>\n  </thead>\n  <tbody>\n    <tr>\n      <th>0</th>\n      <td>Q1</td>\n      <td>7084.0000</td>\n      <td>206486.034161</td>\n      <td>1181.750000</td>\n      <td>1462.969532</td>\n      <td>2.51500</td>\n      <td>2628.577500</td>\n    </tr>\n    <tr>\n      <th>1</th>\n      <td>Q3</td>\n      <td>21096.8750</td>\n      <td>320494.909091</td>\n      <td>3331.795455</td>\n      <td>3131.093920</td>\n      <td>8.29250</td>\n      <td>6116.982386</td>\n    </tr>\n    <tr>\n      <th>2</th>\n      <td>IQR</td>\n      <td>14012.8750</td>\n      <td>114008.874930</td>\n      <td>2150.045455</td>\n      <td>1668.124388</td>\n      <td>5.77750</td>\n      <td>3488.404886</td>\n    </tr>\n    <tr>\n      <th>3</th>\n      <td>Lower Bound</td>\n      <td>-13935.3125</td>\n      <td>35472.721766</td>\n      <td>-2043.318182</td>\n      <td>-1039.217050</td>\n      <td>-6.15125</td>\n      <td>-2604.029830</td>\n    </tr>\n    <tr>\n      <th>4</th>\n      <td>Upper Bound</td>\n      <td>42116.1875</td>\n      <td>491508.221486</td>\n      <td>6556.863636</td>\n      <td>5633.280501</td>\n      <td>16.95875</td>\n      <td>11349.589716</td>\n    </tr>\n  </tbody>\n</table>\n</div>",
            "text/plain": "         Stats  2010 Census    Total Sales  Households with Under 18  \\\n0           Q1    7084.0000  206486.034161               1181.750000   \n1           Q3   21096.8750  320494.909091               3331.795455   \n2          IQR   14012.8750  114008.874930               2150.045455   \n3  Lower Bound  -13935.3125   35472.721766              -2043.318182   \n4  Upper Bound   42116.1875  491508.221486               6556.863636   \n\n     Land Area  Population Density  Total Families  \n0  1462.969532             2.51500     2628.577500  \n1  3131.093920             8.29250     6116.982386  \n2  1668.124388             5.77750     3488.404886  \n3 -1039.217050            -6.15125    -2604.029830  \n4  5633.280501            16.95875    11349.589716  "
          },
          "metadata": {}
        }
      ]
    },
    {
      "metadata": {
        "trusted": true
      },
      "cell_type": "code",
      "source": "df_New.set_index('Stats', inplace=True)\ndf_New",
      "execution_count": 33,
      "outputs": [
        {
          "output_type": "execute_result",
          "execution_count": 33,
          "data": {
            "text/html": "<div>\n<table border=\"1\" class=\"dataframe\">\n  <thead>\n    <tr style=\"text-align: right;\">\n      <th></th>\n      <th>2010 Census</th>\n      <th>Total Sales</th>\n      <th>Households with Under 18</th>\n      <th>Land Area</th>\n      <th>Population Density</th>\n      <th>Total Families</th>\n    </tr>\n    <tr>\n      <th>Stats</th>\n      <th></th>\n      <th></th>\n      <th></th>\n      <th></th>\n      <th></th>\n      <th></th>\n    </tr>\n  </thead>\n  <tbody>\n    <tr>\n      <th>Q1</th>\n      <td>7084.0000</td>\n      <td>206486.034161</td>\n      <td>1181.750000</td>\n      <td>1462.969532</td>\n      <td>2.51500</td>\n      <td>2628.577500</td>\n    </tr>\n    <tr>\n      <th>Q3</th>\n      <td>21096.8750</td>\n      <td>320494.909091</td>\n      <td>3331.795455</td>\n      <td>3131.093920</td>\n      <td>8.29250</td>\n      <td>6116.982386</td>\n    </tr>\n    <tr>\n      <th>IQR</th>\n      <td>14012.8750</td>\n      <td>114008.874930</td>\n      <td>2150.045455</td>\n      <td>1668.124388</td>\n      <td>5.77750</td>\n      <td>3488.404886</td>\n    </tr>\n    <tr>\n      <th>Lower Bound</th>\n      <td>-13935.3125</td>\n      <td>35472.721766</td>\n      <td>-2043.318182</td>\n      <td>-1039.217050</td>\n      <td>-6.15125</td>\n      <td>-2604.029830</td>\n    </tr>\n    <tr>\n      <th>Upper Bound</th>\n      <td>42116.1875</td>\n      <td>491508.221486</td>\n      <td>6556.863636</td>\n      <td>5633.280501</td>\n      <td>16.95875</td>\n      <td>11349.589716</td>\n    </tr>\n  </tbody>\n</table>\n</div>",
            "text/plain": "             2010 Census    Total Sales  Households with Under 18  \\\nStats                                                               \nQ1             7084.0000  206486.034161               1181.750000   \nQ3            21096.8750  320494.909091               3331.795455   \nIQR           14012.8750  114008.874930               2150.045455   \nLower Bound  -13935.3125   35472.721766              -2043.318182   \nUpper Bound   42116.1875  491508.221486               6556.863636   \n\n               Land Area  Population Density  Total Families  \nStats                                                         \nQ1           1462.969532             2.51500     2628.577500  \nQ3           3131.093920             8.29250     6116.982386  \nIQR          1668.124388             5.77750     3488.404886  \nLower Bound -1039.217050            -6.15125    -2604.029830  \nUpper Bound  5633.280501            16.95875    11349.589716  "
          },
          "metadata": {}
        }
      ]
    },
    {
      "metadata": {},
      "cell_type": "markdown",
      "source": "### Outliers"
    },
    {
      "metadata": {
        "trusted": true
      },
      "cell_type": "code",
      "source": "# building dataset of outliers\ncols = ['Outlier']\ncolumns = ['2010 Census','Total Sales','Households with Under 18','Land Area','Population Density','Total Families']\noutlierList = []\ncityList = []\ndf_outliers = pd.DataFrame()\n\ndef outliers(city):    \n    for i in columns:\n        tempList = []\n        possOutlier = df_merged.loc[df_merged.City == city, i:i ].values[0][0]\n        lower = df_New.loc['Lower Bound':'Lower Bound', i:i].values[0][0]\n        upper = df_New.loc['Upper Bound':'Upper Bound', i:i].values[0][0]\n        outlier = (possOutlier < lower) | (possOutlier > upper)\n        if outlier:\n            tempList.append(city)\n            tempList.append(i)        \n            tempList.append(possOutlier)\n            tempList.append(lower)\n            tempList.append(upper)\n            outlierList.append(tempList)\n\nfor i in df_merged.City:\n    outliers(i)",
      "execution_count": 34,
      "outputs": []
    },
    {
      "metadata": {
        "trusted": true
      },
      "cell_type": "code",
      "source": "len(outlierList)",
      "execution_count": 35,
      "outputs": [
        {
          "output_type": "execute_result",
          "execution_count": 35,
          "data": {
            "text/plain": "8"
          },
          "metadata": {}
        }
      ]
    },
    {
      "metadata": {
        "trusted": true
      },
      "cell_type": "code",
      "source": "print(outlierList[0])",
      "execution_count": 36,
      "outputs": [
        {
          "output_type": "stream",
          "text": "['Casper', 'Households with Under 18', 7788, -2043.318181818182, 6556.863636363636]\n",
          "name": "stdout"
        }
      ]
    },
    {
      "metadata": {
        "trusted": true
      },
      "cell_type": "code",
      "source": "Outliers = pd.DataFrame(outlierList, columns=['City', 'Outlier Feature', 'Outlier Value', 'Lower Bound', 'Upper Bound'])\nOutliers ",
      "execution_count": 37,
      "outputs": [
        {
          "output_type": "execute_result",
          "execution_count": 37,
          "data": {
            "text/html": "<div>\n<table border=\"1\" class=\"dataframe\">\n  <thead>\n    <tr style=\"text-align: right;\">\n      <th></th>\n      <th>City</th>\n      <th>Outlier Feature</th>\n      <th>Outlier Value</th>\n      <th>Lower Bound</th>\n      <th>Upper Bound</th>\n    </tr>\n  </thead>\n  <tbody>\n    <tr>\n      <th>0</th>\n      <td>Casper</td>\n      <td>Households with Under 18</td>\n      <td>7788.000000</td>\n      <td>-2043.318182</td>\n      <td>6556.863636</td>\n    </tr>\n    <tr>\n      <th>1</th>\n      <td>Cheyenne</td>\n      <td>2010 Census</td>\n      <td>59466.000000</td>\n      <td>-13935.312500</td>\n      <td>42116.187500</td>\n    </tr>\n    <tr>\n      <th>2</th>\n      <td>Cheyenne</td>\n      <td>Total Sales</td>\n      <td>917892.000000</td>\n      <td>35472.721766</td>\n      <td>491508.221486</td>\n    </tr>\n    <tr>\n      <th>3</th>\n      <td>Cheyenne</td>\n      <td>Households with Under 18</td>\n      <td>7158.000000</td>\n      <td>-2043.318182</td>\n      <td>6556.863636</td>\n    </tr>\n    <tr>\n      <th>4</th>\n      <td>Cheyenne</td>\n      <td>Population Density</td>\n      <td>20.340000</td>\n      <td>-6.151250</td>\n      <td>16.958750</td>\n    </tr>\n    <tr>\n      <th>5</th>\n      <td>Cheyenne</td>\n      <td>Total Families</td>\n      <td>14612.640000</td>\n      <td>-2604.029830</td>\n      <td>11349.589716</td>\n    </tr>\n    <tr>\n      <th>6</th>\n      <td>Gillette</td>\n      <td>Total Sales</td>\n      <td>543132.000000</td>\n      <td>35472.721766</td>\n      <td>491508.221486</td>\n    </tr>\n    <tr>\n      <th>7</th>\n      <td>Rock Springs</td>\n      <td>Land Area</td>\n      <td>6620.201916</td>\n      <td>-1039.217050</td>\n      <td>5633.280501</td>\n    </tr>\n  </tbody>\n</table>\n</div>",
            "text/plain": "           City           Outlier Feature  Outlier Value   Lower Bound  \\\n0        Casper  Households with Under 18    7788.000000  -2043.318182   \n1      Cheyenne               2010 Census   59466.000000 -13935.312500   \n2      Cheyenne               Total Sales  917892.000000  35472.721766   \n3      Cheyenne  Households with Under 18    7158.000000  -2043.318182   \n4      Cheyenne        Population Density      20.340000     -6.151250   \n5      Cheyenne            Total Families   14612.640000  -2604.029830   \n6      Gillette               Total Sales  543132.000000  35472.721766   \n7  Rock Springs                 Land Area    6620.201916  -1039.217050   \n\n     Upper Bound  \n0    6556.863636  \n1   42116.187500  \n2  491508.221486  \n3    6556.863636  \n4      16.958750  \n5   11349.589716  \n6  491508.221486  \n7    5633.280501  "
          },
          "metadata": {}
        }
      ]
    },
    {
      "metadata": {
        "trusted": true
      },
      "cell_type": "code",
      "source": "df_New",
      "execution_count": 38,
      "outputs": [
        {
          "output_type": "execute_result",
          "execution_count": 38,
          "data": {
            "text/html": "<div>\n<table border=\"1\" class=\"dataframe\">\n  <thead>\n    <tr style=\"text-align: right;\">\n      <th></th>\n      <th>2010 Census</th>\n      <th>Total Sales</th>\n      <th>Households with Under 18</th>\n      <th>Land Area</th>\n      <th>Population Density</th>\n      <th>Total Families</th>\n    </tr>\n    <tr>\n      <th>Stats</th>\n      <th></th>\n      <th></th>\n      <th></th>\n      <th></th>\n      <th></th>\n      <th></th>\n    </tr>\n  </thead>\n  <tbody>\n    <tr>\n      <th>Q1</th>\n      <td>7084.0000</td>\n      <td>206486.034161</td>\n      <td>1181.750000</td>\n      <td>1462.969532</td>\n      <td>2.51500</td>\n      <td>2628.577500</td>\n    </tr>\n    <tr>\n      <th>Q3</th>\n      <td>21096.8750</td>\n      <td>320494.909091</td>\n      <td>3331.795455</td>\n      <td>3131.093920</td>\n      <td>8.29250</td>\n      <td>6116.982386</td>\n    </tr>\n    <tr>\n      <th>IQR</th>\n      <td>14012.8750</td>\n      <td>114008.874930</td>\n      <td>2150.045455</td>\n      <td>1668.124388</td>\n      <td>5.77750</td>\n      <td>3488.404886</td>\n    </tr>\n    <tr>\n      <th>Lower Bound</th>\n      <td>-13935.3125</td>\n      <td>35472.721766</td>\n      <td>-2043.318182</td>\n      <td>-1039.217050</td>\n      <td>-6.15125</td>\n      <td>-2604.029830</td>\n    </tr>\n    <tr>\n      <th>Upper Bound</th>\n      <td>42116.1875</td>\n      <td>491508.221486</td>\n      <td>6556.863636</td>\n      <td>5633.280501</td>\n      <td>16.95875</td>\n      <td>11349.589716</td>\n    </tr>\n  </tbody>\n</table>\n</div>",
            "text/plain": "             2010 Census    Total Sales  Households with Under 18  \\\nStats                                                               \nQ1             7084.0000  206486.034161               1181.750000   \nQ3            21096.8750  320494.909091               3331.795455   \nIQR           14012.8750  114008.874930               2150.045455   \nLower Bound  -13935.3125   35472.721766              -2043.318182   \nUpper Bound   42116.1875  491508.221486               6556.863636   \n\n               Land Area  Population Density  Total Families  \nStats                                                         \nQ1           1462.969532             2.51500     2628.577500  \nQ3           3131.093920             8.29250     6116.982386  \nIQR          1668.124388             5.77750     3488.404886  \nLower Bound -1039.217050            -6.15125    -2604.029830  \nUpper Bound  5633.280501            16.95875    11349.589716  "
          },
          "metadata": {}
        }
      ]
    },
    {
      "metadata": {
        "slideshow": {
          "slide_type": "fragment"
        },
        "trusted": true
      },
      "cell_type": "code",
      "source": "# consider Total Families in city as a factor of Total Sales\ndf_Revenue_to_Families = df_merged.copy()\nstrFamil = \"Annual Store Revenue Per Family Count\"\ndf_Revenue_to_Families[strFamil] = (df_Revenue_to_Families['Total Sales'] / df_Revenue_to_Families['Total Families']).round()\ndf_Revenue_to_Families = df_Revenue_to_Families[[\"City\", \"Total Sales\", \"Total Families\", \"Population Density\", strFamil]]\ndf_Revenue_to_Families.sort_values(strFamil,ascending=False)",
      "execution_count": 39,
      "outputs": [
        {
          "output_type": "execute_result",
          "execution_count": 39,
          "data": {
            "text/html": "<div>\n<table border=\"1\" class=\"dataframe\">\n  <thead>\n    <tr style=\"text-align: right;\">\n      <th></th>\n      <th>City</th>\n      <th>Total Sales</th>\n      <th>Total Families</th>\n      <th>Population Density</th>\n      <th>Annual Store Revenue Per Family Count</th>\n    </tr>\n  </thead>\n  <tbody>\n    <tr>\n      <th>4</th>\n      <td>Douglas</td>\n      <td>208008</td>\n      <td>1744.08</td>\n      <td>1.46</td>\n      <td>119.0</td>\n    </tr>\n    <tr>\n      <th>5</th>\n      <td>Evanston</td>\n      <td>283824</td>\n      <td>2712.64</td>\n      <td>4.95</td>\n      <td>105.0</td>\n    </tr>\n    <tr>\n      <th>0</th>\n      <td>Buffalo</td>\n      <td>185328</td>\n      <td>1819.50</td>\n      <td>1.55</td>\n      <td>102.0</td>\n    </tr>\n    <tr>\n      <th>6</th>\n      <td>Gillette</td>\n      <td>543132</td>\n      <td>7189.43</td>\n      <td>5.80</td>\n      <td>76.0</td>\n    </tr>\n    <tr>\n      <th>7</th>\n      <td>Powell</td>\n      <td>233928</td>\n      <td>3134.18</td>\n      <td>1.62</td>\n      <td>75.0</td>\n    </tr>\n    <tr>\n      <th>2</th>\n      <td>Cheyenne</td>\n      <td>917892</td>\n      <td>14612.64</td>\n      <td>20.34</td>\n      <td>63.0</td>\n    </tr>\n    <tr>\n      <th>3</th>\n      <td>Cody</td>\n      <td>218376</td>\n      <td>3515.62</td>\n      <td>1.82</td>\n      <td>62.0</td>\n    </tr>\n    <tr>\n      <th>8</th>\n      <td>Riverton</td>\n      <td>303264</td>\n      <td>5556.49</td>\n      <td>2.34</td>\n      <td>55.0</td>\n    </tr>\n    <tr>\n      <th>10</th>\n      <td>Sheridan</td>\n      <td>308232</td>\n      <td>6039.71</td>\n      <td>8.98</td>\n      <td>51.0</td>\n    </tr>\n    <tr>\n      <th>1</th>\n      <td>Casper</td>\n      <td>317736</td>\n      <td>8756.32</td>\n      <td>11.16</td>\n      <td>36.0</td>\n    </tr>\n    <tr>\n      <th>9</th>\n      <td>Rock Springs</td>\n      <td>253584</td>\n      <td>7572.18</td>\n      <td>2.78</td>\n      <td>33.0</td>\n    </tr>\n  </tbody>\n</table>\n</div>",
            "text/plain": "            City  Total Sales  Total Families  Population Density  \\\n4        Douglas       208008         1744.08                1.46   \n5       Evanston       283824         2712.64                4.95   \n0        Buffalo       185328         1819.50                1.55   \n6       Gillette       543132         7189.43                5.80   \n7         Powell       233928         3134.18                1.62   \n2       Cheyenne       917892        14612.64               20.34   \n3           Cody       218376         3515.62                1.82   \n8       Riverton       303264         5556.49                2.34   \n10      Sheridan       308232         6039.71                8.98   \n1         Casper       317736         8756.32               11.16   \n9   Rock Springs       253584         7572.18                2.78   \n\n    Annual Store Revenue Per Family Count  \n4                                   119.0  \n5                                   105.0  \n0                                   102.0  \n6                                    76.0  \n7                                    75.0  \n2                                    63.0  \n3                                    62.0  \n8                                    55.0  \n10                                   51.0  \n1                                    36.0  \n9                                    33.0  "
          },
          "metadata": {}
        }
      ]
    },
    {
      "metadata": {
        "trusted": true
      },
      "cell_type": "code",
      "source": "for i in df_stats.columns:\n    print(i)",
      "execution_count": 40,
      "outputs": [
        {
          "output_type": "stream",
          "text": "2010 Census\nTotal Sales\nHouseholds with Under 18\nLand Area\nPopulation Density\nTotal Families\n",
          "name": "stdout"
        }
      ]
    },
    {
      "metadata": {
        "trusted": true
      },
      "cell_type": "code",
      "source": "columns_xVars = [\"2010 Census\",\n                 \"Households with Under 18\",\n                 \"Land Area\",\n                 \"Population Density\",\n                 \"Total Families\"\n                       ]",
      "execution_count": 41,
      "outputs": []
    },
    {
      "metadata": {},
      "cell_type": "markdown",
      "source": "# Visualize Data\n\n\n"
    },
    {
      "metadata": {
        "trusted": true
      },
      "cell_type": "code",
      "source": "\n\n# fig,ax = plt.subplots()\n# ax = plt.subplots()\n\n# df_merged",
      "execution_count": 42,
      "outputs": []
    },
    {
      "metadata": {
        "trusted": true
      },
      "cell_type": "code",
      "source": "df_merged_Cheyenne = df_merged.copy()\n\ndf_merged_NOCheyenne = df_merged.copy()\ndf_merged_NOCheyenne = df_merged_NOCheyenne[df_merged_NOCheyenne['City'] != \"Cheyenne\"]\n\ndf_merged_Cheyenne['Dataset'] = 'Outlier Kept'\ndf_merged_NOCheyenne['Dataset'] = 'Outlier Removed'\n\ndf_append_Outliers = df_merged_Cheyenne.append(df_merged_NOCheyenne,ignore_index=True)\ndf_append_Outliers",
      "execution_count": 43,
      "outputs": [
        {
          "output_type": "execute_result",
          "execution_count": 43,
          "data": {
            "text/html": "<div>\n<table border=\"1\" class=\"dataframe\">\n  <thead>\n    <tr style=\"text-align: right;\">\n      <th></th>\n      <th>City</th>\n      <th>2010 Census</th>\n      <th>Total Sales</th>\n      <th>Households with Under 18</th>\n      <th>Land Area</th>\n      <th>Population Density</th>\n      <th>Total Families</th>\n      <th>Dataset</th>\n    </tr>\n  </thead>\n  <tbody>\n    <tr>\n      <th>0</th>\n      <td>Buffalo</td>\n      <td>4585</td>\n      <td>185328</td>\n      <td>746</td>\n      <td>3115.507500</td>\n      <td>1.55</td>\n      <td>1819.50</td>\n      <td>Outlier Kept</td>\n    </tr>\n    <tr>\n      <th>1</th>\n      <td>Casper</td>\n      <td>35316</td>\n      <td>317736</td>\n      <td>7788</td>\n      <td>3894.309100</td>\n      <td>11.16</td>\n      <td>8756.32</td>\n      <td>Outlier Kept</td>\n    </tr>\n    <tr>\n      <th>2</th>\n      <td>Cheyenne</td>\n      <td>59466</td>\n      <td>917892</td>\n      <td>7158</td>\n      <td>1500.178400</td>\n      <td>20.34</td>\n      <td>14612.64</td>\n      <td>Outlier Kept</td>\n    </tr>\n    <tr>\n      <th>3</th>\n      <td>Cody</td>\n      <td>9520</td>\n      <td>218376</td>\n      <td>1403</td>\n      <td>2998.956960</td>\n      <td>1.82</td>\n      <td>3515.62</td>\n      <td>Outlier Kept</td>\n    </tr>\n    <tr>\n      <th>4</th>\n      <td>Douglas</td>\n      <td>6120</td>\n      <td>208008</td>\n      <td>832</td>\n      <td>1829.465100</td>\n      <td>1.46</td>\n      <td>1744.08</td>\n      <td>Outlier Kept</td>\n    </tr>\n    <tr>\n      <th>5</th>\n      <td>Evanston</td>\n      <td>12359</td>\n      <td>283824</td>\n      <td>1486</td>\n      <td>999.497100</td>\n      <td>4.95</td>\n      <td>2712.64</td>\n      <td>Outlier Kept</td>\n    </tr>\n    <tr>\n      <th>6</th>\n      <td>Gillette</td>\n      <td>29087</td>\n      <td>543132</td>\n      <td>4052</td>\n      <td>2748.852900</td>\n      <td>5.80</td>\n      <td>7189.43</td>\n      <td>Outlier Kept</td>\n    </tr>\n    <tr>\n      <th>7</th>\n      <td>Powell</td>\n      <td>6314</td>\n      <td>233928</td>\n      <td>1251</td>\n      <td>2673.574550</td>\n      <td>1.62</td>\n      <td>3134.18</td>\n      <td>Outlier Kept</td>\n    </tr>\n    <tr>\n      <th>8</th>\n      <td>Riverton</td>\n      <td>10615</td>\n      <td>303264</td>\n      <td>2680</td>\n      <td>4796.859815</td>\n      <td>2.34</td>\n      <td>5556.49</td>\n      <td>Outlier Kept</td>\n    </tr>\n    <tr>\n      <th>9</th>\n      <td>Rock Springs</td>\n      <td>23036</td>\n      <td>253584</td>\n      <td>4022</td>\n      <td>6620.201916</td>\n      <td>2.78</td>\n      <td>7572.18</td>\n      <td>Outlier Kept</td>\n    </tr>\n    <tr>\n      <th>10</th>\n      <td>Sheridan</td>\n      <td>17444</td>\n      <td>308232</td>\n      <td>2646</td>\n      <td>1893.977048</td>\n      <td>8.98</td>\n      <td>6039.71</td>\n      <td>Outlier Kept</td>\n    </tr>\n    <tr>\n      <th>11</th>\n      <td>Buffalo</td>\n      <td>4585</td>\n      <td>185328</td>\n      <td>746</td>\n      <td>3115.507500</td>\n      <td>1.55</td>\n      <td>1819.50</td>\n      <td>Outlier Removed</td>\n    </tr>\n    <tr>\n      <th>12</th>\n      <td>Casper</td>\n      <td>35316</td>\n      <td>317736</td>\n      <td>7788</td>\n      <td>3894.309100</td>\n      <td>11.16</td>\n      <td>8756.32</td>\n      <td>Outlier Removed</td>\n    </tr>\n    <tr>\n      <th>13</th>\n      <td>Cody</td>\n      <td>9520</td>\n      <td>218376</td>\n      <td>1403</td>\n      <td>2998.956960</td>\n      <td>1.82</td>\n      <td>3515.62</td>\n      <td>Outlier Removed</td>\n    </tr>\n    <tr>\n      <th>14</th>\n      <td>Douglas</td>\n      <td>6120</td>\n      <td>208008</td>\n      <td>832</td>\n      <td>1829.465100</td>\n      <td>1.46</td>\n      <td>1744.08</td>\n      <td>Outlier Removed</td>\n    </tr>\n    <tr>\n      <th>15</th>\n      <td>Evanston</td>\n      <td>12359</td>\n      <td>283824</td>\n      <td>1486</td>\n      <td>999.497100</td>\n      <td>4.95</td>\n      <td>2712.64</td>\n      <td>Outlier Removed</td>\n    </tr>\n    <tr>\n      <th>16</th>\n      <td>Gillette</td>\n      <td>29087</td>\n      <td>543132</td>\n      <td>4052</td>\n      <td>2748.852900</td>\n      <td>5.80</td>\n      <td>7189.43</td>\n      <td>Outlier Removed</td>\n    </tr>\n    <tr>\n      <th>17</th>\n      <td>Powell</td>\n      <td>6314</td>\n      <td>233928</td>\n      <td>1251</td>\n      <td>2673.574550</td>\n      <td>1.62</td>\n      <td>3134.18</td>\n      <td>Outlier Removed</td>\n    </tr>\n    <tr>\n      <th>18</th>\n      <td>Riverton</td>\n      <td>10615</td>\n      <td>303264</td>\n      <td>2680</td>\n      <td>4796.859815</td>\n      <td>2.34</td>\n      <td>5556.49</td>\n      <td>Outlier Removed</td>\n    </tr>\n    <tr>\n      <th>19</th>\n      <td>Rock Springs</td>\n      <td>23036</td>\n      <td>253584</td>\n      <td>4022</td>\n      <td>6620.201916</td>\n      <td>2.78</td>\n      <td>7572.18</td>\n      <td>Outlier Removed</td>\n    </tr>\n    <tr>\n      <th>20</th>\n      <td>Sheridan</td>\n      <td>17444</td>\n      <td>308232</td>\n      <td>2646</td>\n      <td>1893.977048</td>\n      <td>8.98</td>\n      <td>6039.71</td>\n      <td>Outlier Removed</td>\n    </tr>\n  </tbody>\n</table>\n</div>",
            "text/plain": "            City  2010 Census  Total Sales  Households with Under 18  \\\n0        Buffalo         4585       185328                       746   \n1         Casper        35316       317736                      7788   \n2       Cheyenne        59466       917892                      7158   \n3           Cody         9520       218376                      1403   \n4        Douglas         6120       208008                       832   \n5       Evanston        12359       283824                      1486   \n6       Gillette        29087       543132                      4052   \n7         Powell         6314       233928                      1251   \n8       Riverton        10615       303264                      2680   \n9   Rock Springs        23036       253584                      4022   \n10      Sheridan        17444       308232                      2646   \n11       Buffalo         4585       185328                       746   \n12        Casper        35316       317736                      7788   \n13          Cody         9520       218376                      1403   \n14       Douglas         6120       208008                       832   \n15      Evanston        12359       283824                      1486   \n16      Gillette        29087       543132                      4052   \n17        Powell         6314       233928                      1251   \n18      Riverton        10615       303264                      2680   \n19  Rock Springs        23036       253584                      4022   \n20      Sheridan        17444       308232                      2646   \n\n      Land Area  Population Density  Total Families          Dataset  \n0   3115.507500                1.55         1819.50     Outlier Kept  \n1   3894.309100               11.16         8756.32     Outlier Kept  \n2   1500.178400               20.34        14612.64     Outlier Kept  \n3   2998.956960                1.82         3515.62     Outlier Kept  \n4   1829.465100                1.46         1744.08     Outlier Kept  \n5    999.497100                4.95         2712.64     Outlier Kept  \n6   2748.852900                5.80         7189.43     Outlier Kept  \n7   2673.574550                1.62         3134.18     Outlier Kept  \n8   4796.859815                2.34         5556.49     Outlier Kept  \n9   6620.201916                2.78         7572.18     Outlier Kept  \n10  1893.977048                8.98         6039.71     Outlier Kept  \n11  3115.507500                1.55         1819.50  Outlier Removed  \n12  3894.309100               11.16         8756.32  Outlier Removed  \n13  2998.956960                1.82         3515.62  Outlier Removed  \n14  1829.465100                1.46         1744.08  Outlier Removed  \n15   999.497100                4.95         2712.64  Outlier Removed  \n16  2748.852900                5.80         7189.43  Outlier Removed  \n17  2673.574550                1.62         3134.18  Outlier Removed  \n18  4796.859815                2.34         5556.49  Outlier Removed  \n19  6620.201916                2.78         7572.18  Outlier Removed  \n20  1893.977048                8.98         6039.71  Outlier Removed  "
          },
          "metadata": {}
        }
      ]
    },
    {
      "metadata": {
        "trusted": true
      },
      "cell_type": "code",
      "source": "# df_append_Outliers.sort_values(\"2010 Census\")\n# df_append_Outliers.sort_values(\"Land Area\")",
      "execution_count": 44,
      "outputs": []
    },
    {
      "metadata": {
        "trusted": true
      },
      "cell_type": "code",
      "source": "# df_append_Outliers\ncmap = sns.color_palette(\"RdBu_r\",7)\ng = sns.pairplot(df_append_Outliers, x_vars=columns_xVars, y_vars='Total Sales', aspect=.9,kind='reg', hue='Dataset', palette=[cmap[0],cmap[6]])\ng.savefig('./assets/figure.png', figsize=(1,3) , dpi=300)\ng\n\n# g = sns.pairplot(df_append_Outliers, x_vars=columns_xVars, y_vars='Total Sales', height = 7, aspect=.9,kind='reg', hue='Dataset', palette=['#6d9eeb','#e06666'])\n# g.savefig('./assets/figure.png', figsize=(3,10) , dpi=1000)",
      "execution_count": 45,
      "outputs": [
        {
          "output_type": "stream",
          "text": "/home/nbuser/anaconda3_420/lib/python3.5/site-packages/scipy/stats/stats.py:1713: FutureWarning: Using a non-tuple sequence for multidimensional indexing is deprecated; use `arr[tuple(seq)]` instead of `arr[seq]`. In the future this will be interpreted as an array index, `arr[np.array(seq)]`, which will result either in an error or a different result.\n  return np.add.reduce(sorted[indexer] * weights, axis=axis) / sumval\n",
          "name": "stderr"
        },
        {
          "output_type": "execute_result",
          "execution_count": 45,
          "data": {
            "text/plain": "<seaborn.axisgrid.PairGrid at 0x7f747815d358>"
          },
          "metadata": {}
        },
        {
          "output_type": "display_data",
          "data": {
            "image/png": "[encoded data removed]",
            "text/plain": "<matplotlib.figure.Figure at 0x7f747cfdf828>"
          },
          "metadata": {}
        }
      ]
    },
    {
      "metadata": {
        "trusted": true
      },
      "cell_type": "code",
      "source": "# Scatter Plot Matrix\n# just another way to look for correlation\ng = sns.pairplot(df_stats)\nfor i, j in zip(*np.triu_indices_from(g.axes, 1)):\n    g.axes[i, j].set_visible(False)",
      "execution_count": 46,
      "outputs": [
        {
          "output_type": "display_data",
          "data": {
            "image/png": "[encoded data removed]",
            "text/plain": "<matplotlib.figure.Figure at 0x7f74781624e0>"
          },
          "metadata": {}
        }
      ]
    },
    {
      "metadata": {},
      "cell_type": "markdown",
      "source": "# Final Outlier Removal"
    },
    {
      "metadata": {
        "trusted": true
      },
      "cell_type": "code",
      "source": "df_merged = df_merged.loc[~(df_merged.City == \"Gillette\"), :]\ndf_merged\n",
      "execution_count": 47,
      "outputs": [
        {
          "output_type": "execute_result",
          "execution_count": 47,
          "data": {
            "text/html": "<div>\n<table border=\"1\" class=\"dataframe\">\n  <thead>\n    <tr style=\"text-align: right;\">\n      <th></th>\n      <th>City</th>\n      <th>2010 Census</th>\n      <th>Total Sales</th>\n      <th>Households with Under 18</th>\n      <th>Land Area</th>\n      <th>Population Density</th>\n      <th>Total Families</th>\n    </tr>\n  </thead>\n  <tbody>\n    <tr>\n      <th>0</th>\n      <td>Buffalo</td>\n      <td>4585</td>\n      <td>185328</td>\n      <td>746</td>\n      <td>3115.507500</td>\n      <td>1.55</td>\n      <td>1819.50</td>\n    </tr>\n    <tr>\n      <th>1</th>\n      <td>Casper</td>\n      <td>35316</td>\n      <td>317736</td>\n      <td>7788</td>\n      <td>3894.309100</td>\n      <td>11.16</td>\n      <td>8756.32</td>\n    </tr>\n    <tr>\n      <th>2</th>\n      <td>Cheyenne</td>\n      <td>59466</td>\n      <td>917892</td>\n      <td>7158</td>\n      <td>1500.178400</td>\n      <td>20.34</td>\n      <td>14612.64</td>\n    </tr>\n    <tr>\n      <th>3</th>\n      <td>Cody</td>\n      <td>9520</td>\n      <td>218376</td>\n      <td>1403</td>\n      <td>2998.956960</td>\n      <td>1.82</td>\n      <td>3515.62</td>\n    </tr>\n    <tr>\n      <th>4</th>\n      <td>Douglas</td>\n      <td>6120</td>\n      <td>208008</td>\n      <td>832</td>\n      <td>1829.465100</td>\n      <td>1.46</td>\n      <td>1744.08</td>\n    </tr>\n    <tr>\n      <th>5</th>\n      <td>Evanston</td>\n      <td>12359</td>\n      <td>283824</td>\n      <td>1486</td>\n      <td>999.497100</td>\n      <td>4.95</td>\n      <td>2712.64</td>\n    </tr>\n    <tr>\n      <th>7</th>\n      <td>Powell</td>\n      <td>6314</td>\n      <td>233928</td>\n      <td>1251</td>\n      <td>2673.574550</td>\n      <td>1.62</td>\n      <td>3134.18</td>\n    </tr>\n    <tr>\n      <th>8</th>\n      <td>Riverton</td>\n      <td>10615</td>\n      <td>303264</td>\n      <td>2680</td>\n      <td>4796.859815</td>\n      <td>2.34</td>\n      <td>5556.49</td>\n    </tr>\n    <tr>\n      <th>9</th>\n      <td>Rock Springs</td>\n      <td>23036</td>\n      <td>253584</td>\n      <td>4022</td>\n      <td>6620.201916</td>\n      <td>2.78</td>\n      <td>7572.18</td>\n    </tr>\n    <tr>\n      <th>10</th>\n      <td>Sheridan</td>\n      <td>17444</td>\n      <td>308232</td>\n      <td>2646</td>\n      <td>1893.977048</td>\n      <td>8.98</td>\n      <td>6039.71</td>\n    </tr>\n  </tbody>\n</table>\n</div>",
            "text/plain": "            City  2010 Census  Total Sales  Households with Under 18  \\\n0        Buffalo         4585       185328                       746   \n1         Casper        35316       317736                      7788   \n2       Cheyenne        59466       917892                      7158   \n3           Cody         9520       218376                      1403   \n4        Douglas         6120       208008                       832   \n5       Evanston        12359       283824                      1486   \n7         Powell         6314       233928                      1251   \n8       Riverton        10615       303264                      2680   \n9   Rock Springs        23036       253584                      4022   \n10      Sheridan        17444       308232                      2646   \n\n      Land Area  Population Density  Total Families  \n0   3115.507500                1.55         1819.50  \n1   3894.309100               11.16         8756.32  \n2   1500.178400               20.34        14612.64  \n3   2998.956960                1.82         3515.62  \n4   1829.465100                1.46         1744.08  \n5    999.497100                4.95         2712.64  \n7   2673.574550                1.62         3134.18  \n8   4796.859815                2.34         5556.49  \n9   6620.201916                2.78         7572.18  \n10  1893.977048                8.98         6039.71  "
          },
          "metadata": {}
        }
      ]
    },
    {
      "metadata": {},
      "cell_type": "markdown",
      "source": "# Conclusion"
    },
    {
      "metadata": {},
      "cell_type": "markdown",
      "source": "I cannot find a reasonable argument to remove Casper, Cheyenne, or Rock Springs based on their outlier values (i.e. incorrect data entry, or comparing observed values against other factors) and can only conclude their outliers values are valid data entries. However, due to a possible skew in demographics (e.g. Gillette could have a largely affluent population) that leads to high sales uncommon to what data suggests cities with smaller population density have (i.e. lower total sales, while cities with high population density have higher total sales) Gillette has been removed from the training set."
    },
    {
      "metadata": {
        "trusted": true
      },
      "cell_type": "code",
      "source": "# writing training set out to csv\ndf_merged.to_csv(\"./data/trainingSet.csv\")",
      "execution_count": 48,
      "outputs": []
    },
    {
      "metadata": {
        "trusted": true
      },
      "cell_type": "code",
      "source": "",
      "execution_count": null,
      "outputs": []
    }
  ],
  "metadata": {
    "hide_input": false,
    "kernelspec": {
      "name": "python3",
      "display_name": "Python 3",
      "language": "python"
    },
    "language_info": {
      "mimetype": "text/x-python",
      "nbconvert_exporter": "python",
      "name": "python",
      "pygments_lexer": "ipython3",
      "version": "3.5.4",
      "file_extension": ".py",
      "codemirror_mode": {
        "version": 3,
        "name": "ipython"
      }
    },
    "toc": {
      "nav_menu": {},
      "number_sections": true,
      "sideBar": true,
      "skip_h1_title": false,
      "base_numbering": 1,
      "title_cell": "Table of Contents",
      "title_sidebar": "Contents",
      "toc_cell": false,
      "toc_position": {},
      "toc_section_display": true,
      "toc_window_display": false
    },
    "varInspector": {
      "cols": {
        "lenName": 16,
        "lenType": 16,
        "lenVar": 40
      },
      "kernels_config": {
        "python": {
          "delete_cmd_postfix": "",
          "delete_cmd_prefix": "del ",
          "library": "var_list.py",
          "varRefreshCmd": "print(var_dic_list())"
        },
        "r": {
          "delete_cmd_postfix": ") ",
          "delete_cmd_prefix": "rm(",
          "library": "var_list.r",
          "varRefreshCmd": "cat(var_dic_list()) "
        }
      },
      "types_to_exclude": [
        "module",
        "function",
        "builtin_function_or_method",
        "instance",
        "_Feature"
      ],
      "window_display": false
    }
  },
  "nbformat": 4,
  "nbformat_minor": 2
}