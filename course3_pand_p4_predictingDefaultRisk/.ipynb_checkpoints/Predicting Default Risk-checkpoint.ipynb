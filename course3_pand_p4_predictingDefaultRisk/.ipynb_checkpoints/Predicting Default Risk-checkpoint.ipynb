{
 "cells": [
  {
   "cell_type": "markdown",
   "metadata": {},
   "source": [
    "# <span style=\"color:red\">TASKS</span>\n",
    "\n",
    "* update data types\n",
    "* Do I split new_applicants data 70% and 30%... or do I use the training data given to me? based on titanic video I might split my training data, to train the model, then use unknown dataset to old_applicants the model... 3 vids can help... \n",
    "    * [data school](https://www.youtube.com/watch?v=RlQuVL6-qe8&index=4&list=PL5-da3qGB5ICeMbQuqbbCOQWcS6OYBr5A): \n",
    "    * [packt](https://www.youtube.com/watch?v=Eqv98w1ukZk): splits data set as projedct instructions describe\n",
    "    * [titanic](https://www.youtube.com/watch?v=VCJdg7YBbAQ): describes creating dummies from dataset\n",
    "    * [iris google dev]([iris google developers](https://www.youtube.com/watch?v=tNa99PG8hR8&list=PLOU2XLYxmsIIuiBfYad6rFYQU_jL2ryal&index=2)\n",
    "\n",
    "* Create dummies on fields with multiple numeric/text values (e.g. sex, ticket class)\n",
    "* Correlation & P-values, select predictors\n",
    "    * watch udacity videos and other videos if needed\n",
    "    \n",
    "* Does target variable also need to be converted to numeric, or is that only an Altryx issue???\n",
    "    * if so create new column np.where([old_applicants[\"Credit-Application-Result\"] == 'Creditworthy', 1, 0)"
   ]
  },
  {
   "cell_type": "markdown",
   "metadata": {},
   "source": [
    "# RESOURCES\n",
    "\n",
    "* ## [project details](https://classroom.udacity.com/nanodegrees/nd008t/parts/54e2103b-5630-497a-bc37-c05d45cda549/modules/12c50013-ad11-4980-88a0-13d474cda9b8/lessons/ee56f886-070e-40ca-bfc8-cab2c5cdde7d/concepts/ac7bf309-3e98-4a2f-ad4e-555905d7cd07)\n",
    "* ## [rubric](https://review.udacity.com/#!/rubrics/265/view)\n",
    "* ## [main project folder](https://udacity-travismgillespie.notebooks.azure.com/j/tree)\n",
    "* ## variance\n",
    "    * ### [use R-squared to describe variance](https://classroom.udacity.com/nanodegrees/nd008t/parts/9cd2f005-f9b1-4953-ba02-ad65805b2a4a/modules/fc4c1ffe-01f6-4c11-b38b-646ecf1d3c59/lessons/576552b9-a1b4-45be-9428-572331a4e186/concepts/82bfe969-921b-4175-adb5-797e84ba6107): also look into [project 2](https://udacity-travismgillespie.notebooks.azure.com/j/notebooks/project2/Data%20Wrangling.ipynb) diamond catalog to see if I calculated correlation p and r-squared at same time... may have used a corr-matrix\n",
    "* ## feature selection\n",
    "    * ### [Packt: select features in machine learning](https://hub.packtpub.com/selecting-statistical-based-features-in-machine-learning-application/)\n",
    "    * ### [use p-value & correlation to select predictor variable](https://classroom.udacity.com/nanodegrees/nd008t/parts/9cd2f005-f9b1-4953-ba02-ad65805b2a4a/modules/fc4c1ffe-01f6-4c11-b38b-646ecf1d3c59/lessons/576552b9-a1b4-45be-9428-572331a4e186/concepts/82bfe969-921b-4175-adb5-797e84ba6107)\n",
    "    * ### [p values don’t help in feature selection](https://www.quora.com/How-did-you-use-p-value-for-feature-selection)\n",
    "    * ### [Feature selection - univariate selection](https://blog.datadive.net/selecting-good-features-part-i-univariate-selection/)\n",
    "    * ### [predictor variables](https://classroom.udacity.com/nanodegrees/nd008t/parts/9cd2f005-f9b1-4953-ba02-ad65805b2a4a/modules/fc4c1ffe-01f6-4c11-b38b-646ecf1d3c59/lessons/576552b9-a1b4-45be-9428-572331a4e186/concepts/631d190c-8626-4dd7-92df-f5bd96913c48): udacity\n",
    "    * ### [explanatory variables (aka predictor variables)](https://classroom.udacity.com/nanodegrees/nd008t/parts/9cd2f005-f9b1-4953-ba02-ad65805b2a4a/modules/fc4c1ffe-01f6-4c11-b38b-646ecf1d3c59/lessons/576552b9-a1b4-45be-9428-572331a4e186/concepts/631d190c-8626-4dd7-92df-f5bd96913c48): udacity\n",
    "    * ### [feature selection ex](https://www.youtube.com/watch?v=hhmsHY2vWY4)\n",
    "    * ### [feature selection correlation and p-value](https://towardsdatascience.com/feature-selection-correlation-and-p-value-da8921bfb3cf)\n",
    "* ## coefficients\n",
    "    * ### [calculate coefficients](https://classroom.udacity.com/nanodegrees/nd008t/parts/9cd2f005-f9b1-4953-ba02-ad65805b2a4a/modules/fc4c1ffe-01f6-4c11-b38b-646ecf1d3c59/lessons/576552b9-a1b4-45be-9428-572331a4e186/concepts/631d190c-8626-4dd7-92df-f5bd96913c48): watch udacity video\n",
    "* ## linear regression\n",
    "    * ### [packt ex](https://www.youtube.com/watch?v=Eqv98w1ukZk): good example of seeds and splitting test set\n",
    "* ## logistic regression\n",
    "    * ### [StatQuest](https://www.youtube.com/watch?v=yIYKR4sgzI8)\n",
    "    * ### [data school ex](https://www.youtube.com/watch?v=RlQuVL6-qe8&index=4&list=PL5-da3qGB5ICeMbQuqbbCOQWcS6OYBr5A)\n",
    "    * ### [Titanic ex](https://www.youtube.com/watch?v=VCJdg7YBbAQ)\n",
    "    * ### [logistic regression ex](https://www.youtube.com/watch?v=1nWFHa6K23w)\n",
    "* ## decision tree\n",
    "    * ### [iris google developers](https://www.youtube.com/watch?v=tNa99PG8hR8&list=PLOU2XLYxmsIIuiBfYad6rFYQU_jL2ryal&index=2)\n",
    "* ## boosted tree (aka Gradient boosting)\n",
    "    * ### [documentation: scikit learn](https://scikit-learn.org/stable/modules/ensemble.html#gradient-tree-boosting)\n",
    "    * ### [gradient boosting ex](https://www.youtube.com/watch?v=gIJHI5jSChM)\n",
    "    * ### [gradient boosting ex](https://www.youtube.com/watch?v=sRktKszFmSk)\n",
    "    * ### [gradient boosting ex](https://www.youtube.com/watch?v=X3Wbfb4M33w)\n",
    "    * ### [gradient boosting ex](https://www.youtube.com/watch?v=2WfKzyi__l4)\n",
    "    * ### [ada boosting ex](https://www.youtube.com/watch?v=GM3CDQfQ4sw)\n",
    "    * ### [additional boosting reading](https://en.wikipedia.org/wiki/Gradient_boosting)\n",
    "* ## forest model (aka random forest model)\n",
    "    * ### [documentation: scikit learn](https://scikit-learn.org/stable/modules/ensemble.html#random-forests)\n",
    "    * ### [forest model udacity](https://classroom.udacity.com/nanodegrees/nd008t/parts/54e2103b-5630-497a-bc37-c05d45cda549/modules/12c50013-ad11-4980-88a0-13d474cda9b8/lessons/59e0ee88-1a1e-459d-a79e-53ef74c13e77/concepts/65b13e59-9be3-45f8-a6f3-196369dc3c3d)\n",
    "    * ### [random forest example](https://www.youtube.com/watch?v=D_2LkhMJcfY)\n",
    "    \n",
    "* ## backward elemenation\n",
    "    * ### [looking up details on SL = 0.05](https://www.kaggle.com/umeshsati54/backward-elimination)"
   ]
  },
  {
   "cell_type": "code",
   "execution_count": 85,
   "metadata": {},
   "outputs": [],
   "source": [
    "import pandas as pd\n",
    "import numpy as np\n",
    "import seaborn as sns\n",
    "import matplotlib.pyplot as plt\n",
    "from scipy.stats import stats\n",
    "from sklearn.neighbors import KNeighborsClassifier\n",
    "from sklearn.preprocessing import LabelEncoder, OneHotEncoder\n",
    "\n",
    "# not sure which train_test_split to use... are they different?\n",
    "from sklearn.model_selection import train_test_split\n",
    "from sklearn.cross_validation import train_test_split\n",
    "\n",
    "from sklearn import tree\n",
    "\n",
    "from sklearn.linear_model import LogisticRegression\n",
    "\n",
    "from sklearn.ensemble import GradientBoostingClassifier\n",
    "\n",
    "from sklearn.ensemble import RandomForestClassifier\n",
    "\n"
   ]
  },
  {
   "cell_type": "markdown",
   "metadata": {},
   "source": [
    "## Train Data Set"
   ]
  },
  {
   "cell_type": "code",
   "execution_count": 2,
   "metadata": {},
   "outputs": [],
   "source": [
    "#training set contains one additional column Credit Application Result\n",
    "old_applicants_original = pd.read_excel('./data/credit-data-training.xlsx')\n",
    "old_applicants = old_applicants_original.copy()"
   ]
  },
  {
   "cell_type": "code",
   "execution_count": 3,
   "metadata": {},
   "outputs": [
    {
     "name": "stdout",
     "output_type": "stream",
     "text": [
      "<class 'pandas.core.frame.DataFrame'>\n",
      "RangeIndex: 500 entries, 0 to 499\n",
      "Data columns (total 20 columns):\n",
      "Credit-Application-Result            500 non-null object\n",
      "Account-Balance                      500 non-null object\n",
      "Duration-of-Credit-Month             500 non-null int64\n",
      "Payment-Status-of-Previous-Credit    500 non-null object\n",
      "Purpose                              500 non-null object\n",
      "Credit-Amount                        500 non-null int64\n",
      "Value-Savings-Stocks                 500 non-null object\n",
      "Length-of-current-employment         500 non-null object\n",
      "Instalment-per-cent                  500 non-null int64\n",
      "Guarantors                           500 non-null object\n",
      "Duration-in-Current-address          156 non-null float64\n",
      "Most-valuable-available-asset        500 non-null int64\n",
      "Age-years                            488 non-null float64\n",
      "Concurrent-Credits                   500 non-null object\n",
      "Type-of-apartment                    500 non-null int64\n",
      "No-of-Credits-at-this-Bank           500 non-null object\n",
      "Occupation                           500 non-null int64\n",
      "No-of-dependents                     500 non-null int64\n",
      "Telephone                            500 non-null int64\n",
      "Foreign-Worker                       500 non-null int64\n",
      "dtypes: float64(2), int64(9), object(9)\n",
      "memory usage: 78.2+ KB\n"
     ]
    }
   ],
   "source": [
    "# given provided training set has been cleaned shouldn't need to be modified\n",
    "# consider dropping age where nill\n",
    "# old_applicants[\"Age-years\"].unique()\n",
    "# old_applicants[\"Duration-in-Current-address\"].unique()\n",
    "old_applicants.info()"
   ]
  },
  {
   "cell_type": "markdown",
   "metadata": {},
   "source": [
    "## new_applicants Data Set"
   ]
  },
  {
   "cell_type": "code",
   "execution_count": 4,
   "metadata": {},
   "outputs": [
    {
     "data": {
      "text/html": [
       "<div>\n",
       "<style scoped>\n",
       "    .dataframe tbody tr th:only-of-type {\n",
       "        vertical-align: middle;\n",
       "    }\n",
       "\n",
       "    .dataframe tbody tr th {\n",
       "        vertical-align: top;\n",
       "    }\n",
       "\n",
       "    .dataframe thead th {\n",
       "        text-align: right;\n",
       "    }\n",
       "</style>\n",
       "<table border=\"1\" class=\"dataframe\">\n",
       "  <thead>\n",
       "    <tr style=\"text-align: right;\">\n",
       "      <th></th>\n",
       "      <th>Account-Balance</th>\n",
       "      <th>Duration-of-Credit-Month</th>\n",
       "      <th>Payment-Status-of-Previous-Credit</th>\n",
       "      <th>Purpose</th>\n",
       "      <th>Credit-Amount</th>\n",
       "      <th>Value-Savings-Stocks</th>\n",
       "      <th>Length-of-current-employment</th>\n",
       "      <th>Instalment-per-cent</th>\n",
       "      <th>Guarantors</th>\n",
       "      <th>Duration-in-Current-address</th>\n",
       "      <th>Most-valuable-available-asset</th>\n",
       "      <th>Age-years</th>\n",
       "      <th>Concurrent-Credits</th>\n",
       "      <th>Type-of-apartment</th>\n",
       "      <th>No-of-Credits-at-this-Bank</th>\n",
       "      <th>Occupation</th>\n",
       "      <th>No-of-dependents</th>\n",
       "      <th>Telephone</th>\n",
       "      <th>Foreign-Worker</th>\n",
       "    </tr>\n",
       "  </thead>\n",
       "  <tbody>\n",
       "    <tr>\n",
       "      <th>0</th>\n",
       "      <td>No Account</td>\n",
       "      <td>9</td>\n",
       "      <td>No Problems (in this bank)</td>\n",
       "      <td>Home Related</td>\n",
       "      <td>2799</td>\n",
       "      <td>None</td>\n",
       "      <td>&lt; 1yr</td>\n",
       "      <td>2</td>\n",
       "      <td>None</td>\n",
       "      <td>2</td>\n",
       "      <td>1</td>\n",
       "      <td>36</td>\n",
       "      <td>Other Banks/Depts</td>\n",
       "      <td>1</td>\n",
       "      <td>More than 1</td>\n",
       "      <td>1</td>\n",
       "      <td>2</td>\n",
       "      <td>1</td>\n",
       "      <td>1</td>\n",
       "    </tr>\n",
       "    <tr>\n",
       "      <th>1</th>\n",
       "      <td>No Account</td>\n",
       "      <td>12</td>\n",
       "      <td>No Problems (in this bank)</td>\n",
       "      <td>Home Related</td>\n",
       "      <td>2122</td>\n",
       "      <td>None</td>\n",
       "      <td>&lt; 1yr</td>\n",
       "      <td>3</td>\n",
       "      <td>None</td>\n",
       "      <td>2</td>\n",
       "      <td>1</td>\n",
       "      <td>39</td>\n",
       "      <td>Other Banks/Depts</td>\n",
       "      <td>1</td>\n",
       "      <td>More than 1</td>\n",
       "      <td>1</td>\n",
       "      <td>2</td>\n",
       "      <td>1</td>\n",
       "      <td>2</td>\n",
       "    </tr>\n",
       "    <tr>\n",
       "      <th>2</th>\n",
       "      <td>No Account</td>\n",
       "      <td>24</td>\n",
       "      <td>Paid Up</td>\n",
       "      <td>Home Related</td>\n",
       "      <td>3758</td>\n",
       "      <td>£100-£1000</td>\n",
       "      <td>&lt; 1yr</td>\n",
       "      <td>1</td>\n",
       "      <td>None</td>\n",
       "      <td>4</td>\n",
       "      <td>4</td>\n",
       "      <td>23</td>\n",
       "      <td>Other Banks/Depts</td>\n",
       "      <td>1</td>\n",
       "      <td>1</td>\n",
       "      <td>1</td>\n",
       "      <td>1</td>\n",
       "      <td>1</td>\n",
       "      <td>1</td>\n",
       "    </tr>\n",
       "    <tr>\n",
       "      <th>3</th>\n",
       "      <td>No Account</td>\n",
       "      <td>11</td>\n",
       "      <td>No Problems (in this bank)</td>\n",
       "      <td>Home Related</td>\n",
       "      <td>3905</td>\n",
       "      <td>None</td>\n",
       "      <td>&lt; 1yr</td>\n",
       "      <td>2</td>\n",
       "      <td>None</td>\n",
       "      <td>2</td>\n",
       "      <td>1</td>\n",
       "      <td>36</td>\n",
       "      <td>Other Banks/Depts</td>\n",
       "      <td>1</td>\n",
       "      <td>More than 1</td>\n",
       "      <td>1</td>\n",
       "      <td>2</td>\n",
       "      <td>1</td>\n",
       "      <td>1</td>\n",
       "    </tr>\n",
       "    <tr>\n",
       "      <th>4</th>\n",
       "      <td>No Account</td>\n",
       "      <td>6</td>\n",
       "      <td>No Problems (in this bank)</td>\n",
       "      <td>Home Related</td>\n",
       "      <td>1957</td>\n",
       "      <td>None</td>\n",
       "      <td>1-4 yrs</td>\n",
       "      <td>1</td>\n",
       "      <td>None</td>\n",
       "      <td>4</td>\n",
       "      <td>3</td>\n",
       "      <td>31</td>\n",
       "      <td>Other Banks/Depts</td>\n",
       "      <td>2</td>\n",
       "      <td>1</td>\n",
       "      <td>1</td>\n",
       "      <td>1</td>\n",
       "      <td>1</td>\n",
       "      <td>1</td>\n",
       "    </tr>\n",
       "  </tbody>\n",
       "</table>\n",
       "</div>"
      ],
      "text/plain": [
       "  Account-Balance  Duration-of-Credit-Month Payment-Status-of-Previous-Credit  \\\n",
       "0      No Account                         9        No Problems (in this bank)   \n",
       "1      No Account                        12        No Problems (in this bank)   \n",
       "2      No Account                        24                           Paid Up   \n",
       "3      No Account                        11        No Problems (in this bank)   \n",
       "4      No Account                         6        No Problems (in this bank)   \n",
       "\n",
       "        Purpose  Credit-Amount Value-Savings-Stocks  \\\n",
       "0  Home Related           2799                 None   \n",
       "1  Home Related           2122                 None   \n",
       "2  Home Related           3758           £100-£1000   \n",
       "3  Home Related           3905                 None   \n",
       "4  Home Related           1957                 None   \n",
       "\n",
       "  Length-of-current-employment  Instalment-per-cent Guarantors  \\\n",
       "0                        < 1yr                    2       None   \n",
       "1                        < 1yr                    3       None   \n",
       "2                        < 1yr                    1       None   \n",
       "3                        < 1yr                    2       None   \n",
       "4                      1-4 yrs                    1       None   \n",
       "\n",
       "   Duration-in-Current-address  Most-valuable-available-asset  Age-years  \\\n",
       "0                            2                              1         36   \n",
       "1                            2                              1         39   \n",
       "2                            4                              4         23   \n",
       "3                            2                              1         36   \n",
       "4                            4                              3         31   \n",
       "\n",
       "  Concurrent-Credits  Type-of-apartment No-of-Credits-at-this-Bank  \\\n",
       "0  Other Banks/Depts                  1                More than 1   \n",
       "1  Other Banks/Depts                  1                More than 1   \n",
       "2  Other Banks/Depts                  1                          1   \n",
       "3  Other Banks/Depts                  1                More than 1   \n",
       "4  Other Banks/Depts                  2                          1   \n",
       "\n",
       "   Occupation  No-of-dependents  Telephone  Foreign-Worker  \n",
       "0           1                 2          1               1  \n",
       "1           1                 2          1               2  \n",
       "2           1                 1          1               1  \n",
       "3           1                 2          1               1  \n",
       "4           1                 1          1               1  "
      ]
     },
     "execution_count": 4,
     "metadata": {},
     "output_type": "execute_result"
    }
   ],
   "source": [
    "#new_applicants set missing one column... Credit Application Result is the result you are tryting to predict\n",
    "new_applicants = pd.read_excel('./data/customers-to-score.xlsx')\n",
    "# new_applicants.sort_values('Purpose', inplace=True)\n",
    "new_applicants.head()"
   ]
  },
  {
   "cell_type": "markdown",
   "metadata": {},
   "source": [
    "new_applicants data set has no null values."
   ]
  },
  {
   "cell_type": "code",
   "execution_count": 5,
   "metadata": {
    "scrolled": false
   },
   "outputs": [
    {
     "name": "stdout",
     "output_type": "stream",
     "text": [
      "<class 'pandas.core.frame.DataFrame'>\n",
      "RangeIndex: 500 entries, 0 to 499\n",
      "Data columns (total 19 columns):\n",
      "Account-Balance                      500 non-null object\n",
      "Duration-of-Credit-Month             500 non-null int64\n",
      "Payment-Status-of-Previous-Credit    500 non-null object\n",
      "Purpose                              500 non-null object\n",
      "Credit-Amount                        500 non-null int64\n",
      "Value-Savings-Stocks                 500 non-null object\n",
      "Length-of-current-employment         500 non-null object\n",
      "Instalment-per-cent                  500 non-null int64\n",
      "Guarantors                           500 non-null object\n",
      "Duration-in-Current-address          500 non-null int64\n",
      "Most-valuable-available-asset        500 non-null int64\n",
      "Age-years                            500 non-null int64\n",
      "Concurrent-Credits                   500 non-null object\n",
      "Type-of-apartment                    500 non-null int64\n",
      "No-of-Credits-at-this-Bank           500 non-null object\n",
      "Occupation                           500 non-null int64\n",
      "No-of-dependents                     500 non-null int64\n",
      "Telephone                            500 non-null int64\n",
      "Foreign-Worker                       500 non-null int64\n",
      "dtypes: int64(11), object(8)\n",
      "memory usage: 74.3+ KB\n"
     ]
    }
   ],
   "source": [
    "new_applicants.info()"
   ]
  },
  {
   "cell_type": "markdown",
   "metadata": {},
   "source": [
    "# CLEAN DATA"
   ]
  },
  {
   "cell_type": "markdown",
   "metadata": {},
   "source": [
    "## Clean old_applicants Data"
   ]
  },
  {
   "cell_type": "code",
   "execution_count": 6,
   "metadata": {},
   "outputs": [
    {
     "data": {
      "text/plain": [
       "Credit-Application-Result              0\n",
       "Account-Balance                        0\n",
       "Duration-of-Credit-Month               0\n",
       "Payment-Status-of-Previous-Credit      0\n",
       "Purpose                                0\n",
       "Credit-Amount                          0\n",
       "Value-Savings-Stocks                   0\n",
       "Length-of-current-employment           0\n",
       "Instalment-per-cent                    0\n",
       "Guarantors                             0\n",
       "Duration-in-Current-address          344\n",
       "Most-valuable-available-asset          0\n",
       "Age-years                             12\n",
       "Concurrent-Credits                     0\n",
       "Type-of-apartment                      0\n",
       "No-of-Credits-at-this-Bank             0\n",
       "Occupation                             0\n",
       "No-of-dependents                       0\n",
       "Telephone                              0\n",
       "Foreign-Worker                         0\n",
       "dtype: int64"
      ]
     },
     "execution_count": 6,
     "metadata": {},
     "output_type": "execute_result"
    }
   ],
   "source": [
    "old_applicants.isnull().sum()"
   ]
  },
  {
   "cell_type": "markdown",
   "metadata": {},
   "source": [
    "_Duration-in-Current-address_ and _Age-years_ requires some cleanup:\n",
    "\n",
    "* _Duration-in-Current-address_: immediately removing this attribute since ≈68% of the field is null\n",
    "\n",
    "* _Age-years_: will handle this cleanup after splitting old_applications into training and testing set. Otherwise I am violating a core tenent in the machine learning procedure. I cannot assume I know the median value of the entire data set to make predictions. I can only assume I know the median value of the training set. In other words I don't want to fit information from my testing set into my training set.\n",
    "\n",
    "Note:\n",
    "1. Use the median age of _Age-years_ column to impute missing values.\n",
    "* Dropping _Duration-in-Current-address_ becasue more than half field is null... ≈ 69%"
   ]
  },
  {
   "cell_type": "code",
   "execution_count": 7,
   "metadata": {},
   "outputs": [
    {
     "data": {
      "text/plain": [
       "0.688"
      ]
     },
     "execution_count": 7,
     "metadata": {},
     "output_type": "execute_result"
    }
   ],
   "source": [
    "# calculate percent of null values in Duration-in-Current-address\n",
    "old_applicants[\"Duration-in-Current-address\"].isnull().sum()/old_applicants[\"Duration-in-Current-address\"].shape[0]"
   ]
  },
  {
   "cell_type": "code",
   "execution_count": 8,
   "metadata": {},
   "outputs": [
    {
     "data": {
      "text/plain": [
       "Credit-Application-Result             0\n",
       "Account-Balance                       0\n",
       "Duration-of-Credit-Month              0\n",
       "Payment-Status-of-Previous-Credit     0\n",
       "Purpose                               0\n",
       "Credit-Amount                         0\n",
       "Value-Savings-Stocks                  0\n",
       "Length-of-current-employment          0\n",
       "Instalment-per-cent                   0\n",
       "Guarantors                            0\n",
       "Most-valuable-available-asset         0\n",
       "Age-years                            12\n",
       "Concurrent-Credits                    0\n",
       "Type-of-apartment                     0\n",
       "No-of-Credits-at-this-Bank            0\n",
       "Occupation                            0\n",
       "No-of-dependents                      0\n",
       "Telephone                             0\n",
       "Foreign-Worker                        0\n",
       "dtype: int64"
      ]
     },
     "execution_count": 8,
     "metadata": {},
     "output_type": "execute_result"
    }
   ],
   "source": [
    "# Dropping Duration-in-Current-address becasue more than half field is null\n",
    "old_applicants.drop('Duration-in-Current-address', axis=1, inplace=True)\n",
    "# there are no more no values in the old_applicants dataset\n",
    "old_applicants.isnull().sum()"
   ]
  },
  {
   "cell_type": "markdown",
   "metadata": {},
   "source": [
    "## Clean new_applicants Data"
   ]
  },
  {
   "cell_type": "code",
   "execution_count": 9,
   "metadata": {},
   "outputs": [
    {
     "data": {
      "text/plain": [
       "Account-Balance                      0\n",
       "Duration-of-Credit-Month             0\n",
       "Payment-Status-of-Previous-Credit    0\n",
       "Purpose                              0\n",
       "Credit-Amount                        0\n",
       "Value-Savings-Stocks                 0\n",
       "Length-of-current-employment         0\n",
       "Instalment-per-cent                  0\n",
       "Guarantors                           0\n",
       "Duration-in-Current-address          0\n",
       "Most-valuable-available-asset        0\n",
       "Age-years                            0\n",
       "Concurrent-Credits                   0\n",
       "Type-of-apartment                    0\n",
       "No-of-Credits-at-this-Bank           0\n",
       "Occupation                           0\n",
       "No-of-dependents                     0\n",
       "Telephone                            0\n",
       "Foreign-Worker                       0\n",
       "dtype: int64"
      ]
     },
     "execution_count": 9,
     "metadata": {},
     "output_type": "execute_result"
    }
   ],
   "source": [
    "new_applicants.isnull().sum()"
   ]
  },
  {
   "cell_type": "markdown",
   "metadata": {},
   "source": [
    "As indicated in the code above, and using new_applicants.info() earlier, the new_applicants data set has no null values. Will leave this data set alone for now since there is no immediate clean up needed. However, might be some columns that are removed later from the dataset for other reasons."
   ]
  },
  {
   "cell_type": "markdown",
   "metadata": {},
   "source": [
    "# Get Dummy Variables"
   ]
  },
  {
   "cell_type": "markdown",
   "metadata": {},
   "source": [
    "The string values need to be converted to numerical values"
   ]
  },
  {
   "cell_type": "code",
   "execution_count": 10,
   "metadata": {
    "scrolled": true
   },
   "outputs": [
    {
     "data": {
      "text/html": [
       "<div>\n",
       "<style scoped>\n",
       "    .dataframe tbody tr th:only-of-type {\n",
       "        vertical-align: middle;\n",
       "    }\n",
       "\n",
       "    .dataframe tbody tr th {\n",
       "        vertical-align: top;\n",
       "    }\n",
       "\n",
       "    .dataframe thead th {\n",
       "        text-align: right;\n",
       "    }\n",
       "</style>\n",
       "<table border=\"1\" class=\"dataframe\">\n",
       "  <thead>\n",
       "    <tr style=\"text-align: right;\">\n",
       "      <th></th>\n",
       "      <th>Credit-Application-Result</th>\n",
       "      <th>Account-Balance</th>\n",
       "      <th>Duration-of-Credit-Month</th>\n",
       "      <th>Payment-Status-of-Previous-Credit</th>\n",
       "      <th>Purpose</th>\n",
       "      <th>Credit-Amount</th>\n",
       "      <th>Value-Savings-Stocks</th>\n",
       "      <th>Length-of-current-employment</th>\n",
       "      <th>Instalment-per-cent</th>\n",
       "      <th>Guarantors</th>\n",
       "      <th>Most-valuable-available-asset</th>\n",
       "      <th>Age-years</th>\n",
       "      <th>Concurrent-Credits</th>\n",
       "      <th>Type-of-apartment</th>\n",
       "      <th>No-of-Credits-at-this-Bank</th>\n",
       "      <th>Occupation</th>\n",
       "      <th>No-of-dependents</th>\n",
       "      <th>Telephone</th>\n",
       "      <th>Foreign-Worker</th>\n",
       "    </tr>\n",
       "  </thead>\n",
       "  <tbody>\n",
       "    <tr>\n",
       "      <th>0</th>\n",
       "      <td>Creditworthy</td>\n",
       "      <td>Some Balance</td>\n",
       "      <td>4</td>\n",
       "      <td>Paid Up</td>\n",
       "      <td>Other</td>\n",
       "      <td>1494</td>\n",
       "      <td>£100-£1000</td>\n",
       "      <td>&lt; 1yr</td>\n",
       "      <td>1</td>\n",
       "      <td>None</td>\n",
       "      <td>1</td>\n",
       "      <td>NaN</td>\n",
       "      <td>Other Banks/Depts</td>\n",
       "      <td>2</td>\n",
       "      <td>1</td>\n",
       "      <td>1</td>\n",
       "      <td>2</td>\n",
       "      <td>1</td>\n",
       "      <td>2</td>\n",
       "    </tr>\n",
       "    <tr>\n",
       "      <th>1</th>\n",
       "      <td>Creditworthy</td>\n",
       "      <td>Some Balance</td>\n",
       "      <td>4</td>\n",
       "      <td>Paid Up</td>\n",
       "      <td>Home Related</td>\n",
       "      <td>1494</td>\n",
       "      <td>£100-£1000</td>\n",
       "      <td>&lt; 1yr</td>\n",
       "      <td>1</td>\n",
       "      <td>None</td>\n",
       "      <td>1</td>\n",
       "      <td>29.0</td>\n",
       "      <td>Other Banks/Depts</td>\n",
       "      <td>2</td>\n",
       "      <td>1</td>\n",
       "      <td>1</td>\n",
       "      <td>2</td>\n",
       "      <td>1</td>\n",
       "      <td>2</td>\n",
       "    </tr>\n",
       "    <tr>\n",
       "      <th>2</th>\n",
       "      <td>Creditworthy</td>\n",
       "      <td>Some Balance</td>\n",
       "      <td>4</td>\n",
       "      <td>No Problems (in this bank)</td>\n",
       "      <td>Home Related</td>\n",
       "      <td>1544</td>\n",
       "      <td>None</td>\n",
       "      <td>1-4 yrs</td>\n",
       "      <td>2</td>\n",
       "      <td>None</td>\n",
       "      <td>1</td>\n",
       "      <td>42.0</td>\n",
       "      <td>Other Banks/Depts</td>\n",
       "      <td>2</td>\n",
       "      <td>More than 1</td>\n",
       "      <td>1</td>\n",
       "      <td>2</td>\n",
       "      <td>1</td>\n",
       "      <td>1</td>\n",
       "    </tr>\n",
       "    <tr>\n",
       "      <th>3</th>\n",
       "      <td>Creditworthy</td>\n",
       "      <td>Some Balance</td>\n",
       "      <td>4</td>\n",
       "      <td>No Problems (in this bank)</td>\n",
       "      <td>Home Related</td>\n",
       "      <td>3380</td>\n",
       "      <td>None</td>\n",
       "      <td>1-4 yrs</td>\n",
       "      <td>1</td>\n",
       "      <td>None</td>\n",
       "      <td>1</td>\n",
       "      <td>37.0</td>\n",
       "      <td>Other Banks/Depts</td>\n",
       "      <td>2</td>\n",
       "      <td>1</td>\n",
       "      <td>1</td>\n",
       "      <td>2</td>\n",
       "      <td>1</td>\n",
       "      <td>1</td>\n",
       "    </tr>\n",
       "    <tr>\n",
       "      <th>4</th>\n",
       "      <td>Creditworthy</td>\n",
       "      <td>No Account</td>\n",
       "      <td>6</td>\n",
       "      <td>Paid Up</td>\n",
       "      <td>Home Related</td>\n",
       "      <td>343</td>\n",
       "      <td>None</td>\n",
       "      <td>&lt; 1yr</td>\n",
       "      <td>4</td>\n",
       "      <td>None</td>\n",
       "      <td>1</td>\n",
       "      <td>27.0</td>\n",
       "      <td>Other Banks/Depts</td>\n",
       "      <td>2</td>\n",
       "      <td>1</td>\n",
       "      <td>1</td>\n",
       "      <td>1</td>\n",
       "      <td>1</td>\n",
       "      <td>1</td>\n",
       "    </tr>\n",
       "    <tr>\n",
       "      <th>5</th>\n",
       "      <td>Creditworthy</td>\n",
       "      <td>Some Balance</td>\n",
       "      <td>6</td>\n",
       "      <td>No Problems (in this bank)</td>\n",
       "      <td>Home Related</td>\n",
       "      <td>362</td>\n",
       "      <td>&lt; £100</td>\n",
       "      <td>&lt; 1yr</td>\n",
       "      <td>4</td>\n",
       "      <td>None</td>\n",
       "      <td>3</td>\n",
       "      <td>52.0</td>\n",
       "      <td>Other Banks/Depts</td>\n",
       "      <td>2</td>\n",
       "      <td>More than 1</td>\n",
       "      <td>1</td>\n",
       "      <td>1</td>\n",
       "      <td>1</td>\n",
       "      <td>1</td>\n",
       "    </tr>\n",
       "    <tr>\n",
       "      <th>6</th>\n",
       "      <td>Non-Creditworthy</td>\n",
       "      <td>No Account</td>\n",
       "      <td>6</td>\n",
       "      <td>Some Problems</td>\n",
       "      <td>Home Related</td>\n",
       "      <td>433</td>\n",
       "      <td>£100-£1000</td>\n",
       "      <td>&lt; 1yr</td>\n",
       "      <td>4</td>\n",
       "      <td>None</td>\n",
       "      <td>2</td>\n",
       "      <td>24.0</td>\n",
       "      <td>Other Banks/Depts</td>\n",
       "      <td>1</td>\n",
       "      <td>1</td>\n",
       "      <td>1</td>\n",
       "      <td>2</td>\n",
       "      <td>1</td>\n",
       "      <td>1</td>\n",
       "    </tr>\n",
       "    <tr>\n",
       "      <th>7</th>\n",
       "      <td>Creditworthy</td>\n",
       "      <td>No Account</td>\n",
       "      <td>6</td>\n",
       "      <td>Paid Up</td>\n",
       "      <td>Home Related</td>\n",
       "      <td>454</td>\n",
       "      <td>None</td>\n",
       "      <td>&lt; 1yr</td>\n",
       "      <td>3</td>\n",
       "      <td>None</td>\n",
       "      <td>2</td>\n",
       "      <td>22.0</td>\n",
       "      <td>Other Banks/Depts</td>\n",
       "      <td>2</td>\n",
       "      <td>1</td>\n",
       "      <td>1</td>\n",
       "      <td>1</td>\n",
       "      <td>1</td>\n",
       "      <td>1</td>\n",
       "    </tr>\n",
       "    <tr>\n",
       "      <th>8</th>\n",
       "      <td>Creditworthy</td>\n",
       "      <td>No Account</td>\n",
       "      <td>6</td>\n",
       "      <td>Paid Up</td>\n",
       "      <td>Home Related</td>\n",
       "      <td>484</td>\n",
       "      <td>None</td>\n",
       "      <td>1-4 yrs</td>\n",
       "      <td>3</td>\n",
       "      <td>Yes</td>\n",
       "      <td>1</td>\n",
       "      <td>28.0</td>\n",
       "      <td>Other Banks/Depts</td>\n",
       "      <td>2</td>\n",
       "      <td>1</td>\n",
       "      <td>1</td>\n",
       "      <td>1</td>\n",
       "      <td>1</td>\n",
       "      <td>1</td>\n",
       "    </tr>\n",
       "    <tr>\n",
       "      <th>9</th>\n",
       "      <td>Creditworthy</td>\n",
       "      <td>Some Balance</td>\n",
       "      <td>6</td>\n",
       "      <td>Paid Up</td>\n",
       "      <td>Home Related</td>\n",
       "      <td>660</td>\n",
       "      <td>£100-£1000</td>\n",
       "      <td>1-4 yrs</td>\n",
       "      <td>2</td>\n",
       "      <td>None</td>\n",
       "      <td>1</td>\n",
       "      <td>23.0</td>\n",
       "      <td>Other Banks/Depts</td>\n",
       "      <td>1</td>\n",
       "      <td>1</td>\n",
       "      <td>1</td>\n",
       "      <td>1</td>\n",
       "      <td>1</td>\n",
       "      <td>1</td>\n",
       "    </tr>\n",
       "  </tbody>\n",
       "</table>\n",
       "</div>"
      ],
      "text/plain": [
       "  Credit-Application-Result Account-Balance  Duration-of-Credit-Month  \\\n",
       "0              Creditworthy    Some Balance                         4   \n",
       "1              Creditworthy    Some Balance                         4   \n",
       "2              Creditworthy    Some Balance                         4   \n",
       "3              Creditworthy    Some Balance                         4   \n",
       "4              Creditworthy      No Account                         6   \n",
       "5              Creditworthy    Some Balance                         6   \n",
       "6          Non-Creditworthy      No Account                         6   \n",
       "7              Creditworthy      No Account                         6   \n",
       "8              Creditworthy      No Account                         6   \n",
       "9              Creditworthy    Some Balance                         6   \n",
       "\n",
       "  Payment-Status-of-Previous-Credit       Purpose  Credit-Amount  \\\n",
       "0                           Paid Up         Other           1494   \n",
       "1                           Paid Up  Home Related           1494   \n",
       "2        No Problems (in this bank)  Home Related           1544   \n",
       "3        No Problems (in this bank)  Home Related           3380   \n",
       "4                           Paid Up  Home Related            343   \n",
       "5        No Problems (in this bank)  Home Related            362   \n",
       "6                     Some Problems  Home Related            433   \n",
       "7                           Paid Up  Home Related            454   \n",
       "8                           Paid Up  Home Related            484   \n",
       "9                           Paid Up  Home Related            660   \n",
       "\n",
       "  Value-Savings-Stocks Length-of-current-employment  Instalment-per-cent  \\\n",
       "0           £100-£1000                        < 1yr                    1   \n",
       "1           £100-£1000                        < 1yr                    1   \n",
       "2                 None                      1-4 yrs                    2   \n",
       "3                 None                      1-4 yrs                    1   \n",
       "4                 None                        < 1yr                    4   \n",
       "5               < £100                        < 1yr                    4   \n",
       "6           £100-£1000                        < 1yr                    4   \n",
       "7                 None                        < 1yr                    3   \n",
       "8                 None                      1-4 yrs                    3   \n",
       "9           £100-£1000                      1-4 yrs                    2   \n",
       "\n",
       "  Guarantors  Most-valuable-available-asset  Age-years Concurrent-Credits  \\\n",
       "0       None                              1        NaN  Other Banks/Depts   \n",
       "1       None                              1       29.0  Other Banks/Depts   \n",
       "2       None                              1       42.0  Other Banks/Depts   \n",
       "3       None                              1       37.0  Other Banks/Depts   \n",
       "4       None                              1       27.0  Other Banks/Depts   \n",
       "5       None                              3       52.0  Other Banks/Depts   \n",
       "6       None                              2       24.0  Other Banks/Depts   \n",
       "7       None                              2       22.0  Other Banks/Depts   \n",
       "8        Yes                              1       28.0  Other Banks/Depts   \n",
       "9       None                              1       23.0  Other Banks/Depts   \n",
       "\n",
       "   Type-of-apartment No-of-Credits-at-this-Bank  Occupation  No-of-dependents  \\\n",
       "0                  2                          1           1                 2   \n",
       "1                  2                          1           1                 2   \n",
       "2                  2                More than 1           1                 2   \n",
       "3                  2                          1           1                 2   \n",
       "4                  2                          1           1                 1   \n",
       "5                  2                More than 1           1                 1   \n",
       "6                  1                          1           1                 2   \n",
       "7                  2                          1           1                 1   \n",
       "8                  2                          1           1                 1   \n",
       "9                  1                          1           1                 1   \n",
       "\n",
       "   Telephone  Foreign-Worker  \n",
       "0          1               2  \n",
       "1          1               2  \n",
       "2          1               1  \n",
       "3          1               1  \n",
       "4          1               1  \n",
       "5          1               1  \n",
       "6          1               1  \n",
       "7          1               1  \n",
       "8          1               1  \n",
       "9          1               1  "
      ]
     },
     "execution_count": 10,
     "metadata": {},
     "output_type": "execute_result"
    }
   ],
   "source": [
    "old_applicants.head(10)"
   ]
  },
  {
   "cell_type": "code",
   "execution_count": 11,
   "metadata": {},
   "outputs": [],
   "source": [
    "pd.options.display.max_columns = 30"
   ]
  },
  {
   "cell_type": "code",
   "execution_count": 12,
   "metadata": {},
   "outputs": [],
   "source": [
    "# np.where(old_applicants[\"Credit-Application-Result\"] == \"Creditworthy\", 1, 0)"
   ]
  },
  {
   "cell_type": "code",
   "execution_count": 13,
   "metadata": {},
   "outputs": [],
   "source": [
    "# old_applicants_dummies = \n",
    "old_applicants_dummies = pd.get_dummies(old_applicants, columns = ['Credit-Application-Result', 'Account-Balance', 'Payment-Status-of-Previous-Credit', 'Purpose', 'Value-Savings-Stocks', 'Length-of-current-employment', 'Guarantors', 'Concurrent-Credits', 'No-of-Credits-at-this-Bank'], drop_first=True)\n"
   ]
  },
  {
   "cell_type": "code",
   "execution_count": 14,
   "metadata": {
    "scrolled": false
   },
   "outputs": [
    {
     "data": {
      "text/html": [
       "<div>\n",
       "<style scoped>\n",
       "    .dataframe tbody tr th:only-of-type {\n",
       "        vertical-align: middle;\n",
       "    }\n",
       "\n",
       "    .dataframe tbody tr th {\n",
       "        vertical-align: top;\n",
       "    }\n",
       "\n",
       "    .dataframe thead th {\n",
       "        text-align: right;\n",
       "    }\n",
       "</style>\n",
       "<table border=\"1\" class=\"dataframe\">\n",
       "  <thead>\n",
       "    <tr style=\"text-align: right;\">\n",
       "      <th></th>\n",
       "      <th>Duration-of-Credit-Month</th>\n",
       "      <th>Credit-Amount</th>\n",
       "      <th>Instalment-per-cent</th>\n",
       "      <th>Most-valuable-available-asset</th>\n",
       "      <th>Age-years</th>\n",
       "      <th>Type-of-apartment</th>\n",
       "      <th>Occupation</th>\n",
       "      <th>No-of-dependents</th>\n",
       "      <th>Telephone</th>\n",
       "      <th>Foreign-Worker</th>\n",
       "      <th>Credit-Application-Result_Non-Creditworthy</th>\n",
       "      <th>Account-Balance_Some Balance</th>\n",
       "      <th>Payment-Status-of-Previous-Credit_Paid Up</th>\n",
       "      <th>Payment-Status-of-Previous-Credit_Some Problems</th>\n",
       "      <th>Purpose_New car</th>\n",
       "      <th>Purpose_Other</th>\n",
       "      <th>Purpose_Used car</th>\n",
       "      <th>Value-Savings-Stocks_None</th>\n",
       "      <th>Value-Savings-Stocks_£100-£1000</th>\n",
       "      <th>Length-of-current-employment_4-7 yrs</th>\n",
       "      <th>Length-of-current-employment_&lt; 1yr</th>\n",
       "      <th>Guarantors_Yes</th>\n",
       "      <th>No-of-Credits-at-this-Bank_More than 1</th>\n",
       "    </tr>\n",
       "  </thead>\n",
       "  <tbody>\n",
       "    <tr>\n",
       "      <th>0</th>\n",
       "      <td>4</td>\n",
       "      <td>1494</td>\n",
       "      <td>1</td>\n",
       "      <td>1</td>\n",
       "      <td>NaN</td>\n",
       "      <td>2</td>\n",
       "      <td>1</td>\n",
       "      <td>2</td>\n",
       "      <td>1</td>\n",
       "      <td>2</td>\n",
       "      <td>0</td>\n",
       "      <td>1</td>\n",
       "      <td>1</td>\n",
       "      <td>0</td>\n",
       "      <td>0</td>\n",
       "      <td>1</td>\n",
       "      <td>0</td>\n",
       "      <td>0</td>\n",
       "      <td>1</td>\n",
       "      <td>0</td>\n",
       "      <td>1</td>\n",
       "      <td>0</td>\n",
       "      <td>0</td>\n",
       "    </tr>\n",
       "    <tr>\n",
       "      <th>1</th>\n",
       "      <td>4</td>\n",
       "      <td>1494</td>\n",
       "      <td>1</td>\n",
       "      <td>1</td>\n",
       "      <td>29.0</td>\n",
       "      <td>2</td>\n",
       "      <td>1</td>\n",
       "      <td>2</td>\n",
       "      <td>1</td>\n",
       "      <td>2</td>\n",
       "      <td>0</td>\n",
       "      <td>1</td>\n",
       "      <td>1</td>\n",
       "      <td>0</td>\n",
       "      <td>0</td>\n",
       "      <td>0</td>\n",
       "      <td>0</td>\n",
       "      <td>0</td>\n",
       "      <td>1</td>\n",
       "      <td>0</td>\n",
       "      <td>1</td>\n",
       "      <td>0</td>\n",
       "      <td>0</td>\n",
       "    </tr>\n",
       "    <tr>\n",
       "      <th>2</th>\n",
       "      <td>4</td>\n",
       "      <td>1544</td>\n",
       "      <td>2</td>\n",
       "      <td>1</td>\n",
       "      <td>42.0</td>\n",
       "      <td>2</td>\n",
       "      <td>1</td>\n",
       "      <td>2</td>\n",
       "      <td>1</td>\n",
       "      <td>1</td>\n",
       "      <td>0</td>\n",
       "      <td>1</td>\n",
       "      <td>0</td>\n",
       "      <td>0</td>\n",
       "      <td>0</td>\n",
       "      <td>0</td>\n",
       "      <td>0</td>\n",
       "      <td>1</td>\n",
       "      <td>0</td>\n",
       "      <td>0</td>\n",
       "      <td>0</td>\n",
       "      <td>0</td>\n",
       "      <td>1</td>\n",
       "    </tr>\n",
       "    <tr>\n",
       "      <th>3</th>\n",
       "      <td>4</td>\n",
       "      <td>3380</td>\n",
       "      <td>1</td>\n",
       "      <td>1</td>\n",
       "      <td>37.0</td>\n",
       "      <td>2</td>\n",
       "      <td>1</td>\n",
       "      <td>2</td>\n",
       "      <td>1</td>\n",
       "      <td>1</td>\n",
       "      <td>0</td>\n",
       "      <td>1</td>\n",
       "      <td>0</td>\n",
       "      <td>0</td>\n",
       "      <td>0</td>\n",
       "      <td>0</td>\n",
       "      <td>0</td>\n",
       "      <td>1</td>\n",
       "      <td>0</td>\n",
       "      <td>0</td>\n",
       "      <td>0</td>\n",
       "      <td>0</td>\n",
       "      <td>0</td>\n",
       "    </tr>\n",
       "    <tr>\n",
       "      <th>4</th>\n",
       "      <td>6</td>\n",
       "      <td>343</td>\n",
       "      <td>4</td>\n",
       "      <td>1</td>\n",
       "      <td>27.0</td>\n",
       "      <td>2</td>\n",
       "      <td>1</td>\n",
       "      <td>1</td>\n",
       "      <td>1</td>\n",
       "      <td>1</td>\n",
       "      <td>0</td>\n",
       "      <td>0</td>\n",
       "      <td>1</td>\n",
       "      <td>0</td>\n",
       "      <td>0</td>\n",
       "      <td>0</td>\n",
       "      <td>0</td>\n",
       "      <td>1</td>\n",
       "      <td>0</td>\n",
       "      <td>0</td>\n",
       "      <td>1</td>\n",
       "      <td>0</td>\n",
       "      <td>0</td>\n",
       "    </tr>\n",
       "  </tbody>\n",
       "</table>\n",
       "</div>"
      ],
      "text/plain": [
       "   Duration-of-Credit-Month  Credit-Amount  Instalment-per-cent  \\\n",
       "0                         4           1494                    1   \n",
       "1                         4           1494                    1   \n",
       "2                         4           1544                    2   \n",
       "3                         4           3380                    1   \n",
       "4                         6            343                    4   \n",
       "\n",
       "   Most-valuable-available-asset  Age-years  Type-of-apartment  Occupation  \\\n",
       "0                              1        NaN                  2           1   \n",
       "1                              1       29.0                  2           1   \n",
       "2                              1       42.0                  2           1   \n",
       "3                              1       37.0                  2           1   \n",
       "4                              1       27.0                  2           1   \n",
       "\n",
       "   No-of-dependents  Telephone  Foreign-Worker  \\\n",
       "0                 2          1               2   \n",
       "1                 2          1               2   \n",
       "2                 2          1               1   \n",
       "3                 2          1               1   \n",
       "4                 1          1               1   \n",
       "\n",
       "   Credit-Application-Result_Non-Creditworthy  Account-Balance_Some Balance  \\\n",
       "0                                           0                             1   \n",
       "1                                           0                             1   \n",
       "2                                           0                             1   \n",
       "3                                           0                             1   \n",
       "4                                           0                             0   \n",
       "\n",
       "   Payment-Status-of-Previous-Credit_Paid Up  \\\n",
       "0                                          1   \n",
       "1                                          1   \n",
       "2                                          0   \n",
       "3                                          0   \n",
       "4                                          1   \n",
       "\n",
       "   Payment-Status-of-Previous-Credit_Some Problems  Purpose_New car  \\\n",
       "0                                                0                0   \n",
       "1                                                0                0   \n",
       "2                                                0                0   \n",
       "3                                                0                0   \n",
       "4                                                0                0   \n",
       "\n",
       "   Purpose_Other  Purpose_Used car  Value-Savings-Stocks_None  \\\n",
       "0              1                 0                          0   \n",
       "1              0                 0                          0   \n",
       "2              0                 0                          1   \n",
       "3              0                 0                          1   \n",
       "4              0                 0                          1   \n",
       "\n",
       "   Value-Savings-Stocks_£100-£1000  Length-of-current-employment_4-7 yrs  \\\n",
       "0                                1                                     0   \n",
       "1                                1                                     0   \n",
       "2                                0                                     0   \n",
       "3                                0                                     0   \n",
       "4                                0                                     0   \n",
       "\n",
       "   Length-of-current-employment_< 1yr  Guarantors_Yes  \\\n",
       "0                                   1               0   \n",
       "1                                   1               0   \n",
       "2                                   0               0   \n",
       "3                                   0               0   \n",
       "4                                   1               0   \n",
       "\n",
       "   No-of-Credits-at-this-Bank_More than 1  \n",
       "0                                       0  \n",
       "1                                       0  \n",
       "2                                       1  \n",
       "3                                       0  \n",
       "4                                       0  "
      ]
     },
     "execution_count": 14,
     "metadata": {},
     "output_type": "execute_result"
    }
   ],
   "source": [
    "old_applicants_dummies.head()\n"
   ]
  },
  {
   "cell_type": "code",
   "execution_count": 15,
   "metadata": {},
   "outputs": [
    {
     "data": {
      "text/plain": [
       "Index(['Duration-of-Credit-Month', 'Credit-Amount', 'Instalment-per-cent',\n",
       "       'Most-valuable-available-asset', 'Age-years', 'Type-of-apartment',\n",
       "       'Occupation', 'No-of-dependents', 'Telephone', 'Foreign-Worker',\n",
       "       'Credit-Application-Result_Non-Creditworthy',\n",
       "       'Account-Balance_Some Balance',\n",
       "       'Payment-Status-of-Previous-Credit_Paid Up',\n",
       "       'Payment-Status-of-Previous-Credit_Some Problems', 'Purpose_New car',\n",
       "       'Purpose_Other', 'Purpose_Used car', 'Value-Savings-Stocks_None',\n",
       "       'Value-Savings-Stocks_£100-£1000',\n",
       "       'Length-of-current-employment_4-7 yrs',\n",
       "       'Length-of-current-employment_< 1yr', 'Guarantors_Yes',\n",
       "       'No-of-Credits-at-this-Bank_More than 1'],\n",
       "      dtype='object')"
      ]
     },
     "execution_count": 15,
     "metadata": {},
     "output_type": "execute_result"
    }
   ],
   "source": [
    "old_applicants_dummies.columns\n"
   ]
  },
  {
   "cell_type": "markdown",
   "metadata": {},
   "source": [
    "# Split old_appliants Data 1st Round"
   ]
  },
  {
   "cell_type": "code",
   "execution_count": 16,
   "metadata": {},
   "outputs": [],
   "source": [
    "# using given random state to obtain the same split\n",
    "# You should choose 70% to create the Estimation set and 30% to create the Validation set. \n",
    "# Set the Random Seed to 1 if you're using Alteryx.\n",
    "# old_applicants_dummies['Credit-Application-Result_Non-Creditworthy'] 1 = Non-Creditworthy\n",
    "\n",
    "X = old_applicants_dummies.loc[:, ~old_applicants_dummies.columns.isin(['Credit-Application-Result_Non-Creditworthy'])].copy()\n",
    "y = old_applicants_dummies['Credit-Application-Result_Non-Creditworthy'].copy()\n",
    "\n",
    "\n",
    "X_train, X_test, y_train, y_test = train_test_split(X, y, random_state = 1, train_size = 0.7)\n",
    "\n"
   ]
  },
  {
   "cell_type": "code",
   "execution_count": 17,
   "metadata": {},
   "outputs": [
    {
     "name": "stdout",
     "output_type": "stream",
     "text": [
      "Duration-of-Credit-Month                             18.0\n",
      "Credit-Amount                                      2176.0\n",
      "Instalment-per-cent                                   3.0\n",
      "Most-valuable-available-asset                         2.0\n",
      "Age-years                                            33.0\n",
      "Type-of-apartment                                     2.0\n",
      "Occupation                                            1.0\n",
      "No-of-dependents                                      1.0\n",
      "Telephone                                             1.0\n",
      "Foreign-Worker                                        1.0\n",
      "Account-Balance_Some Balance                          0.0\n",
      "Payment-Status-of-Previous-Credit_Paid Up             1.0\n",
      "Payment-Status-of-Previous-Credit_Some Problems       0.0\n",
      "Purpose_New car                                       0.0\n",
      "Purpose_Other                                         0.0\n",
      "Purpose_Used car                                      0.0\n",
      "Value-Savings-Stocks_None                             1.0\n",
      "Value-Savings-Stocks_£100-£1000                       0.0\n",
      "Length-of-current-employment_4-7 yrs                  0.0\n",
      "Length-of-current-employment_< 1yr                    1.0\n",
      "Guarantors_Yes                                        0.0\n",
      "No-of-Credits-at-this-Bank_More than 1                0.0\n",
      "dtype: float64\n"
     ]
    }
   ],
   "source": [
    "# impute missing information w/ median value of training set. Age-years is the only feature with missing data.\n",
    "training_median = X_train.median()\n",
    "X_train = X_train.fillna(training_median)\n",
    "X_test = X_test.fillna(training_median)\n",
    "\n",
    "print(training_median)"
   ]
  },
  {
   "cell_type": "code",
   "execution_count": 18,
   "metadata": {},
   "outputs": [
    {
     "data": {
      "text/plain": [
       "Duration-of-Credit-Month                           0\n",
       "Credit-Amount                                      0\n",
       "Instalment-per-cent                                0\n",
       "Most-valuable-available-asset                      0\n",
       "Age-years                                          0\n",
       "Type-of-apartment                                  0\n",
       "Occupation                                         0\n",
       "No-of-dependents                                   0\n",
       "Telephone                                          0\n",
       "Foreign-Worker                                     0\n",
       "Account-Balance_Some Balance                       0\n",
       "Payment-Status-of-Previous-Credit_Paid Up          0\n",
       "Payment-Status-of-Previous-Credit_Some Problems    0\n",
       "Purpose_New car                                    0\n",
       "Purpose_Other                                      0\n",
       "Purpose_Used car                                   0\n",
       "Value-Savings-Stocks_None                          0\n",
       "Value-Savings-Stocks_£100-£1000                    0\n",
       "Length-of-current-employment_4-7 yrs               0\n",
       "Length-of-current-employment_< 1yr                 0\n",
       "Guarantors_Yes                                     0\n",
       "No-of-Credits-at-this-Bank_More than 1             0\n",
       "dtype: int64"
      ]
     },
     "execution_count": 18,
     "metadata": {},
     "output_type": "execute_result"
    }
   ],
   "source": [
    "X_train.isnull().sum()"
   ]
  },
  {
   "cell_type": "code",
   "execution_count": 19,
   "metadata": {
    "scrolled": true
   },
   "outputs": [
    {
     "name": "stdout",
     "output_type": "stream",
     "text": [
      "(350, 22)\n",
      "(150, 22)\n",
      "(350,)\n",
      "(150,)\n"
     ]
    }
   ],
   "source": [
    "print(X_train.shape)\n",
    "print(X_test.shape)\n",
    "print(y_train.shape)\n",
    "print(y_test.shape)"
   ]
  },
  {
   "cell_type": "markdown",
   "metadata": {},
   "source": [
    "# Removing Features Based On Variance"
   ]
  },
  {
   "cell_type": "code",
   "execution_count": 20,
   "metadata": {},
   "outputs": [],
   "source": [
    "from sklearn.feature_selection import VarianceThreshold\n",
    "selector = VarianceThreshold(threshold = 0.0)\n",
    "selector = selector.fit_transform(X_train)"
   ]
  },
  {
   "cell_type": "code",
   "execution_count": 21,
   "metadata": {},
   "outputs": [
    {
     "data": {
      "text/plain": [
       "Duration-of-Credit-Month                               146.560\n",
       "Credit-Amount                                      7801794.006\n",
       "Instalment-per-cent                                      1.248\n",
       "Most-valuable-available-asset                            1.132\n",
       "Age-years                                              131.136\n",
       "Type-of-apartment                                        0.282\n",
       "Occupation                                               0.000\n",
       "No-of-dependents                                         0.139\n",
       "Telephone                                                0.242\n",
       "Foreign-Worker                                           0.036\n",
       "Account-Balance_Some Balance                             0.251\n",
       "Payment-Status-of-Previous-Credit_Paid Up                0.250\n",
       "Payment-Status-of-Previous-Credit_Some Problems          0.044\n",
       "Purpose_New car                                          0.076\n",
       "Purpose_Other                                            0.025\n",
       "Purpose_Used car                                         0.142\n",
       "Value-Savings-Stocks_None                                0.241\n",
       "Value-Savings-Stocks_£100-£1000                          0.211\n",
       "Length-of-current-employment_4-7 yrs                     0.189\n",
       "Length-of-current-employment_< 1yr                       0.249\n",
       "Guarantors_Yes                                           0.069\n",
       "No-of-Credits-at-this-Bank_More than 1                   0.236\n",
       "dtype: float64"
      ]
     },
     "execution_count": 21,
     "metadata": {},
     "output_type": "execute_result"
    }
   ],
   "source": [
    "X_train.var(axis=0).round(3)"
   ]
  },
  {
   "cell_type": "code",
   "execution_count": 22,
   "metadata": {},
   "outputs": [
    {
     "data": {
      "text/plain": [
       "array([1.46141000e+02, 7.77950317e+06, 1.24500000e+00, 1.12900000e+00,\n",
       "       1.30762000e+02, 2.81000000e-01, 1.38000000e-01, 2.41000000e-01,\n",
       "       3.60000000e-02, 2.50000000e-01, 2.49000000e-01, 4.40000000e-02,\n",
       "       7.60000000e-02, 2.50000000e-02, 1.42000000e-01, 2.40000000e-01,\n",
       "       2.10000000e-01, 1.88000000e-01, 2.48000000e-01, 6.90000000e-02,\n",
       "       2.35000000e-01])"
      ]
     },
     "execution_count": 22,
     "metadata": {},
     "output_type": "execute_result"
    }
   ],
   "source": [
    "# Notice Concurrent-Credits and Occupation have both been removed from the dataset. There are only 17 columns now.\n",
    "selector.var(axis=0).round(3)"
   ]
  },
  {
   "cell_type": "code",
   "execution_count": 23,
   "metadata": {},
   "outputs": [
    {
     "data": {
      "text/plain": [
       "Duration-of-Credit-Month                           1.465602e+02\n",
       "Credit-Amount                                      7.801794e+06\n",
       "Instalment-per-cent                                1.248465e+00\n",
       "Most-valuable-available-asset                      1.132345e+00\n",
       "Age-years                                          1.311363e+02\n",
       "Type-of-apartment                                  2.818256e-01\n",
       "Occupation                                         0.000000e+00\n",
       "No-of-dependents                                   1.386492e-01\n",
       "Telephone                                          2.418011e-01\n",
       "Foreign-Worker                                     3.586574e-02\n",
       "Account-Balance_Some Balance                       2.506836e-01\n",
       "Payment-Status-of-Previous-Credit_Paid Up          2.495375e-01\n",
       "Payment-Status-of-Previous-Credit_Some Problems    4.374949e-02\n",
       "Purpose_New car                                    7.620958e-02\n",
       "Purpose_Other                                      2.512485e-02\n",
       "Purpose_Used car                                   1.424478e-01\n",
       "Value-Savings-Stocks_None                          2.406877e-01\n",
       "Value-Savings-Stocks_£100-£1000                    2.106017e-01\n",
       "Length-of-current-employment_4-7 yrs               1.887515e-01\n",
       "Length-of-current-employment_< 1yr                 2.486205e-01\n",
       "Guarantors_Yes                                     6.896439e-02\n",
       "No-of-Credits-at-this-Bank_More than 1             2.355792e-01\n",
       "dtype: float64"
      ]
     },
     "execution_count": 23,
     "metadata": {},
     "output_type": "execute_result"
    }
   ],
   "source": [
    "# testing df_trfaining_corr dataset for low variance\n",
    "X_train.var(axis=0)"
   ]
  },
  {
   "cell_type": "code",
   "execution_count": 24,
   "metadata": {},
   "outputs": [],
   "source": [
    "# dropping columns with zero variance\n",
    "# X_train = X_train.drop(columns = ['Occupation'])"
   ]
  },
  {
   "cell_type": "code",
   "execution_count": 25,
   "metadata": {
    "scrolled": true
   },
   "outputs": [],
   "source": [
    "# display dataset with columns dropped\n",
    "# X_train.columns"
   ]
  },
  {
   "cell_type": "markdown",
   "metadata": {},
   "source": [
    "Occupation is going to dropped from the dataset in the next section due to variance. Interestingly _Concurrent-Credits_ would have also been dropped due to having a variance of zero, but it was dropped from the dataset after running pd.get_dummies() function ealier. Therefore it did not appear in this section. I beleive this is due to it only having one value (i.e. it is dropped naturally because it only has one value _Other Banks/Depts_)."
   ]
  },
  {
   "cell_type": "markdown",
   "metadata": {},
   "source": [
    "# Split old_appliants Data 2nd Round"
   ]
  },
  {
   "cell_type": "code",
   "execution_count": 26,
   "metadata": {},
   "outputs": [],
   "source": [
    "# the first split allowed me to look at variance across all features that will be split.\n",
    "# this second round is allowing me to re-copy the original dataset and drop the attributes I do not want\n",
    "# in this case I am dropping Occupation due to variance\n",
    "# there is probably a more elegant way to do this, but I have not figured that out yet\n",
    "\n",
    "X = old_applicants_dummies.loc[:, ~old_applicants_dummies.columns.isin(['Credit-Application-Result_Non-Creditworthy', 'Occupation'])].copy()\n",
    "y = old_applicants_dummies['Credit-Application-Result_Non-Creditworthy'].copy()\n",
    "\n",
    "X_train, X_test, y_train, y_test = train_test_split(X, y, random_state = 1, train_size = 0.7)\n"
   ]
  },
  {
   "cell_type": "code",
   "execution_count": 27,
   "metadata": {},
   "outputs": [
    {
     "name": "stdout",
     "output_type": "stream",
     "text": [
      "Duration-of-Credit-Month                             18.0\n",
      "Credit-Amount                                      2176.0\n",
      "Instalment-per-cent                                   3.0\n",
      "Most-valuable-available-asset                         2.0\n",
      "Age-years                                            33.0\n",
      "Type-of-apartment                                     2.0\n",
      "No-of-dependents                                      1.0\n",
      "Telephone                                             1.0\n",
      "Foreign-Worker                                        1.0\n",
      "Account-Balance_Some Balance                          0.0\n",
      "Payment-Status-of-Previous-Credit_Paid Up             1.0\n",
      "Payment-Status-of-Previous-Credit_Some Problems       0.0\n",
      "Purpose_New car                                       0.0\n",
      "Purpose_Other                                         0.0\n",
      "Purpose_Used car                                      0.0\n",
      "Value-Savings-Stocks_None                             1.0\n",
      "Value-Savings-Stocks_£100-£1000                       0.0\n",
      "Length-of-current-employment_4-7 yrs                  0.0\n",
      "Length-of-current-employment_< 1yr                    1.0\n",
      "Guarantors_Yes                                        0.0\n",
      "No-of-Credits-at-this-Bank_More than 1                0.0\n",
      "dtype: float64\n"
     ]
    }
   ],
   "source": [
    "# impute missing information w/ median value of training set. Age-years is the only feature with missing data.\n",
    "training_median = X_train.median()\n",
    "X_train = X_train.fillna(training_median)\n",
    "X_test = X_test.fillna(training_median)\n",
    "\n",
    "print(training_median)"
   ]
  },
  {
   "cell_type": "code",
   "execution_count": 28,
   "metadata": {},
   "outputs": [
    {
     "data": {
      "text/plain": [
       "Duration-of-Credit-Month                           0\n",
       "Credit-Amount                                      0\n",
       "Instalment-per-cent                                0\n",
       "Most-valuable-available-asset                      0\n",
       "Age-years                                          0\n",
       "Type-of-apartment                                  0\n",
       "No-of-dependents                                   0\n",
       "Telephone                                          0\n",
       "Foreign-Worker                                     0\n",
       "Account-Balance_Some Balance                       0\n",
       "Payment-Status-of-Previous-Credit_Paid Up          0\n",
       "Payment-Status-of-Previous-Credit_Some Problems    0\n",
       "Purpose_New car                                    0\n",
       "Purpose_Other                                      0\n",
       "Purpose_Used car                                   0\n",
       "Value-Savings-Stocks_None                          0\n",
       "Value-Savings-Stocks_£100-£1000                    0\n",
       "Length-of-current-employment_4-7 yrs               0\n",
       "Length-of-current-employment_< 1yr                 0\n",
       "Guarantors_Yes                                     0\n",
       "No-of-Credits-at-this-Bank_More than 1             0\n",
       "dtype: int64"
      ]
     },
     "execution_count": 28,
     "metadata": {},
     "output_type": "execute_result"
    }
   ],
   "source": [
    "X_train.isnull().sum()"
   ]
  },
  {
   "cell_type": "code",
   "execution_count": 29,
   "metadata": {
    "scrolled": true
   },
   "outputs": [
    {
     "name": "stdout",
     "output_type": "stream",
     "text": [
      "(350, 21)\n",
      "(150, 21)\n",
      "(350,)\n",
      "(150,)\n"
     ]
    }
   ],
   "source": [
    "print(X_train.shape)\n",
    "print(X_test.shape)\n",
    "print(y_train.shape)\n",
    "print(y_test.shape)"
   ]
  },
  {
   "cell_type": "markdown",
   "metadata": {},
   "source": [
    "# <span style=\"color:red\">Correlation</span>"
   ]
  },
  {
   "cell_type": "code",
   "execution_count": 31,
   "metadata": {},
   "outputs": [
    {
     "data": {
      "text/plain": [
       "(21, 21)"
      ]
     },
     "execution_count": 31,
     "metadata": {},
     "output_type": "execute_result"
    }
   ],
   "source": [
    "corr = X.corr()\n",
    "corr.shape"
   ]
  },
  {
   "cell_type": "code",
   "execution_count": 32,
   "metadata": {},
   "outputs": [
    {
     "data": {
      "text/html": [
       "<div>\n",
       "<style scoped>\n",
       "    .dataframe tbody tr th:only-of-type {\n",
       "        vertical-align: middle;\n",
       "    }\n",
       "\n",
       "    .dataframe tbody tr th {\n",
       "        vertical-align: top;\n",
       "    }\n",
       "\n",
       "    .dataframe thead th {\n",
       "        text-align: right;\n",
       "    }\n",
       "</style>\n",
       "<table border=\"1\" class=\"dataframe\">\n",
       "  <thead>\n",
       "    <tr style=\"text-align: right;\">\n",
       "      <th></th>\n",
       "      <th>Duration-of-Credit-Month</th>\n",
       "      <th>Credit-Amount</th>\n",
       "      <th>Instalment-per-cent</th>\n",
       "      <th>Most-valuable-available-asset</th>\n",
       "      <th>Age-years</th>\n",
       "      <th>Type-of-apartment</th>\n",
       "      <th>No-of-dependents</th>\n",
       "      <th>Telephone</th>\n",
       "      <th>Foreign-Worker</th>\n",
       "      <th>Account-Balance_Some Balance</th>\n",
       "      <th>Payment-Status-of-Previous-Credit_Paid Up</th>\n",
       "      <th>Payment-Status-of-Previous-Credit_Some Problems</th>\n",
       "      <th>Purpose_New car</th>\n",
       "      <th>Purpose_Other</th>\n",
       "      <th>Purpose_Used car</th>\n",
       "      <th>Value-Savings-Stocks_None</th>\n",
       "      <th>Value-Savings-Stocks_£100-£1000</th>\n",
       "      <th>Length-of-current-employment_4-7 yrs</th>\n",
       "      <th>Length-of-current-employment_&lt; 1yr</th>\n",
       "      <th>Guarantors_Yes</th>\n",
       "      <th>No-of-Credits-at-this-Bank_More than 1</th>\n",
       "    </tr>\n",
       "  </thead>\n",
       "  <tbody>\n",
       "    <tr>\n",
       "      <th>Duration-of-Credit-Month</th>\n",
       "      <td>1.000000</td>\n",
       "      <td>0.573980</td>\n",
       "      <td>0.068106</td>\n",
       "      <td>0.299855</td>\n",
       "      <td>-0.066319</td>\n",
       "      <td>0.152516</td>\n",
       "      <td>-0.065269</td>\n",
       "      <td>0.143176</td>\n",
       "      <td>-0.115916</td>\n",
       "      <td>-0.101065</td>\n",
       "      <td>-0.109998</td>\n",
       "      <td>0.128614</td>\n",
       "      <td>0.124637</td>\n",
       "      <td>-0.020511</td>\n",
       "      <td>-0.087009</td>\n",
       "      <td>-0.016685</td>\n",
       "      <td>-0.012274</td>\n",
       "      <td>0.010993</td>\n",
       "      <td>-0.008544</td>\n",
       "      <td>-0.005026</td>\n",
       "      <td>-0.019696</td>\n",
       "    </tr>\n",
       "    <tr>\n",
       "      <th>Credit-Amount</th>\n",
       "      <td>0.573980</td>\n",
       "      <td>1.000000</td>\n",
       "      <td>-0.288852</td>\n",
       "      <td>0.325545</td>\n",
       "      <td>0.068643</td>\n",
       "      <td>0.170071</td>\n",
       "      <td>0.003986</td>\n",
       "      <td>0.286338</td>\n",
       "      <td>0.025493</td>\n",
       "      <td>-0.133727</td>\n",
       "      <td>-0.071926</td>\n",
       "      <td>0.087823</td>\n",
       "      <td>0.227785</td>\n",
       "      <td>0.004420</td>\n",
       "      <td>-0.062605</td>\n",
       "      <td>0.006079</td>\n",
       "      <td>-0.011770</td>\n",
       "      <td>-0.006467</td>\n",
       "      <td>0.055939</td>\n",
       "      <td>-0.019049</td>\n",
       "      <td>-0.053785</td>\n",
       "    </tr>\n",
       "    <tr>\n",
       "      <th>Instalment-per-cent</th>\n",
       "      <td>0.068106</td>\n",
       "      <td>-0.288852</td>\n",
       "      <td>1.000000</td>\n",
       "      <td>0.081493</td>\n",
       "      <td>0.040540</td>\n",
       "      <td>0.074533</td>\n",
       "      <td>-0.125894</td>\n",
       "      <td>0.029354</td>\n",
       "      <td>-0.133411</td>\n",
       "      <td>0.070618</td>\n",
       "      <td>-0.041737</td>\n",
       "      <td>0.011405</td>\n",
       "      <td>-0.095290</td>\n",
       "      <td>0.051107</td>\n",
       "      <td>-0.086139</td>\n",
       "      <td>-0.025570</td>\n",
       "      <td>0.009578</td>\n",
       "      <td>0.153013</td>\n",
       "      <td>-0.147643</td>\n",
       "      <td>0.022889</td>\n",
       "      <td>0.056923</td>\n",
       "    </tr>\n",
       "    <tr>\n",
       "      <th>Most-valuable-available-asset</th>\n",
       "      <td>0.299855</td>\n",
       "      <td>0.325545</td>\n",
       "      <td>0.081493</td>\n",
       "      <td>1.000000</td>\n",
       "      <td>0.085437</td>\n",
       "      <td>0.373101</td>\n",
       "      <td>0.046454</td>\n",
       "      <td>0.203509</td>\n",
       "      <td>-0.146005</td>\n",
       "      <td>-0.006328</td>\n",
       "      <td>-0.100155</td>\n",
       "      <td>0.116729</td>\n",
       "      <td>0.148772</td>\n",
       "      <td>-0.048520</td>\n",
       "      <td>-0.029727</td>\n",
       "      <td>-0.035575</td>\n",
       "      <td>-0.034390</td>\n",
       "      <td>0.132246</td>\n",
       "      <td>-0.130451</td>\n",
       "      <td>-0.050187</td>\n",
       "      <td>0.024298</td>\n",
       "    </tr>\n",
       "    <tr>\n",
       "      <th>Age-years</th>\n",
       "      <td>-0.066319</td>\n",
       "      <td>0.068643</td>\n",
       "      <td>0.040540</td>\n",
       "      <td>0.085437</td>\n",
       "      <td>1.000000</td>\n",
       "      <td>0.333075</td>\n",
       "      <td>0.117735</td>\n",
       "      <td>0.176479</td>\n",
       "      <td>-0.003285</td>\n",
       "      <td>0.076365</td>\n",
       "      <td>-0.167846</td>\n",
       "      <td>-0.037487</td>\n",
       "      <td>0.065318</td>\n",
       "      <td>0.036708</td>\n",
       "      <td>-0.113880</td>\n",
       "      <td>-0.027574</td>\n",
       "      <td>0.061932</td>\n",
       "      <td>0.382493</td>\n",
       "      <td>-0.230254</td>\n",
       "      <td>-0.076797</td>\n",
       "      <td>0.125477</td>\n",
       "    </tr>\n",
       "    <tr>\n",
       "      <th>Type-of-apartment</th>\n",
       "      <td>0.152516</td>\n",
       "      <td>0.170071</td>\n",
       "      <td>0.074533</td>\n",
       "      <td>0.373101</td>\n",
       "      <td>0.333075</td>\n",
       "      <td>1.000000</td>\n",
       "      <td>0.170738</td>\n",
       "      <td>0.101443</td>\n",
       "      <td>-0.089848</td>\n",
       "      <td>0.090121</td>\n",
       "      <td>-0.091158</td>\n",
       "      <td>-0.034549</td>\n",
       "      <td>0.043005</td>\n",
       "      <td>-0.041742</td>\n",
       "      <td>-0.070011</td>\n",
       "      <td>0.041236</td>\n",
       "      <td>-0.023393</td>\n",
       "      <td>0.162551</td>\n",
       "      <td>-0.074021</td>\n",
       "      <td>-0.104555</td>\n",
       "      <td>0.053776</td>\n",
       "    </tr>\n",
       "    <tr>\n",
       "      <th>No-of-dependents</th>\n",
       "      <td>-0.065269</td>\n",
       "      <td>0.003986</td>\n",
       "      <td>-0.125894</td>\n",
       "      <td>0.046454</td>\n",
       "      <td>0.117735</td>\n",
       "      <td>0.170738</td>\n",
       "      <td>1.000000</td>\n",
       "      <td>-0.048559</td>\n",
       "      <td>0.065943</td>\n",
       "      <td>0.002858</td>\n",
       "      <td>-0.044895</td>\n",
       "      <td>0.038215</td>\n",
       "      <td>0.041496</td>\n",
       "      <td>-0.006309</td>\n",
       "      <td>-0.093132</td>\n",
       "      <td>-0.028949</td>\n",
       "      <td>0.030868</td>\n",
       "      <td>0.077330</td>\n",
       "      <td>-0.076801</td>\n",
       "      <td>0.014586</td>\n",
       "      <td>0.032096</td>\n",
       "    </tr>\n",
       "    <tr>\n",
       "      <th>Telephone</th>\n",
       "      <td>0.143176</td>\n",
       "      <td>0.286338</td>\n",
       "      <td>0.029354</td>\n",
       "      <td>0.203509</td>\n",
       "      <td>0.176479</td>\n",
       "      <td>0.101443</td>\n",
       "      <td>-0.048559</td>\n",
       "      <td>1.000000</td>\n",
       "      <td>-0.055516</td>\n",
       "      <td>0.006540</td>\n",
       "      <td>-0.049029</td>\n",
       "      <td>-0.022111</td>\n",
       "      <td>0.086734</td>\n",
       "      <td>-0.023932</td>\n",
       "      <td>-0.046083</td>\n",
       "      <td>-0.068222</td>\n",
       "      <td>0.056595</td>\n",
       "      <td>0.069955</td>\n",
       "      <td>-0.062475</td>\n",
       "      <td>-0.075719</td>\n",
       "      <td>-0.017010</td>\n",
       "    </tr>\n",
       "    <tr>\n",
       "      <th>Foreign-Worker</th>\n",
       "      <td>-0.115916</td>\n",
       "      <td>0.025493</td>\n",
       "      <td>-0.133411</td>\n",
       "      <td>-0.146005</td>\n",
       "      <td>-0.003285</td>\n",
       "      <td>-0.089848</td>\n",
       "      <td>0.065943</td>\n",
       "      <td>-0.055516</td>\n",
       "      <td>1.000000</td>\n",
       "      <td>-0.084702</td>\n",
       "      <td>-0.039363</td>\n",
       "      <td>0.025576</td>\n",
       "      <td>-0.028174</td>\n",
       "      <td>0.087688</td>\n",
       "      <td>-0.004329</td>\n",
       "      <td>0.078363</td>\n",
       "      <td>-0.041963</td>\n",
       "      <td>-0.017246</td>\n",
       "      <td>0.071572</td>\n",
       "      <td>0.200207</td>\n",
       "      <td>-0.040098</td>\n",
       "    </tr>\n",
       "    <tr>\n",
       "      <th>Account-Balance_Some Balance</th>\n",
       "      <td>-0.101065</td>\n",
       "      <td>-0.133727</td>\n",
       "      <td>0.070618</td>\n",
       "      <td>-0.006328</td>\n",
       "      <td>0.076365</td>\n",
       "      <td>0.090121</td>\n",
       "      <td>0.002858</td>\n",
       "      <td>0.006540</td>\n",
       "      <td>-0.084702</td>\n",
       "      <td>1.000000</td>\n",
       "      <td>-0.046170</td>\n",
       "      <td>-0.203509</td>\n",
       "      <td>0.063508</td>\n",
       "      <td>0.020189</td>\n",
       "      <td>-0.016230</td>\n",
       "      <td>-0.186464</td>\n",
       "      <td>0.231568</td>\n",
       "      <td>0.101782</td>\n",
       "      <td>-0.046802</td>\n",
       "      <td>-0.135237</td>\n",
       "      <td>0.094442</td>\n",
       "    </tr>\n",
       "    <tr>\n",
       "      <th>Payment-Status-of-Previous-Credit_Paid Up</th>\n",
       "      <td>-0.109998</td>\n",
       "      <td>-0.071926</td>\n",
       "      <td>-0.041737</td>\n",
       "      <td>-0.100155</td>\n",
       "      <td>-0.167846</td>\n",
       "      <td>-0.091158</td>\n",
       "      <td>-0.044895</td>\n",
       "      <td>-0.049029</td>\n",
       "      <td>-0.039363</td>\n",
       "      <td>-0.046170</td>\n",
       "      <td>1.000000</td>\n",
       "      <td>-0.289917</td>\n",
       "      <td>-0.047189</td>\n",
       "      <td>0.004693</td>\n",
       "      <td>0.052073</td>\n",
       "      <td>0.016643</td>\n",
       "      <td>-0.009365</td>\n",
       "      <td>-0.097148</td>\n",
       "      <td>0.096085</td>\n",
       "      <td>0.066253</td>\n",
       "      <td>-0.613825</td>\n",
       "    </tr>\n",
       "    <tr>\n",
       "      <th>Payment-Status-of-Previous-Credit_Some Problems</th>\n",
       "      <td>0.128614</td>\n",
       "      <td>0.087823</td>\n",
       "      <td>0.011405</td>\n",
       "      <td>0.116729</td>\n",
       "      <td>-0.037487</td>\n",
       "      <td>-0.034549</td>\n",
       "      <td>0.038215</td>\n",
       "      <td>-0.022111</td>\n",
       "      <td>0.025576</td>\n",
       "      <td>-0.203509</td>\n",
       "      <td>-0.289917</td>\n",
       "      <td>1.000000</td>\n",
       "      <td>-0.010181</td>\n",
       "      <td>-0.048985</td>\n",
       "      <td>0.000499</td>\n",
       "      <td>0.055882</td>\n",
       "      <td>-0.068513</td>\n",
       "      <td>-0.052460</td>\n",
       "      <td>0.014209</td>\n",
       "      <td>0.080143</td>\n",
       "      <td>0.016764</td>\n",
       "    </tr>\n",
       "    <tr>\n",
       "      <th>Purpose_New car</th>\n",
       "      <td>0.124637</td>\n",
       "      <td>0.227785</td>\n",
       "      <td>-0.095290</td>\n",
       "      <td>0.148772</td>\n",
       "      <td>0.065318</td>\n",
       "      <td>0.043005</td>\n",
       "      <td>0.041496</td>\n",
       "      <td>0.086734</td>\n",
       "      <td>-0.028174</td>\n",
       "      <td>0.063508</td>\n",
       "      <td>-0.047189</td>\n",
       "      <td>-0.010181</td>\n",
       "      <td>1.000000</td>\n",
       "      <td>-0.056647</td>\n",
       "      <td>-0.143705</td>\n",
       "      <td>-0.014134</td>\n",
       "      <td>0.037468</td>\n",
       "      <td>0.053068</td>\n",
       "      <td>-0.058318</td>\n",
       "      <td>-0.049915</td>\n",
       "      <td>0.058253</td>\n",
       "    </tr>\n",
       "    <tr>\n",
       "      <th>Purpose_Other</th>\n",
       "      <td>-0.020511</td>\n",
       "      <td>0.004420</td>\n",
       "      <td>0.051107</td>\n",
       "      <td>-0.048520</td>\n",
       "      <td>0.036708</td>\n",
       "      <td>-0.041742</td>\n",
       "      <td>-0.006309</td>\n",
       "      <td>-0.023932</td>\n",
       "      <td>0.087688</td>\n",
       "      <td>0.020189</td>\n",
       "      <td>0.004693</td>\n",
       "      <td>-0.048985</td>\n",
       "      <td>-0.056647</td>\n",
       "      <td>1.000000</td>\n",
       "      <td>-0.078460</td>\n",
       "      <td>-0.046352</td>\n",
       "      <td>0.085836</td>\n",
       "      <td>0.061899</td>\n",
       "      <td>-0.055950</td>\n",
       "      <td>0.029691</td>\n",
       "      <td>-0.009770</td>\n",
       "    </tr>\n",
       "    <tr>\n",
       "      <th>Purpose_Used car</th>\n",
       "      <td>-0.087009</td>\n",
       "      <td>-0.062605</td>\n",
       "      <td>-0.086139</td>\n",
       "      <td>-0.029727</td>\n",
       "      <td>-0.113880</td>\n",
       "      <td>-0.070011</td>\n",
       "      <td>-0.093132</td>\n",
       "      <td>-0.046083</td>\n",
       "      <td>-0.004329</td>\n",
       "      <td>-0.016230</td>\n",
       "      <td>0.052073</td>\n",
       "      <td>0.000499</td>\n",
       "      <td>-0.143705</td>\n",
       "      <td>-0.078460</td>\n",
       "      <td>1.000000</td>\n",
       "      <td>0.071553</td>\n",
       "      <td>-0.018210</td>\n",
       "      <td>-0.094397</td>\n",
       "      <td>0.104836</td>\n",
       "      <td>0.035699</td>\n",
       "      <td>-0.133036</td>\n",
       "    </tr>\n",
       "    <tr>\n",
       "      <th>Value-Savings-Stocks_None</th>\n",
       "      <td>-0.016685</td>\n",
       "      <td>0.006079</td>\n",
       "      <td>-0.025570</td>\n",
       "      <td>-0.035575</td>\n",
       "      <td>-0.027574</td>\n",
       "      <td>0.041236</td>\n",
       "      <td>-0.028949</td>\n",
       "      <td>-0.068222</td>\n",
       "      <td>0.078363</td>\n",
       "      <td>-0.186464</td>\n",
       "      <td>0.016643</td>\n",
       "      <td>0.055882</td>\n",
       "      <td>-0.014134</td>\n",
       "      <td>-0.046352</td>\n",
       "      <td>0.071553</td>\n",
       "      <td>1.000000</td>\n",
       "      <td>-0.810317</td>\n",
       "      <td>-0.093474</td>\n",
       "      <td>0.104361</td>\n",
       "      <td>0.136247</td>\n",
       "      <td>0.023096</td>\n",
       "    </tr>\n",
       "    <tr>\n",
       "      <th>Value-Savings-Stocks_£100-£1000</th>\n",
       "      <td>-0.012274</td>\n",
       "      <td>-0.011770</td>\n",
       "      <td>0.009578</td>\n",
       "      <td>-0.034390</td>\n",
       "      <td>0.061932</td>\n",
       "      <td>-0.023393</td>\n",
       "      <td>0.030868</td>\n",
       "      <td>0.056595</td>\n",
       "      <td>-0.041963</td>\n",
       "      <td>0.231568</td>\n",
       "      <td>-0.009365</td>\n",
       "      <td>-0.068513</td>\n",
       "      <td>0.037468</td>\n",
       "      <td>0.085836</td>\n",
       "      <td>-0.018210</td>\n",
       "      <td>-0.810317</td>\n",
       "      <td>1.000000</td>\n",
       "      <td>0.128484</td>\n",
       "      <td>-0.077915</td>\n",
       "      <td>-0.127385</td>\n",
       "      <td>-0.003971</td>\n",
       "    </tr>\n",
       "    <tr>\n",
       "      <th>Length-of-current-employment_4-7 yrs</th>\n",
       "      <td>0.010993</td>\n",
       "      <td>-0.006467</td>\n",
       "      <td>0.153013</td>\n",
       "      <td>0.132246</td>\n",
       "      <td>0.382493</td>\n",
       "      <td>0.162551</td>\n",
       "      <td>0.077330</td>\n",
       "      <td>0.069955</td>\n",
       "      <td>-0.017246</td>\n",
       "      <td>0.101782</td>\n",
       "      <td>-0.097148</td>\n",
       "      <td>-0.052460</td>\n",
       "      <td>0.053068</td>\n",
       "      <td>0.061899</td>\n",
       "      <td>-0.094397</td>\n",
       "      <td>-0.093474</td>\n",
       "      <td>0.128484</td>\n",
       "      <td>1.000000</td>\n",
       "      <td>-0.645242</td>\n",
       "      <td>-0.044006</td>\n",
       "      <td>0.042067</td>\n",
       "    </tr>\n",
       "    <tr>\n",
       "      <th>Length-of-current-employment_&lt; 1yr</th>\n",
       "      <td>-0.008544</td>\n",
       "      <td>0.055939</td>\n",
       "      <td>-0.147643</td>\n",
       "      <td>-0.130451</td>\n",
       "      <td>-0.230254</td>\n",
       "      <td>-0.074021</td>\n",
       "      <td>-0.076801</td>\n",
       "      <td>-0.062475</td>\n",
       "      <td>0.071572</td>\n",
       "      <td>-0.046802</td>\n",
       "      <td>0.096085</td>\n",
       "      <td>0.014209</td>\n",
       "      <td>-0.058318</td>\n",
       "      <td>-0.055950</td>\n",
       "      <td>0.104836</td>\n",
       "      <td>0.104361</td>\n",
       "      <td>-0.077915</td>\n",
       "      <td>-0.645242</td>\n",
       "      <td>1.000000</td>\n",
       "      <td>0.043179</td>\n",
       "      <td>-0.087591</td>\n",
       "    </tr>\n",
       "    <tr>\n",
       "      <th>Guarantors_Yes</th>\n",
       "      <td>-0.005026</td>\n",
       "      <td>-0.019049</td>\n",
       "      <td>0.022889</td>\n",
       "      <td>-0.050187</td>\n",
       "      <td>-0.076797</td>\n",
       "      <td>-0.104555</td>\n",
       "      <td>0.014586</td>\n",
       "      <td>-0.075719</td>\n",
       "      <td>0.200207</td>\n",
       "      <td>-0.135237</td>\n",
       "      <td>0.066253</td>\n",
       "      <td>0.080143</td>\n",
       "      <td>-0.049915</td>\n",
       "      <td>0.029691</td>\n",
       "      <td>0.035699</td>\n",
       "      <td>0.136247</td>\n",
       "      <td>-0.127385</td>\n",
       "      <td>-0.044006</td>\n",
       "      <td>0.043179</td>\n",
       "      <td>1.000000</td>\n",
       "      <td>-0.051718</td>\n",
       "    </tr>\n",
       "    <tr>\n",
       "      <th>No-of-Credits-at-this-Bank_More than 1</th>\n",
       "      <td>-0.019696</td>\n",
       "      <td>-0.053785</td>\n",
       "      <td>0.056923</td>\n",
       "      <td>0.024298</td>\n",
       "      <td>0.125477</td>\n",
       "      <td>0.053776</td>\n",
       "      <td>0.032096</td>\n",
       "      <td>-0.017010</td>\n",
       "      <td>-0.040098</td>\n",
       "      <td>0.094442</td>\n",
       "      <td>-0.613825</td>\n",
       "      <td>0.016764</td>\n",
       "      <td>0.058253</td>\n",
       "      <td>-0.009770</td>\n",
       "      <td>-0.133036</td>\n",
       "      <td>0.023096</td>\n",
       "      <td>-0.003971</td>\n",
       "      <td>0.042067</td>\n",
       "      <td>-0.087591</td>\n",
       "      <td>-0.051718</td>\n",
       "      <td>1.000000</td>\n",
       "    </tr>\n",
       "  </tbody>\n",
       "</table>\n",
       "</div>"
      ],
      "text/plain": [
       "                                                 Duration-of-Credit-Month  \\\n",
       "Duration-of-Credit-Month                                         1.000000   \n",
       "Credit-Amount                                                    0.573980   \n",
       "Instalment-per-cent                                              0.068106   \n",
       "Most-valuable-available-asset                                    0.299855   \n",
       "Age-years                                                       -0.066319   \n",
       "Type-of-apartment                                                0.152516   \n",
       "No-of-dependents                                                -0.065269   \n",
       "Telephone                                                        0.143176   \n",
       "Foreign-Worker                                                  -0.115916   \n",
       "Account-Balance_Some Balance                                    -0.101065   \n",
       "Payment-Status-of-Previous-Credit_Paid Up                       -0.109998   \n",
       "Payment-Status-of-Previous-Credit_Some Problems                  0.128614   \n",
       "Purpose_New car                                                  0.124637   \n",
       "Purpose_Other                                                   -0.020511   \n",
       "Purpose_Used car                                                -0.087009   \n",
       "Value-Savings-Stocks_None                                       -0.016685   \n",
       "Value-Savings-Stocks_£100-£1000                                 -0.012274   \n",
       "Length-of-current-employment_4-7 yrs                             0.010993   \n",
       "Length-of-current-employment_< 1yr                              -0.008544   \n",
       "Guarantors_Yes                                                  -0.005026   \n",
       "No-of-Credits-at-this-Bank_More than 1                          -0.019696   \n",
       "\n",
       "                                                 Credit-Amount  \\\n",
       "Duration-of-Credit-Month                              0.573980   \n",
       "Credit-Amount                                         1.000000   \n",
       "Instalment-per-cent                                  -0.288852   \n",
       "Most-valuable-available-asset                         0.325545   \n",
       "Age-years                                             0.068643   \n",
       "Type-of-apartment                                     0.170071   \n",
       "No-of-dependents                                      0.003986   \n",
       "Telephone                                             0.286338   \n",
       "Foreign-Worker                                        0.025493   \n",
       "Account-Balance_Some Balance                         -0.133727   \n",
       "Payment-Status-of-Previous-Credit_Paid Up            -0.071926   \n",
       "Payment-Status-of-Previous-Credit_Some Problems       0.087823   \n",
       "Purpose_New car                                       0.227785   \n",
       "Purpose_Other                                         0.004420   \n",
       "Purpose_Used car                                     -0.062605   \n",
       "Value-Savings-Stocks_None                             0.006079   \n",
       "Value-Savings-Stocks_£100-£1000                      -0.011770   \n",
       "Length-of-current-employment_4-7 yrs                 -0.006467   \n",
       "Length-of-current-employment_< 1yr                    0.055939   \n",
       "Guarantors_Yes                                       -0.019049   \n",
       "No-of-Credits-at-this-Bank_More than 1               -0.053785   \n",
       "\n",
       "                                                 Instalment-per-cent  \\\n",
       "Duration-of-Credit-Month                                    0.068106   \n",
       "Credit-Amount                                              -0.288852   \n",
       "Instalment-per-cent                                         1.000000   \n",
       "Most-valuable-available-asset                               0.081493   \n",
       "Age-years                                                   0.040540   \n",
       "Type-of-apartment                                           0.074533   \n",
       "No-of-dependents                                           -0.125894   \n",
       "Telephone                                                   0.029354   \n",
       "Foreign-Worker                                             -0.133411   \n",
       "Account-Balance_Some Balance                                0.070618   \n",
       "Payment-Status-of-Previous-Credit_Paid Up                  -0.041737   \n",
       "Payment-Status-of-Previous-Credit_Some Problems             0.011405   \n",
       "Purpose_New car                                            -0.095290   \n",
       "Purpose_Other                                               0.051107   \n",
       "Purpose_Used car                                           -0.086139   \n",
       "Value-Savings-Stocks_None                                  -0.025570   \n",
       "Value-Savings-Stocks_£100-£1000                             0.009578   \n",
       "Length-of-current-employment_4-7 yrs                        0.153013   \n",
       "Length-of-current-employment_< 1yr                         -0.147643   \n",
       "Guarantors_Yes                                              0.022889   \n",
       "No-of-Credits-at-this-Bank_More than 1                      0.056923   \n",
       "\n",
       "                                                 Most-valuable-available-asset  \\\n",
       "Duration-of-Credit-Month                                              0.299855   \n",
       "Credit-Amount                                                         0.325545   \n",
       "Instalment-per-cent                                                   0.081493   \n",
       "Most-valuable-available-asset                                         1.000000   \n",
       "Age-years                                                             0.085437   \n",
       "Type-of-apartment                                                     0.373101   \n",
       "No-of-dependents                                                      0.046454   \n",
       "Telephone                                                             0.203509   \n",
       "Foreign-Worker                                                       -0.146005   \n",
       "Account-Balance_Some Balance                                         -0.006328   \n",
       "Payment-Status-of-Previous-Credit_Paid Up                            -0.100155   \n",
       "Payment-Status-of-Previous-Credit_Some Problems                       0.116729   \n",
       "Purpose_New car                                                       0.148772   \n",
       "Purpose_Other                                                        -0.048520   \n",
       "Purpose_Used car                                                     -0.029727   \n",
       "Value-Savings-Stocks_None                                            -0.035575   \n",
       "Value-Savings-Stocks_£100-£1000                                      -0.034390   \n",
       "Length-of-current-employment_4-7 yrs                                  0.132246   \n",
       "Length-of-current-employment_< 1yr                                   -0.130451   \n",
       "Guarantors_Yes                                                       -0.050187   \n",
       "No-of-Credits-at-this-Bank_More than 1                                0.024298   \n",
       "\n",
       "                                                 Age-years  Type-of-apartment  \\\n",
       "Duration-of-Credit-Month                         -0.066319           0.152516   \n",
       "Credit-Amount                                     0.068643           0.170071   \n",
       "Instalment-per-cent                               0.040540           0.074533   \n",
       "Most-valuable-available-asset                     0.085437           0.373101   \n",
       "Age-years                                         1.000000           0.333075   \n",
       "Type-of-apartment                                 0.333075           1.000000   \n",
       "No-of-dependents                                  0.117735           0.170738   \n",
       "Telephone                                         0.176479           0.101443   \n",
       "Foreign-Worker                                   -0.003285          -0.089848   \n",
       "Account-Balance_Some Balance                      0.076365           0.090121   \n",
       "Payment-Status-of-Previous-Credit_Paid Up        -0.167846          -0.091158   \n",
       "Payment-Status-of-Previous-Credit_Some Problems  -0.037487          -0.034549   \n",
       "Purpose_New car                                   0.065318           0.043005   \n",
       "Purpose_Other                                     0.036708          -0.041742   \n",
       "Purpose_Used car                                 -0.113880          -0.070011   \n",
       "Value-Savings-Stocks_None                        -0.027574           0.041236   \n",
       "Value-Savings-Stocks_£100-£1000                   0.061932          -0.023393   \n",
       "Length-of-current-employment_4-7 yrs              0.382493           0.162551   \n",
       "Length-of-current-employment_< 1yr               -0.230254          -0.074021   \n",
       "Guarantors_Yes                                   -0.076797          -0.104555   \n",
       "No-of-Credits-at-this-Bank_More than 1            0.125477           0.053776   \n",
       "\n",
       "                                                 No-of-dependents  Telephone  \\\n",
       "Duration-of-Credit-Month                                -0.065269   0.143176   \n",
       "Credit-Amount                                            0.003986   0.286338   \n",
       "Instalment-per-cent                                     -0.125894   0.029354   \n",
       "Most-valuable-available-asset                            0.046454   0.203509   \n",
       "Age-years                                                0.117735   0.176479   \n",
       "Type-of-apartment                                        0.170738   0.101443   \n",
       "No-of-dependents                                         1.000000  -0.048559   \n",
       "Telephone                                               -0.048559   1.000000   \n",
       "Foreign-Worker                                           0.065943  -0.055516   \n",
       "Account-Balance_Some Balance                             0.002858   0.006540   \n",
       "Payment-Status-of-Previous-Credit_Paid Up               -0.044895  -0.049029   \n",
       "Payment-Status-of-Previous-Credit_Some Problems          0.038215  -0.022111   \n",
       "Purpose_New car                                          0.041496   0.086734   \n",
       "Purpose_Other                                           -0.006309  -0.023932   \n",
       "Purpose_Used car                                        -0.093132  -0.046083   \n",
       "Value-Savings-Stocks_None                               -0.028949  -0.068222   \n",
       "Value-Savings-Stocks_£100-£1000                          0.030868   0.056595   \n",
       "Length-of-current-employment_4-7 yrs                     0.077330   0.069955   \n",
       "Length-of-current-employment_< 1yr                      -0.076801  -0.062475   \n",
       "Guarantors_Yes                                           0.014586  -0.075719   \n",
       "No-of-Credits-at-this-Bank_More than 1                   0.032096  -0.017010   \n",
       "\n",
       "                                                 Foreign-Worker  \\\n",
       "Duration-of-Credit-Month                              -0.115916   \n",
       "Credit-Amount                                          0.025493   \n",
       "Instalment-per-cent                                   -0.133411   \n",
       "Most-valuable-available-asset                         -0.146005   \n",
       "Age-years                                             -0.003285   \n",
       "Type-of-apartment                                     -0.089848   \n",
       "No-of-dependents                                       0.065943   \n",
       "Telephone                                             -0.055516   \n",
       "Foreign-Worker                                         1.000000   \n",
       "Account-Balance_Some Balance                          -0.084702   \n",
       "Payment-Status-of-Previous-Credit_Paid Up             -0.039363   \n",
       "Payment-Status-of-Previous-Credit_Some Problems        0.025576   \n",
       "Purpose_New car                                       -0.028174   \n",
       "Purpose_Other                                          0.087688   \n",
       "Purpose_Used car                                      -0.004329   \n",
       "Value-Savings-Stocks_None                              0.078363   \n",
       "Value-Savings-Stocks_£100-£1000                       -0.041963   \n",
       "Length-of-current-employment_4-7 yrs                  -0.017246   \n",
       "Length-of-current-employment_< 1yr                     0.071572   \n",
       "Guarantors_Yes                                         0.200207   \n",
       "No-of-Credits-at-this-Bank_More than 1                -0.040098   \n",
       "\n",
       "                                                 Account-Balance_Some Balance  \\\n",
       "Duration-of-Credit-Month                                            -0.101065   \n",
       "Credit-Amount                                                       -0.133727   \n",
       "Instalment-per-cent                                                  0.070618   \n",
       "Most-valuable-available-asset                                       -0.006328   \n",
       "Age-years                                                            0.076365   \n",
       "Type-of-apartment                                                    0.090121   \n",
       "No-of-dependents                                                     0.002858   \n",
       "Telephone                                                            0.006540   \n",
       "Foreign-Worker                                                      -0.084702   \n",
       "Account-Balance_Some Balance                                         1.000000   \n",
       "Payment-Status-of-Previous-Credit_Paid Up                           -0.046170   \n",
       "Payment-Status-of-Previous-Credit_Some Problems                     -0.203509   \n",
       "Purpose_New car                                                      0.063508   \n",
       "Purpose_Other                                                        0.020189   \n",
       "Purpose_Used car                                                    -0.016230   \n",
       "Value-Savings-Stocks_None                                           -0.186464   \n",
       "Value-Savings-Stocks_£100-£1000                                      0.231568   \n",
       "Length-of-current-employment_4-7 yrs                                 0.101782   \n",
       "Length-of-current-employment_< 1yr                                  -0.046802   \n",
       "Guarantors_Yes                                                      -0.135237   \n",
       "No-of-Credits-at-this-Bank_More than 1                               0.094442   \n",
       "\n",
       "                                                 Payment-Status-of-Previous-Credit_Paid Up  \\\n",
       "Duration-of-Credit-Month                                                         -0.109998   \n",
       "Credit-Amount                                                                    -0.071926   \n",
       "Instalment-per-cent                                                              -0.041737   \n",
       "Most-valuable-available-asset                                                    -0.100155   \n",
       "Age-years                                                                        -0.167846   \n",
       "Type-of-apartment                                                                -0.091158   \n",
       "No-of-dependents                                                                 -0.044895   \n",
       "Telephone                                                                        -0.049029   \n",
       "Foreign-Worker                                                                   -0.039363   \n",
       "Account-Balance_Some Balance                                                     -0.046170   \n",
       "Payment-Status-of-Previous-Credit_Paid Up                                         1.000000   \n",
       "Payment-Status-of-Previous-Credit_Some Problems                                  -0.289917   \n",
       "Purpose_New car                                                                  -0.047189   \n",
       "Purpose_Other                                                                     0.004693   \n",
       "Purpose_Used car                                                                  0.052073   \n",
       "Value-Savings-Stocks_None                                                         0.016643   \n",
       "Value-Savings-Stocks_£100-£1000                                                  -0.009365   \n",
       "Length-of-current-employment_4-7 yrs                                             -0.097148   \n",
       "Length-of-current-employment_< 1yr                                                0.096085   \n",
       "Guarantors_Yes                                                                    0.066253   \n",
       "No-of-Credits-at-this-Bank_More than 1                                           -0.613825   \n",
       "\n",
       "                                                 Payment-Status-of-Previous-Credit_Some Problems  \\\n",
       "Duration-of-Credit-Month                                                                0.128614   \n",
       "Credit-Amount                                                                           0.087823   \n",
       "Instalment-per-cent                                                                     0.011405   \n",
       "Most-valuable-available-asset                                                           0.116729   \n",
       "Age-years                                                                              -0.037487   \n",
       "Type-of-apartment                                                                      -0.034549   \n",
       "No-of-dependents                                                                        0.038215   \n",
       "Telephone                                                                              -0.022111   \n",
       "Foreign-Worker                                                                          0.025576   \n",
       "Account-Balance_Some Balance                                                           -0.203509   \n",
       "Payment-Status-of-Previous-Credit_Paid Up                                              -0.289917   \n",
       "Payment-Status-of-Previous-Credit_Some Problems                                         1.000000   \n",
       "Purpose_New car                                                                        -0.010181   \n",
       "Purpose_Other                                                                          -0.048985   \n",
       "Purpose_Used car                                                                        0.000499   \n",
       "Value-Savings-Stocks_None                                                               0.055882   \n",
       "Value-Savings-Stocks_£100-£1000                                                        -0.068513   \n",
       "Length-of-current-employment_4-7 yrs                                                   -0.052460   \n",
       "Length-of-current-employment_< 1yr                                                      0.014209   \n",
       "Guarantors_Yes                                                                          0.080143   \n",
       "No-of-Credits-at-this-Bank_More than 1                                                  0.016764   \n",
       "\n",
       "                                                 Purpose_New car  \\\n",
       "Duration-of-Credit-Month                                0.124637   \n",
       "Credit-Amount                                           0.227785   \n",
       "Instalment-per-cent                                    -0.095290   \n",
       "Most-valuable-available-asset                           0.148772   \n",
       "Age-years                                               0.065318   \n",
       "Type-of-apartment                                       0.043005   \n",
       "No-of-dependents                                        0.041496   \n",
       "Telephone                                               0.086734   \n",
       "Foreign-Worker                                         -0.028174   \n",
       "Account-Balance_Some Balance                            0.063508   \n",
       "Payment-Status-of-Previous-Credit_Paid Up              -0.047189   \n",
       "Payment-Status-of-Previous-Credit_Some Problems        -0.010181   \n",
       "Purpose_New car                                         1.000000   \n",
       "Purpose_Other                                          -0.056647   \n",
       "Purpose_Used car                                       -0.143705   \n",
       "Value-Savings-Stocks_None                              -0.014134   \n",
       "Value-Savings-Stocks_£100-£1000                         0.037468   \n",
       "Length-of-current-employment_4-7 yrs                    0.053068   \n",
       "Length-of-current-employment_< 1yr                     -0.058318   \n",
       "Guarantors_Yes                                         -0.049915   \n",
       "No-of-Credits-at-this-Bank_More than 1                  0.058253   \n",
       "\n",
       "                                                 Purpose_Other  \\\n",
       "Duration-of-Credit-Month                             -0.020511   \n",
       "Credit-Amount                                         0.004420   \n",
       "Instalment-per-cent                                   0.051107   \n",
       "Most-valuable-available-asset                        -0.048520   \n",
       "Age-years                                             0.036708   \n",
       "Type-of-apartment                                    -0.041742   \n",
       "No-of-dependents                                     -0.006309   \n",
       "Telephone                                            -0.023932   \n",
       "Foreign-Worker                                        0.087688   \n",
       "Account-Balance_Some Balance                          0.020189   \n",
       "Payment-Status-of-Previous-Credit_Paid Up             0.004693   \n",
       "Payment-Status-of-Previous-Credit_Some Problems      -0.048985   \n",
       "Purpose_New car                                      -0.056647   \n",
       "Purpose_Other                                         1.000000   \n",
       "Purpose_Used car                                     -0.078460   \n",
       "Value-Savings-Stocks_None                            -0.046352   \n",
       "Value-Savings-Stocks_£100-£1000                       0.085836   \n",
       "Length-of-current-employment_4-7 yrs                  0.061899   \n",
       "Length-of-current-employment_< 1yr                   -0.055950   \n",
       "Guarantors_Yes                                        0.029691   \n",
       "No-of-Credits-at-this-Bank_More than 1               -0.009770   \n",
       "\n",
       "                                                 Purpose_Used car  \\\n",
       "Duration-of-Credit-Month                                -0.087009   \n",
       "Credit-Amount                                           -0.062605   \n",
       "Instalment-per-cent                                     -0.086139   \n",
       "Most-valuable-available-asset                           -0.029727   \n",
       "Age-years                                               -0.113880   \n",
       "Type-of-apartment                                       -0.070011   \n",
       "No-of-dependents                                        -0.093132   \n",
       "Telephone                                               -0.046083   \n",
       "Foreign-Worker                                          -0.004329   \n",
       "Account-Balance_Some Balance                            -0.016230   \n",
       "Payment-Status-of-Previous-Credit_Paid Up                0.052073   \n",
       "Payment-Status-of-Previous-Credit_Some Problems          0.000499   \n",
       "Purpose_New car                                         -0.143705   \n",
       "Purpose_Other                                           -0.078460   \n",
       "Purpose_Used car                                         1.000000   \n",
       "Value-Savings-Stocks_None                                0.071553   \n",
       "Value-Savings-Stocks_£100-£1000                         -0.018210   \n",
       "Length-of-current-employment_4-7 yrs                    -0.094397   \n",
       "Length-of-current-employment_< 1yr                       0.104836   \n",
       "Guarantors_Yes                                           0.035699   \n",
       "No-of-Credits-at-this-Bank_More than 1                  -0.133036   \n",
       "\n",
       "                                                 Value-Savings-Stocks_None  \\\n",
       "Duration-of-Credit-Month                                         -0.016685   \n",
       "Credit-Amount                                                     0.006079   \n",
       "Instalment-per-cent                                              -0.025570   \n",
       "Most-valuable-available-asset                                    -0.035575   \n",
       "Age-years                                                        -0.027574   \n",
       "Type-of-apartment                                                 0.041236   \n",
       "No-of-dependents                                                 -0.028949   \n",
       "Telephone                                                        -0.068222   \n",
       "Foreign-Worker                                                    0.078363   \n",
       "Account-Balance_Some Balance                                     -0.186464   \n",
       "Payment-Status-of-Previous-Credit_Paid Up                         0.016643   \n",
       "Payment-Status-of-Previous-Credit_Some Problems                   0.055882   \n",
       "Purpose_New car                                                  -0.014134   \n",
       "Purpose_Other                                                    -0.046352   \n",
       "Purpose_Used car                                                  0.071553   \n",
       "Value-Savings-Stocks_None                                         1.000000   \n",
       "Value-Savings-Stocks_£100-£1000                                  -0.810317   \n",
       "Length-of-current-employment_4-7 yrs                             -0.093474   \n",
       "Length-of-current-employment_< 1yr                                0.104361   \n",
       "Guarantors_Yes                                                    0.136247   \n",
       "No-of-Credits-at-this-Bank_More than 1                            0.023096   \n",
       "\n",
       "                                                 Value-Savings-Stocks_£100-£1000  \\\n",
       "Duration-of-Credit-Month                                               -0.012274   \n",
       "Credit-Amount                                                          -0.011770   \n",
       "Instalment-per-cent                                                     0.009578   \n",
       "Most-valuable-available-asset                                          -0.034390   \n",
       "Age-years                                                               0.061932   \n",
       "Type-of-apartment                                                      -0.023393   \n",
       "No-of-dependents                                                        0.030868   \n",
       "Telephone                                                               0.056595   \n",
       "Foreign-Worker                                                         -0.041963   \n",
       "Account-Balance_Some Balance                                            0.231568   \n",
       "Payment-Status-of-Previous-Credit_Paid Up                              -0.009365   \n",
       "Payment-Status-of-Previous-Credit_Some Problems                        -0.068513   \n",
       "Purpose_New car                                                         0.037468   \n",
       "Purpose_Other                                                           0.085836   \n",
       "Purpose_Used car                                                       -0.018210   \n",
       "Value-Savings-Stocks_None                                              -0.810317   \n",
       "Value-Savings-Stocks_£100-£1000                                         1.000000   \n",
       "Length-of-current-employment_4-7 yrs                                    0.128484   \n",
       "Length-of-current-employment_< 1yr                                     -0.077915   \n",
       "Guarantors_Yes                                                         -0.127385   \n",
       "No-of-Credits-at-this-Bank_More than 1                                 -0.003971   \n",
       "\n",
       "                                                 Length-of-current-employment_4-7 yrs  \\\n",
       "Duration-of-Credit-Month                                                     0.010993   \n",
       "Credit-Amount                                                               -0.006467   \n",
       "Instalment-per-cent                                                          0.153013   \n",
       "Most-valuable-available-asset                                                0.132246   \n",
       "Age-years                                                                    0.382493   \n",
       "Type-of-apartment                                                            0.162551   \n",
       "No-of-dependents                                                             0.077330   \n",
       "Telephone                                                                    0.069955   \n",
       "Foreign-Worker                                                              -0.017246   \n",
       "Account-Balance_Some Balance                                                 0.101782   \n",
       "Payment-Status-of-Previous-Credit_Paid Up                                   -0.097148   \n",
       "Payment-Status-of-Previous-Credit_Some Problems                             -0.052460   \n",
       "Purpose_New car                                                              0.053068   \n",
       "Purpose_Other                                                                0.061899   \n",
       "Purpose_Used car                                                            -0.094397   \n",
       "Value-Savings-Stocks_None                                                   -0.093474   \n",
       "Value-Savings-Stocks_£100-£1000                                              0.128484   \n",
       "Length-of-current-employment_4-7 yrs                                         1.000000   \n",
       "Length-of-current-employment_< 1yr                                          -0.645242   \n",
       "Guarantors_Yes                                                              -0.044006   \n",
       "No-of-Credits-at-this-Bank_More than 1                                       0.042067   \n",
       "\n",
       "                                                 Length-of-current-employment_< 1yr  \\\n",
       "Duration-of-Credit-Month                                                  -0.008544   \n",
       "Credit-Amount                                                              0.055939   \n",
       "Instalment-per-cent                                                       -0.147643   \n",
       "Most-valuable-available-asset                                             -0.130451   \n",
       "Age-years                                                                 -0.230254   \n",
       "Type-of-apartment                                                         -0.074021   \n",
       "No-of-dependents                                                          -0.076801   \n",
       "Telephone                                                                 -0.062475   \n",
       "Foreign-Worker                                                             0.071572   \n",
       "Account-Balance_Some Balance                                              -0.046802   \n",
       "Payment-Status-of-Previous-Credit_Paid Up                                  0.096085   \n",
       "Payment-Status-of-Previous-Credit_Some Problems                            0.014209   \n",
       "Purpose_New car                                                           -0.058318   \n",
       "Purpose_Other                                                             -0.055950   \n",
       "Purpose_Used car                                                           0.104836   \n",
       "Value-Savings-Stocks_None                                                  0.104361   \n",
       "Value-Savings-Stocks_£100-£1000                                           -0.077915   \n",
       "Length-of-current-employment_4-7 yrs                                      -0.645242   \n",
       "Length-of-current-employment_< 1yr                                         1.000000   \n",
       "Guarantors_Yes                                                             0.043179   \n",
       "No-of-Credits-at-this-Bank_More than 1                                    -0.087591   \n",
       "\n",
       "                                                 Guarantors_Yes  \\\n",
       "Duration-of-Credit-Month                              -0.005026   \n",
       "Credit-Amount                                         -0.019049   \n",
       "Instalment-per-cent                                    0.022889   \n",
       "Most-valuable-available-asset                         -0.050187   \n",
       "Age-years                                             -0.076797   \n",
       "Type-of-apartment                                     -0.104555   \n",
       "No-of-dependents                                       0.014586   \n",
       "Telephone                                             -0.075719   \n",
       "Foreign-Worker                                         0.200207   \n",
       "Account-Balance_Some Balance                          -0.135237   \n",
       "Payment-Status-of-Previous-Credit_Paid Up              0.066253   \n",
       "Payment-Status-of-Previous-Credit_Some Problems        0.080143   \n",
       "Purpose_New car                                       -0.049915   \n",
       "Purpose_Other                                          0.029691   \n",
       "Purpose_Used car                                       0.035699   \n",
       "Value-Savings-Stocks_None                              0.136247   \n",
       "Value-Savings-Stocks_£100-£1000                       -0.127385   \n",
       "Length-of-current-employment_4-7 yrs                  -0.044006   \n",
       "Length-of-current-employment_< 1yr                     0.043179   \n",
       "Guarantors_Yes                                         1.000000   \n",
       "No-of-Credits-at-this-Bank_More than 1                -0.051718   \n",
       "\n",
       "                                                 No-of-Credits-at-this-Bank_More than 1  \n",
       "Duration-of-Credit-Month                                                      -0.019696  \n",
       "Credit-Amount                                                                 -0.053785  \n",
       "Instalment-per-cent                                                            0.056923  \n",
       "Most-valuable-available-asset                                                  0.024298  \n",
       "Age-years                                                                      0.125477  \n",
       "Type-of-apartment                                                              0.053776  \n",
       "No-of-dependents                                                               0.032096  \n",
       "Telephone                                                                     -0.017010  \n",
       "Foreign-Worker                                                                -0.040098  \n",
       "Account-Balance_Some Balance                                                   0.094442  \n",
       "Payment-Status-of-Previous-Credit_Paid Up                                     -0.613825  \n",
       "Payment-Status-of-Previous-Credit_Some Problems                                0.016764  \n",
       "Purpose_New car                                                                0.058253  \n",
       "Purpose_Other                                                                 -0.009770  \n",
       "Purpose_Used car                                                              -0.133036  \n",
       "Value-Savings-Stocks_None                                                      0.023096  \n",
       "Value-Savings-Stocks_£100-£1000                                               -0.003971  \n",
       "Length-of-current-employment_4-7 yrs                                           0.042067  \n",
       "Length-of-current-employment_< 1yr                                            -0.087591  \n",
       "Guarantors_Yes                                                                -0.051718  \n",
       "No-of-Credits-at-this-Bank_More than 1                                         1.000000  "
      ]
     },
     "execution_count": 32,
     "metadata": {},
     "output_type": "execute_result"
    }
   ],
   "source": [
    "corr"
   ]
  },
  {
   "cell_type": "code",
   "execution_count": 33,
   "metadata": {},
   "outputs": [
    {
     "data": {
      "text/plain": [
       "<matplotlib.axes._subplots.AxesSubplot at 0x1a19266320>"
      ]
     },
     "execution_count": 33,
     "metadata": {},
     "output_type": "execute_result"
    },
    {
     "data": {
      "image/png": "[encoded data removed]",
      "text/plain": [
       "<Figure size 432x288 with 2 Axes>"
      ]
     },
     "metadata": {
      "needs_background": "light"
     },
     "output_type": "display_data"
    }
   ],
   "source": [
    "# GENERATE THE HEATMAP\n",
    "sns.heatmap(corr)"
   ]
  },
  {
   "cell_type": "code",
   "execution_count": 34,
   "metadata": {},
   "outputs": [],
   "source": [
    "# isolating correlations between features and the target variable\n",
    "# corr['Credit-Application-Result']"
   ]
  },
  {
   "cell_type": "code",
   "execution_count": 35,
   "metadata": {},
   "outputs": [
    {
     "data": {
      "text/plain": [
       "Credit-Application-Result             0\n",
       "Account-Balance                       0\n",
       "Duration-of-Credit-Month              0\n",
       "Payment-Status-of-Previous-Credit     0\n",
       "Purpose                               0\n",
       "Credit-Amount                         0\n",
       "Value-Savings-Stocks                  0\n",
       "Length-of-current-employment          0\n",
       "Instalment-per-cent                   0\n",
       "Guarantors                            0\n",
       "Most-valuable-available-asset         0\n",
       "Age-years                            12\n",
       "Concurrent-Credits                    0\n",
       "Type-of-apartment                     0\n",
       "No-of-Credits-at-this-Bank            0\n",
       "Occupation                            0\n",
       "No-of-dependents                      0\n",
       "Telephone                             0\n",
       "Foreign-Worker                        0\n",
       "dtype: int64"
      ]
     },
     "execution_count": 35,
     "metadata": {},
     "output_type": "execute_result"
    }
   ],
   "source": [
    "old_applicants.isnull().sum()"
   ]
  },
  {
   "cell_type": "code",
   "execution_count": 36,
   "metadata": {},
   "outputs": [
    {
     "data": {
      "text/plain": [
       "Duration-of-Credit-Month                           0.202504\n",
       "Credit-Amount                                      0.201946\n",
       "Instalment-per-cent                                0.062107\n",
       "Most-valuable-available-asset                      0.141332\n",
       "Age-years                                         -0.056737\n",
       "Type-of-apartment                                  0.026516\n",
       "No-of-dependents                                   0.041048\n",
       "Telephone                                          0.028971\n",
       "Foreign-Worker                                    -0.009186\n",
       "Account-Balance_Some Balance                      -0.316080\n",
       "Payment-Status-of-Previous-Credit_Paid Up          0.010298\n",
       "Payment-Status-of-Previous-Credit_Some Problems    0.253531\n",
       "Purpose_New car                                   -0.096477\n",
       "Purpose_Other                                     -0.032760\n",
       "Purpose_Used car                                  -0.030658\n",
       "Value-Savings-Stocks_None                          0.166021\n",
       "Value-Savings-Stocks_£100-£1000                   -0.160782\n",
       "Length-of-current-employment_4-7 yrs              -0.053569\n",
       "Length-of-current-employment_< 1yr                 0.105061\n",
       "Guarantors_Yes                                     0.044105\n",
       "No-of-Credits-at-this-Bank_More than 1            -0.056549\n",
       "dtype: float64"
      ]
     },
     "execution_count": 36,
     "metadata": {},
     "output_type": "execute_result"
    }
   ],
   "source": [
    "# target variable has already been isolated from features when setting X and y variables\n",
    "# otherwise I would have used something like the following code to separate the target variable out of the set\n",
    "# corr['Credit-Application-Result']\n",
    "# this pairwise correlation exactly matches old_applicants_dummies.corr()\n",
    "X.corrwith(y, axis = 0)"
   ]
  },
  {
   "cell_type": "code",
   "execution_count": 37,
   "metadata": {},
   "outputs": [
    {
     "data": {
      "text/plain": [
       "Foreign-Worker                                     0.009186\n",
       "Payment-Status-of-Previous-Credit_Paid Up          0.010298\n",
       "Type-of-apartment                                  0.026516\n",
       "Telephone                                          0.028971\n",
       "Purpose_Used car                                   0.030658\n",
       "Purpose_Other                                      0.032760\n",
       "No-of-dependents                                   0.041048\n",
       "Guarantors_Yes                                     0.044105\n",
       "Length-of-current-employment_4-7 yrs               0.053569\n",
       "No-of-Credits-at-this-Bank_More than 1             0.056549\n",
       "Age-years                                          0.056737\n",
       "Instalment-per-cent                                0.062107\n",
       "Purpose_New car                                    0.096477\n",
       "Length-of-current-employment_< 1yr                 0.105061\n",
       "Most-valuable-available-asset                      0.141332\n",
       "Value-Savings-Stocks_£100-£1000                    0.160782\n",
       "Value-Savings-Stocks_None                          0.166021\n",
       "Credit-Amount                                      0.201946\n",
       "Duration-of-Credit-Month                           0.202504\n",
       "Payment-Status-of-Previous-Credit_Some Problems    0.253531\n",
       "Account-Balance_Some Balance                       0.316080\n",
       "dtype: float64"
      ]
     },
     "execution_count": 37,
     "metadata": {},
     "output_type": "execute_result"
    }
   ],
   "source": [
    "# let's look at the absolute values and sort them in order\n",
    "X.corrwith(y, axis = 0).abs().sort_values()\n"
   ]
  },
  {
   "cell_type": "code",
   "execution_count": 38,
   "metadata": {},
   "outputs": [
    {
     "data": {
      "text/plain": [
       "Duration-of-Credit-Month                           False\n",
       "Credit-Amount                                      False\n",
       "Instalment-per-cent                                False\n",
       "Most-valuable-available-asset                      False\n",
       "Age-years                                          False\n",
       "Type-of-apartment                                  False\n",
       "No-of-dependents                                   False\n",
       "Telephone                                          False\n",
       "Foreign-Worker                                     False\n",
       "Account-Balance_Some Balance                       False\n",
       "Payment-Status-of-Previous-Credit_Paid Up          False\n",
       "Payment-Status-of-Previous-Credit_Some Problems    False\n",
       "Purpose_New car                                    False\n",
       "Purpose_Other                                      False\n",
       "Purpose_Used car                                   False\n",
       "Value-Savings-Stocks_None                          False\n",
       "Value-Savings-Stocks_£100-£1000                    False\n",
       "Length-of-current-employment_4-7 yrs               False\n",
       "Length-of-current-employment_< 1yr                 False\n",
       "Guarantors_Yes                                     False\n",
       "No-of-Credits-at-this-Bank_More than 1             False\n",
       "dtype: bool"
      ]
     },
     "execution_count": 38,
     "metadata": {},
     "output_type": "execute_result"
    }
   ],
   "source": [
    "# using pandas to filter features that have ±0.7 correlations.\n",
    "# there are no strong correlations between the predictor variables and target variable\n",
    "X.corrwith(y, axis = 0).abs() > 0.7\n"
   ]
  },
  {
   "cell_type": "code",
   "execution_count": 39,
   "metadata": {},
   "outputs": [
    {
     "data": {
      "text/plain": [
       "Duration-of-Credit-Month                            True\n",
       "Credit-Amount                                       True\n",
       "Instalment-per-cent                                False\n",
       "Most-valuable-available-asset                      False\n",
       "Age-years                                          False\n",
       "Type-of-apartment                                  False\n",
       "No-of-dependents                                   False\n",
       "Telephone                                          False\n",
       "Foreign-Worker                                     False\n",
       "Account-Balance_Some Balance                        True\n",
       "Payment-Status-of-Previous-Credit_Paid Up          False\n",
       "Payment-Status-of-Previous-Credit_Some Problems     True\n",
       "Purpose_New car                                    False\n",
       "Purpose_Other                                      False\n",
       "Purpose_Used car                                   False\n",
       "Value-Savings-Stocks_None                          False\n",
       "Value-Savings-Stocks_£100-£1000                    False\n",
       "Length-of-current-employment_4-7 yrs               False\n",
       "Length-of-current-employment_< 1yr                 False\n",
       "Guarantors_Yes                                     False\n",
       "No-of-Credits-at-this-Bank_More than 1             False\n",
       "dtype: bool"
      ]
     },
     "execution_count": 39,
     "metadata": {},
     "output_type": "execute_result"
    }
   ],
   "source": [
    "# using pandas to filter features that have ±0.2 correlations. \n",
    "X.corrwith(y, axis = 0).abs() > 0.2\n"
   ]
  },
  {
   "cell_type": "markdown",
   "metadata": {},
   "source": [
    "As shown in the previous three cells, none of the fieds are highly correlated. In other words, none of the columns have a strong correlation at ±0.7. The first signs indications of correlation occur at 0.3. I set a second filter to test for correlation between features at 0.2, which gave me the top 4 highest correlations between features and the target variable.\n"
   ]
  },
  {
   "cell_type": "code",
   "execution_count": 83,
   "metadata": {},
   "outputs": [
    {
     "data": {
      "text/plain": [
       "Index(['Duration-of-Credit-Month', 'Credit-Amount',\n",
       "       'Account-Balance_Some Balance',\n",
       "       'Payment-Status-of-Previous-Credit_Some Problems'],\n",
       "      dtype='object')"
      ]
     },
     "execution_count": 83,
     "metadata": {},
     "output_type": "execute_result"
    }
   ],
   "source": [
    "# plugging mask into previous pandas filter\n",
    "# first_correlated_features = X.columns[X.corrwith(y, axis = 0).abs() > 0.7]\n",
    "first_correlated_features = X.columns[X.corrwith(y, axis = 0).abs() > 0.2]\n",
    "# first_correlated_features = list(first_correlated_features)\n",
    "first_correlated_features\n"
   ]
  },
  {
   "cell_type": "markdown",
   "metadata": {},
   "source": [
    "Note:\n",
    "\n",
    "The data set has been downselected to 6 features:\n",
    "\n",
    "* Account-Balance_Some Balance\n",
    "* Credit-Amount\n",
    "* Duration-of-Credit-Month\n",
    "* Payment-Status-of-Previous-Credit_Some Problems\n"
   ]
  },
  {
   "cell_type": "markdown",
   "metadata": {},
   "source": [
    "# <span style=\"color:red\">P-Value<span>"
   ]
  },
  {
   "cell_type": "code",
   "execution_count": 110,
   "metadata": {},
   "outputs": [
    {
     "data": {
      "text/plain": [
       "(-0.316080415357103, 4.606667913072385e-13)"
      ]
     },
     "execution_count": 110,
     "metadata": {},
     "output_type": "execute_result"
    }
   ],
   "source": [
    "stats.pearsonr(X['Account-Balance_Some Balance'], y)"
   ]
  },
  {
   "cell_type": "code",
   "execution_count": 111,
   "metadata": {},
   "outputs": [
    {
     "data": {
      "text/plain": [
       "(0.20194579161781123, 5.3310815802338685e-06)"
      ]
     },
     "execution_count": 111,
     "metadata": {},
     "output_type": "execute_result"
    }
   ],
   "source": [
    "stats.pearsonr(X['Credit-Amount'], y)"
   ]
  },
  {
   "cell_type": "code",
   "execution_count": 112,
   "metadata": {},
   "outputs": [
    {
     "data": {
      "text/plain": [
       "(0.2025036085032149, 5.015063149493572e-06)"
      ]
     },
     "execution_count": 112,
     "metadata": {},
     "output_type": "execute_result"
    }
   ],
   "source": [
    "stats.pearsonr(X['Duration-of-Credit-Month'], y)"
   ]
  },
  {
   "cell_type": "code",
   "execution_count": 113,
   "metadata": {},
   "outputs": [
    {
     "data": {
      "text/plain": [
       "(0.2535309364742637, 8.970354541038087e-09)"
      ]
     },
     "execution_count": 113,
     "metadata": {},
     "output_type": "execute_result"
    }
   ],
   "source": [
    "stats.pearsonr(X['Payment-Status-of-Previous-Credit_Some Problems'], y)"
   ]
  },
  {
   "cell_type": "markdown",
   "metadata": {},
   "source": [
    "We can look at the downselected predictor variables p-values running *pearsonr()* function."
   ]
  },
  {
   "cell_type": "code",
   "execution_count": 41,
   "metadata": {},
   "outputs": [],
   "source": [
    "# first_correlated_features = ['Account-Balance_Some Balance',\n",
    "#                              'Credit-Amount',\n",
    "#                              'Most-valuable-available-asset',\n",
    "#                              'Payment-Status-of-Previous-Credit_Paid Up',\n",
    "#                              'Payment-Status-of-Previous-Credit_Some Problems',\n",
    "#                              'Instalment-per-cent',\n",
    "#                              'Purpose_New car',\n",
    "#                              'Purpose_Other',\n",
    "#                              'Purpose_Used car',\n",
    "#                              'Length-of-current-employment_4-7 yrs',\n",
    "#                              'Length-of-current-employment_< 1yr'\n",
    "#                             ]"
   ]
  },
  {
   "cell_type": "code",
   "execution_count": 42,
   "metadata": {},
   "outputs": [],
   "source": [
    "# X_train.loc[:, first_correlated_features]"
   ]
  },
  {
   "cell_type": "code",
   "execution_count": 43,
   "metadata": {},
   "outputs": [],
   "source": [
    "# X_train = X_train.loc[:, first_correlated_features]"
   ]
  },
  {
   "cell_type": "code",
   "execution_count": 44,
   "metadata": {},
   "outputs": [],
   "source": [
    "# X_test = X_test.loc[:, first_correlated_features]"
   ]
  },
  {
   "cell_type": "markdown",
   "metadata": {},
   "source": [
    "# <span style=\"color:red\">Visualizations</span>"
   ]
  },
  {
   "cell_type": "code",
   "execution_count": 30,
   "metadata": {},
   "outputs": [
    {
     "data": {
      "text/plain": [
       "<matplotlib.axes._subplots.AxesSubplot at 0x1a18f6cf60>"
      ]
     },
     "execution_count": 30,
     "metadata": {},
     "output_type": "execute_result"
    },
    {
     "data": {
      "image/png": "[encoded data removed]",
      "text/plain": [
       "<Figure size 432x288 with 1 Axes>"
      ]
     },
     "metadata": {
      "needs_background": "light"
     },
     "output_type": "display_data"
    }
   ],
   "source": [
    "#\n",
    "sns.countplot(data = X_test['Account-Balance_Some Balance'], x = y_test)"
   ]
  },
  {
   "cell_type": "code",
   "execution_count": null,
   "metadata": {},
   "outputs": [],
   "source": []
  },
  {
   "cell_type": "markdown",
   "metadata": {},
   "source": [
    "# Logistic Regression"
   ]
  },
  {
   "cell_type": "code",
   "execution_count": 45,
   "metadata": {},
   "outputs": [],
   "source": [
    "# create classifier as empty box\n",
    "LRC = LogisticRegression()"
   ]
  },
  {
   "cell_type": "code",
   "execution_count": 46,
   "metadata": {},
   "outputs": [
    {
     "data": {
      "text/plain": [
       "LogisticRegression(C=1.0, class_weight=None, dual=False, fit_intercept=True,\n",
       "          intercept_scaling=1, max_iter=100, multi_class='ovr', n_jobs=1,\n",
       "          penalty='l2', random_state=None, solver='liblinear', tol=0.0001,\n",
       "          verbose=0, warm_start=False)"
      ]
     },
     "execution_count": 46,
     "metadata": {},
     "output_type": "execute_result"
    }
   ],
   "source": [
    "# my classifer doesn't now anything about being credit worthy or not\n",
    "# need to use fit learning algorithm to train the classifier\n",
    "LRC.fit(X_train, y_train)"
   ]
  },
  {
   "cell_type": "code",
   "execution_count": 47,
   "metadata": {},
   "outputs": [
    {
     "data": {
      "text/plain": [
       "array([0, 1, 0, 0, 1, 1, 0, 0, 0, 0, 0, 0, 0, 0, 0, 0, 0, 0, 0, 0, 0, 0,\n",
       "       0, 1, 0, 0, 0, 1, 0, 0, 0, 1, 0, 0, 0, 0, 1, 0, 1, 0, 0, 0, 1, 0,\n",
       "       1, 0, 0, 0, 0, 0, 0, 0, 0, 1, 1, 0, 0, 1, 0, 0, 1, 0, 0, 0, 0, 0,\n",
       "       0, 0, 0, 0, 0, 0, 0, 0, 0, 1, 0, 0, 0, 0, 0, 0, 0, 0, 0, 1, 1, 0,\n",
       "       1, 0, 0, 1, 0, 1, 1, 0, 0, 0, 0, 0, 0, 1, 1, 0, 0, 0, 1, 0, 0, 0,\n",
       "       1, 0, 0, 1, 0, 0, 1, 0, 0, 1, 1, 0, 0, 0, 0, 1, 1, 0, 0, 0, 0, 0,\n",
       "       1, 0, 0, 0, 0, 1, 0, 0, 0, 0, 0, 0, 0, 0, 0, 0, 0, 0], dtype=uint8)"
      ]
     },
     "execution_count": 47,
     "metadata": {},
     "output_type": "execute_result"
    }
   ],
   "source": [
    "# let's take the classifier for a spin and make some predictions\n",
    "LRC.predict(X_test)"
   ]
  },
  {
   "cell_type": "code",
   "execution_count": 48,
   "metadata": {},
   "outputs": [
    {
     "data": {
      "text/plain": [
       "0.76"
      ]
     },
     "execution_count": 48,
     "metadata": {},
     "output_type": "execute_result"
    }
   ],
   "source": [
    "# Score it on the test set\n",
    "# Using the default classification accuracy score\n",
    "LRC.score(X_test, y_test)"
   ]
  },
  {
   "cell_type": "code",
   "execution_count": 49,
   "metadata": {},
   "outputs": [],
   "source": [
    "# LRC.score(X_test, y_test)"
   ]
  },
  {
   "cell_type": "code",
   "execution_count": 50,
   "metadata": {},
   "outputs": [],
   "source": [
    "# get same score as above\n",
    "# from sklearn.metrics import classification_report\n",
    "# classification_report(y_test, LRC.predict(X_test))\n"
   ]
  },
  {
   "cell_type": "markdown",
   "metadata": {},
   "source": [
    "# Decision Tree"
   ]
  },
  {
   "cell_type": "code",
   "execution_count": 51,
   "metadata": {},
   "outputs": [],
   "source": [
    "# create classifer... right now it's just an empty box\n",
    "dectree = tree.DecisionTreeClassifier()\n"
   ]
  },
  {
   "cell_type": "code",
   "execution_count": 52,
   "metadata": {},
   "outputs": [
    {
     "data": {
      "text/plain": [
       "DecisionTreeClassifier(class_weight=None, criterion='gini', max_depth=None,\n",
       "            max_features=None, max_leaf_nodes=None,\n",
       "            min_impurity_decrease=0.0, min_impurity_split=None,\n",
       "            min_samples_leaf=1, min_samples_split=2,\n",
       "            min_weight_fraction_leaf=0.0, presort=False, random_state=None,\n",
       "            splitter='best')"
      ]
     },
     "execution_count": 52,
     "metadata": {},
     "output_type": "execute_result"
    }
   ],
   "source": [
    "# my classifier doesn't know anything about being credit worthy or not yet\n",
    "# to train the classifier, I need a learning algorithm\n",
    "# if a classifier is a box of rules, then the learning algorithm is the procedure that creates the rules\n",
    "# fit is my classifier, think of it as a synonym for find patterns in data\n",
    "dectree.fit(X_train, y_train)\n"
   ]
  },
  {
   "cell_type": "code",
   "execution_count": 53,
   "metadata": {},
   "outputs": [
    {
     "data": {
      "text/plain": [
       "array([0, 1, 0, 1, 1, 0, 0, 0, 1, 0, 0, 0, 0, 1, 0, 0, 1, 0, 0, 1, 0, 0,\n",
       "       0, 1, 0, 0, 0, 1, 0, 0, 0, 0, 1, 1, 0, 1, 1, 0, 1, 0, 0, 0, 1, 0,\n",
       "       1, 0, 1, 0, 1, 1, 0, 0, 0, 1, 1, 0, 0, 0, 0, 0, 1, 0, 0, 0, 1, 0,\n",
       "       0, 0, 0, 1, 1, 0, 0, 0, 1, 0, 0, 0, 0, 0, 0, 0, 1, 0, 0, 1, 1, 0,\n",
       "       1, 1, 0, 1, 1, 0, 1, 0, 1, 0, 0, 0, 0, 0, 1, 0, 1, 0, 1, 0, 1, 0,\n",
       "       0, 1, 1, 1, 1, 1, 1, 0, 0, 1, 1, 0, 0, 0, 0, 0, 1, 0, 0, 0, 0, 0,\n",
       "       1, 0, 0, 0, 0, 1, 0, 1, 0, 0, 0, 0, 0, 0, 0, 0, 1, 0], dtype=uint8)"
      ]
     },
     "execution_count": 53,
     "metadata": {},
     "output_type": "execute_result"
    }
   ],
   "source": [
    "# now that the classifier has been trained let's take it for a spin\n",
    "dectree.predict(X_test)\n"
   ]
  },
  {
   "cell_type": "code",
   "execution_count": 54,
   "metadata": {},
   "outputs": [
    {
     "data": {
      "text/plain": [
       "0.66"
      ]
     },
     "execution_count": 54,
     "metadata": {},
     "output_type": "execute_result"
    }
   ],
   "source": [
    "# Score it on the test set\n",
    "# Using the default classification accuracy score\n",
    "dectree.score(X_test, y_test)\n"
   ]
  },
  {
   "cell_type": "code",
   "execution_count": 55,
   "metadata": {},
   "outputs": [],
   "source": [
    "creditworthy_results = [\"Creditworthy\", \"Non-Creditworthy\"]"
   ]
  },
  {
   "cell_type": "code",
   "execution_count": 56,
   "metadata": {},
   "outputs": [
    {
     "data": {
      "text/plain": [
       "['Duration-of-Credit-Month',\n",
       " 'Credit-Amount',\n",
       " 'Instalment-per-cent',\n",
       " 'Most-valuable-available-asset',\n",
       " 'Age-years',\n",
       " 'Type-of-apartment',\n",
       " 'No-of-dependents',\n",
       " 'Telephone',\n",
       " 'Foreign-Worker',\n",
       " 'Account-Balance_Some Balance',\n",
       " 'Payment-Status-of-Previous-Credit_Paid Up',\n",
       " 'Payment-Status-of-Previous-Credit_Some Problems',\n",
       " 'Purpose_New car',\n",
       " 'Purpose_Other',\n",
       " 'Purpose_Used car',\n",
       " 'Value-Savings-Stocks_None',\n",
       " 'Value-Savings-Stocks_£100-£1000',\n",
       " 'Length-of-current-employment_4-7 yrs',\n",
       " 'Length-of-current-employment_< 1yr',\n",
       " 'Guarantors_Yes',\n",
       " 'No-of-Credits-at-this-Bank_More than 1']"
      ]
     },
     "execution_count": 56,
     "metadata": {},
     "output_type": "execute_result"
    }
   ],
   "source": [
    "list(X.columns)"
   ]
  },
  {
   "cell_type": "code",
   "execution_count": 57,
   "metadata": {},
   "outputs": [],
   "source": [
    "# This output can be visualized\n",
    "import pydot\n",
    "from sklearn.externals.six import StringIO\n",
    "\n",
    "dotfile = StringIO()\n",
    "tree.export_graphviz(dectree,\n",
    "                     out_file=dotfile,\n",
    "                     feature_names=list(X.columns),\n",
    "                     class_names=creditworthy_results,\n",
    "                     filled=True,\n",
    "                     rounded=True,\n",
    "                     impurity=False\n",
    "                    )\n",
    "(graph,)=pydot.graph_from_dot_data(dotfile.getvalue())\n",
    "graph.write_png(\"./assets/dtree.png\")\n",
    "graph.write_pdf(\"./assets/dtree.pdf\")"
   ]
  },
  {
   "cell_type": "markdown",
   "metadata": {},
   "source": [
    "This is a diagram of the visuals I saved to my repository. The diagram provides a visual representation of the decision tree. The nice thing about decision trees is that they are interpretable, and the tree diagram works the same way it would in code (i.e. you know exactly why the classifier makes a decision).\n",
    "\n",
    "![Displaying the visual I just created:](./assets/dtree.png)\n"
   ]
  },
  {
   "cell_type": "markdown",
   "metadata": {},
   "source": [
    "# Boosted Tree (aka Gradient Boosting)\n"
   ]
  },
  {
   "cell_type": "code",
   "execution_count": 58,
   "metadata": {},
   "outputs": [],
   "source": [
    "# create classifier... this is an empty box\n",
    "gbc = GradientBoostingClassifier()"
   ]
  },
  {
   "cell_type": "code",
   "execution_count": 59,
   "metadata": {},
   "outputs": [
    {
     "data": {
      "text/plain": [
       "GradientBoostingClassifier(criterion='friedman_mse', init=None,\n",
       "              learning_rate=0.1, loss='deviance', max_depth=3,\n",
       "              max_features=None, max_leaf_nodes=None,\n",
       "              min_impurity_decrease=0.0, min_impurity_split=None,\n",
       "              min_samples_leaf=1, min_samples_split=2,\n",
       "              min_weight_fraction_leaf=0.0, n_estimators=100,\n",
       "              presort='auto', random_state=None, subsample=1.0, verbose=0,\n",
       "              warm_start=False)"
      ]
     },
     "execution_count": 59,
     "metadata": {},
     "output_type": "execute_result"
    }
   ],
   "source": [
    "# my classifer doesn't now anything about being credit worthy or not\n",
    "# use fit algorithm to train the gbc classifier\n",
    "gbc.fit(X_train, y_train)"
   ]
  },
  {
   "cell_type": "code",
   "execution_count": 60,
   "metadata": {},
   "outputs": [
    {
     "data": {
      "text/plain": [
       "array([0, 1, 0, 0, 0, 1, 0, 0, 0, 0, 0, 0, 0, 0, 0, 0, 0, 1, 0, 0, 0, 0,\n",
       "       0, 1, 0, 0, 0, 0, 0, 0, 0, 1, 0, 1, 0, 0, 1, 0, 1, 0, 0, 0, 0, 0,\n",
       "       0, 0, 0, 1, 0, 1, 0, 0, 0, 1, 1, 0, 0, 1, 0, 0, 1, 0, 0, 0, 1, 0,\n",
       "       0, 0, 0, 0, 0, 0, 0, 0, 1, 1, 0, 0, 0, 0, 0, 0, 1, 0, 0, 1, 1, 0,\n",
       "       1, 1, 0, 1, 1, 0, 1, 0, 0, 0, 0, 1, 0, 1, 1, 0, 1, 0, 1, 0, 0, 0,\n",
       "       0, 0, 1, 0, 1, 0, 1, 0, 0, 1, 1, 0, 0, 0, 0, 0, 0, 0, 0, 0, 0, 0,\n",
       "       1, 0, 0, 0, 0, 1, 1, 0, 0, 0, 0, 0, 0, 0, 0, 0, 0, 0], dtype=uint8)"
      ]
     },
     "execution_count": 60,
     "metadata": {},
     "output_type": "execute_result"
    }
   ],
   "source": [
    "# take your classifier for a spin, make some predictions\n",
    "gbc.predict(X_test)"
   ]
  },
  {
   "cell_type": "code",
   "execution_count": 61,
   "metadata": {},
   "outputs": [
    {
     "data": {
      "text/plain": [
       "0.7266666666666667"
      ]
     },
     "execution_count": 61,
     "metadata": {},
     "output_type": "execute_result"
    }
   ],
   "source": [
    "# Score it on the test set\n",
    "# Using the default classification accuracy score\n",
    "gbc.score(X_test, y_test)"
   ]
  },
  {
   "cell_type": "markdown",
   "metadata": {},
   "source": [
    "# Forest Model (aka Random Forest Model)"
   ]
  },
  {
   "cell_type": "code",
   "execution_count": 62,
   "metadata": {},
   "outputs": [],
   "source": [
    "# classifier is empty box\n",
    "rf = RandomForestClassifier()"
   ]
  },
  {
   "cell_type": "code",
   "execution_count": 63,
   "metadata": {},
   "outputs": [
    {
     "data": {
      "text/plain": [
       "RandomForestClassifier(bootstrap=True, class_weight=None, criterion='gini',\n",
       "            max_depth=None, max_features='auto', max_leaf_nodes=None,\n",
       "            min_impurity_decrease=0.0, min_impurity_split=None,\n",
       "            min_samples_leaf=1, min_samples_split=2,\n",
       "            min_weight_fraction_leaf=0.0, n_estimators=10, n_jobs=1,\n",
       "            oob_score=False, random_state=None, verbose=0,\n",
       "            warm_start=False)"
      ]
     },
     "execution_count": 63,
     "metadata": {},
     "output_type": "execute_result"
    }
   ],
   "source": [
    "# classifier doesn't know anything about being credit worthy\n",
    "# so need to use fit algorithm to train the classifier\n",
    "# fit(features, target)\n",
    "rf.fit(X_train, y_train)"
   ]
  },
  {
   "cell_type": "code",
   "execution_count": 64,
   "metadata": {},
   "outputs": [
    {
     "data": {
      "text/plain": [
       "array([0, 1, 0, 0, 0, 1, 0, 0, 0, 0, 0, 1, 0, 0, 0, 0, 0, 1, 0, 0, 0, 0,\n",
       "       0, 1, 0, 0, 0, 0, 0, 0, 0, 1, 0, 1, 0, 0, 1, 0, 1, 0, 0, 0, 0, 0,\n",
       "       0, 0, 0, 1, 0, 1, 0, 0, 0, 1, 1, 0, 0, 1, 0, 0, 0, 0, 0, 0, 0, 0,\n",
       "       0, 0, 0, 0, 0, 0, 0, 0, 0, 0, 0, 0, 0, 0, 0, 0, 0, 0, 0, 1, 1, 0,\n",
       "       1, 0, 1, 1, 1, 1, 1, 0, 0, 0, 0, 0, 0, 1, 1, 0, 0, 0, 0, 0, 0, 0,\n",
       "       0, 1, 1, 0, 1, 1, 1, 0, 0, 0, 1, 0, 0, 0, 0, 0, 1, 0, 0, 0, 0, 0,\n",
       "       0, 0, 0, 0, 0, 1, 1, 0, 0, 0, 0, 0, 0, 0, 0, 0, 0, 0], dtype=uint8)"
      ]
     },
     "execution_count": 64,
     "metadata": {},
     "output_type": "execute_result"
    }
   ],
   "source": [
    "# take the trained classifier for a spin and make some predictions\n",
    "rf.predict(X_test)"
   ]
  },
  {
   "cell_type": "code",
   "execution_count": 65,
   "metadata": {},
   "outputs": [
    {
     "data": {
      "text/plain": [
       "0.7466666666666667"
      ]
     },
     "execution_count": 65,
     "metadata": {},
     "output_type": "execute_result"
    }
   ],
   "source": [
    "# Score it on the test set\n",
    "# Using the default classification accuracy score\n",
    "rf.score(X_test, y_test)"
   ]
  },
  {
   "cell_type": "code",
   "execution_count": null,
   "metadata": {},
   "outputs": [],
   "source": []
  },
  {
   "cell_type": "markdown",
   "metadata": {},
   "source": [
    "# KNN"
   ]
  },
  {
   "cell_type": "code",
   "execution_count": 66,
   "metadata": {},
   "outputs": [
    {
     "data": {
      "text/plain": [
       "0.62"
      ]
     },
     "execution_count": 66,
     "metadata": {},
     "output_type": "execute_result"
    }
   ],
   "source": [
    "# Not a part of this project, but curious how KNN classifier compares to others\n",
    "knn = KNeighborsClassifier()\n",
    "knn.fit(X_train, y_train)\n",
    "knn.predict(X_test)\n",
    "knn.score(X_test, y_test)\n"
   ]
  },
  {
   "cell_type": "code",
   "execution_count": 67,
   "metadata": {},
   "outputs": [
    {
     "ename": "NameError",
     "evalue": "name 'BREAK' is not defined",
     "output_type": "error",
     "traceback": [
      "\u001b[0;31m---------------------------------------------------------------------------\u001b[0m",
      "\u001b[0;31mNameError\u001b[0m                                 Traceback (most recent call last)",
      "\u001b[0;32m<ipython-input-67-66db536c6cae>\u001b[0m in \u001b[0;36m<module>\u001b[0;34m()\u001b[0m\n\u001b[0;32m----> 1\u001b[0;31m \u001b[0mBREAK\u001b[0m\u001b[0;34m\u001b[0m\u001b[0;34m\u001b[0m\u001b[0m\n\u001b[0m",
      "\u001b[0;31mNameError\u001b[0m: name 'BREAK' is not defined"
     ]
    }
   ],
   "source": [
    "BREAK"
   ]
  },
  {
   "cell_type": "markdown",
   "metadata": {},
   "source": [
    "# Test New Data Set\n",
    "\n",
    "* get dummies for new dataset\n",
    "* drop Occupation and Concurrent from data set. If needed, you might just select features based on previous section...\n",
    "* but if you need to drop columns then you can using the code in next cell"
   ]
  },
  {
   "cell_type": "code",
   "execution_count": null,
   "metadata": {},
   "outputs": [],
   "source": [
    "\n",
    "# X = old_applicants_dummies.loc[:, ~old_applicants_dummies.columns.isin(['Credit-Application-Result_Non-Creditworthy', 'Occupation'])].copy()\n",
    "# y = y_dummy = old_applicants_dummies['Credit-Application-Result_Non-Creditworthy'].copy()\n"
   ]
  },
  {
   "cell_type": "code",
   "execution_count": null,
   "metadata": {},
   "outputs": [],
   "source": []
  },
  {
   "cell_type": "code",
   "execution_count": null,
   "metadata": {},
   "outputs": [],
   "source": []
  },
  {
   "cell_type": "markdown",
   "metadata": {},
   "source": [
    "# Correlation"
   ]
  },
  {
   "cell_type": "markdown",
   "metadata": {},
   "source": [
    "Note:\n",
    "\n",
    "When when two features are highly correlated they are linearly dependent, and will have the same or similar effect on the dependent variable (target variable???). Therefore, when two features have high correlation, one of the two features can be dropped.\n",
    "\n",
    "??? using the funciton np.random.seed() allowed me to make random numbers predictable and replicable ???\n",
    "??? we randomize the order of data to affect how the model is trained (i.e. don't want order to affect how we learn)... order of the data  is not a part in determining if an applicant is creditworthy or not.... \n",
    "https://www.youtube.com/watch?v=nKW8Ndu7Mjw\n",
    "\n",
    "\n",
    "??? do i need to create dummy variables first, before doing the following steps... to find out start small with 2 columns and see if you get the same values???\n",
    "\n",
    "labeled the categorical variable using scikit-learn's LabelEncoder() class to transform non-numberical data to numerical data types.\n",
    "\n",
    "Then calcualted each column's variance and removed items with low variance. In this case, I removed columns Concurrent-Credits and Occupation for both having a variance of zero; meaning they had the same value accross the entire field. \n",
    "\n",
    "then generated correlation matrix with old_applicants.corr(), which I passed to a correlation heat-map using seaborn. \n",
    "\n",
    "I then wrote a script that allowed me to compare the correlation between features. If two features had a correlation higher than 0.7, then one of the features was removed. My features were selected once the dataset only had the columns with correlation less than 0.7.\n",
    "\n"
   ]
  },
  {
   "cell_type": "markdown",
   "metadata": {},
   "source": [
    "## Selecting Features Based On Correlation"
   ]
  },
  {
   "cell_type": "markdown",
   "metadata": {},
   "source": [
    "Note:\n",
    "\n",
    "[scikit-learn VerianceThreshold](https://scikit-learn.org/stable/modules/generated/sklearn.feature_selection.VarianceThreshold.html) can be used to remove features with low variance. The default variance is set at 0.0. In this case Concurrent-Credits and Occupation variability are equal to zero. They will be removed from the dataframe."
   ]
  },
  {
   "cell_type": "code",
   "execution_count": null,
   "metadata": {},
   "outputs": [],
   "source": [
    "# corr = old_applicants_dummies.loc[:, ~old_applicants_dummies.columns.isin(['Concurrent-Credits','Occupation'])].copy()\n",
    "# corr = corr.corr()"
   ]
  },
  {
   "cell_type": "code",
   "execution_count": null,
   "metadata": {},
   "outputs": [],
   "source": [
    "# corr.shape"
   ]
  },
  {
   "cell_type": "code",
   "execution_count": null,
   "metadata": {},
   "outputs": [],
   "source": [
    "# corr"
   ]
  },
  {
   "cell_type": "code",
   "execution_count": null,
   "metadata": {},
   "outputs": [],
   "source": [
    "# GENERATE THE HEATMAP\n",
    "# sns.heatmap(corr)"
   ]
  },
  {
   "cell_type": "markdown",
   "metadata": {},
   "source": [
    "The heatmap function automatically chooses the most correlated features, and I want to focus on features correlations to the target variable. Therfore I am assuming the more coreelatated a feature is to a target, the more useful it will be in my model. Also, correlation coefficient can be used to determine similar features (i.e. redundancies). To reduce overfitting my model, I will be using correlation to spot overfitting and remove redundant features.\n",
    "https://hub.packtpub.com/selecting-statistical-based-features-in-machine-learning-application/ \n",
    "<span style=\"color:red\">_this covers chapter 5... look at chapter 4 for additional details_</span>"
   ]
  },
  {
   "cell_type": "code",
   "execution_count": null,
   "metadata": {},
   "outputs": [],
   "source": [
    "# isolating correlations between features and the target variable\n",
    "# corr['Credit-Application-Result']"
   ]
  },
  {
   "cell_type": "markdown",
   "metadata": {},
   "source": [
    "I'm ignoring the correlation for _Credit-Application-Result_ since it is the target variable. Then looking at all of the features that have correlations close to -1 or +1; since these are the features I am assuming will be useful. "
   ]
  },
  {
   "cell_type": "code",
   "execution_count": null,
   "metadata": {},
   "outputs": [],
   "source": [
    "# using pandas to filter features that have ±0.2 correlations. \n",
    "# corr['Credit-Application-Result'].abs() > 0.7"
   ]
  },
  {
   "cell_type": "markdown",
   "metadata": {},
   "source": [
    "Every False in the preceding pandas Series represents a feature that has a correlation value between -.7 and .7 inclusive, while True values correspond to features with preceding correlation values .7 or less than -0.7.\n",
    "\n",
    "Each _False_ in the series above represents a feature correlation between ±0.7 (inclusive). While, _True_ represents feature correlation values less than -0.7, or greater than 0.7. This can be plugged into the previous filter as a mask. I will assign it to a variable that represents highly correlated features and will drop the target variable. This should leave me with a list of highly correlated features."
   ]
  },
  {
   "cell_type": "code",
   "execution_count": null,
   "metadata": {},
   "outputs": [],
   "source": [
    "# plugging mask into previous pandas filter\n",
    "# highly_correlated_features = corr.columns[corr['Credit-Application-Result'].abs() > 0.7]\n",
    "# highly_correlated_features = highly_correlated_features.drop('Credit-Application-Result')\n",
    "# highly_correlated_features"
   ]
  },
  {
   "cell_type": "code",
   "execution_count": null,
   "metadata": {},
   "outputs": [],
   "source": [
    "NOW YOU CAN RUN CORR ON THE DATA"
   ]
  },
  {
   "cell_type": "code",
   "execution_count": null,
   "metadata": {},
   "outputs": [],
   "source": [
    "BREAK"
   ]
  },
  {
   "cell_type": "markdown",
   "metadata": {},
   "source": [
    "# Logistic Regression"
   ]
  },
  {
   "cell_type": "code",
   "execution_count": null,
   "metadata": {},
   "outputs": [],
   "source": [
    "# old_applicants_dummies.drop('Credit-Application-Result_Non-Creditworthy', axis=1)\n"
   ]
  },
  {
   "cell_type": "code",
   "execution_count": null,
   "metadata": {},
   "outputs": [],
   "source": [
    "# X_dummy = old_applicants_dummies.loc[:, ~old_applicants_dummies.columns.isin(['Credit-Application-Result_Non-Creditworthy'])]\n"
   ]
  },
  {
   "cell_type": "code",
   "execution_count": null,
   "metadata": {},
   "outputs": [],
   "source": [
    "# y_dummy = old_applicants_dummies['Credit-Application-Result_Non-Creditworthy']\n"
   ]
  },
  {
   "cell_type": "code",
   "execution_count": null,
   "metadata": {},
   "outputs": [],
   "source": [
    "# X_train, X_test, y_train, y_test = train_test_split(X, y, train_size = 0.7, random_state = 1)\n"
   ]
  },
  {
   "cell_type": "code",
   "execution_count": null,
   "metadata": {},
   "outputs": [],
   "source": [
    "# X_train.isnull().sum()"
   ]
  },
  {
   "cell_type": "code",
   "execution_count": null,
   "metadata": {},
   "outputs": [],
   "source": [
    "# X_train['Age-years'].head(10)"
   ]
  },
  {
   "cell_type": "code",
   "execution_count": null,
   "metadata": {},
   "outputs": [],
   "source": [
    "# train_dummy_median = X_train_dummy.median()\n",
    "# X_train_dummy = X_train_dummy.fillna(train_dummy_median)\n",
    "# X_test_dummy = X_test_dummy.fillna(train_dummy_median)\n"
   ]
  },
  {
   "cell_type": "code",
   "execution_count": null,
   "metadata": {},
   "outputs": [],
   "source": [
    "# X_train_dummy['Age-years'].head(10)"
   ]
  },
  {
   "cell_type": "code",
   "execution_count": null,
   "metadata": {},
   "outputs": [],
   "source": [
    "# from sklearn.linear_model import LogisticRegression"
   ]
  },
  {
   "cell_type": "code",
   "execution_count": null,
   "metadata": {},
   "outputs": [],
   "source": [
    "logmodel = LogisticRegression()"
   ]
  },
  {
   "cell_type": "code",
   "execution_count": null,
   "metadata": {},
   "outputs": [],
   "source": [
    "logmodel.fit(X_train, y_train)"
   ]
  },
  {
   "cell_type": "code",
   "execution_count": null,
   "metadata": {},
   "outputs": [],
   "source": [
    "predictions = logmodel.predict(X_test)"
   ]
  },
  {
   "cell_type": "code",
   "execution_count": null,
   "metadata": {},
   "outputs": [],
   "source": [
    "from sklearn.metrics import classification_report"
   ]
  },
  {
   "cell_type": "code",
   "execution_count": null,
   "metadata": {},
   "outputs": [],
   "source": [
    "classification_report(y_test, predictions)"
   ]
  },
  {
   "cell_type": "code",
   "execution_count": null,
   "metadata": {},
   "outputs": [],
   "source": [
    "from sklearn.metrics import accuracy_score"
   ]
  },
  {
   "cell_type": "code",
   "execution_count": null,
   "metadata": {},
   "outputs": [],
   "source": [
    "accuracy_score(y_test, predictions)"
   ]
  },
  {
   "cell_type": "code",
   "execution_count": null,
   "metadata": {},
   "outputs": [],
   "source": []
  },
  {
   "cell_type": "code",
   "execution_count": null,
   "metadata": {},
   "outputs": [],
   "source": []
  },
  {
   "cell_type": "code",
   "execution_count": null,
   "metadata": {},
   "outputs": [],
   "source": []
  },
  {
   "cell_type": "code",
   "execution_count": null,
   "metadata": {},
   "outputs": [],
   "source": []
  },
  {
   "cell_type": "markdown",
   "metadata": {},
   "source": [
    "# Feature Selection"
   ]
  },
  {
   "cell_type": "code",
   "execution_count": null,
   "metadata": {},
   "outputs": [],
   "source": [
    "# import warnings\n",
    "# warnings.filterwarnings(\"ignore\")\n",
    "# from sklearn.model_selection import train_test_split\n",
    "# from sklearn.svm import SVC\n",
    "# from sklearn.metrics import confusion_matrix\n",
    "# np.random.seed(1)"
   ]
  },
  {
   "cell_type": "markdown",
   "metadata": {},
   "source": [
    "# <span style=\"color:red\">START: Change variable name old_applicants to something not referencing corr</span>"
   ]
  },
  {
   "cell_type": "markdown",
   "metadata": {},
   "source": [
    "Pearson correlation is the defaut for pandas.corr() function. In this case I will use it to measure the relationship between columns. Pearson correlation requires each column be normall distributed (which I am not assuming). Although the recommended threshold for ignoring this threshold is set at greater than 500, I am going to ignore this requirement because the shape of this dataset is right at 500 (meaning my dataset is large).\n",
    "https://hub.packtpub.com/selecting-statistical-based-features-in-machine-learning-application/"
   ]
  },
  {
   "cell_type": "code",
   "execution_count": null,
   "metadata": {},
   "outputs": [],
   "source": [
    "df_correlation = old_applicants.copy()\n"
   ]
  },
  {
   "cell_type": "code",
   "execution_count": null,
   "metadata": {},
   "outputs": [],
   "source": [
    "old_applicants.head()"
   ]
  },
  {
   "cell_type": "code",
   "execution_count": null,
   "metadata": {},
   "outputs": [],
   "source": [
    "old_applicants.columns"
   ]
  },
  {
   "cell_type": "code",
   "execution_count": null,
   "metadata": {},
   "outputs": [],
   "source": [
    "# encode the categorciacl variables\n",
    "label_encoder = LabelEncoder()\n",
    "# encode the categorciacl variables\n",
    "label_encoder = LabelEncoder()\n",
    "df_correlation.iloc[:,0] = label_encoder.fit_transform(df_correlation.iloc[:,0]).astype('float64')\n",
    "df_correlation.iloc[:,1] = label_encoder.fit_transform(df_correlation.iloc[:,1]).astype('float64')\n",
    "df_correlation.iloc[:,2] = label_encoder.fit_transform(df_correlation.iloc[:,2])\n",
    "df_correlation.iloc[:,3] = label_encoder.fit_transform(df_correlation.iloc[:,3]).astype('float64')\n",
    "df_correlation.iloc[:,4] = label_encoder.fit_transform(df_correlation.iloc[:,4]).astype('float64')\n",
    "df_correlation.iloc[:,5] = label_encoder.fit_transform(df_correlation.iloc[:,5])\n",
    "df_correlation.iloc[:,6] = label_encoder.fit_transform(df_correlation.iloc[:,6]).astype('float64')\n",
    "df_correlation.iloc[:,7] = label_encoder.fit_transform(df_correlation.iloc[:,7]).astype('float64')\n",
    "df_correlation.iloc[:,8] = label_encoder.fit_transform(df_correlation.iloc[:,8])\n",
    "df_correlation.iloc[:,9] = label_encoder.fit_transform(df_correlation.iloc[:,9]).astype('float64')\n",
    "df_correlation.iloc[:,10] = label_encoder.fit_transform(df_correlation.iloc[:,10])\n",
    "df_correlation.iloc[:,11] = label_encoder.fit_transform(df_correlation.iloc[:,11])\n",
    "df_correlation.iloc[:,12] = label_encoder.fit_transform(df_correlation.iloc[:,12])\n",
    "df_correlation.iloc[:,13] = label_encoder.fit_transform(df_correlation.iloc[:,13]).astype('float64')\n",
    "df_correlation.iloc[:,14] = label_encoder.fit_transform(df_correlation.iloc[:,14])\n",
    "df_correlation.iloc[:,15] = label_encoder.fit_transform(df_correlation.iloc[:,15]).astype('float64')\n",
    "df_correlation.iloc[:,16] = label_encoder.fit_transform(df_correlation.iloc[:,16])\n",
    "df_correlation.iloc[:,17] = label_encoder.fit_transform(df_correlation.iloc[:,17])\n",
    "df_correlation.iloc[:,18] = label_encoder.fit_transform(df_correlation.iloc[:,18])\n",
    "\n",
    "\n",
    "\n",
    "\n",
    "\n",
    "\n",
    "\n",
    "\n",
    "# # encode the categorciacl variables\n",
    "# label_encoder = LabelEncoder()\n",
    "# # encode the categorciacl variables\n",
    "# label_encoder = LabelEncoder()\n",
    "# old_applicants.iloc[:,0] = label_encoder.fit_transform(old_applicants.iloc[:,0]).astype('float64')\n",
    "# old_applicants.iloc[:,1] = label_encoder.fit_transform(old_applicants.iloc[:,1]).astype('float64')\n",
    "# old_applicants.iloc[:,2] = label_encoder.fit_transform(old_applicants.iloc[:,2])\n",
    "# old_applicants.iloc[:,3] = label_encoder.fit_transform(old_applicants.iloc[:,3]).astype('float64')\n",
    "# old_applicants.iloc[:,4] = label_encoder.fit_transform(old_applicants.iloc[:,4]).astype('float64')\n",
    "# old_applicants.iloc[:,5] = label_encoder.fit_transform(old_applicants.iloc[:,5])\n",
    "# old_applicants.iloc[:,6] = label_encoder.fit_transform(old_applicants.iloc[:,6]).astype('float64')\n",
    "# old_applicants.iloc[:,7] = label_encoder.fit_transform(old_applicants.iloc[:,7]).astype('float64')\n",
    "# old_applicants.iloc[:,8] = label_encoder.fit_transform(old_applicants.iloc[:,8])\n",
    "# old_applicants.iloc[:,9] = label_encoder.fit_transform(old_applicants.iloc[:,9]).astype('float64')\n",
    "# old_applicants.iloc[:,10] = label_encoder.fit_transform(old_applicants.iloc[:,10])\n",
    "# old_applicants.iloc[:,11] = label_encoder.fit_transform(old_applicants.iloc[:,11])\n",
    "# old_applicants.iloc[:,12] = label_encoder.fit_transform(old_applicants.iloc[:,12])\n",
    "# old_applicants.iloc[:,13] = label_encoder.fit_transform(old_applicants.iloc[:,13]).astype('float64')\n",
    "# old_applicants.iloc[:,14] = label_encoder.fit_transform(old_applicants.iloc[:,14])\n",
    "# old_applicants.iloc[:,15] = label_encoder.fit_transform(old_applicants.iloc[:,15]).astype('float64')\n",
    "# old_applicants.iloc[:,16] = label_encoder.fit_transform(old_applicants.iloc[:,16])\n",
    "# old_applicants.iloc[:,17] = label_encoder.fit_transform(old_applicants.iloc[:,17])\n",
    "# old_applicants.iloc[:,18] = label_encoder.fit_transform(old_applicants.iloc[:,18])\n"
   ]
  },
  {
   "cell_type": "code",
   "execution_count": null,
   "metadata": {},
   "outputs": [],
   "source": [
    "# Label Encoder somehow removes my null Age-years values\n",
    "df_correlation.isnull().sum()"
   ]
  },
  {
   "cell_type": "code",
   "execution_count": null,
   "metadata": {},
   "outputs": [],
   "source": [
    "BREAK"
   ]
  },
  {
   "cell_type": "code",
   "execution_count": null,
   "metadata": {},
   "outputs": [],
   "source": [
    "# X = old_applicants[['Age-years', 'Account-Balance', 'Duration-of-Credit-Month','Payment-Status-of-Previous-Credit']].copy()\n",
    "# y = old_applicants['Credit-Application-Result'].copy()"
   ]
  },
  {
   "cell_type": "code",
   "execution_count": null,
   "metadata": {},
   "outputs": [],
   "source": [
    "## This code works to impute median value on age, but I want to paly around with Imputer transformer instead\n",
    "\n",
    "# # median age to impute missing values with\n",
    "# train_imputeAge = old_applicants['Age-years'].median()\n",
    "# train_imputeAge\n",
    "\n",
    "# # fill missing age values with imputed values\n",
    "# train['Age-years'].fillna(train_imputeAge, inplace=True)\n",
    "\n",
    "# # calculate average of ages after imputing the mean value\n",
    "# train['Age-years'].mean()"
   ]
  },
  {
   "cell_type": "markdown",
   "metadata": {},
   "source": [
    "# <span style=\"color:red\">Red Flag... imputing values before splitting is improper approach</span>\n",
    "Note that we aren't implementing any grid searching here, just a plain fit. We see that our model boasts a 66% accuracy rate (not great, but that's not the point). The important thing to note here is that both the training and the testing set of X were imputed using the mean of the entire X matrix. This is in direct violation of a core tenet of the machine learning procedure. We cannot assume that we know the mean of the entire dataset when predicting the test set's response values. Simply put, our KNN model is using information gained from the testing set to fit to the training set. This is a big red flag. These values will have to be imputed after the split. However, my data might already be split into training and testing data.\n",
    "https://subscription.packtpub.com/book/big_data_and_business_intelligence/9781787287600/3/ch03lvl1sec28/dealing-with-missing-values-in-a-dataset?_ga=2.100741634.2075634726.1552106478-132390188.1552018386"
   ]
  },
  {
   "cell_type": "code",
   "execution_count": 69,
   "metadata": {},
   "outputs": [],
   "source": [
    "from sklearn.model_selection import train_test_split"
   ]
  },
  {
   "cell_type": "code",
   "execution_count": null,
   "metadata": {},
   "outputs": [],
   "source": []
  },
  {
   "cell_type": "code",
   "execution_count": null,
   "metadata": {},
   "outputs": [],
   "source": []
  },
  {
   "cell_type": "code",
   "execution_count": null,
   "metadata": {},
   "outputs": [],
   "source": []
  },
  {
   "cell_type": "code",
   "execution_count": null,
   "metadata": {},
   "outputs": [],
   "source": []
  },
  {
   "cell_type": "code",
   "execution_count": null,
   "metadata": {},
   "outputs": [],
   "source": []
  },
  {
   "cell_type": "code",
   "execution_count": null,
   "metadata": {},
   "outputs": [],
   "source": []
  },
  {
   "cell_type": "code",
   "execution_count": 70,
   "metadata": {},
   "outputs": [],
   "source": [
    "# import Imputer module from the scikit-learn preprocessing class\n",
    "from sklearn.preprocessing import Imputer"
   ]
  },
  {
   "cell_type": "code",
   "execution_count": 71,
   "metadata": {},
   "outputs": [],
   "source": [
    "# use parameter strategy, and set it to median to define how you want to impute values into your dataset\n",
    "imputer = Imputer(strategy='median')"
   ]
  },
  {
   "cell_type": "code",
   "execution_count": 72,
   "metadata": {},
   "outputs": [],
   "source": [
    "# call the fit_transform method to create a new object\n",
    "tain_imputed = imputer.fit_transform(old_applicants[['Age-years']])"
   ]
  },
  {
   "cell_type": "code",
   "execution_count": 73,
   "metadata": {},
   "outputs": [
    {
     "data": {
      "text/plain": [
       "numpy.ndarray"
      ]
     },
     "execution_count": 73,
     "metadata": {},
     "output_type": "execute_result"
    }
   ],
   "source": [
    "# Imputer output is not a pandas DataFrame, but a NumPy array\n",
    "type(tain_imputed)"
   ]
  },
  {
   "cell_type": "code",
   "execution_count": 74,
   "metadata": {},
   "outputs": [
    {
     "data": {
      "text/plain": [
       "35.63729508196721"
      ]
     },
     "execution_count": 74,
     "metadata": {},
     "output_type": "execute_result"
    }
   ],
   "source": [
    "# mean of Age-years before imputing median values on missing records\n",
    "old_applicants['Age-years'].mean()"
   ]
  },
  {
   "cell_type": "code",
   "execution_count": 75,
   "metadata": {},
   "outputs": [
    {
     "ename": "NameError",
     "evalue": "name 'traold_applicantsin' is not defined",
     "output_type": "error",
     "traceback": [
      "\u001b[0;31m---------------------------------------------------------------------------\u001b[0m",
      "\u001b[0;31mNameError\u001b[0m                                 Traceback (most recent call last)",
      "\u001b[0;32m<ipython-input-75-a9a1a3e0d97e>\u001b[0m in \u001b[0;36m<module>\u001b[0;34m()\u001b[0m\n\u001b[1;32m      1\u001b[0m \u001b[0;31m# replace Age-years of original dataset with imputed NumPy array... previous records with NaN value will now contain the median 33\u001b[0m\u001b[0;34m\u001b[0m\u001b[0;34m\u001b[0m\u001b[0;34m\u001b[0m\u001b[0m\n\u001b[0;32m----> 2\u001b[0;31m \u001b[0mtraold_applicantsin\u001b[0m\u001b[0;34m[\u001b[0m\u001b[0;34m'Age-years'\u001b[0m\u001b[0;34m]\u001b[0m \u001b[0;34m=\u001b[0m \u001b[0mtain_imputed\u001b[0m\u001b[0;34m\u001b[0m\u001b[0;34m\u001b[0m\u001b[0m\n\u001b[0m",
      "\u001b[0;31mNameError\u001b[0m: name 'traold_applicantsin' is not defined"
     ]
    }
   ],
   "source": [
    "# replace Age-years of original dataset with imputed NumPy array... previous records with NaN value will now contain the median 33\n",
    "traold_applicantsin['Age-years'] = tain_imputed"
   ]
  },
  {
   "cell_type": "code",
   "execution_count": 76,
   "metadata": {},
   "outputs": [
    {
     "data": {
      "text/plain": [
       "pandas.core.series.Series"
      ]
     },
     "execution_count": 76,
     "metadata": {},
     "output_type": "execute_result"
    }
   ],
   "source": [
    "type(old_applicants['Age-years'])"
   ]
  },
  {
   "cell_type": "code",
   "execution_count": 77,
   "metadata": {},
   "outputs": [
    {
     "data": {
      "text/plain": [
       "35.63729508196721"
      ]
     },
     "execution_count": 77,
     "metadata": {},
     "output_type": "execute_result"
    }
   ],
   "source": [
    "# average Age-years has changed to reflect the mean with imputed values included\n",
    "old_applicants['Age-years'].mean()"
   ]
  },
  {
   "cell_type": "code",
   "execution_count": null,
   "metadata": {},
   "outputs": [],
   "source": []
  },
  {
   "cell_type": "code",
   "execution_count": null,
   "metadata": {},
   "outputs": [],
   "source": []
  },
  {
   "cell_type": "code",
   "execution_count": null,
   "metadata": {
    "scrolled": true
   },
   "outputs": [],
   "source": []
  },
  {
   "cell_type": "code",
   "execution_count": null,
   "metadata": {},
   "outputs": [],
   "source": []
  },
  {
   "cell_type": "code",
   "execution_count": null,
   "metadata": {},
   "outputs": [],
   "source": []
  },
  {
   "cell_type": "code",
   "execution_count": null,
   "metadata": {
    "scrolled": true
   },
   "outputs": [],
   "source": []
  },
  {
   "cell_type": "code",
   "execution_count": null,
   "metadata": {},
   "outputs": [],
   "source": []
  },
  {
   "cell_type": "markdown",
   "metadata": {},
   "source": [
    "# <span style=\"color:red\">BREAK CORRELATION</span>"
   ]
  },
  {
   "cell_type": "code",
   "execution_count": null,
   "metadata": {},
   "outputs": [],
   "source": [
    "BREAK"
   ]
  },
  {
   "cell_type": "markdown",
   "metadata": {},
   "source": [
    "Note: \n",
    "\n",
    "Notice there are still 17 columns, meaning no features have correlation of 0.7 or higher. Therefore no features will be removed from the dataset based on correlation value."
   ]
  },
  {
   "cell_type": "code",
   "execution_count": 78,
   "metadata": {},
   "outputs": [
    {
     "ename": "IndexError",
     "evalue": "boolean index did not match indexed array along dimension 0; dimension is 19 but corresponding boolean dimension is 21",
     "output_type": "error",
     "traceback": [
      "\u001b[0;31m---------------------------------------------------------------------------\u001b[0m",
      "\u001b[0;31mIndexError\u001b[0m                                Traceback (most recent call last)",
      "\u001b[0;32m<ipython-input-78-d309118b4dc7>\u001b[0m in \u001b[0;36m<module>\u001b[0;34m()\u001b[0m\n\u001b[1;32m     10\u001b[0m \u001b[0;31m# print(old_applicants.columns)\u001b[0m\u001b[0;34m\u001b[0m\u001b[0;34m\u001b[0m\u001b[0;34m\u001b[0m\u001b[0m\n\u001b[1;32m     11\u001b[0m \u001b[0;34m\u001b[0m\u001b[0m\n\u001b[0;32m---> 12\u001b[0;31m \u001b[0mselected_columns\u001b[0m \u001b[0;34m=\u001b[0m \u001b[0mold_applicants\u001b[0m\u001b[0;34m.\u001b[0m\u001b[0mcolumns\u001b[0m\u001b[0;34m[\u001b[0m\u001b[0mcolumns\u001b[0m\u001b[0;34m]\u001b[0m\u001b[0;34m\u001b[0m\u001b[0;34m\u001b[0m\u001b[0m\n\u001b[0m\u001b[1;32m     13\u001b[0m \u001b[0mdata\u001b[0m \u001b[0;34m=\u001b[0m \u001b[0mold_applicants\u001b[0m\u001b[0;34m[\u001b[0m\u001b[0mselected_columns\u001b[0m\u001b[0;34m]\u001b[0m\u001b[0;34m\u001b[0m\u001b[0;34m\u001b[0m\u001b[0m\n\u001b[1;32m     14\u001b[0m \u001b[0;34m\u001b[0m\u001b[0m\n",
      "\u001b[0;32m/anaconda3/lib/python3.7/site-packages/pandas/core/indexes/base.py\u001b[0m in \u001b[0;36m__getitem__\u001b[0;34m(self, key)\u001b[0m\n\u001b[1;32m   2093\u001b[0m \u001b[0;34m\u001b[0m\u001b[0m\n\u001b[1;32m   2094\u001b[0m         \u001b[0mkey\u001b[0m \u001b[0;34m=\u001b[0m \u001b[0mcom\u001b[0m\u001b[0;34m.\u001b[0m\u001b[0m_values_from_object\u001b[0m\u001b[0;34m(\u001b[0m\u001b[0mkey\u001b[0m\u001b[0;34m)\u001b[0m\u001b[0;34m\u001b[0m\u001b[0;34m\u001b[0m\u001b[0m\n\u001b[0;32m-> 2095\u001b[0;31m         \u001b[0mresult\u001b[0m \u001b[0;34m=\u001b[0m \u001b[0mgetitem\u001b[0m\u001b[0;34m(\u001b[0m\u001b[0mkey\u001b[0m\u001b[0;34m)\u001b[0m\u001b[0;34m\u001b[0m\u001b[0;34m\u001b[0m\u001b[0m\n\u001b[0m\u001b[1;32m   2096\u001b[0m         \u001b[0;32mif\u001b[0m \u001b[0;32mnot\u001b[0m \u001b[0mis_scalar\u001b[0m\u001b[0;34m(\u001b[0m\u001b[0mresult\u001b[0m\u001b[0;34m)\u001b[0m\u001b[0;34m:\u001b[0m\u001b[0;34m\u001b[0m\u001b[0;34m\u001b[0m\u001b[0m\n\u001b[1;32m   2097\u001b[0m             \u001b[0;32mreturn\u001b[0m \u001b[0mpromote\u001b[0m\u001b[0;34m(\u001b[0m\u001b[0mresult\u001b[0m\u001b[0;34m)\u001b[0m\u001b[0;34m\u001b[0m\u001b[0;34m\u001b[0m\u001b[0m\n",
      "\u001b[0;31mIndexError\u001b[0m: boolean index did not match indexed array along dimension 0; dimension is 19 but corresponding boolean dimension is 21"
     ]
    }
   ],
   "source": [
    "columns = np.full((corr.shape[0],), True, dtype=bool)\n",
    "for i in range(corr.shape[0]):\n",
    "    for j in range(i+1, corr.shape[0]):\n",
    "        if corr.iloc[i,j] >= 0.7:\n",
    "            if columns[j]:\n",
    "                columns[j] = False\n",
    "\n",
    "# print(old_applicants.shape)\n",
    "# print(columns)\n",
    "# print(old_applicants.columns)\n",
    "\n",
    "selected_columns = old_applicants.columns[columns]\n",
    "data = old_applicants[selected_columns]\n",
    "\n",
    "######\n",
    "######\n",
    "######\n",
    "\n",
    "selected_columns = selected_columns[1:].values\n",
    "import statsmodels.formula.api as sm\n",
    "def backwardElimination(x, Y, sl, columns):\n",
    "    numVars = len(x[0])\n",
    "#     print(numVars)\n",
    "    for i in range(0, numVars):\n",
    "        print(x.shape)\n",
    "        print(Y.shape)\n",
    "        print(i)\n",
    "        model = sm.OLS(Y, x[:,i])\n",
    "        fit = model.fit()\n",
    "        print(fit.pvalues)\n",
    "        print(pearsonr(x[:,i],Y))\n",
    "        maxVar = max(fit.pvalues).astype(float)\n",
    "#         print(maxVar)\n",
    "        if maxVar > sl:\n",
    "            for j in range(0, numVars - i):\n",
    "                if (fit.pvalues[j].astype(float) == maxVar):\n",
    "                    x = np.delete(x, j, 1)\n",
    "                    columns = np.delete(columns, j)\n",
    "                    \n",
    "    fit.summary()\n",
    "#     print(x)\n",
    "#     print(columns)\n",
    "    return x, columns\n",
    "\n",
    "SL = 0.05 # eliminating features which have p > SL... p-value gives us the probability of finding the observed or a more extreme result when the null hypothesis is true. So when the p-value increases with the removal or addition of a feature, the probability of obtaining the observed results also increases.\n",
    "data_modeled, selected_columns = backwardElimination(data.iloc[:,1:].values, data.iloc[:,0].values, SL, selected_columns)\n",
    "\n"
   ]
  },
  {
   "cell_type": "code",
   "execution_count": 79,
   "metadata": {},
   "outputs": [
    {
     "ename": "NameError",
     "evalue": "name 'pearsonr' is not defined",
     "output_type": "error",
     "traceback": [
      "\u001b[0;31m---------------------------------------------------------------------------\u001b[0m",
      "\u001b[0;31mNameError\u001b[0m                                 Traceback (most recent call last)",
      "\u001b[0;32m<ipython-input-79-eb12eb9c36ec>\u001b[0m in \u001b[0;36m<module>\u001b[0;34m()\u001b[0m\n\u001b[0;32m----> 1\u001b[0;31m \u001b[0mpearsonr\u001b[0m\u001b[0;34m(\u001b[0m\u001b[0mdata\u001b[0m\u001b[0;34m[\u001b[0m\u001b[0;34m'Account-Balance'\u001b[0m\u001b[0;34m]\u001b[0m\u001b[0;34m,\u001b[0m \u001b[0mdata\u001b[0m\u001b[0;34m[\u001b[0m\u001b[0;34m'Credit-Application-Result'\u001b[0m\u001b[0;34m]\u001b[0m\u001b[0;34m)\u001b[0m\u001b[0;34m\u001b[0m\u001b[0;34m\u001b[0m\u001b[0m\n\u001b[0m\u001b[1;32m      2\u001b[0m \u001b[0;31m# data.head()\u001b[0m\u001b[0;34m\u001b[0m\u001b[0;34m\u001b[0m\u001b[0;34m\u001b[0m\u001b[0m\n",
      "\u001b[0;31mNameError\u001b[0m: name 'pearsonr' is not defined"
     ]
    }
   ],
   "source": [
    "pearsonr(data['Account-Balance'], data['Credit-Application-Result'])\n",
    "# data.head()"
   ]
  },
  {
   "cell_type": "code",
   "execution_count": null,
   "metadata": {},
   "outputs": [],
   "source": [
    "# BREAK"
   ]
  },
  {
   "cell_type": "code",
   "execution_count": null,
   "metadata": {},
   "outputs": [],
   "source": [
    "# OLS: https://www.youtube.com/watch?v=L_h7XFUGWAk\n",
    "selected_columns = selected_columns[1:].values\n",
    "import statsmodels.formula.api as sm\n",
    "def backwardElimination(x, Y, sl, columns):\n",
    "    numVars = len(x[0])\n",
    "    for i in range(0, numVars):\n",
    "        regressor_OLS = sm.OLS(Y, x).fit()\n",
    "        print(regressor_OLS.pvalues)        \n",
    "        maxVar = max(regressor_OLS.pvalues).astype(float)\n",
    "        print(maxVar)\n",
    "        if maxVar > sl:\n",
    "            for j in range(0, numVars - i):\n",
    "                if (regressor_OLS.pvalues[j].astype(float) == maxVar):\n",
    "                    x = np.delete(x, j, 1)\n",
    "                    columns = np.delete(columns, j)\n",
    "                    \n",
    "    regressor_OLS.summary()\n",
    "#     print(x)\n",
    "#     print(columns)\n",
    "    return x, columns\n",
    "\n",
    "SL = 0.05 # eliminating features which have p > SL... p-value gives us the probability of finding the observed or a more extreme result when the null hypothesis is true. So when the p-value increases with the removal or addition of a feature, the probability of obtaining the observed results also increases.\n",
    "data_modeled, selected_columns = backwardElimination(data.iloc[:,1:].values, data.iloc[:,0].values, SL, selected_columns)\n"
   ]
  },
  {
   "cell_type": "code",
   "execution_count": null,
   "metadata": {},
   "outputs": [],
   "source": [
    "for i in data:\n",
    "    print(i)\n",
    "    print(\"p-val:\",pearsonr(data[i], result['diagnosis'])[0])\n",
    "    print(\"Corr: \",pearsonr(data[i], result['diagnosis'])[1])\n",
    "    print()\n"
   ]
  },
  {
   "cell_type": "code",
   "execution_count": null,
   "metadata": {},
   "outputs": [],
   "source": [
    "# this is target value\n",
    "result = pd.DataFrame()\n",
    "result['diagnosis'] = data.iloc[:,0]\n",
    "result['diagnosis'].head()"
   ]
  },
  {
   "cell_type": "code",
   "execution_count": null,
   "metadata": {},
   "outputs": [],
   "source": [
    "# this dataframe of downselected features\n",
    "data = pd.DataFrame(data = data_modeled, columns = selected_columns)\n",
    "data.head()"
   ]
  },
  {
   "cell_type": "markdown",
   "metadata": {},
   "source": [
    "Note:\n",
    "\n",
    "The data set has been downselected to 6 features:\n",
    "* _Account-Balance_\n",
    "* _Duration-of-Credit-Month_\n",
    "* _Payment-Status-of-Previous-Credit_\n",
    "* _Length-of-current-employment_\n",
    "* _Instalment-per-cent_\n",
    "* _Most-valuable-available-asset_"
   ]
  },
  {
   "cell_type": "markdown",
   "metadata": {},
   "source": [
    "## Visualizing the Data"
   ]
  },
  {
   "cell_type": "code",
   "execution_count": null,
   "metadata": {},
   "outputs": [],
   "source": [
    "# sns.countplot(data=data, x=result['diagnosis'], hue='Account-Balance')\n",
    "# sns.distplot(data=data, x=result['diagnosis'], hue='Account-Balance')\n",
    "# sns.distplot(data['Account-Balance'][result['diagnosis']==0, color='b', label = 'Crediworthy', kde=False)\n",
    "# sns.distplot(data['Account-Balance'], color='r', label = 'Non-Crediworthy', kde=False)"
   ]
  },
  {
   "cell_type": "markdown",
   "metadata": {},
   "source": [
    "# <span style=\"color: red\">BREAK</span>\n",
    "\n",
    "fix graphs... used original table explain that you are using them out of simplicity... then go into stats models"
   ]
  },
  {
   "cell_type": "code",
   "execution_count": null,
   "metadata": {},
   "outputs": [],
   "source": [
    "# old_applicants.columns"
   ]
  },
  {
   "cell_type": "code",
   "execution_count": null,
   "metadata": {},
   "outputs": [],
   "source": [
    "# analyze the results of credit applicatons\n",
    "\n",
    "sns.countplot(data=old_applicants, x=\"Credit-Application-Result\")"
   ]
  },
  {
   "cell_type": "code",
   "execution_count": null,
   "metadata": {},
   "outputs": [],
   "source": [
    "sns.countplot(data=old_applicants, x='Credit-Application-Result', hue='Account-Balance')"
   ]
  },
  {
   "cell_type": "code",
   "execution_count": null,
   "metadata": {},
   "outputs": [],
   "source": [
    "sns.countplot(data=old_applicants, x=\"Credit-Application-Result\", hue=\"Account-Balance\")"
   ]
  },
  {
   "cell_type": "code",
   "execution_count": null,
   "metadata": {},
   "outputs": [],
   "source": [
    "sns.countplot(data=old_applicants, x=\"Credit-Application-Result\", hue=\"Duration-of-Credit-Month\")\n",
    "# ax.legend(loc=4)\n",
    "plt.legend(bbox_to_anchor=(1.05, 1), loc=2, borderaxespad=0., ).set_title(\"Duration-of-Credit-Month\")\n"
   ]
  },
  {
   "cell_type": "code",
   "execution_count": null,
   "metadata": {},
   "outputs": [],
   "source": [
    "sns.countplot(data=old_applicants, x=\"Credit-Application-Result\", hue=\"Payment-Status-of-Previous-Credit\")\n"
   ]
  },
  {
   "cell_type": "code",
   "execution_count": null,
   "metadata": {},
   "outputs": [],
   "source": [
    "sns.countplot(data=old_applicants, x=\"Credit-Application-Result\", hue=\"Length-of-current-employment\")"
   ]
  },
  {
   "cell_type": "code",
   "execution_count": null,
   "metadata": {},
   "outputs": [],
   "source": [
    "sns.countplot(data=old_applicants, x=\"Credit-Application-Result\", hue=\"Instalment-per-cent\")"
   ]
  },
  {
   "cell_type": "code",
   "execution_count": null,
   "metadata": {},
   "outputs": [],
   "source": [
    "sns.countplot(data=old_applicants, x=\"Credit-Application-Result\", hue=\"Most-valuable-available-asset\")"
   ]
  },
  {
   "cell_type": "code",
   "execution_count": null,
   "metadata": {},
   "outputs": [],
   "source": [
    "# Account-Balance\n",
    "# Duration-of-Credit-Month\n",
    "# Payment-Status-of-Previous-Credit\n",
    "# Length-of-current-employment\n",
    "# Instalment-per-cent\n",
    "# Most-valuable-available-asset"
   ]
  },
  {
   "cell_type": "code",
   "execution_count": null,
   "metadata": {},
   "outputs": [],
   "source": [
    "# sns.countplot(data=old_applicants, x='Credit-Application-Result', hue='Account-Balance')\n",
    "# sns.countplot(data=data, x=result['diagnosis'], hue='Account-Balance')"
   ]
  },
  {
   "cell_type": "markdown",
   "metadata": {},
   "source": [
    "Taking a look at relationship between the target variable (i.e. _Credit-Application-Result_) and all other features in the training set."
   ]
  },
  {
   "cell_type": "markdown",
   "metadata": {},
   "source": [
    "There are more creditworthy applicants (≈350) vs non-creditworth applicants (≈150)"
   ]
  },
  {
   "cell_type": "markdown",
   "metadata": {},
   "source": [
    "Out of all the applicantion results who was creditworth and who was not credithworthy in regards to Account-Balance. More people were deemed Creditworth if they had some balance."
   ]
  },
  {
   "cell_type": "markdown",
   "metadata": {},
   "source": [
    "Tough to determine any relationship regarding Duration-of-Credit-Month."
   ]
  },
  {
   "cell_type": "markdown",
   "metadata": {},
   "source": [
    "Regarding payment-Status-of-Previous-Credit, More people were marked as creditworthy if they were  "
   ]
  },
  {
   "cell_type": "code",
   "execution_count": null,
   "metadata": {},
   "outputs": [],
   "source": [
    "dummy variables\n",
    "\n",
    "# response variable\n",
    "\"Credit-Application-Result_Non-Creditworthy\" \n",
    "\n",
    "# target variables\n",
    "\"Duration-of-Credit-Month\"\n",
    "\"Credit-Amount\"\n",
    "\"Instalment-per-cent\"\n",
    "\"Most-valuable-available-asset\"\n",
    "\"Age-years\"\n",
    "\"Type-of-apartment\"\n",
    "\"No-of-dependents\"\n",
    "\"Telephone\"\n",
    "\"Foreign-Worker\"\n",
    "\"Account-Balance_Some Balance\"\n",
    "\"Payment-Status-of-Previous-Credit_Paid Up\"\n",
    "\"Payment-Status-of-Previous-Credit_Some Problems\"\n",
    "\"Purpose_New car\"\n",
    "\"Purpose_Other\"\n",
    "\"Purpose_Used car\"\n",
    "\"Value-Savings-Stocks_None\"\n",
    "\"Value-Savings-Stocks_£100-£1000\"\n",
    "\"Length-of-current-employment_4-7 yrs\"\n",
    "\"Length-of-current-employment_< 1yr\"\n",
    "\"Guarantors_Yes\"\n",
    "\"No-of-Credits-at-this-Bank_More than 1\"\n",
    "\n"
   ]
  },
  {
   "cell_type": "code",
   "execution_count": null,
   "metadata": {},
   "outputs": [],
   "source": [
    "# sns.countplot(data=train, x=\"Credit-Application-Result\", hue=\"Purpose\")\n",
    "# More people were marked as creditworthy if the purpose was home related"
   ]
  },
  {
   "cell_type": "code",
   "execution_count": null,
   "metadata": {},
   "outputs": [],
   "source": [
    "# sns.countplot(data=train, x=\"Credit-Application-Result\", hue=\"Credit-Amount\")\n"
   ]
  },
  {
   "cell_type": "code",
   "execution_count": null,
   "metadata": {},
   "outputs": [],
   "source": [
    "# bins = 5000\n",
    "# x = old_applicants[\"Credit-Amount\"][old_applicants[\"Credit-Application-Result\"] == \"Creditworthy\"] \n",
    "# y = old_applicants[\"Credit-Amount\"][old_applicants[\"Credit-Application-Result\"] == \"Non-Creditworthy\"] \n",
    "\n",
    "# plt.hist(x, bins, alpha=0.5, label='x')\n",
    "# plt.hist(y, bins, alpha=0.5, label='y')\n",
    "# plt.legend(loc='upper right')\n",
    "# plt.show()\n",
    "\n",
    "\n",
    "\n",
    "# the histogram of the data\n",
    "# plt.hist(train[\"Credit-Amount\"], bins=1000)\n",
    "# plt.show()\n"
   ]
  },
  {
   "cell_type": "code",
   "execution_count": null,
   "metadata": {},
   "outputs": [],
   "source": [
    "# sns.countplot(data=old_applicants, x=\"Credit-Application-Result\", hue=\"Value-Savings-Stocks\")"
   ]
  },
  {
   "cell_type": "code",
   "execution_count": null,
   "metadata": {},
   "outputs": [],
   "source": [
    "# sns.countplot(data=old_applicants, x=\"Credit-Application-Result\", hue=\"Guarantors\")"
   ]
  },
  {
   "cell_type": "code",
   "execution_count": null,
   "metadata": {},
   "outputs": [],
   "source": [
    "# sns.countplot(data=old_applicants, x=\"Credit-Application-Result\", hue=\"Age-years\")"
   ]
  },
  {
   "cell_type": "markdown",
   "metadata": {},
   "source": [
    "I don't know how _Age_ didn't make the list. Will need to investigate further."
   ]
  },
  {
   "cell_type": "code",
   "execution_count": null,
   "metadata": {},
   "outputs": [],
   "source": [
    "# https://markhneedham.com/blog/2013/01/27/pythonnumpy-selecting-specific-column-in-2d-array/\n",
    "# To select specific column use the following format... basically stating select all rows from pecific index\n",
    "# zeroth column is Credit-Application-Result\n",
    "selector[:,0]\n",
    "\n",
    "# Account Balance has index 1\n",
    "selector[:,1]\n"
   ]
  },
  {
   "cell_type": "code",
   "execution_count": null,
   "metadata": {},
   "outputs": [],
   "source": [
    "# sns.countplot(data=old_applicants, x=\"Credit-Application-Result\", hue=\"Concurrent-Credits\")"
   ]
  },
  {
   "cell_type": "code",
   "execution_count": null,
   "metadata": {},
   "outputs": [],
   "source": []
  },
  {
   "cell_type": "code",
   "execution_count": null,
   "metadata": {},
   "outputs": [],
   "source": [
    "# sns.countplot(data=old_applicants, x=\"Credit-Application-Result\", hue=\"Type-of-apartment\")"
   ]
  },
  {
   "cell_type": "code",
   "execution_count": null,
   "metadata": {},
   "outputs": [],
   "source": [
    "# sns.countplot(data=old_applicants, x=\"Credit-Application-Result\", hue=\"No-of-Credits-at-this-Bank\")"
   ]
  },
  {
   "cell_type": "code",
   "execution_count": null,
   "metadata": {},
   "outputs": [],
   "source": []
  },
  {
   "cell_type": "code",
   "execution_count": null,
   "metadata": {},
   "outputs": [],
   "source": [
    "# sns.countplot(data=old_applicants, x=\"Credit-Application-Result\", hue=\"Occupation\")"
   ]
  },
  {
   "cell_type": "code",
   "execution_count": null,
   "metadata": {},
   "outputs": [],
   "source": [
    "# sns.countplot(data=old_applicants, x=\"Credit-Application-Result\", hue=\"No-of-dependents\")"
   ]
  },
  {
   "cell_type": "code",
   "execution_count": null,
   "metadata": {},
   "outputs": [],
   "source": [
    "# sns.countplot(data=old_applicants, x=\"Credit-Application-Result\", hue=\"Telephone\")"
   ]
  },
  {
   "cell_type": "code",
   "execution_count": null,
   "metadata": {
    "scrolled": true
   },
   "outputs": [],
   "source": [
    "# sns.countplot(data=old_applicants, x=\"Credit-Application-Result\", hue=\"Foreign-Worker\")"
   ]
  },
  {
   "cell_type": "code",
   "execution_count": null,
   "metadata": {},
   "outputs": [],
   "source": [
    "# fig = plt.figure(figsize = (20, 25))\n",
    "# j = 0\n",
    "# for i in data.columns:\n",
    "#     plt.subplot(6, 4, j+1)\n",
    "#     j += 1\n",
    "#     sns.distplot(data[i][result['diagnosis']==0], color='g', label = 'Creditworthy', kde=False)\n",
    "#     sns.distplot(data[i][result['diagnosis']==1], color='r', label = 'Non-Crediworthy', kde=False)\n",
    "#     plt.legend(loc='best')\n",
    "# fig.suptitle('Default Risk Data Analysis')\n",
    "# fig.tight_layout()\n",
    "# fig.subplots_adjust(top=0.95)\n",
    "# plt.savefig(\"./assets/down selected features.png\", psi=300)\n",
    "# plt.show()"
   ]
  },
  {
   "cell_type": "code",
   "execution_count": null,
   "metadata": {},
   "outputs": [],
   "source": [
    "# old_applicants.head()"
   ]
  },
  {
   "cell_type": "code",
   "execution_count": null,
   "metadata": {},
   "outputs": [],
   "source": [
    "# selector[0]"
   ]
  },
  {
   "cell_type": "code",
   "execution_count": null,
   "metadata": {},
   "outputs": [],
   "source": [
    "# sns.countplot(data=selector[:,0:2], x=selector[:,0], hue=selector[:,1])\n",
    "# sns.distplot(data[i][result['diagnosis']==0], color='g', label = 'Creditworthy', kde=False)\n",
    "# sns.distplot(data[0][result['diagnosis']==1], color='r', label = 'Non-Crediworthy', kde=False)\n"
   ]
  },
  {
   "cell_type": "code",
   "execution_count": null,
   "metadata": {},
   "outputs": [],
   "source": [
    "# sns.countplot(data=selector[:,0:2], x=selector[:,0], hue=selector[:,1])\n",
    "# sns.countplot(data=old_applicants, x='Credit-Application-Result', hue='Account-Balance')\n"
   ]
  },
  {
   "cell_type": "code",
   "execution_count": null,
   "metadata": {
    "scrolled": false
   },
   "outputs": [],
   "source": [
    "# sns.countplot(data=selector[:,0:2], x=selector[:,0], hue=selector[:,1])\n",
    "# sns.countplot(data=old_applicants, x='Account-Balance', hue='Credit-Application-Result')\n"
   ]
  },
  {
   "cell_type": "code",
   "execution_count": null,
   "metadata": {},
   "outputs": [],
   "source": [
    "# sns.countplot(data=train, x=\"Credit-Application-Result\", hue=\"Account-Balance\")"
   ]
  },
  {
   "cell_type": "code",
   "execution_count": null,
   "metadata": {},
   "outputs": [],
   "source": [
    "# old_applicants[\"Account-Balance\"].unique()"
   ]
  },
  {
   "cell_type": "code",
   "execution_count": null,
   "metadata": {},
   "outputs": [],
   "source": [
    "# data[\"Account-Balance\"].unique()"
   ]
  },
  {
   "cell_type": "code",
   "execution_count": null,
   "metadata": {},
   "outputs": [],
   "source": [
    "# data[\"Length-of-current-employment\"].unique()"
   ]
  },
  {
   "cell_type": "code",
   "execution_count": null,
   "metadata": {},
   "outputs": [],
   "source": [
    "# test for variance across dataset\n",
    "# data.var(axis=0)"
   ]
  },
  {
   "cell_type": "code",
   "execution_count": null,
   "metadata": {},
   "outputs": [],
   "source": [
    "# old_applicants.var(axis=0)"
   ]
  },
  {
   "cell_type": "code",
   "execution_count": null,
   "metadata": {},
   "outputs": [],
   "source": [
    "# BREAK"
   ]
  },
  {
   "cell_type": "code",
   "execution_count": null,
   "metadata": {},
   "outputs": [],
   "source": [
    "# Look into correlations for the following fields:\n",
    "# possPredictors = [\"Account-Balance\",\n",
    "#                   \"Payment-Status-of-Previous-Credit\",\n",
    "#                   \"Purpose\",\n",
    "#                   \"Credit-Amount\",\n",
    "#                   \"Value-Savings-Stocks\",\n",
    "#                   \"Length-of-current-employment\",\n",
    "#                   \"Instalment-per-cent\",\n",
    "#                   \"Guarantors\",\n",
    "#                   \"Most-valuable-available-asset\",\n",
    "#                   \"Age-years\",\n",
    "#                   \"Concurrent-Credits\",\n",
    "#                   \"Type-of-apartment\",\n",
    "#                   \"No-of-Credits-at-this-Bank\",\n",
    "#                   \"Occupation\",\n",
    "#                   \"No-of-dependents\",\n",
    "#                   \"Telephone\",\n",
    "#                   \"Foreign-Worker\"\n",
    "#                 ]\n"
   ]
  },
  {
   "cell_type": "code",
   "execution_count": null,
   "metadata": {},
   "outputs": [],
   "source": [
    "# old_applicants[\"Credit-Application-Result\"]=old_applicants[\"Credit-Application-Result\"].astype('category').cat.codes\n",
    "# old_applicants[\"Account-Balance\"]=old_applicants[\"Account-Balance\"].astype('category').cat.codes\n",
    "# old_applicants[\"Credit-Application-Result\"].dtype\n"
   ]
  },
  {
   "cell_type": "code",
   "execution_count": null,
   "metadata": {},
   "outputs": [],
   "source": [
    "# first create dummies, and drop unwanted va\n",
    "\n",
    "# https://code.i-harness.com/en/q/186322a\n",
    "# https://docs.scipy.org/doc/scipy-0.14.0/reference/generated/scipy.stats.pearsonr.html#scipy.stats.pearsonr\n",
    "# pearson(x,y)... or predictor and target\n",
    "# Where the first value in the tuple is the correlation value, and second is the p-value.\n",
    "# creditworthy = np.where(old_applicants[\"Credit-Application-Result\"]==\"Creditworthy\", 1, 0)\n",
    "\n",
    "from scipy.stats import pearsonr\n",
    "for i in data:\n",
    "    print(i)\n",
    "    print(\"p-val:\",pearsonr(data[i], result['diagnosis'])[0])\n",
    "    print(\"Corr: \",pearsonr(data[i], result['diagnosis'])[1])\n",
    "    print()\n"
   ]
  },
  {
   "cell_type": "code",
   "execution_count": null,
   "metadata": {},
   "outputs": [],
   "source": [
    "# from scipy.stats import spearmanr\n",
    "# for i in data:\n",
    "#     print(i)\n",
    "#     print(\"p-val:\",spearmanr(data[i], result['diagnosis'])[0])\n",
    "#     print(\"Corr: \",spearmanr(data[i], result['diagnosis'])[1])\n",
    "#     print()\n",
    "\n"
   ]
  },
  {
   "cell_type": "code",
   "execution_count": null,
   "metadata": {},
   "outputs": [],
   "source": [
    "BREAK\n",
    "# pearsonr(old_applicants[\"Credit-Amount\"], creditworthy)"
   ]
  },
  {
   "cell_type": "code",
   "execution_count": null,
   "metadata": {},
   "outputs": [],
   "source": [
    "old_applicants.info()\n",
    "# old_applicants.head()"
   ]
  },
  {
   "cell_type": "code",
   "execution_count": null,
   "metadata": {},
   "outputs": [],
   "source": []
  },
  {
   "cell_type": "code",
   "execution_count": null,
   "metadata": {},
   "outputs": [],
   "source": [
    "# data_cols = [\"Credit-Application-Result\",\n",
    "#              \"Account-Balance\",\n",
    "#              \"Payment-Status-of-Previous-Credit\",\n",
    "#              \"Purpose\",\n",
    "#              \"Value-Savings-Stocks\",\n",
    "#              \"Guarantors\",\n",
    "#              \"Concurrent-Credits\",\n",
    "#              \"No-of-Credits-at-this-Bank\"]\n",
    "\n",
    "# label_encoder = LabelEncoder()\n",
    "# for i in data_cols:\n",
    "#     data.loc[:,i] = label_encoder.fit_transform(data.loc[:,i]).astype('float64')"
   ]
  },
  {
   "cell_type": "code",
   "execution_count": null,
   "metadata": {},
   "outputs": [],
   "source": [
    "# dummy columns\n",
    "dummy_cols = [\"Account-Balance\", \"Purpose\"]\n",
    "\n",
    "# Purpose_Home Related, Purpose_New car, Purpose_Other, Purpose_Used car\n",
    "# Account-Balance_No Account, Account-Balance_Some Balance\n",
    "\n",
    "old_applicants = pd.get_dummies(old_applicants, columns=dummy_cols, drop_first=True)"
   ]
  },
  {
   "cell_type": "code",
   "execution_count": null,
   "metadata": {},
   "outputs": [],
   "source": []
  },
  {
   "cell_type": "code",
   "execution_count": null,
   "metadata": {},
   "outputs": [],
   "source": [
    "old_applicants.iloc[0:5,0:5]"
   ]
  },
  {
   "cell_type": "code",
   "execution_count": null,
   "metadata": {},
   "outputs": [],
   "source": [
    "old_applicants[\"Credit-Application-Result\"].unique()"
   ]
  },
  {
   "cell_type": "code",
   "execution_count": null,
   "metadata": {},
   "outputs": [],
   "source": [
    "pearsonr(old_applicants[\"Account-Balance\"], old_applicants[\"Credit-Application-Result\"])"
   ]
  },
  {
   "cell_type": "code",
   "execution_count": null,
   "metadata": {},
   "outputs": [],
   "source": [
    "break\n"
   ]
  },
  {
   "cell_type": "code",
   "execution_count": null,
   "metadata": {},
   "outputs": [],
   "source": [
    "import numpy as np\n",
    "import pandas as pd\n",
    "import seaborn as sns\n",
    "import matplotlib.pyplot as plt\n",
    "from sklearn.preprocessing import LabelEncoder, OneHotEncoder\n",
    "import warnings\n",
    "warnings.filterwarnings(\"ignore\")\n",
    "from sklearn.model_selection import train_test_split\n",
    "from sklearn.svm import SVC\n",
    "from sklearn.metrics import confusion_matrix"
   ]
  },
  {
   "cell_type": "code",
   "execution_count": null,
   "metadata": {},
   "outputs": [],
   "source": [
    "data = old_applicants.copy()\n",
    "# data = data.iloc[:,1:-1]"
   ]
  },
  {
   "cell_type": "code",
   "execution_count": null,
   "metadata": {},
   "outputs": [],
   "source": [
    "data.head()"
   ]
  },
  {
   "cell_type": "code",
   "execution_count": null,
   "metadata": {},
   "outputs": [],
   "source": [
    "data_cols = [\"Credit-Application-Result\",\n",
    "             \"Account-Balance\",\n",
    "             \"Payment-Status-of-Previous-Credit\",\n",
    "             \"Purpose\",\n",
    "             \"Value-Savings-Stocks\",\n",
    "             \"Guarantors\",\n",
    "             \"Concurrent-Credits\",\n",
    "             \"No-of-Credits-at-this-Bank\"]\n",
    "\n",
    "label_encoder = LabelEncoder()\n",
    "for i in data_cols:\n",
    "    data.loc[:,i] = label_encoder.fit_transform(data.loc[:,i]).astype('float64')"
   ]
  },
  {
   "cell_type": "code",
   "execution_count": null,
   "metadata": {},
   "outputs": [],
   "source": [
    "corr = data.corr()\n"
   ]
  },
  {
   "cell_type": "code",
   "execution_count": null,
   "metadata": {},
   "outputs": [],
   "source": [
    "sns.heatmap(corr)"
   ]
  },
  {
   "cell_type": "code",
   "execution_count": null,
   "metadata": {},
   "outputs": [],
   "source": []
  },
  {
   "cell_type": "code",
   "execution_count": null,
   "metadata": {},
   "outputs": [],
   "source": []
  },
  {
   "cell_type": "code",
   "execution_count": null,
   "metadata": {},
   "outputs": [],
   "source": []
  },
  {
   "cell_type": "code",
   "execution_count": null,
   "metadata": {},
   "outputs": [],
   "source": [
    "# # COLORMAPS\n",
    "\n",
    "# # use cmap to set the chart colors\n",
    "# cmap = sns.choose_colorbrewer_palette(data_type = \"d\") # set data_type to d, q, or s"
   ]
  },
  {
   "cell_type": "code",
   "execution_count": null,
   "metadata": {},
   "outputs": [],
   "source": [
    "# CORRELATION MATRIX\n",
    "# def correlationMatrix(dataset,suffix):\n",
    "#     corr = dataset.corr(method='pearson')\n",
    "    \n",
    "#     # Generate a mask for the upper triangle\n",
    "#     mask = np.zeros_like(corr, dtype=np.bool)\n",
    "#     mask[np.triu_indices_from(mask)] = True\n",
    "\n",
    "#     # Set up the matplotlib figure\n",
    "# #     fig, ax = plt.subplots(figsize=(10, 6))\n",
    "#     fig, ax = plt.subplots()\n",
    "\n",
    "#     # Draw the heatmap with the mask and correct aspect ratio\n",
    "#     sns.heatmap(corr, annot=True, fmt='.4f',\n",
    "#                 cmap=cmap, cbar=True, ax=ax, mask = mask,\n",
    "#                 square=False, linewidths=.5,cbar_kws={\"shrink\": .5})\n",
    "#     ax.set_title('Heatmap', fontsize = 18)\n",
    "#     ax.set_xlabel('Variable 1', fontsize = 15)\n",
    "#     ax.set_ylabel('Variable 2', fontsize = 15)\n",
    "#     ax.set_yticklabels(ax.get_yticklabels(), rotation=\"horizontal\", fontsize = 10)\n",
    "#     ax.set_xticklabels(ax.get_xticklabels(), fontsize = 10)\n",
    "#     plt.tight_layout()\n",
    "#     plt.savefig('./assets/pearsonCorrelation_{}'.format(suffix), dpi = 300, bbox_inches='tight', pad_inches=0.0)\n",
    "#     plt.show()"
   ]
  },
  {
   "cell_type": "code",
   "execution_count": null,
   "metadata": {},
   "outputs": [],
   "source": [
    "# correlationMatrix(corr,\"old_applicants\")"
   ]
  },
  {
   "cell_type": "code",
   "execution_count": null,
   "metadata": {},
   "outputs": [],
   "source": []
  },
  {
   "cell_type": "code",
   "execution_count": null,
   "metadata": {},
   "outputs": [],
   "source": [
    "# correlationMatrix(old_applicants,\"old_applicants\")"
   ]
  },
  {
   "cell_type": "code",
   "execution_count": null,
   "metadata": {},
   "outputs": [],
   "source": [
    "# correlationMatrix(new_applicants,\"new_applicants\")"
   ]
  },
  {
   "cell_type": "markdown",
   "metadata": {},
   "source": [
    "# LOGISTIC REGRESSION"
   ]
  },
  {
   "cell_type": "code",
   "execution_count": null,
   "metadata": {},
   "outputs": [],
   "source": [
    "# dummy columns\n",
    "dummy_cols = [\"Account-Balance\", \"Purpose\"]"
   ]
  },
  {
   "cell_type": "code",
   "execution_count": null,
   "metadata": {},
   "outputs": [],
   "source": []
  },
  {
   "cell_type": "code",
   "execution_count": null,
   "metadata": {},
   "outputs": [],
   "source": [
    "# Purpose_Home Related, Purpose_New car, Purpose_Other, Purpose_Used car\n",
    "# Account-Balance_No Account, Account-Balance_Some Balance\n",
    "\n",
    "old_applicants = pd.get_dummies(old_applicants, columns=dummy_cols, drop_first=True)"
   ]
  },
  {
   "cell_type": "code",
   "execution_count": null,
   "metadata": {},
   "outputs": [],
   "source": [
    "old_applicants.columns"
   ]
  },
  {
   "cell_type": "code",
   "execution_count": null,
   "metadata": {},
   "outputs": [],
   "source": [
    "new_applicants = pd.get_dummies(new_applicants, columns=dummy_cols)"
   ]
  },
  {
   "cell_type": "code",
   "execution_count": null,
   "metadata": {},
   "outputs": [],
   "source": [
    "new_applicants.columns"
   ]
  },
  {
   "cell_type": "markdown",
   "metadata": {},
   "source": [
    "# <span style = \"color:red\">I think X & y need to be split into train & test set... not predict on new_applicants dataset yet</span>"
   ]
  },
  {
   "cell_type": "code",
   "execution_count": null,
   "metadata": {},
   "outputs": [],
   "source": [
    "# Dummies:'Account-Balance_No Account', 'Account-Balance_Some Balance', \n",
    "# Dummies:'Purpose_Home Related', 'Purpose_New car', 'Purpose_Used car'\n",
    "\n",
    "# create list of feature names\n",
    "feature_cols = [\"Credit-Amount\",\n",
    "                \"Account-Balance_Some Balance\",\n",
    "                \"Purpose_New car\",\n",
    "                \"Purpose_New car\",\n",
    "                \"Purpose_Used car\"\n",
    "               ]\n",
    "\n",
    "# store feature matrix in \"X\"... old_applicants data featres\n",
    "X_train = old_applicants[feature_cols]\n",
    "\n",
    "# store response vector in \"y\"... train data target\n",
    "y_train = old_applicants[\"Credit-Application-Result\"]\n",
    "\n",
    "# predict new observations... new_applicants data\n",
    "X_test = new_applicants[feature_cols]"
   ]
  },
  {
   "cell_type": "code",
   "execution_count": null,
   "metadata": {},
   "outputs": [],
   "source": [
    "# import the class\n",
    "from sklearn.linear_model import LogisticRegression\n",
    "\n",
    "# instantiate the model (using the default parameters)\n",
    "logreg = LogisticRegression()\n",
    "\n",
    "# fit the model with data\n",
    "logreg.fit(X_train, y_train)\n",
    "\n",
    "# predict new targets based on new_applicants data\n",
    "y_pred = logreg.predict(X_test)\n"
   ]
  },
  {
   "cell_type": "code",
   "execution_count": null,
   "metadata": {},
   "outputs": [],
   "source": [
    "# looking at coefficient of the model, print the regression coefficient: https://www.youtube.com/watch?v=Eqv98w1ukZk\n",
    "print(logreg.coef_)"
   ]
  },
  {
   "cell_type": "code",
   "execution_count": null,
   "metadata": {},
   "outputs": [],
   "source": [
    "from sklearn.metrics import classification_report\n",
    "print(classification_report(y_train,y_pred))\n"
   ]
  },
  {
   "cell_type": "code",
   "execution_count": null,
   "metadata": {},
   "outputs": [],
   "source": [
    "# correlationMatrix(old_applicants,\"old_applicants\")"
   ]
  },
  {
   "cell_type": "code",
   "execution_count": null,
   "metadata": {},
   "outputs": [],
   "source": [
    "# correlationMatrix(old_applicants ,\"test\")"
   ]
  },
  {
   "cell_type": "code",
   "execution_count": null,
   "metadata": {},
   "outputs": [],
   "source": []
  },
  {
   "cell_type": "code",
   "execution_count": null,
   "metadata": {},
   "outputs": [],
   "source": []
  },
  {
   "cell_type": "code",
   "execution_count": null,
   "metadata": {},
   "outputs": [],
   "source": []
  },
  {
   "cell_type": "code",
   "execution_count": null,
   "metadata": {},
   "outputs": [],
   "source": []
  },
  {
   "cell_type": "code",
   "execution_count": null,
   "metadata": {},
   "outputs": [],
   "source": []
  },
  {
   "cell_type": "code",
   "execution_count": null,
   "metadata": {},
   "outputs": [],
   "source": []
  },
  {
   "cell_type": "code",
   "execution_count": null,
   "metadata": {},
   "outputs": [],
   "source": []
  },
  {
   "cell_type": "code",
   "execution_count": null,
   "metadata": {},
   "outputs": [],
   "source": []
  }
 ],
 "metadata": {
  "kernelspec": {
   "display_name": "Python 3",
   "language": "python",
   "name": "python3"
  },
  "language_info": {
   "codemirror_mode": {
    "name": "ipython",
    "version": 3
   },
   "file_extension": ".py",
   "mimetype": "text/x-python",
   "name": "python",
   "nbconvert_exporter": "python",
   "pygments_lexer": "ipython3",
   "version": "3.7.2"
  },
  "toc": {
   "base_numbering": 1,
   "nav_menu": {},
   "number_sections": true,
   "sideBar": true,
   "skip_h1_title": false,
   "title_cell": "Table of Contents",
   "title_sidebar": "Contents",
   "toc_cell": false,
   "toc_position": {},
   "toc_section_display": true,
   "toc_window_display": false
  }
 },
 "nbformat": 4,
 "nbformat_minor": 2
}
