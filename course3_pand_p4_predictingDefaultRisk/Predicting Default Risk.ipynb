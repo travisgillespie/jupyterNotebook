{
 "cells": [
  {
   "cell_type": "code",
   "execution_count": 1,
   "metadata": {},
   "outputs": [
    {
     "name": "stderr",
     "output_type": "stream",
     "text": [
      "/anaconda3/lib/python3.7/site-packages/sklearn/cross_validation.py:41: DeprecationWarning: This module was deprecated in version 0.18 in favor of the model_selection module into which all the refactored classes and functions are moved. Also note that the interface of the new CV iterators are different from that of this module. This module will be removed in 0.20.\n",
      "  \"This module will be removed in 0.20.\", DeprecationWarning)\n",
      "/anaconda3/lib/python3.7/site-packages/sklearn/ensemble/weight_boosting.py:29: DeprecationWarning: numpy.core.umath_tests is an internal NumPy module and should not be imported. It will be removed in a future NumPy release.\n",
      "  from numpy.core.umath_tests import inner1d\n"
     ]
    }
   ],
   "source": [
    "import pandas as pd\n",
    "import numpy as np\n",
    "import seaborn as sns\n",
    "import matplotlib.pyplot as plt\n",
    "from scipy.stats import stats\n",
    "from sklearn.metrics import confusion_matrix\n",
    "from sklearn.neighbors import KNeighborsClassifier\n",
    "from sklearn.preprocessing import LabelEncoder, OneHotEncoder\n",
    "# from sklearn.model_selection import train_test_split\n",
    "from sklearn.cross_validation import train_test_split\n",
    "from sklearn import tree\n",
    "from sklearn.linear_model import LogisticRegression\n",
    "from sklearn.ensemble import GradientBoostingClassifier\n",
    "from sklearn.ensemble import RandomForestClassifier\n",
    "from sklearn.feature_selection import VarianceThreshold\n",
    "# for exporting decision tree to pdf and png\n",
    "import pydot\n",
    "from sklearn.externals.six import StringIO"
   ]
  },
  {
   "cell_type": "markdown",
   "metadata": {},
   "source": [
    "## Train Data Set"
   ]
  },
  {
   "cell_type": "code",
   "execution_count": 2,
   "metadata": {},
   "outputs": [],
   "source": [
    "#training set contains one additional column Credit Application Result\n",
    "old_applicants_original = pd.read_excel('./data/credit-data-training.xlsx')\n",
    "old_applicants = old_applicants_original.copy()"
   ]
  },
  {
   "cell_type": "code",
   "execution_count": 3,
   "metadata": {},
   "outputs": [
    {
     "name": "stdout",
     "output_type": "stream",
     "text": [
      "<class 'pandas.core.frame.DataFrame'>\n",
      "RangeIndex: 500 entries, 0 to 499\n",
      "Data columns (total 20 columns):\n",
      "Credit-Application-Result            500 non-null object\n",
      "Account-Balance                      500 non-null object\n",
      "Duration-of-Credit-Month             500 non-null int64\n",
      "Payment-Status-of-Previous-Credit    500 non-null object\n",
      "Purpose                              500 non-null object\n",
      "Credit-Amount                        500 non-null int64\n",
      "Value-Savings-Stocks                 500 non-null object\n",
      "Length-of-current-employment         500 non-null object\n",
      "Instalment-per-cent                  500 non-null int64\n",
      "Guarantors                           500 non-null object\n",
      "Duration-in-Current-address          156 non-null float64\n",
      "Most-valuable-available-asset        500 non-null int64\n",
      "Age-years                            488 non-null float64\n",
      "Concurrent-Credits                   500 non-null object\n",
      "Type-of-apartment                    500 non-null int64\n",
      "No-of-Credits-at-this-Bank           500 non-null object\n",
      "Occupation                           500 non-null int64\n",
      "No-of-dependents                     500 non-null int64\n",
      "Telephone                            500 non-null int64\n",
      "Foreign-Worker                       500 non-null int64\n",
      "dtypes: float64(2), int64(9), object(9)\n",
      "memory usage: 78.2+ KB\n"
     ]
    }
   ],
   "source": [
    "# given provided training set has been cleaned shouldn't need to be modified\n",
    "# consider dropping age where nill\n",
    "# old_applicants[\"Age-years\"].unique()\n",
    "# old_applicants[\"Duration-in-Current-address\"].unique()\n",
    "old_applicants.info()"
   ]
  },
  {
   "cell_type": "markdown",
   "metadata": {},
   "source": [
    "## new_applicants Data Set"
   ]
  },
  {
   "cell_type": "code",
   "execution_count": 4,
   "metadata": {},
   "outputs": [
    {
     "data": {
      "text/html": [
       "<div>\n",
       "<style scoped>\n",
       "    .dataframe tbody tr th:only-of-type {\n",
       "        vertical-align: middle;\n",
       "    }\n",
       "\n",
       "    .dataframe tbody tr th {\n",
       "        vertical-align: top;\n",
       "    }\n",
       "\n",
       "    .dataframe thead th {\n",
       "        text-align: right;\n",
       "    }\n",
       "</style>\n",
       "<table border=\"1\" class=\"dataframe\">\n",
       "  <thead>\n",
       "    <tr style=\"text-align: right;\">\n",
       "      <th></th>\n",
       "      <th>Account-Balance</th>\n",
       "      <th>Duration-of-Credit-Month</th>\n",
       "      <th>Payment-Status-of-Previous-Credit</th>\n",
       "      <th>Purpose</th>\n",
       "      <th>Credit-Amount</th>\n",
       "      <th>Value-Savings-Stocks</th>\n",
       "      <th>Length-of-current-employment</th>\n",
       "      <th>Instalment-per-cent</th>\n",
       "      <th>Guarantors</th>\n",
       "      <th>Duration-in-Current-address</th>\n",
       "      <th>Most-valuable-available-asset</th>\n",
       "      <th>Age-years</th>\n",
       "      <th>Concurrent-Credits</th>\n",
       "      <th>Type-of-apartment</th>\n",
       "      <th>No-of-Credits-at-this-Bank</th>\n",
       "      <th>Occupation</th>\n",
       "      <th>No-of-dependents</th>\n",
       "      <th>Telephone</th>\n",
       "      <th>Foreign-Worker</th>\n",
       "    </tr>\n",
       "  </thead>\n",
       "  <tbody>\n",
       "    <tr>\n",
       "      <th>0</th>\n",
       "      <td>No Account</td>\n",
       "      <td>9</td>\n",
       "      <td>No Problems (in this bank)</td>\n",
       "      <td>Home Related</td>\n",
       "      <td>2799</td>\n",
       "      <td>None</td>\n",
       "      <td>&lt; 1yr</td>\n",
       "      <td>2</td>\n",
       "      <td>None</td>\n",
       "      <td>2</td>\n",
       "      <td>1</td>\n",
       "      <td>36</td>\n",
       "      <td>Other Banks/Depts</td>\n",
       "      <td>1</td>\n",
       "      <td>More than 1</td>\n",
       "      <td>1</td>\n",
       "      <td>2</td>\n",
       "      <td>1</td>\n",
       "      <td>1</td>\n",
       "    </tr>\n",
       "    <tr>\n",
       "      <th>1</th>\n",
       "      <td>No Account</td>\n",
       "      <td>12</td>\n",
       "      <td>No Problems (in this bank)</td>\n",
       "      <td>Home Related</td>\n",
       "      <td>2122</td>\n",
       "      <td>None</td>\n",
       "      <td>&lt; 1yr</td>\n",
       "      <td>3</td>\n",
       "      <td>None</td>\n",
       "      <td>2</td>\n",
       "      <td>1</td>\n",
       "      <td>39</td>\n",
       "      <td>Other Banks/Depts</td>\n",
       "      <td>1</td>\n",
       "      <td>More than 1</td>\n",
       "      <td>1</td>\n",
       "      <td>2</td>\n",
       "      <td>1</td>\n",
       "      <td>2</td>\n",
       "    </tr>\n",
       "    <tr>\n",
       "      <th>2</th>\n",
       "      <td>No Account</td>\n",
       "      <td>24</td>\n",
       "      <td>Paid Up</td>\n",
       "      <td>Home Related</td>\n",
       "      <td>3758</td>\n",
       "      <td>£100-£1000</td>\n",
       "      <td>&lt; 1yr</td>\n",
       "      <td>1</td>\n",
       "      <td>None</td>\n",
       "      <td>4</td>\n",
       "      <td>4</td>\n",
       "      <td>23</td>\n",
       "      <td>Other Banks/Depts</td>\n",
       "      <td>1</td>\n",
       "      <td>1</td>\n",
       "      <td>1</td>\n",
       "      <td>1</td>\n",
       "      <td>1</td>\n",
       "      <td>1</td>\n",
       "    </tr>\n",
       "    <tr>\n",
       "      <th>3</th>\n",
       "      <td>No Account</td>\n",
       "      <td>11</td>\n",
       "      <td>No Problems (in this bank)</td>\n",
       "      <td>Home Related</td>\n",
       "      <td>3905</td>\n",
       "      <td>None</td>\n",
       "      <td>&lt; 1yr</td>\n",
       "      <td>2</td>\n",
       "      <td>None</td>\n",
       "      <td>2</td>\n",
       "      <td>1</td>\n",
       "      <td>36</td>\n",
       "      <td>Other Banks/Depts</td>\n",
       "      <td>1</td>\n",
       "      <td>More than 1</td>\n",
       "      <td>1</td>\n",
       "      <td>2</td>\n",
       "      <td>1</td>\n",
       "      <td>1</td>\n",
       "    </tr>\n",
       "    <tr>\n",
       "      <th>4</th>\n",
       "      <td>No Account</td>\n",
       "      <td>6</td>\n",
       "      <td>No Problems (in this bank)</td>\n",
       "      <td>Home Related</td>\n",
       "      <td>1957</td>\n",
       "      <td>None</td>\n",
       "      <td>1-4 yrs</td>\n",
       "      <td>1</td>\n",
       "      <td>None</td>\n",
       "      <td>4</td>\n",
       "      <td>3</td>\n",
       "      <td>31</td>\n",
       "      <td>Other Banks/Depts</td>\n",
       "      <td>2</td>\n",
       "      <td>1</td>\n",
       "      <td>1</td>\n",
       "      <td>1</td>\n",
       "      <td>1</td>\n",
       "      <td>1</td>\n",
       "    </tr>\n",
       "  </tbody>\n",
       "</table>\n",
       "</div>"
      ],
      "text/plain": [
       "  Account-Balance  Duration-of-Credit-Month Payment-Status-of-Previous-Credit  \\\n",
       "0      No Account                         9        No Problems (in this bank)   \n",
       "1      No Account                        12        No Problems (in this bank)   \n",
       "2      No Account                        24                           Paid Up   \n",
       "3      No Account                        11        No Problems (in this bank)   \n",
       "4      No Account                         6        No Problems (in this bank)   \n",
       "\n",
       "        Purpose  Credit-Amount Value-Savings-Stocks  \\\n",
       "0  Home Related           2799                 None   \n",
       "1  Home Related           2122                 None   \n",
       "2  Home Related           3758           £100-£1000   \n",
       "3  Home Related           3905                 None   \n",
       "4  Home Related           1957                 None   \n",
       "\n",
       "  Length-of-current-employment  Instalment-per-cent Guarantors  \\\n",
       "0                        < 1yr                    2       None   \n",
       "1                        < 1yr                    3       None   \n",
       "2                        < 1yr                    1       None   \n",
       "3                        < 1yr                    2       None   \n",
       "4                      1-4 yrs                    1       None   \n",
       "\n",
       "   Duration-in-Current-address  Most-valuable-available-asset  Age-years  \\\n",
       "0                            2                              1         36   \n",
       "1                            2                              1         39   \n",
       "2                            4                              4         23   \n",
       "3                            2                              1         36   \n",
       "4                            4                              3         31   \n",
       "\n",
       "  Concurrent-Credits  Type-of-apartment No-of-Credits-at-this-Bank  \\\n",
       "0  Other Banks/Depts                  1                More than 1   \n",
       "1  Other Banks/Depts                  1                More than 1   \n",
       "2  Other Banks/Depts                  1                          1   \n",
       "3  Other Banks/Depts                  1                More than 1   \n",
       "4  Other Banks/Depts                  2                          1   \n",
       "\n",
       "   Occupation  No-of-dependents  Telephone  Foreign-Worker  \n",
       "0           1                 2          1               1  \n",
       "1           1                 2          1               2  \n",
       "2           1                 1          1               1  \n",
       "3           1                 2          1               1  \n",
       "4           1                 1          1               1  "
      ]
     },
     "execution_count": 4,
     "metadata": {},
     "output_type": "execute_result"
    }
   ],
   "source": [
    "#new_applicants set missing one column... Credit Application Result is the result you are tryting to predict\n",
    "new_applicants = pd.read_excel('./data/customers-to-score.xlsx')\n",
    "# new_applicants.sort_values('Purpose', inplace=True)\n",
    "new_applicants.head()"
   ]
  },
  {
   "cell_type": "markdown",
   "metadata": {},
   "source": [
    "new_applicants data set has no null values."
   ]
  },
  {
   "cell_type": "code",
   "execution_count": 5,
   "metadata": {
    "scrolled": false
   },
   "outputs": [
    {
     "name": "stdout",
     "output_type": "stream",
     "text": [
      "<class 'pandas.core.frame.DataFrame'>\n",
      "RangeIndex: 500 entries, 0 to 499\n",
      "Data columns (total 19 columns):\n",
      "Account-Balance                      500 non-null object\n",
      "Duration-of-Credit-Month             500 non-null int64\n",
      "Payment-Status-of-Previous-Credit    500 non-null object\n",
      "Purpose                              500 non-null object\n",
      "Credit-Amount                        500 non-null int64\n",
      "Value-Savings-Stocks                 500 non-null object\n",
      "Length-of-current-employment         500 non-null object\n",
      "Instalment-per-cent                  500 non-null int64\n",
      "Guarantors                           500 non-null object\n",
      "Duration-in-Current-address          500 non-null int64\n",
      "Most-valuable-available-asset        500 non-null int64\n",
      "Age-years                            500 non-null int64\n",
      "Concurrent-Credits                   500 non-null object\n",
      "Type-of-apartment                    500 non-null int64\n",
      "No-of-Credits-at-this-Bank           500 non-null object\n",
      "Occupation                           500 non-null int64\n",
      "No-of-dependents                     500 non-null int64\n",
      "Telephone                            500 non-null int64\n",
      "Foreign-Worker                       500 non-null int64\n",
      "dtypes: int64(11), object(8)\n",
      "memory usage: 74.3+ KB\n"
     ]
    }
   ],
   "source": [
    "new_applicants.info()"
   ]
  },
  {
   "cell_type": "markdown",
   "metadata": {},
   "source": [
    "# CLEAN DATA"
   ]
  },
  {
   "cell_type": "markdown",
   "metadata": {},
   "source": [
    "## Clean old_applicants Data"
   ]
  },
  {
   "cell_type": "code",
   "execution_count": 6,
   "metadata": {},
   "outputs": [
    {
     "data": {
      "text/plain": [
       "Credit-Application-Result              0\n",
       "Account-Balance                        0\n",
       "Duration-of-Credit-Month               0\n",
       "Payment-Status-of-Previous-Credit      0\n",
       "Purpose                                0\n",
       "Credit-Amount                          0\n",
       "Value-Savings-Stocks                   0\n",
       "Length-of-current-employment           0\n",
       "Instalment-per-cent                    0\n",
       "Guarantors                             0\n",
       "Duration-in-Current-address          344\n",
       "Most-valuable-available-asset          0\n",
       "Age-years                             12\n",
       "Concurrent-Credits                     0\n",
       "Type-of-apartment                      0\n",
       "No-of-Credits-at-this-Bank             0\n",
       "Occupation                             0\n",
       "No-of-dependents                       0\n",
       "Telephone                              0\n",
       "Foreign-Worker                         0\n",
       "dtype: int64"
      ]
     },
     "execution_count": 6,
     "metadata": {},
     "output_type": "execute_result"
    }
   ],
   "source": [
    "old_applicants.isnull().sum()"
   ]
  },
  {
   "cell_type": "markdown",
   "metadata": {},
   "source": [
    "_Duration-in-Current-address_ and _Age-years_ requires some cleanup:\n",
    "\n",
    "* _Duration-in-Current-address_: immediately removing this attribute since ≈68% of the field is null\n",
    "\n",
    "* _Age-years_: will handle this cleanup after splitting old_applications into training and testing set. Otherwise I am violating a core tenent in the machine learning procedure. I cannot assume I know the median value of the entire data set to make predictions. I can only assume I know the median value of the training set. In other words I don't want to fit information from my testing set into my training set.\n",
    "\n",
    "Note:\n",
    "1. Use the median age of _Age-years_ column to impute missing values.\n",
    "* Dropping _Duration-in-Current-address_ becasue more than half field is null... ≈ 69%"
   ]
  },
  {
   "cell_type": "code",
   "execution_count": 7,
   "metadata": {},
   "outputs": [
    {
     "data": {
      "text/plain": [
       "0.688"
      ]
     },
     "execution_count": 7,
     "metadata": {},
     "output_type": "execute_result"
    }
   ],
   "source": [
    "# calculate percent of null values in Duration-in-Current-address\n",
    "old_applicants[\"Duration-in-Current-address\"].isnull().sum()/old_applicants[\"Duration-in-Current-address\"].shape[0]"
   ]
  },
  {
   "cell_type": "code",
   "execution_count": 8,
   "metadata": {},
   "outputs": [
    {
     "data": {
      "text/plain": [
       "Credit-Application-Result             0\n",
       "Account-Balance                       0\n",
       "Duration-of-Credit-Month              0\n",
       "Payment-Status-of-Previous-Credit     0\n",
       "Purpose                               0\n",
       "Credit-Amount                         0\n",
       "Value-Savings-Stocks                  0\n",
       "Length-of-current-employment          0\n",
       "Instalment-per-cent                   0\n",
       "Guarantors                            0\n",
       "Most-valuable-available-asset         0\n",
       "Age-years                            12\n",
       "Concurrent-Credits                    0\n",
       "Type-of-apartment                     0\n",
       "No-of-Credits-at-this-Bank            0\n",
       "Occupation                            0\n",
       "No-of-dependents                      0\n",
       "Telephone                             0\n",
       "Foreign-Worker                        0\n",
       "dtype: int64"
      ]
     },
     "execution_count": 8,
     "metadata": {},
     "output_type": "execute_result"
    }
   ],
   "source": [
    "# Dropping Duration-in-Current-address becasue more than half field is null\n",
    "old_applicants.drop('Duration-in-Current-address', axis=1, inplace=True)\n",
    "# there are no more no values in the old_applicants dataset\n",
    "old_applicants.isnull().sum()"
   ]
  },
  {
   "cell_type": "markdown",
   "metadata": {},
   "source": [
    "## Clean new_applicants Data"
   ]
  },
  {
   "cell_type": "code",
   "execution_count": 9,
   "metadata": {},
   "outputs": [
    {
     "data": {
      "text/plain": [
       "Account-Balance                      0\n",
       "Duration-of-Credit-Month             0\n",
       "Payment-Status-of-Previous-Credit    0\n",
       "Purpose                              0\n",
       "Credit-Amount                        0\n",
       "Value-Savings-Stocks                 0\n",
       "Length-of-current-employment         0\n",
       "Instalment-per-cent                  0\n",
       "Guarantors                           0\n",
       "Duration-in-Current-address          0\n",
       "Most-valuable-available-asset        0\n",
       "Age-years                            0\n",
       "Concurrent-Credits                   0\n",
       "Type-of-apartment                    0\n",
       "No-of-Credits-at-this-Bank           0\n",
       "Occupation                           0\n",
       "No-of-dependents                     0\n",
       "Telephone                            0\n",
       "Foreign-Worker                       0\n",
       "dtype: int64"
      ]
     },
     "execution_count": 9,
     "metadata": {},
     "output_type": "execute_result"
    }
   ],
   "source": [
    "new_applicants.isnull().sum()"
   ]
  },
  {
   "cell_type": "markdown",
   "metadata": {},
   "source": [
    "As indicated in the code above, and using new_applicants.info() earlier, the new_applicants data set has no null values. Will leave this data set alone for now since there is no immediate clean up needed. However, might be some columns that are removed later from the dataset for other reasons."
   ]
  },
  {
   "cell_type": "markdown",
   "metadata": {},
   "source": [
    "# Get Dummy Variables"
   ]
  },
  {
   "cell_type": "markdown",
   "metadata": {},
   "source": [
    "The string values need to be converted to numerical values"
   ]
  },
  {
   "cell_type": "code",
   "execution_count": 10,
   "metadata": {
    "scrolled": true
   },
   "outputs": [
    {
     "data": {
      "text/html": [
       "<div>\n",
       "<style scoped>\n",
       "    .dataframe tbody tr th:only-of-type {\n",
       "        vertical-align: middle;\n",
       "    }\n",
       "\n",
       "    .dataframe tbody tr th {\n",
       "        vertical-align: top;\n",
       "    }\n",
       "\n",
       "    .dataframe thead th {\n",
       "        text-align: right;\n",
       "    }\n",
       "</style>\n",
       "<table border=\"1\" class=\"dataframe\">\n",
       "  <thead>\n",
       "    <tr style=\"text-align: right;\">\n",
       "      <th></th>\n",
       "      <th>Credit-Application-Result</th>\n",
       "      <th>Account-Balance</th>\n",
       "      <th>Duration-of-Credit-Month</th>\n",
       "      <th>Payment-Status-of-Previous-Credit</th>\n",
       "      <th>Purpose</th>\n",
       "      <th>Credit-Amount</th>\n",
       "      <th>Value-Savings-Stocks</th>\n",
       "      <th>Length-of-current-employment</th>\n",
       "      <th>Instalment-per-cent</th>\n",
       "      <th>Guarantors</th>\n",
       "      <th>Most-valuable-available-asset</th>\n",
       "      <th>Age-years</th>\n",
       "      <th>Concurrent-Credits</th>\n",
       "      <th>Type-of-apartment</th>\n",
       "      <th>No-of-Credits-at-this-Bank</th>\n",
       "      <th>Occupation</th>\n",
       "      <th>No-of-dependents</th>\n",
       "      <th>Telephone</th>\n",
       "      <th>Foreign-Worker</th>\n",
       "    </tr>\n",
       "  </thead>\n",
       "  <tbody>\n",
       "    <tr>\n",
       "      <th>0</th>\n",
       "      <td>Creditworthy</td>\n",
       "      <td>Some Balance</td>\n",
       "      <td>4</td>\n",
       "      <td>Paid Up</td>\n",
       "      <td>Other</td>\n",
       "      <td>1494</td>\n",
       "      <td>£100-£1000</td>\n",
       "      <td>&lt; 1yr</td>\n",
       "      <td>1</td>\n",
       "      <td>None</td>\n",
       "      <td>1</td>\n",
       "      <td>NaN</td>\n",
       "      <td>Other Banks/Depts</td>\n",
       "      <td>2</td>\n",
       "      <td>1</td>\n",
       "      <td>1</td>\n",
       "      <td>2</td>\n",
       "      <td>1</td>\n",
       "      <td>2</td>\n",
       "    </tr>\n",
       "    <tr>\n",
       "      <th>1</th>\n",
       "      <td>Creditworthy</td>\n",
       "      <td>Some Balance</td>\n",
       "      <td>4</td>\n",
       "      <td>Paid Up</td>\n",
       "      <td>Home Related</td>\n",
       "      <td>1494</td>\n",
       "      <td>£100-£1000</td>\n",
       "      <td>&lt; 1yr</td>\n",
       "      <td>1</td>\n",
       "      <td>None</td>\n",
       "      <td>1</td>\n",
       "      <td>29.0</td>\n",
       "      <td>Other Banks/Depts</td>\n",
       "      <td>2</td>\n",
       "      <td>1</td>\n",
       "      <td>1</td>\n",
       "      <td>2</td>\n",
       "      <td>1</td>\n",
       "      <td>2</td>\n",
       "    </tr>\n",
       "    <tr>\n",
       "      <th>2</th>\n",
       "      <td>Creditworthy</td>\n",
       "      <td>Some Balance</td>\n",
       "      <td>4</td>\n",
       "      <td>No Problems (in this bank)</td>\n",
       "      <td>Home Related</td>\n",
       "      <td>1544</td>\n",
       "      <td>None</td>\n",
       "      <td>1-4 yrs</td>\n",
       "      <td>2</td>\n",
       "      <td>None</td>\n",
       "      <td>1</td>\n",
       "      <td>42.0</td>\n",
       "      <td>Other Banks/Depts</td>\n",
       "      <td>2</td>\n",
       "      <td>More than 1</td>\n",
       "      <td>1</td>\n",
       "      <td>2</td>\n",
       "      <td>1</td>\n",
       "      <td>1</td>\n",
       "    </tr>\n",
       "    <tr>\n",
       "      <th>3</th>\n",
       "      <td>Creditworthy</td>\n",
       "      <td>Some Balance</td>\n",
       "      <td>4</td>\n",
       "      <td>No Problems (in this bank)</td>\n",
       "      <td>Home Related</td>\n",
       "      <td>3380</td>\n",
       "      <td>None</td>\n",
       "      <td>1-4 yrs</td>\n",
       "      <td>1</td>\n",
       "      <td>None</td>\n",
       "      <td>1</td>\n",
       "      <td>37.0</td>\n",
       "      <td>Other Banks/Depts</td>\n",
       "      <td>2</td>\n",
       "      <td>1</td>\n",
       "      <td>1</td>\n",
       "      <td>2</td>\n",
       "      <td>1</td>\n",
       "      <td>1</td>\n",
       "    </tr>\n",
       "    <tr>\n",
       "      <th>4</th>\n",
       "      <td>Creditworthy</td>\n",
       "      <td>No Account</td>\n",
       "      <td>6</td>\n",
       "      <td>Paid Up</td>\n",
       "      <td>Home Related</td>\n",
       "      <td>343</td>\n",
       "      <td>None</td>\n",
       "      <td>&lt; 1yr</td>\n",
       "      <td>4</td>\n",
       "      <td>None</td>\n",
       "      <td>1</td>\n",
       "      <td>27.0</td>\n",
       "      <td>Other Banks/Depts</td>\n",
       "      <td>2</td>\n",
       "      <td>1</td>\n",
       "      <td>1</td>\n",
       "      <td>1</td>\n",
       "      <td>1</td>\n",
       "      <td>1</td>\n",
       "    </tr>\n",
       "    <tr>\n",
       "      <th>5</th>\n",
       "      <td>Creditworthy</td>\n",
       "      <td>Some Balance</td>\n",
       "      <td>6</td>\n",
       "      <td>No Problems (in this bank)</td>\n",
       "      <td>Home Related</td>\n",
       "      <td>362</td>\n",
       "      <td>&lt; £100</td>\n",
       "      <td>&lt; 1yr</td>\n",
       "      <td>4</td>\n",
       "      <td>None</td>\n",
       "      <td>3</td>\n",
       "      <td>52.0</td>\n",
       "      <td>Other Banks/Depts</td>\n",
       "      <td>2</td>\n",
       "      <td>More than 1</td>\n",
       "      <td>1</td>\n",
       "      <td>1</td>\n",
       "      <td>1</td>\n",
       "      <td>1</td>\n",
       "    </tr>\n",
       "    <tr>\n",
       "      <th>6</th>\n",
       "      <td>Non-Creditworthy</td>\n",
       "      <td>No Account</td>\n",
       "      <td>6</td>\n",
       "      <td>Some Problems</td>\n",
       "      <td>Home Related</td>\n",
       "      <td>433</td>\n",
       "      <td>£100-£1000</td>\n",
       "      <td>&lt; 1yr</td>\n",
       "      <td>4</td>\n",
       "      <td>None</td>\n",
       "      <td>2</td>\n",
       "      <td>24.0</td>\n",
       "      <td>Other Banks/Depts</td>\n",
       "      <td>1</td>\n",
       "      <td>1</td>\n",
       "      <td>1</td>\n",
       "      <td>2</td>\n",
       "      <td>1</td>\n",
       "      <td>1</td>\n",
       "    </tr>\n",
       "    <tr>\n",
       "      <th>7</th>\n",
       "      <td>Creditworthy</td>\n",
       "      <td>No Account</td>\n",
       "      <td>6</td>\n",
       "      <td>Paid Up</td>\n",
       "      <td>Home Related</td>\n",
       "      <td>454</td>\n",
       "      <td>None</td>\n",
       "      <td>&lt; 1yr</td>\n",
       "      <td>3</td>\n",
       "      <td>None</td>\n",
       "      <td>2</td>\n",
       "      <td>22.0</td>\n",
       "      <td>Other Banks/Depts</td>\n",
       "      <td>2</td>\n",
       "      <td>1</td>\n",
       "      <td>1</td>\n",
       "      <td>1</td>\n",
       "      <td>1</td>\n",
       "      <td>1</td>\n",
       "    </tr>\n",
       "    <tr>\n",
       "      <th>8</th>\n",
       "      <td>Creditworthy</td>\n",
       "      <td>No Account</td>\n",
       "      <td>6</td>\n",
       "      <td>Paid Up</td>\n",
       "      <td>Home Related</td>\n",
       "      <td>484</td>\n",
       "      <td>None</td>\n",
       "      <td>1-4 yrs</td>\n",
       "      <td>3</td>\n",
       "      <td>Yes</td>\n",
       "      <td>1</td>\n",
       "      <td>28.0</td>\n",
       "      <td>Other Banks/Depts</td>\n",
       "      <td>2</td>\n",
       "      <td>1</td>\n",
       "      <td>1</td>\n",
       "      <td>1</td>\n",
       "      <td>1</td>\n",
       "      <td>1</td>\n",
       "    </tr>\n",
       "    <tr>\n",
       "      <th>9</th>\n",
       "      <td>Creditworthy</td>\n",
       "      <td>Some Balance</td>\n",
       "      <td>6</td>\n",
       "      <td>Paid Up</td>\n",
       "      <td>Home Related</td>\n",
       "      <td>660</td>\n",
       "      <td>£100-£1000</td>\n",
       "      <td>1-4 yrs</td>\n",
       "      <td>2</td>\n",
       "      <td>None</td>\n",
       "      <td>1</td>\n",
       "      <td>23.0</td>\n",
       "      <td>Other Banks/Depts</td>\n",
       "      <td>1</td>\n",
       "      <td>1</td>\n",
       "      <td>1</td>\n",
       "      <td>1</td>\n",
       "      <td>1</td>\n",
       "      <td>1</td>\n",
       "    </tr>\n",
       "  </tbody>\n",
       "</table>\n",
       "</div>"
      ],
      "text/plain": [
       "  Credit-Application-Result Account-Balance  Duration-of-Credit-Month  \\\n",
       "0              Creditworthy    Some Balance                         4   \n",
       "1              Creditworthy    Some Balance                         4   \n",
       "2              Creditworthy    Some Balance                         4   \n",
       "3              Creditworthy    Some Balance                         4   \n",
       "4              Creditworthy      No Account                         6   \n",
       "5              Creditworthy    Some Balance                         6   \n",
       "6          Non-Creditworthy      No Account                         6   \n",
       "7              Creditworthy      No Account                         6   \n",
       "8              Creditworthy      No Account                         6   \n",
       "9              Creditworthy    Some Balance                         6   \n",
       "\n",
       "  Payment-Status-of-Previous-Credit       Purpose  Credit-Amount  \\\n",
       "0                           Paid Up         Other           1494   \n",
       "1                           Paid Up  Home Related           1494   \n",
       "2        No Problems (in this bank)  Home Related           1544   \n",
       "3        No Problems (in this bank)  Home Related           3380   \n",
       "4                           Paid Up  Home Related            343   \n",
       "5        No Problems (in this bank)  Home Related            362   \n",
       "6                     Some Problems  Home Related            433   \n",
       "7                           Paid Up  Home Related            454   \n",
       "8                           Paid Up  Home Related            484   \n",
       "9                           Paid Up  Home Related            660   \n",
       "\n",
       "  Value-Savings-Stocks Length-of-current-employment  Instalment-per-cent  \\\n",
       "0           £100-£1000                        < 1yr                    1   \n",
       "1           £100-£1000                        < 1yr                    1   \n",
       "2                 None                      1-4 yrs                    2   \n",
       "3                 None                      1-4 yrs                    1   \n",
       "4                 None                        < 1yr                    4   \n",
       "5               < £100                        < 1yr                    4   \n",
       "6           £100-£1000                        < 1yr                    4   \n",
       "7                 None                        < 1yr                    3   \n",
       "8                 None                      1-4 yrs                    3   \n",
       "9           £100-£1000                      1-4 yrs                    2   \n",
       "\n",
       "  Guarantors  Most-valuable-available-asset  Age-years Concurrent-Credits  \\\n",
       "0       None                              1        NaN  Other Banks/Depts   \n",
       "1       None                              1       29.0  Other Banks/Depts   \n",
       "2       None                              1       42.0  Other Banks/Depts   \n",
       "3       None                              1       37.0  Other Banks/Depts   \n",
       "4       None                              1       27.0  Other Banks/Depts   \n",
       "5       None                              3       52.0  Other Banks/Depts   \n",
       "6       None                              2       24.0  Other Banks/Depts   \n",
       "7       None                              2       22.0  Other Banks/Depts   \n",
       "8        Yes                              1       28.0  Other Banks/Depts   \n",
       "9       None                              1       23.0  Other Banks/Depts   \n",
       "\n",
       "   Type-of-apartment No-of-Credits-at-this-Bank  Occupation  No-of-dependents  \\\n",
       "0                  2                          1           1                 2   \n",
       "1                  2                          1           1                 2   \n",
       "2                  2                More than 1           1                 2   \n",
       "3                  2                          1           1                 2   \n",
       "4                  2                          1           1                 1   \n",
       "5                  2                More than 1           1                 1   \n",
       "6                  1                          1           1                 2   \n",
       "7                  2                          1           1                 1   \n",
       "8                  2                          1           1                 1   \n",
       "9                  1                          1           1                 1   \n",
       "\n",
       "   Telephone  Foreign-Worker  \n",
       "0          1               2  \n",
       "1          1               2  \n",
       "2          1               1  \n",
       "3          1               1  \n",
       "4          1               1  \n",
       "5          1               1  \n",
       "6          1               1  \n",
       "7          1               1  \n",
       "8          1               1  \n",
       "9          1               1  "
      ]
     },
     "execution_count": 10,
     "metadata": {},
     "output_type": "execute_result"
    }
   ],
   "source": [
    "old_applicants.head(10)"
   ]
  },
  {
   "cell_type": "code",
   "execution_count": 11,
   "metadata": {},
   "outputs": [],
   "source": [
    "pd.options.display.max_columns = 30"
   ]
  },
  {
   "cell_type": "code",
   "execution_count": 12,
   "metadata": {},
   "outputs": [],
   "source": [
    "# np.where(old_applicants[\"Credit-Application-Result\"] == \"Creditworthy\", 1, 0)"
   ]
  },
  {
   "cell_type": "code",
   "execution_count": 13,
   "metadata": {},
   "outputs": [],
   "source": [
    "# old_applicants_dummies = \n",
    "old_applicants_dummies = pd.get_dummies(old_applicants, columns = ['Credit-Application-Result', 'Account-Balance', 'Payment-Status-of-Previous-Credit', 'Purpose', 'Value-Savings-Stocks', 'Length-of-current-employment', 'Guarantors', 'Concurrent-Credits', 'No-of-Credits-at-this-Bank'], drop_first=True)\n"
   ]
  },
  {
   "cell_type": "code",
   "execution_count": 14,
   "metadata": {
    "scrolled": false
   },
   "outputs": [
    {
     "data": {
      "text/html": [
       "<div>\n",
       "<style scoped>\n",
       "    .dataframe tbody tr th:only-of-type {\n",
       "        vertical-align: middle;\n",
       "    }\n",
       "\n",
       "    .dataframe tbody tr th {\n",
       "        vertical-align: top;\n",
       "    }\n",
       "\n",
       "    .dataframe thead th {\n",
       "        text-align: right;\n",
       "    }\n",
       "</style>\n",
       "<table border=\"1\" class=\"dataframe\">\n",
       "  <thead>\n",
       "    <tr style=\"text-align: right;\">\n",
       "      <th></th>\n",
       "      <th>Duration-of-Credit-Month</th>\n",
       "      <th>Credit-Amount</th>\n",
       "      <th>Instalment-per-cent</th>\n",
       "      <th>Most-valuable-available-asset</th>\n",
       "      <th>Age-years</th>\n",
       "      <th>Type-of-apartment</th>\n",
       "      <th>Occupation</th>\n",
       "      <th>No-of-dependents</th>\n",
       "      <th>Telephone</th>\n",
       "      <th>Foreign-Worker</th>\n",
       "      <th>Credit-Application-Result_Non-Creditworthy</th>\n",
       "      <th>Account-Balance_Some Balance</th>\n",
       "      <th>Payment-Status-of-Previous-Credit_Paid Up</th>\n",
       "      <th>Payment-Status-of-Previous-Credit_Some Problems</th>\n",
       "      <th>Purpose_New car</th>\n",
       "      <th>Purpose_Other</th>\n",
       "      <th>Purpose_Used car</th>\n",
       "      <th>Value-Savings-Stocks_None</th>\n",
       "      <th>Value-Savings-Stocks_£100-£1000</th>\n",
       "      <th>Length-of-current-employment_4-7 yrs</th>\n",
       "      <th>Length-of-current-employment_&lt; 1yr</th>\n",
       "      <th>Guarantors_Yes</th>\n",
       "      <th>No-of-Credits-at-this-Bank_More than 1</th>\n",
       "    </tr>\n",
       "  </thead>\n",
       "  <tbody>\n",
       "    <tr>\n",
       "      <th>0</th>\n",
       "      <td>4</td>\n",
       "      <td>1494</td>\n",
       "      <td>1</td>\n",
       "      <td>1</td>\n",
       "      <td>NaN</td>\n",
       "      <td>2</td>\n",
       "      <td>1</td>\n",
       "      <td>2</td>\n",
       "      <td>1</td>\n",
       "      <td>2</td>\n",
       "      <td>0</td>\n",
       "      <td>1</td>\n",
       "      <td>1</td>\n",
       "      <td>0</td>\n",
       "      <td>0</td>\n",
       "      <td>1</td>\n",
       "      <td>0</td>\n",
       "      <td>0</td>\n",
       "      <td>1</td>\n",
       "      <td>0</td>\n",
       "      <td>1</td>\n",
       "      <td>0</td>\n",
       "      <td>0</td>\n",
       "    </tr>\n",
       "    <tr>\n",
       "      <th>1</th>\n",
       "      <td>4</td>\n",
       "      <td>1494</td>\n",
       "      <td>1</td>\n",
       "      <td>1</td>\n",
       "      <td>29.0</td>\n",
       "      <td>2</td>\n",
       "      <td>1</td>\n",
       "      <td>2</td>\n",
       "      <td>1</td>\n",
       "      <td>2</td>\n",
       "      <td>0</td>\n",
       "      <td>1</td>\n",
       "      <td>1</td>\n",
       "      <td>0</td>\n",
       "      <td>0</td>\n",
       "      <td>0</td>\n",
       "      <td>0</td>\n",
       "      <td>0</td>\n",
       "      <td>1</td>\n",
       "      <td>0</td>\n",
       "      <td>1</td>\n",
       "      <td>0</td>\n",
       "      <td>0</td>\n",
       "    </tr>\n",
       "    <tr>\n",
       "      <th>2</th>\n",
       "      <td>4</td>\n",
       "      <td>1544</td>\n",
       "      <td>2</td>\n",
       "      <td>1</td>\n",
       "      <td>42.0</td>\n",
       "      <td>2</td>\n",
       "      <td>1</td>\n",
       "      <td>2</td>\n",
       "      <td>1</td>\n",
       "      <td>1</td>\n",
       "      <td>0</td>\n",
       "      <td>1</td>\n",
       "      <td>0</td>\n",
       "      <td>0</td>\n",
       "      <td>0</td>\n",
       "      <td>0</td>\n",
       "      <td>0</td>\n",
       "      <td>1</td>\n",
       "      <td>0</td>\n",
       "      <td>0</td>\n",
       "      <td>0</td>\n",
       "      <td>0</td>\n",
       "      <td>1</td>\n",
       "    </tr>\n",
       "    <tr>\n",
       "      <th>3</th>\n",
       "      <td>4</td>\n",
       "      <td>3380</td>\n",
       "      <td>1</td>\n",
       "      <td>1</td>\n",
       "      <td>37.0</td>\n",
       "      <td>2</td>\n",
       "      <td>1</td>\n",
       "      <td>2</td>\n",
       "      <td>1</td>\n",
       "      <td>1</td>\n",
       "      <td>0</td>\n",
       "      <td>1</td>\n",
       "      <td>0</td>\n",
       "      <td>0</td>\n",
       "      <td>0</td>\n",
       "      <td>0</td>\n",
       "      <td>0</td>\n",
       "      <td>1</td>\n",
       "      <td>0</td>\n",
       "      <td>0</td>\n",
       "      <td>0</td>\n",
       "      <td>0</td>\n",
       "      <td>0</td>\n",
       "    </tr>\n",
       "    <tr>\n",
       "      <th>4</th>\n",
       "      <td>6</td>\n",
       "      <td>343</td>\n",
       "      <td>4</td>\n",
       "      <td>1</td>\n",
       "      <td>27.0</td>\n",
       "      <td>2</td>\n",
       "      <td>1</td>\n",
       "      <td>1</td>\n",
       "      <td>1</td>\n",
       "      <td>1</td>\n",
       "      <td>0</td>\n",
       "      <td>0</td>\n",
       "      <td>1</td>\n",
       "      <td>0</td>\n",
       "      <td>0</td>\n",
       "      <td>0</td>\n",
       "      <td>0</td>\n",
       "      <td>1</td>\n",
       "      <td>0</td>\n",
       "      <td>0</td>\n",
       "      <td>1</td>\n",
       "      <td>0</td>\n",
       "      <td>0</td>\n",
       "    </tr>\n",
       "  </tbody>\n",
       "</table>\n",
       "</div>"
      ],
      "text/plain": [
       "   Duration-of-Credit-Month  Credit-Amount  Instalment-per-cent  \\\n",
       "0                         4           1494                    1   \n",
       "1                         4           1494                    1   \n",
       "2                         4           1544                    2   \n",
       "3                         4           3380                    1   \n",
       "4                         6            343                    4   \n",
       "\n",
       "   Most-valuable-available-asset  Age-years  Type-of-apartment  Occupation  \\\n",
       "0                              1        NaN                  2           1   \n",
       "1                              1       29.0                  2           1   \n",
       "2                              1       42.0                  2           1   \n",
       "3                              1       37.0                  2           1   \n",
       "4                              1       27.0                  2           1   \n",
       "\n",
       "   No-of-dependents  Telephone  Foreign-Worker  \\\n",
       "0                 2          1               2   \n",
       "1                 2          1               2   \n",
       "2                 2          1               1   \n",
       "3                 2          1               1   \n",
       "4                 1          1               1   \n",
       "\n",
       "   Credit-Application-Result_Non-Creditworthy  Account-Balance_Some Balance  \\\n",
       "0                                           0                             1   \n",
       "1                                           0                             1   \n",
       "2                                           0                             1   \n",
       "3                                           0                             1   \n",
       "4                                           0                             0   \n",
       "\n",
       "   Payment-Status-of-Previous-Credit_Paid Up  \\\n",
       "0                                          1   \n",
       "1                                          1   \n",
       "2                                          0   \n",
       "3                                          0   \n",
       "4                                          1   \n",
       "\n",
       "   Payment-Status-of-Previous-Credit_Some Problems  Purpose_New car  \\\n",
       "0                                                0                0   \n",
       "1                                                0                0   \n",
       "2                                                0                0   \n",
       "3                                                0                0   \n",
       "4                                                0                0   \n",
       "\n",
       "   Purpose_Other  Purpose_Used car  Value-Savings-Stocks_None  \\\n",
       "0              1                 0                          0   \n",
       "1              0                 0                          0   \n",
       "2              0                 0                          1   \n",
       "3              0                 0                          1   \n",
       "4              0                 0                          1   \n",
       "\n",
       "   Value-Savings-Stocks_£100-£1000  Length-of-current-employment_4-7 yrs  \\\n",
       "0                                1                                     0   \n",
       "1                                1                                     0   \n",
       "2                                0                                     0   \n",
       "3                                0                                     0   \n",
       "4                                0                                     0   \n",
       "\n",
       "   Length-of-current-employment_< 1yr  Guarantors_Yes  \\\n",
       "0                                   1               0   \n",
       "1                                   1               0   \n",
       "2                                   0               0   \n",
       "3                                   0               0   \n",
       "4                                   1               0   \n",
       "\n",
       "   No-of-Credits-at-this-Bank_More than 1  \n",
       "0                                       0  \n",
       "1                                       0  \n",
       "2                                       1  \n",
       "3                                       0  \n",
       "4                                       0  "
      ]
     },
     "execution_count": 14,
     "metadata": {},
     "output_type": "execute_result"
    }
   ],
   "source": [
    "old_applicants_dummies.head()\n"
   ]
  },
  {
   "cell_type": "code",
   "execution_count": 15,
   "metadata": {},
   "outputs": [
    {
     "data": {
      "text/plain": [
       "Index(['Duration-of-Credit-Month', 'Credit-Amount', 'Instalment-per-cent',\n",
       "       'Most-valuable-available-asset', 'Age-years', 'Type-of-apartment',\n",
       "       'Occupation', 'No-of-dependents', 'Telephone', 'Foreign-Worker',\n",
       "       'Credit-Application-Result_Non-Creditworthy',\n",
       "       'Account-Balance_Some Balance',\n",
       "       'Payment-Status-of-Previous-Credit_Paid Up',\n",
       "       'Payment-Status-of-Previous-Credit_Some Problems', 'Purpose_New car',\n",
       "       'Purpose_Other', 'Purpose_Used car', 'Value-Savings-Stocks_None',\n",
       "       'Value-Savings-Stocks_£100-£1000',\n",
       "       'Length-of-current-employment_4-7 yrs',\n",
       "       'Length-of-current-employment_< 1yr', 'Guarantors_Yes',\n",
       "       'No-of-Credits-at-this-Bank_More than 1'],\n",
       "      dtype='object')"
      ]
     },
     "execution_count": 15,
     "metadata": {},
     "output_type": "execute_result"
    }
   ],
   "source": [
    "old_applicants_dummies.columns\n"
   ]
  },
  {
   "cell_type": "markdown",
   "metadata": {},
   "source": [
    "# Visualizations"
   ]
  },
  {
   "cell_type": "markdown",
   "metadata": {},
   "source": [
    "I have hand selected the following visuals. You will notice they are the predictor variables selected later. "
   ]
  },
  {
   "cell_type": "code",
   "execution_count": 16,
   "metadata": {},
   "outputs": [
    {
     "data": {
      "text/plain": [
       "<matplotlib.axes._subplots.AxesSubplot at 0x1a235bcdd8>"
      ]
     },
     "execution_count": 16,
     "metadata": {},
     "output_type": "execute_result"
    },
    {
     "data": {
      "image/png": "[encoded data removed]",
      "text/plain": [
       "<Figure size 432x288 with 1 Axes>"
      ]
     },
     "metadata": {
      "needs_background": "light"
     },
     "output_type": "display_data"
    }
   ],
   "source": [
    "sns.countplot(data = old_applicants_dummies, x = 'Account-Balance_Some Balance')"
   ]
  },
  {
   "cell_type": "markdown",
   "metadata": {},
   "source": [
    "People with *Account-Balance_Some Balance* is split almost 50/50."
   ]
  },
  {
   "cell_type": "code",
   "execution_count": 17,
   "metadata": {},
   "outputs": [
    {
     "data": {
      "image/png": "[encoded data removed]",
      "text/plain": [
       "<Figure size 432x288 with 1 Axes>"
      ]
     },
     "metadata": {
      "needs_background": "light"
     },
     "output_type": "display_data"
    }
   ],
   "source": [
    "plt.hist(old_applicants_dummies['Credit-Amount'].values, edgecolor=\"k\")\n",
    "plt.show()\n"
   ]
  },
  {
   "cell_type": "markdown",
   "metadata": {},
   "source": [
    "This graph is right skewed, with the majority of individuals having credit amounts of approximately $3750 or less."
   ]
  },
  {
   "cell_type": "code",
   "execution_count": 18,
   "metadata": {},
   "outputs": [
    {
     "data": {
      "text/plain": [
       "<matplotlib.axes._subplots.AxesSubplot at 0x1a2397e080>"
      ]
     },
     "execution_count": 18,
     "metadata": {},
     "output_type": "execute_result"
    },
    {
     "data": {
      "image/png": "[encoded data removed]",
      "text/plain": [
       "<Figure size 432x288 with 1 Axes>"
      ]
     },
     "metadata": {
      "needs_background": "light"
     },
     "output_type": "display_data"
    }
   ],
   "source": [
    "sns.countplot(data = old_applicants_dummies, x = 'Duration-of-Credit-Month')"
   ]
  },
  {
   "cell_type": "code",
   "execution_count": 19,
   "metadata": {},
   "outputs": [
    {
     "data": {
      "image/png": "[encoded data removed]",
      "text/plain": [
       "<Figure size 432x288 with 1 Axes>"
      ]
     },
     "metadata": {
      "needs_background": "light"
     },
     "output_type": "display_data"
    }
   ],
   "source": [
    "plt.hist(old_applicants_dummies['Duration-of-Credit-Month'].values, edgecolor=\"k\")\n",
    "plt.show()\n"
   ]
  },
  {
   "cell_type": "markdown",
   "metadata": {},
   "source": [
    "There highest counts of *Duration-of-Credit-Month* are around 10-15 months, and 21-26 months."
   ]
  },
  {
   "cell_type": "code",
   "execution_count": 20,
   "metadata": {},
   "outputs": [
    {
     "data": {
      "text/plain": [
       "<matplotlib.axes._subplots.AxesSubplot at 0x1a23b97d68>"
      ]
     },
     "execution_count": 20,
     "metadata": {},
     "output_type": "execute_result"
    },
    {
     "data": {
      "image/png": "[encoded data removed]",
      "text/plain": [
       "<Figure size 432x288 with 1 Axes>"
      ]
     },
     "metadata": {
      "needs_background": "light"
     },
     "output_type": "display_data"
    }
   ],
   "source": [
    "sns.countplot(data = old_applicants_dummies, x = 'Payment-Status-of-Previous-Credit_Some Problems')"
   ]
  },
  {
   "cell_type": "markdown",
   "metadata": {},
   "source": [
    "There are less people that have some credit problems than there are people who are not labeled with *some problems*."
   ]
  },
  {
   "cell_type": "markdown",
   "metadata": {},
   "source": [
    "# Split old_appliants Data 1st Round"
   ]
  },
  {
   "cell_type": "code",
   "execution_count": 21,
   "metadata": {},
   "outputs": [],
   "source": [
    "# using given random state to obtain the same split\n",
    "# You should choose 70% to create the Estimation set and 30% to create the Validation set. \n",
    "# Set the Random Seed to 1 if you're using Alteryx.\n",
    "# old_applicants_dummies['Credit-Application-Result_Non-Creditworthy'] 1 = Non-Creditwthy\n",
    "\n",
    "X = old_applicants_dummies.loc[:, ~old_applicants_dummies.columns.isin(['Credit-Application-Result_Non-Creditworthy'])].copy()\n",
    "y = old_applicants_dummies['Credit-Application-Result_Non-Creditworthy'].copy()\n",
    "\n",
    "\n",
    "X_train, X_test, y_train, y_test = train_test_split(X, y, random_state = 1, train_size = 0.7)\n",
    "\n"
   ]
  },
  {
   "cell_type": "code",
   "execution_count": 22,
   "metadata": {},
   "outputs": [
    {
     "name": "stdout",
     "output_type": "stream",
     "text": [
      "Duration-of-Credit-Month                             18.0\n",
      "Credit-Amount                                      2176.0\n",
      "Instalment-per-cent                                   3.0\n",
      "Most-valuable-available-asset                         2.0\n",
      "Age-years                                            33.0\n",
      "Type-of-apartment                                     2.0\n",
      "Occupation                                            1.0\n",
      "No-of-dependents                                      1.0\n",
      "Telephone                                             1.0\n",
      "Foreign-Worker                                        1.0\n",
      "Account-Balance_Some Balance                          0.0\n",
      "Payment-Status-of-Previous-Credit_Paid Up             1.0\n",
      "Payment-Status-of-Previous-Credit_Some Problems       0.0\n",
      "Purpose_New car                                       0.0\n",
      "Purpose_Other                                         0.0\n",
      "Purpose_Used car                                      0.0\n",
      "Value-Savings-Stocks_None                             1.0\n",
      "Value-Savings-Stocks_£100-£1000                       0.0\n",
      "Length-of-current-employment_4-7 yrs                  0.0\n",
      "Length-of-current-employment_< 1yr                    1.0\n",
      "Guarantors_Yes                                        0.0\n",
      "No-of-Credits-at-this-Bank_More than 1                0.0\n",
      "dtype: float64\n"
     ]
    }
   ],
   "source": [
    "# impute missing information w/ median value of training set. Age-years is the only feature with missing data.\n",
    "training_median = X_train.median()\n",
    "X_train = X_train.fillna(training_median)\n",
    "X_test = X_test.fillna(training_median)\n",
    "\n",
    "print(training_median)"
   ]
  },
  {
   "cell_type": "code",
   "execution_count": 23,
   "metadata": {},
   "outputs": [
    {
     "data": {
      "text/plain": [
       "Duration-of-Credit-Month                           0\n",
       "Credit-Amount                                      0\n",
       "Instalment-per-cent                                0\n",
       "Most-valuable-available-asset                      0\n",
       "Age-years                                          0\n",
       "Type-of-apartment                                  0\n",
       "Occupation                                         0\n",
       "No-of-dependents                                   0\n",
       "Telephone                                          0\n",
       "Foreign-Worker                                     0\n",
       "Account-Balance_Some Balance                       0\n",
       "Payment-Status-of-Previous-Credit_Paid Up          0\n",
       "Payment-Status-of-Previous-Credit_Some Problems    0\n",
       "Purpose_New car                                    0\n",
       "Purpose_Other                                      0\n",
       "Purpose_Used car                                   0\n",
       "Value-Savings-Stocks_None                          0\n",
       "Value-Savings-Stocks_£100-£1000                    0\n",
       "Length-of-current-employment_4-7 yrs               0\n",
       "Length-of-current-employment_< 1yr                 0\n",
       "Guarantors_Yes                                     0\n",
       "No-of-Credits-at-this-Bank_More than 1             0\n",
       "dtype: int64"
      ]
     },
     "execution_count": 23,
     "metadata": {},
     "output_type": "execute_result"
    }
   ],
   "source": [
    "X_train.isnull().sum()"
   ]
  },
  {
   "cell_type": "code",
   "execution_count": 24,
   "metadata": {
    "scrolled": true
   },
   "outputs": [
    {
     "name": "stdout",
     "output_type": "stream",
     "text": [
      "(350, 22)\n",
      "(150, 22)\n",
      "(350,)\n",
      "(150,)\n"
     ]
    }
   ],
   "source": [
    "print(X_train.shape)\n",
    "print(X_test.shape)\n",
    "print(y_train.shape)\n",
    "print(y_test.shape)"
   ]
  },
  {
   "cell_type": "markdown",
   "metadata": {},
   "source": [
    "# Removing Features Based On Variance"
   ]
  },
  {
   "cell_type": "code",
   "execution_count": 25,
   "metadata": {},
   "outputs": [],
   "source": [
    "selector = VarianceThreshold(threshold = 0.0)\n",
    "selector = selector.fit_transform(X_train)"
   ]
  },
  {
   "cell_type": "code",
   "execution_count": 26,
   "metadata": {},
   "outputs": [
    {
     "data": {
      "text/plain": [
       "Duration-of-Credit-Month                               146.560\n",
       "Credit-Amount                                      7801794.006\n",
       "Instalment-per-cent                                      1.248\n",
       "Most-valuable-available-asset                            1.132\n",
       "Age-years                                              131.136\n",
       "Type-of-apartment                                        0.282\n",
       "Occupation                                               0.000\n",
       "No-of-dependents                                         0.139\n",
       "Telephone                                                0.242\n",
       "Foreign-Worker                                           0.036\n",
       "Account-Balance_Some Balance                             0.251\n",
       "Payment-Status-of-Previous-Credit_Paid Up                0.250\n",
       "Payment-Status-of-Previous-Credit_Some Problems          0.044\n",
       "Purpose_New car                                          0.076\n",
       "Purpose_Other                                            0.025\n",
       "Purpose_Used car                                         0.142\n",
       "Value-Savings-Stocks_None                                0.241\n",
       "Value-Savings-Stocks_£100-£1000                          0.211\n",
       "Length-of-current-employment_4-7 yrs                     0.189\n",
       "Length-of-current-employment_< 1yr                       0.249\n",
       "Guarantors_Yes                                           0.069\n",
       "No-of-Credits-at-this-Bank_More than 1                   0.236\n",
       "dtype: float64"
      ]
     },
     "execution_count": 26,
     "metadata": {},
     "output_type": "execute_result"
    }
   ],
   "source": [
    "X_train.var(axis=0).round(3)"
   ]
  },
  {
   "cell_type": "code",
   "execution_count": 27,
   "metadata": {},
   "outputs": [
    {
     "data": {
      "text/plain": [
       "array([1.46141000e+02, 7.77950317e+06, 1.24500000e+00, 1.12900000e+00,\n",
       "       1.30762000e+02, 2.81000000e-01, 1.38000000e-01, 2.41000000e-01,\n",
       "       3.60000000e-02, 2.50000000e-01, 2.49000000e-01, 4.40000000e-02,\n",
       "       7.60000000e-02, 2.50000000e-02, 1.42000000e-01, 2.40000000e-01,\n",
       "       2.10000000e-01, 1.88000000e-01, 2.48000000e-01, 6.90000000e-02,\n",
       "       2.35000000e-01])"
      ]
     },
     "execution_count": 27,
     "metadata": {},
     "output_type": "execute_result"
    }
   ],
   "source": [
    "# Notice Concurrent-Credits and Occupation have both been removed from the dataset. There are only 17 columns now.\n",
    "selector.var(axis=0).round(3)"
   ]
  },
  {
   "cell_type": "code",
   "execution_count": 28,
   "metadata": {},
   "outputs": [
    {
     "data": {
      "text/plain": [
       "Duration-of-Credit-Month                           1.465602e+02\n",
       "Credit-Amount                                      7.801794e+06\n",
       "Instalment-per-cent                                1.248465e+00\n",
       "Most-valuable-available-asset                      1.132345e+00\n",
       "Age-years                                          1.311363e+02\n",
       "Type-of-apartment                                  2.818256e-01\n",
       "Occupation                                         0.000000e+00\n",
       "No-of-dependents                                   1.386492e-01\n",
       "Telephone                                          2.418011e-01\n",
       "Foreign-Worker                                     3.586574e-02\n",
       "Account-Balance_Some Balance                       2.506836e-01\n",
       "Payment-Status-of-Previous-Credit_Paid Up          2.495375e-01\n",
       "Payment-Status-of-Previous-Credit_Some Problems    4.374949e-02\n",
       "Purpose_New car                                    7.620958e-02\n",
       "Purpose_Other                                      2.512485e-02\n",
       "Purpose_Used car                                   1.424478e-01\n",
       "Value-Savings-Stocks_None                          2.406877e-01\n",
       "Value-Savings-Stocks_£100-£1000                    2.106017e-01\n",
       "Length-of-current-employment_4-7 yrs               1.887515e-01\n",
       "Length-of-current-employment_< 1yr                 2.486205e-01\n",
       "Guarantors_Yes                                     6.896439e-02\n",
       "No-of-Credits-at-this-Bank_More than 1             2.355792e-01\n",
       "dtype: float64"
      ]
     },
     "execution_count": 28,
     "metadata": {},
     "output_type": "execute_result"
    }
   ],
   "source": [
    "# testing df_trfaining_corr dataset for low variance\n",
    "X_train.var(axis=0)"
   ]
  },
  {
   "cell_type": "markdown",
   "metadata": {},
   "source": [
    "Occupation is going to dropped from the dataset in the next section due to variance. Interestingly _Concurrent-Credits_ would have also been dropped due to having a variance of zero, but it was dropped from the dataset after running pd.get_dummies() function ealier. Therefore it did not appear in this section. I beleive this is due to it only having one value (i.e. it is dropped naturally because it only has one value _Other Banks/Depts_)."
   ]
  },
  {
   "cell_type": "markdown",
   "metadata": {},
   "source": [
    "# Split old_appliants Data 2nd Round"
   ]
  },
  {
   "cell_type": "code",
   "execution_count": 29,
   "metadata": {},
   "outputs": [],
   "source": [
    "# the first split allowed me to look at variance across all features that will be split.\n",
    "# this second round is allowing me to re-copy the original dataset and drop the attributes I do not want\n",
    "# in this case I am dropping Occupation due to variance\n",
    "# there is probably a more elegant way to do this, but I have not figured that out yet\n",
    "\n",
    "X = old_applicants_dummies.loc[:, ~old_applicants_dummies.columns.isin(['Credit-Application-Result_Non-Creditworthy', 'Occupation'])].copy()\n",
    "y = old_applicants_dummies['Credit-Application-Result_Non-Creditworthy'].copy()\n",
    "\n",
    "X_train, X_test, y_train, y_test = train_test_split(X, y, random_state = 1, train_size = 0.7)\n"
   ]
  },
  {
   "cell_type": "code",
   "execution_count": 30,
   "metadata": {},
   "outputs": [
    {
     "name": "stdout",
     "output_type": "stream",
     "text": [
      "Duration-of-Credit-Month                             18.0\n",
      "Credit-Amount                                      2176.0\n",
      "Instalment-per-cent                                   3.0\n",
      "Most-valuable-available-asset                         2.0\n",
      "Age-years                                            33.0\n",
      "Type-of-apartment                                     2.0\n",
      "No-of-dependents                                      1.0\n",
      "Telephone                                             1.0\n",
      "Foreign-Worker                                        1.0\n",
      "Account-Balance_Some Balance                          0.0\n",
      "Payment-Status-of-Previous-Credit_Paid Up             1.0\n",
      "Payment-Status-of-Previous-Credit_Some Problems       0.0\n",
      "Purpose_New car                                       0.0\n",
      "Purpose_Other                                         0.0\n",
      "Purpose_Used car                                      0.0\n",
      "Value-Savings-Stocks_None                             1.0\n",
      "Value-Savings-Stocks_£100-£1000                       0.0\n",
      "Length-of-current-employment_4-7 yrs                  0.0\n",
      "Length-of-current-employment_< 1yr                    1.0\n",
      "Guarantors_Yes                                        0.0\n",
      "No-of-Credits-at-this-Bank_More than 1                0.0\n",
      "dtype: float64\n"
     ]
    }
   ],
   "source": [
    "# impute missing information w/ median value of training set. Age-years is the only feature with missing data.\n",
    "training_median = X_train.median()\n",
    "X_train = X_train.fillna(training_median)\n",
    "X_test = X_test.fillna(training_median)\n",
    "\n",
    "print(training_median)"
   ]
  },
  {
   "cell_type": "code",
   "execution_count": 31,
   "metadata": {},
   "outputs": [
    {
     "data": {
      "text/plain": [
       "Duration-of-Credit-Month                           0\n",
       "Credit-Amount                                      0\n",
       "Instalment-per-cent                                0\n",
       "Most-valuable-available-asset                      0\n",
       "Age-years                                          0\n",
       "Type-of-apartment                                  0\n",
       "No-of-dependents                                   0\n",
       "Telephone                                          0\n",
       "Foreign-Worker                                     0\n",
       "Account-Balance_Some Balance                       0\n",
       "Payment-Status-of-Previous-Credit_Paid Up          0\n",
       "Payment-Status-of-Previous-Credit_Some Problems    0\n",
       "Purpose_New car                                    0\n",
       "Purpose_Other                                      0\n",
       "Purpose_Used car                                   0\n",
       "Value-Savings-Stocks_None                          0\n",
       "Value-Savings-Stocks_£100-£1000                    0\n",
       "Length-of-current-employment_4-7 yrs               0\n",
       "Length-of-current-employment_< 1yr                 0\n",
       "Guarantors_Yes                                     0\n",
       "No-of-Credits-at-this-Bank_More than 1             0\n",
       "dtype: int64"
      ]
     },
     "execution_count": 31,
     "metadata": {},
     "output_type": "execute_result"
    }
   ],
   "source": [
    "X_train.isnull().sum()"
   ]
  },
  {
   "cell_type": "code",
   "execution_count": 32,
   "metadata": {
    "scrolled": true
   },
   "outputs": [
    {
     "name": "stdout",
     "output_type": "stream",
     "text": [
      "(350, 21)\n",
      "(150, 21)\n",
      "(350,)\n",
      "(150,)\n"
     ]
    }
   ],
   "source": [
    "print(X_train.shape)\n",
    "print(X_test.shape)\n",
    "print(y_train.shape)\n",
    "print(y_test.shape)"
   ]
  },
  {
   "cell_type": "markdown",
   "metadata": {},
   "source": [
    "# Correlation"
   ]
  },
  {
   "cell_type": "code",
   "execution_count": 33,
   "metadata": {},
   "outputs": [
    {
     "data": {
      "text/plain": [
       "(21, 21)"
      ]
     },
     "execution_count": 33,
     "metadata": {},
     "output_type": "execute_result"
    }
   ],
   "source": [
    "corr = X_train.corr()\n",
    "corr.shape"
   ]
  },
  {
   "cell_type": "code",
   "execution_count": 34,
   "metadata": {},
   "outputs": [
    {
     "data": {
      "text/html": [
       "<div>\n",
       "<style scoped>\n",
       "    .dataframe tbody tr th:only-of-type {\n",
       "        vertical-align: middle;\n",
       "    }\n",
       "\n",
       "    .dataframe tbody tr th {\n",
       "        vertical-align: top;\n",
       "    }\n",
       "\n",
       "    .dataframe thead th {\n",
       "        text-align: right;\n",
       "    }\n",
       "</style>\n",
       "<table border=\"1\" class=\"dataframe\">\n",
       "  <thead>\n",
       "    <tr style=\"text-align: right;\">\n",
       "      <th></th>\n",
       "      <th>Duration-of-Credit-Month</th>\n",
       "      <th>Credit-Amount</th>\n",
       "      <th>Instalment-per-cent</th>\n",
       "      <th>Most-valuable-available-asset</th>\n",
       "      <th>Age-years</th>\n",
       "      <th>Type-of-apartment</th>\n",
       "      <th>No-of-dependents</th>\n",
       "      <th>Telephone</th>\n",
       "      <th>Foreign-Worker</th>\n",
       "      <th>Account-Balance_Some Balance</th>\n",
       "      <th>Payment-Status-of-Previous-Credit_Paid Up</th>\n",
       "      <th>Payment-Status-of-Previous-Credit_Some Problems</th>\n",
       "      <th>Purpose_New car</th>\n",
       "      <th>Purpose_Other</th>\n",
       "      <th>Purpose_Used car</th>\n",
       "      <th>Value-Savings-Stocks_None</th>\n",
       "      <th>Value-Savings-Stocks_£100-£1000</th>\n",
       "      <th>Length-of-current-employment_4-7 yrs</th>\n",
       "      <th>Length-of-current-employment_&lt; 1yr</th>\n",
       "      <th>Guarantors_Yes</th>\n",
       "      <th>No-of-Credits-at-this-Bank_More than 1</th>\n",
       "    </tr>\n",
       "  </thead>\n",
       "  <tbody>\n",
       "    <tr>\n",
       "      <th>Duration-of-Credit-Month</th>\n",
       "      <td>1.000000</td>\n",
       "      <td>0.556102</td>\n",
       "      <td>0.111632</td>\n",
       "      <td>0.317129</td>\n",
       "      <td>-0.037375</td>\n",
       "      <td>0.125503</td>\n",
       "      <td>-0.030638</td>\n",
       "      <td>0.172410</td>\n",
       "      <td>-0.167093</td>\n",
       "      <td>-0.070293</td>\n",
       "      <td>-0.047523</td>\n",
       "      <td>0.016521</td>\n",
       "      <td>0.170528</td>\n",
       "      <td>-0.092727</td>\n",
       "      <td>-0.090930</td>\n",
       "      <td>-0.047761</td>\n",
       "      <td>0.022435</td>\n",
       "      <td>0.015145</td>\n",
       "      <td>-0.032705</td>\n",
       "      <td>-0.028300</td>\n",
       "      <td>-0.005266</td>\n",
       "    </tr>\n",
       "    <tr>\n",
       "      <th>Credit-Amount</th>\n",
       "      <td>0.556102</td>\n",
       "      <td>1.000000</td>\n",
       "      <td>-0.284339</td>\n",
       "      <td>0.347195</td>\n",
       "      <td>0.117297</td>\n",
       "      <td>0.188269</td>\n",
       "      <td>0.023532</td>\n",
       "      <td>0.338742</td>\n",
       "      <td>-0.018790</td>\n",
       "      <td>-0.097086</td>\n",
       "      <td>-0.069141</td>\n",
       "      <td>0.027221</td>\n",
       "      <td>0.235174</td>\n",
       "      <td>-0.056556</td>\n",
       "      <td>-0.060311</td>\n",
       "      <td>-0.019617</td>\n",
       "      <td>0.017937</td>\n",
       "      <td>0.001965</td>\n",
       "      <td>0.045733</td>\n",
       "      <td>-0.052035</td>\n",
       "      <td>-0.042773</td>\n",
       "    </tr>\n",
       "    <tr>\n",
       "      <th>Instalment-per-cent</th>\n",
       "      <td>0.111632</td>\n",
       "      <td>-0.284339</td>\n",
       "      <td>1.000000</td>\n",
       "      <td>0.054601</td>\n",
       "      <td>-0.019726</td>\n",
       "      <td>0.017252</td>\n",
       "      <td>-0.160761</td>\n",
       "      <td>0.015943</td>\n",
       "      <td>-0.143920</td>\n",
       "      <td>0.102144</td>\n",
       "      <td>-0.029041</td>\n",
       "      <td>0.017865</td>\n",
       "      <td>-0.075907</td>\n",
       "      <td>0.052695</td>\n",
       "      <td>-0.117448</td>\n",
       "      <td>-0.026135</td>\n",
       "      <td>0.022352</td>\n",
       "      <td>0.138795</td>\n",
       "      <td>-0.115938</td>\n",
       "      <td>0.056079</td>\n",
       "      <td>0.093895</td>\n",
       "    </tr>\n",
       "    <tr>\n",
       "      <th>Most-valuable-available-asset</th>\n",
       "      <td>0.317129</td>\n",
       "      <td>0.347195</td>\n",
       "      <td>0.054601</td>\n",
       "      <td>1.000000</td>\n",
       "      <td>0.155026</td>\n",
       "      <td>0.393022</td>\n",
       "      <td>0.034628</td>\n",
       "      <td>0.246791</td>\n",
       "      <td>-0.167125</td>\n",
       "      <td>0.009312</td>\n",
       "      <td>-0.072169</td>\n",
       "      <td>0.079154</td>\n",
       "      <td>0.140401</td>\n",
       "      <td>-0.123864</td>\n",
       "      <td>-0.020996</td>\n",
       "      <td>0.006586</td>\n",
       "      <td>-0.049287</td>\n",
       "      <td>0.160010</td>\n",
       "      <td>-0.139605</td>\n",
       "      <td>-0.056482</td>\n",
       "      <td>0.020669</td>\n",
       "    </tr>\n",
       "    <tr>\n",
       "      <th>Age-years</th>\n",
       "      <td>-0.037375</td>\n",
       "      <td>0.117297</td>\n",
       "      <td>-0.019726</td>\n",
       "      <td>0.155026</td>\n",
       "      <td>1.000000</td>\n",
       "      <td>0.377944</td>\n",
       "      <td>0.151663</td>\n",
       "      <td>0.216776</td>\n",
       "      <td>0.041369</td>\n",
       "      <td>0.106787</td>\n",
       "      <td>-0.198152</td>\n",
       "      <td>0.065241</td>\n",
       "      <td>0.110441</td>\n",
       "      <td>-0.036817</td>\n",
       "      <td>-0.133576</td>\n",
       "      <td>-0.027133</td>\n",
       "      <td>0.048471</td>\n",
       "      <td>0.377782</td>\n",
       "      <td>-0.227806</td>\n",
       "      <td>-0.065150</td>\n",
       "      <td>0.107193</td>\n",
       "    </tr>\n",
       "    <tr>\n",
       "      <th>Type-of-apartment</th>\n",
       "      <td>0.125503</td>\n",
       "      <td>0.188269</td>\n",
       "      <td>0.017252</td>\n",
       "      <td>0.393022</td>\n",
       "      <td>0.377944</td>\n",
       "      <td>1.000000</td>\n",
       "      <td>0.166488</td>\n",
       "      <td>0.077775</td>\n",
       "      <td>-0.098121</td>\n",
       "      <td>0.101487</td>\n",
       "      <td>-0.107894</td>\n",
       "      <td>-0.008110</td>\n",
       "      <td>0.082954</td>\n",
       "      <td>-0.054968</td>\n",
       "      <td>-0.077632</td>\n",
       "      <td>0.077011</td>\n",
       "      <td>-0.052926</td>\n",
       "      <td>0.146241</td>\n",
       "      <td>-0.073763</td>\n",
       "      <td>-0.059310</td>\n",
       "      <td>0.062909</td>\n",
       "    </tr>\n",
       "    <tr>\n",
       "      <th>No-of-dependents</th>\n",
       "      <td>-0.030638</td>\n",
       "      <td>0.023532</td>\n",
       "      <td>-0.160761</td>\n",
       "      <td>0.034628</td>\n",
       "      <td>0.151663</td>\n",
       "      <td>0.166488</td>\n",
       "      <td>1.000000</td>\n",
       "      <td>-0.070912</td>\n",
       "      <td>0.074996</td>\n",
       "      <td>0.005094</td>\n",
       "      <td>-0.061442</td>\n",
       "      <td>0.086404</td>\n",
       "      <td>0.061165</td>\n",
       "      <td>-0.023857</td>\n",
       "      <td>-0.100778</td>\n",
       "      <td>-0.012548</td>\n",
       "      <td>0.010061</td>\n",
       "      <td>0.095949</td>\n",
       "      <td>-0.102651</td>\n",
       "      <td>0.078865</td>\n",
       "      <td>0.049556</td>\n",
       "    </tr>\n",
       "    <tr>\n",
       "      <th>Telephone</th>\n",
       "      <td>0.172410</td>\n",
       "      <td>0.338742</td>\n",
       "      <td>0.015943</td>\n",
       "      <td>0.246791</td>\n",
       "      <td>0.216776</td>\n",
       "      <td>0.077775</td>\n",
       "      <td>-0.070912</td>\n",
       "      <td>1.000000</td>\n",
       "      <td>-0.039208</td>\n",
       "      <td>0.021082</td>\n",
       "      <td>-0.056791</td>\n",
       "      <td>0.014168</td>\n",
       "      <td>0.152699</td>\n",
       "      <td>-0.060709</td>\n",
       "      <td>-0.067049</td>\n",
       "      <td>-0.061762</td>\n",
       "      <td>0.055869</td>\n",
       "      <td>0.057634</td>\n",
       "      <td>-0.064174</td>\n",
       "      <td>-0.100927</td>\n",
       "      <td>-0.006654</td>\n",
       "    </tr>\n",
       "    <tr>\n",
       "      <th>Foreign-Worker</th>\n",
       "      <td>-0.167093</td>\n",
       "      <td>-0.018790</td>\n",
       "      <td>-0.143920</td>\n",
       "      <td>-0.167125</td>\n",
       "      <td>0.041369</td>\n",
       "      <td>-0.098121</td>\n",
       "      <td>0.074996</td>\n",
       "      <td>-0.039208</td>\n",
       "      <td>1.000000</td>\n",
       "      <td>-0.073301</td>\n",
       "      <td>-0.058931</td>\n",
       "      <td>-0.042988</td>\n",
       "      <td>-0.059034</td>\n",
       "      <td>0.158995</td>\n",
       "      <td>-0.009163</td>\n",
       "      <td>0.037007</td>\n",
       "      <td>0.003297</td>\n",
       "      <td>0.025472</td>\n",
       "      <td>0.027483</td>\n",
       "      <td>0.117202</td>\n",
       "      <td>-0.028144</td>\n",
       "    </tr>\n",
       "    <tr>\n",
       "      <th>Account-Balance_Some Balance</th>\n",
       "      <td>-0.070293</td>\n",
       "      <td>-0.097086</td>\n",
       "      <td>0.102144</td>\n",
       "      <td>0.009312</td>\n",
       "      <td>0.106787</td>\n",
       "      <td>0.101487</td>\n",
       "      <td>0.005094</td>\n",
       "      <td>0.021082</td>\n",
       "      <td>-0.073301</td>\n",
       "      <td>1.000000</td>\n",
       "      <td>-0.096593</td>\n",
       "      <td>-0.161662</td>\n",
       "      <td>0.013800</td>\n",
       "      <td>-0.016195</td>\n",
       "      <td>0.005199</td>\n",
       "      <td>-0.195972</td>\n",
       "      <td>0.225714</td>\n",
       "      <td>0.112003</td>\n",
       "      <td>-0.073554</td>\n",
       "      <td>-0.105723</td>\n",
       "      <td>0.091429</td>\n",
       "    </tr>\n",
       "    <tr>\n",
       "      <th>Payment-Status-of-Previous-Credit_Paid Up</th>\n",
       "      <td>-0.047523</td>\n",
       "      <td>-0.069141</td>\n",
       "      <td>-0.029041</td>\n",
       "      <td>-0.072169</td>\n",
       "      <td>-0.198152</td>\n",
       "      <td>-0.107894</td>\n",
       "      <td>-0.061442</td>\n",
       "      <td>-0.056791</td>\n",
       "      <td>-0.058931</td>\n",
       "      <td>-0.096593</td>\n",
       "      <td>1.000000</td>\n",
       "      <td>-0.234430</td>\n",
       "      <td>-0.093382</td>\n",
       "      <td>0.043114</td>\n",
       "      <td>0.044725</td>\n",
       "      <td>-0.014030</td>\n",
       "      <td>0.023748</td>\n",
       "      <td>-0.132253</td>\n",
       "      <td>0.079967</td>\n",
       "      <td>0.089740</td>\n",
       "      <td>-0.656194</td>\n",
       "    </tr>\n",
       "    <tr>\n",
       "      <th>Payment-Status-of-Previous-Credit_Some Problems</th>\n",
       "      <td>0.016521</td>\n",
       "      <td>0.027221</td>\n",
       "      <td>0.017865</td>\n",
       "      <td>0.079154</td>\n",
       "      <td>0.065241</td>\n",
       "      <td>-0.008110</td>\n",
       "      <td>0.086404</td>\n",
       "      <td>0.014168</td>\n",
       "      <td>-0.042988</td>\n",
       "      <td>-0.161662</td>\n",
       "      <td>-0.234430</td>\n",
       "      <td>1.000000</td>\n",
       "      <td>0.033460</td>\n",
       "      <td>-0.035557</td>\n",
       "      <td>-0.063259</td>\n",
       "      <td>0.039092</td>\n",
       "      <td>-0.083582</td>\n",
       "      <td>-0.032252</td>\n",
       "      <td>0.007379</td>\n",
       "      <td>-0.009837</td>\n",
       "      <td>0.111929</td>\n",
       "    </tr>\n",
       "    <tr>\n",
       "      <th>Purpose_New car</th>\n",
       "      <td>0.170528</td>\n",
       "      <td>0.235174</td>\n",
       "      <td>-0.075907</td>\n",
       "      <td>0.140401</td>\n",
       "      <td>0.110441</td>\n",
       "      <td>0.082954</td>\n",
       "      <td>0.061165</td>\n",
       "      <td>0.152699</td>\n",
       "      <td>-0.059034</td>\n",
       "      <td>0.013800</td>\n",
       "      <td>-0.093382</td>\n",
       "      <td>0.033460</td>\n",
       "      <td>1.000000</td>\n",
       "      <td>-0.048830</td>\n",
       "      <td>-0.136717</td>\n",
       "      <td>-0.029619</td>\n",
       "      <td>0.052020</td>\n",
       "      <td>0.040819</td>\n",
       "      <td>-0.079637</td>\n",
       "      <td>-0.045622</td>\n",
       "      <td>0.065498</td>\n",
       "    </tr>\n",
       "    <tr>\n",
       "      <th>Purpose_Other</th>\n",
       "      <td>-0.092727</td>\n",
       "      <td>-0.056556</td>\n",
       "      <td>0.052695</td>\n",
       "      <td>-0.123864</td>\n",
       "      <td>-0.036817</td>\n",
       "      <td>-0.054968</td>\n",
       "      <td>-0.023857</td>\n",
       "      <td>-0.060709</td>\n",
       "      <td>0.158995</td>\n",
       "      <td>-0.016195</td>\n",
       "      <td>0.043114</td>\n",
       "      <td>-0.035557</td>\n",
       "      <td>-0.048830</td>\n",
       "      <td>1.000000</td>\n",
       "      <td>-0.073896</td>\n",
       "      <td>0.022108</td>\n",
       "      <td>0.011817</td>\n",
       "      <td>-0.010937</td>\n",
       "      <td>0.003211</td>\n",
       "      <td>0.022814</td>\n",
       "      <td>0.022559</td>\n",
       "    </tr>\n",
       "    <tr>\n",
       "      <th>Purpose_Used car</th>\n",
       "      <td>-0.090930</td>\n",
       "      <td>-0.060311</td>\n",
       "      <td>-0.117448</td>\n",
       "      <td>-0.020996</td>\n",
       "      <td>-0.133576</td>\n",
       "      <td>-0.077632</td>\n",
       "      <td>-0.100778</td>\n",
       "      <td>-0.067049</td>\n",
       "      <td>-0.009163</td>\n",
       "      <td>0.005199</td>\n",
       "      <td>0.044725</td>\n",
       "      <td>-0.063259</td>\n",
       "      <td>-0.136717</td>\n",
       "      <td>-0.073896</td>\n",
       "      <td>1.000000</td>\n",
       "      <td>0.092848</td>\n",
       "      <td>-0.033086</td>\n",
       "      <td>-0.106344</td>\n",
       "      <td>0.125721</td>\n",
       "      <td>0.073512</td>\n",
       "      <td>-0.150605</td>\n",
       "    </tr>\n",
       "    <tr>\n",
       "      <th>Value-Savings-Stocks_None</th>\n",
       "      <td>-0.047761</td>\n",
       "      <td>-0.019617</td>\n",
       "      <td>-0.026135</td>\n",
       "      <td>0.006586</td>\n",
       "      <td>-0.027133</td>\n",
       "      <td>0.077011</td>\n",
       "      <td>-0.012548</td>\n",
       "      <td>-0.061762</td>\n",
       "      <td>0.037007</td>\n",
       "      <td>-0.195972</td>\n",
       "      <td>-0.014030</td>\n",
       "      <td>0.039092</td>\n",
       "      <td>-0.029619</td>\n",
       "      <td>0.022108</td>\n",
       "      <td>0.092848</td>\n",
       "      <td>1.000000</td>\n",
       "      <td>-0.801784</td>\n",
       "      <td>-0.131743</td>\n",
       "      <td>0.145245</td>\n",
       "      <td>0.120096</td>\n",
       "      <td>0.045726</td>\n",
       "    </tr>\n",
       "    <tr>\n",
       "      <th>Value-Savings-Stocks_£100-£1000</th>\n",
       "      <td>0.022435</td>\n",
       "      <td>0.017937</td>\n",
       "      <td>0.022352</td>\n",
       "      <td>-0.049287</td>\n",
       "      <td>0.048471</td>\n",
       "      <td>-0.052926</td>\n",
       "      <td>0.010061</td>\n",
       "      <td>0.055869</td>\n",
       "      <td>0.003297</td>\n",
       "      <td>0.225714</td>\n",
       "      <td>0.023748</td>\n",
       "      <td>-0.083582</td>\n",
       "      <td>0.052020</td>\n",
       "      <td>0.011817</td>\n",
       "      <td>-0.033086</td>\n",
       "      <td>-0.801784</td>\n",
       "      <td>1.000000</td>\n",
       "      <td>0.166708</td>\n",
       "      <td>-0.128977</td>\n",
       "      <td>-0.114123</td>\n",
       "      <td>-0.007718</td>\n",
       "    </tr>\n",
       "    <tr>\n",
       "      <th>Length-of-current-employment_4-7 yrs</th>\n",
       "      <td>0.015145</td>\n",
       "      <td>0.001965</td>\n",
       "      <td>0.138795</td>\n",
       "      <td>0.160010</td>\n",
       "      <td>0.377782</td>\n",
       "      <td>0.146241</td>\n",
       "      <td>0.095949</td>\n",
       "      <td>0.057634</td>\n",
       "      <td>0.025472</td>\n",
       "      <td>0.112003</td>\n",
       "      <td>-0.132253</td>\n",
       "      <td>-0.032252</td>\n",
       "      <td>0.040819</td>\n",
       "      <td>-0.010937</td>\n",
       "      <td>-0.106344</td>\n",
       "      <td>-0.131743</td>\n",
       "      <td>0.166708</td>\n",
       "      <td>1.000000</td>\n",
       "      <td>-0.635198</td>\n",
       "      <td>-0.038604</td>\n",
       "      <td>0.011026</td>\n",
       "    </tr>\n",
       "    <tr>\n",
       "      <th>Length-of-current-employment_&lt; 1yr</th>\n",
       "      <td>-0.032705</td>\n",
       "      <td>0.045733</td>\n",
       "      <td>-0.115938</td>\n",
       "      <td>-0.139605</td>\n",
       "      <td>-0.227806</td>\n",
       "      <td>-0.073763</td>\n",
       "      <td>-0.102651</td>\n",
       "      <td>-0.064174</td>\n",
       "      <td>0.027483</td>\n",
       "      <td>-0.073554</td>\n",
       "      <td>0.079967</td>\n",
       "      <td>0.007379</td>\n",
       "      <td>-0.079637</td>\n",
       "      <td>0.003211</td>\n",
       "      <td>0.125721</td>\n",
       "      <td>0.145245</td>\n",
       "      <td>-0.128977</td>\n",
       "      <td>-0.635198</td>\n",
       "      <td>1.000000</td>\n",
       "      <td>0.061521</td>\n",
       "      <td>-0.083283</td>\n",
       "    </tr>\n",
       "    <tr>\n",
       "      <th>Guarantors_Yes</th>\n",
       "      <td>-0.028300</td>\n",
       "      <td>-0.052035</td>\n",
       "      <td>0.056079</td>\n",
       "      <td>-0.056482</td>\n",
       "      <td>-0.065150</td>\n",
       "      <td>-0.059310</td>\n",
       "      <td>0.078865</td>\n",
       "      <td>-0.100927</td>\n",
       "      <td>0.117202</td>\n",
       "      <td>-0.105723</td>\n",
       "      <td>0.089740</td>\n",
       "      <td>-0.009837</td>\n",
       "      <td>-0.045622</td>\n",
       "      <td>0.022814</td>\n",
       "      <td>0.073512</td>\n",
       "      <td>0.120096</td>\n",
       "      <td>-0.114123</td>\n",
       "      <td>-0.038604</td>\n",
       "      <td>0.061521</td>\n",
       "      <td>1.000000</td>\n",
       "      <td>-0.040592</td>\n",
       "    </tr>\n",
       "    <tr>\n",
       "      <th>No-of-Credits-at-this-Bank_More than 1</th>\n",
       "      <td>-0.005266</td>\n",
       "      <td>-0.042773</td>\n",
       "      <td>0.093895</td>\n",
       "      <td>0.020669</td>\n",
       "      <td>0.107193</td>\n",
       "      <td>0.062909</td>\n",
       "      <td>0.049556</td>\n",
       "      <td>-0.006654</td>\n",
       "      <td>-0.028144</td>\n",
       "      <td>0.091429</td>\n",
       "      <td>-0.656194</td>\n",
       "      <td>0.111929</td>\n",
       "      <td>0.065498</td>\n",
       "      <td>0.022559</td>\n",
       "      <td>-0.150605</td>\n",
       "      <td>0.045726</td>\n",
       "      <td>-0.007718</td>\n",
       "      <td>0.011026</td>\n",
       "      <td>-0.083283</td>\n",
       "      <td>-0.040592</td>\n",
       "      <td>1.000000</td>\n",
       "    </tr>\n",
       "  </tbody>\n",
       "</table>\n",
       "</div>"
      ],
      "text/plain": [
       "                                                 Duration-of-Credit-Month  \\\n",
       "Duration-of-Credit-Month                                         1.000000   \n",
       "Credit-Amount                                                    0.556102   \n",
       "Instalment-per-cent                                              0.111632   \n",
       "Most-valuable-available-asset                                    0.317129   \n",
       "Age-years                                                       -0.037375   \n",
       "Type-of-apartment                                                0.125503   \n",
       "No-of-dependents                                                -0.030638   \n",
       "Telephone                                                        0.172410   \n",
       "Foreign-Worker                                                  -0.167093   \n",
       "Account-Balance_Some Balance                                    -0.070293   \n",
       "Payment-Status-of-Previous-Credit_Paid Up                       -0.047523   \n",
       "Payment-Status-of-Previous-Credit_Some Problems                  0.016521   \n",
       "Purpose_New car                                                  0.170528   \n",
       "Purpose_Other                                                   -0.092727   \n",
       "Purpose_Used car                                                -0.090930   \n",
       "Value-Savings-Stocks_None                                       -0.047761   \n",
       "Value-Savings-Stocks_£100-£1000                                  0.022435   \n",
       "Length-of-current-employment_4-7 yrs                             0.015145   \n",
       "Length-of-current-employment_< 1yr                              -0.032705   \n",
       "Guarantors_Yes                                                  -0.028300   \n",
       "No-of-Credits-at-this-Bank_More than 1                          -0.005266   \n",
       "\n",
       "                                                 Credit-Amount  \\\n",
       "Duration-of-Credit-Month                              0.556102   \n",
       "Credit-Amount                                         1.000000   \n",
       "Instalment-per-cent                                  -0.284339   \n",
       "Most-valuable-available-asset                         0.347195   \n",
       "Age-years                                             0.117297   \n",
       "Type-of-apartment                                     0.188269   \n",
       "No-of-dependents                                      0.023532   \n",
       "Telephone                                             0.338742   \n",
       "Foreign-Worker                                       -0.018790   \n",
       "Account-Balance_Some Balance                         -0.097086   \n",
       "Payment-Status-of-Previous-Credit_Paid Up            -0.069141   \n",
       "Payment-Status-of-Previous-Credit_Some Problems       0.027221   \n",
       "Purpose_New car                                       0.235174   \n",
       "Purpose_Other                                        -0.056556   \n",
       "Purpose_Used car                                     -0.060311   \n",
       "Value-Savings-Stocks_None                            -0.019617   \n",
       "Value-Savings-Stocks_£100-£1000                       0.017937   \n",
       "Length-of-current-employment_4-7 yrs                  0.001965   \n",
       "Length-of-current-employment_< 1yr                    0.045733   \n",
       "Guarantors_Yes                                       -0.052035   \n",
       "No-of-Credits-at-this-Bank_More than 1               -0.042773   \n",
       "\n",
       "                                                 Instalment-per-cent  \\\n",
       "Duration-of-Credit-Month                                    0.111632   \n",
       "Credit-Amount                                              -0.284339   \n",
       "Instalment-per-cent                                         1.000000   \n",
       "Most-valuable-available-asset                               0.054601   \n",
       "Age-years                                                  -0.019726   \n",
       "Type-of-apartment                                           0.017252   \n",
       "No-of-dependents                                           -0.160761   \n",
       "Telephone                                                   0.015943   \n",
       "Foreign-Worker                                             -0.143920   \n",
       "Account-Balance_Some Balance                                0.102144   \n",
       "Payment-Status-of-Previous-Credit_Paid Up                  -0.029041   \n",
       "Payment-Status-of-Previous-Credit_Some Problems             0.017865   \n",
       "Purpose_New car                                            -0.075907   \n",
       "Purpose_Other                                               0.052695   \n",
       "Purpose_Used car                                           -0.117448   \n",
       "Value-Savings-Stocks_None                                  -0.026135   \n",
       "Value-Savings-Stocks_£100-£1000                             0.022352   \n",
       "Length-of-current-employment_4-7 yrs                        0.138795   \n",
       "Length-of-current-employment_< 1yr                         -0.115938   \n",
       "Guarantors_Yes                                              0.056079   \n",
       "No-of-Credits-at-this-Bank_More than 1                      0.093895   \n",
       "\n",
       "                                                 Most-valuable-available-asset  \\\n",
       "Duration-of-Credit-Month                                              0.317129   \n",
       "Credit-Amount                                                         0.347195   \n",
       "Instalment-per-cent                                                   0.054601   \n",
       "Most-valuable-available-asset                                         1.000000   \n",
       "Age-years                                                             0.155026   \n",
       "Type-of-apartment                                                     0.393022   \n",
       "No-of-dependents                                                      0.034628   \n",
       "Telephone                                                             0.246791   \n",
       "Foreign-Worker                                                       -0.167125   \n",
       "Account-Balance_Some Balance                                          0.009312   \n",
       "Payment-Status-of-Previous-Credit_Paid Up                            -0.072169   \n",
       "Payment-Status-of-Previous-Credit_Some Problems                       0.079154   \n",
       "Purpose_New car                                                       0.140401   \n",
       "Purpose_Other                                                        -0.123864   \n",
       "Purpose_Used car                                                     -0.020996   \n",
       "Value-Savings-Stocks_None                                             0.006586   \n",
       "Value-Savings-Stocks_£100-£1000                                      -0.049287   \n",
       "Length-of-current-employment_4-7 yrs                                  0.160010   \n",
       "Length-of-current-employment_< 1yr                                   -0.139605   \n",
       "Guarantors_Yes                                                       -0.056482   \n",
       "No-of-Credits-at-this-Bank_More than 1                                0.020669   \n",
       "\n",
       "                                                 Age-years  Type-of-apartment  \\\n",
       "Duration-of-Credit-Month                         -0.037375           0.125503   \n",
       "Credit-Amount                                     0.117297           0.188269   \n",
       "Instalment-per-cent                              -0.019726           0.017252   \n",
       "Most-valuable-available-asset                     0.155026           0.393022   \n",
       "Age-years                                         1.000000           0.377944   \n",
       "Type-of-apartment                                 0.377944           1.000000   \n",
       "No-of-dependents                                  0.151663           0.166488   \n",
       "Telephone                                         0.216776           0.077775   \n",
       "Foreign-Worker                                    0.041369          -0.098121   \n",
       "Account-Balance_Some Balance                      0.106787           0.101487   \n",
       "Payment-Status-of-Previous-Credit_Paid Up        -0.198152          -0.107894   \n",
       "Payment-Status-of-Previous-Credit_Some Problems   0.065241          -0.008110   \n",
       "Purpose_New car                                   0.110441           0.082954   \n",
       "Purpose_Other                                    -0.036817          -0.054968   \n",
       "Purpose_Used car                                 -0.133576          -0.077632   \n",
       "Value-Savings-Stocks_None                        -0.027133           0.077011   \n",
       "Value-Savings-Stocks_£100-£1000                   0.048471          -0.052926   \n",
       "Length-of-current-employment_4-7 yrs              0.377782           0.146241   \n",
       "Length-of-current-employment_< 1yr               -0.227806          -0.073763   \n",
       "Guarantors_Yes                                   -0.065150          -0.059310   \n",
       "No-of-Credits-at-this-Bank_More than 1            0.107193           0.062909   \n",
       "\n",
       "                                                 No-of-dependents  Telephone  \\\n",
       "Duration-of-Credit-Month                                -0.030638   0.172410   \n",
       "Credit-Amount                                            0.023532   0.338742   \n",
       "Instalment-per-cent                                     -0.160761   0.015943   \n",
       "Most-valuable-available-asset                            0.034628   0.246791   \n",
       "Age-years                                                0.151663   0.216776   \n",
       "Type-of-apartment                                        0.166488   0.077775   \n",
       "No-of-dependents                                         1.000000  -0.070912   \n",
       "Telephone                                               -0.070912   1.000000   \n",
       "Foreign-Worker                                           0.074996  -0.039208   \n",
       "Account-Balance_Some Balance                             0.005094   0.021082   \n",
       "Payment-Status-of-Previous-Credit_Paid Up               -0.061442  -0.056791   \n",
       "Payment-Status-of-Previous-Credit_Some Problems          0.086404   0.014168   \n",
       "Purpose_New car                                          0.061165   0.152699   \n",
       "Purpose_Other                                           -0.023857  -0.060709   \n",
       "Purpose_Used car                                        -0.100778  -0.067049   \n",
       "Value-Savings-Stocks_None                               -0.012548  -0.061762   \n",
       "Value-Savings-Stocks_£100-£1000                          0.010061   0.055869   \n",
       "Length-of-current-employment_4-7 yrs                     0.095949   0.057634   \n",
       "Length-of-current-employment_< 1yr                      -0.102651  -0.064174   \n",
       "Guarantors_Yes                                           0.078865  -0.100927   \n",
       "No-of-Credits-at-this-Bank_More than 1                   0.049556  -0.006654   \n",
       "\n",
       "                                                 Foreign-Worker  \\\n",
       "Duration-of-Credit-Month                              -0.167093   \n",
       "Credit-Amount                                         -0.018790   \n",
       "Instalment-per-cent                                   -0.143920   \n",
       "Most-valuable-available-asset                         -0.167125   \n",
       "Age-years                                              0.041369   \n",
       "Type-of-apartment                                     -0.098121   \n",
       "No-of-dependents                                       0.074996   \n",
       "Telephone                                             -0.039208   \n",
       "Foreign-Worker                                         1.000000   \n",
       "Account-Balance_Some Balance                          -0.073301   \n",
       "Payment-Status-of-Previous-Credit_Paid Up             -0.058931   \n",
       "Payment-Status-of-Previous-Credit_Some Problems       -0.042988   \n",
       "Purpose_New car                                       -0.059034   \n",
       "Purpose_Other                                          0.158995   \n",
       "Purpose_Used car                                      -0.009163   \n",
       "Value-Savings-Stocks_None                              0.037007   \n",
       "Value-Savings-Stocks_£100-£1000                        0.003297   \n",
       "Length-of-current-employment_4-7 yrs                   0.025472   \n",
       "Length-of-current-employment_< 1yr                     0.027483   \n",
       "Guarantors_Yes                                         0.117202   \n",
       "No-of-Credits-at-this-Bank_More than 1                -0.028144   \n",
       "\n",
       "                                                 Account-Balance_Some Balance  \\\n",
       "Duration-of-Credit-Month                                            -0.070293   \n",
       "Credit-Amount                                                       -0.097086   \n",
       "Instalment-per-cent                                                  0.102144   \n",
       "Most-valuable-available-asset                                        0.009312   \n",
       "Age-years                                                            0.106787   \n",
       "Type-of-apartment                                                    0.101487   \n",
       "No-of-dependents                                                     0.005094   \n",
       "Telephone                                                            0.021082   \n",
       "Foreign-Worker                                                      -0.073301   \n",
       "Account-Balance_Some Balance                                         1.000000   \n",
       "Payment-Status-of-Previous-Credit_Paid Up                           -0.096593   \n",
       "Payment-Status-of-Previous-Credit_Some Problems                     -0.161662   \n",
       "Purpose_New car                                                      0.013800   \n",
       "Purpose_Other                                                       -0.016195   \n",
       "Purpose_Used car                                                     0.005199   \n",
       "Value-Savings-Stocks_None                                           -0.195972   \n",
       "Value-Savings-Stocks_£100-£1000                                      0.225714   \n",
       "Length-of-current-employment_4-7 yrs                                 0.112003   \n",
       "Length-of-current-employment_< 1yr                                  -0.073554   \n",
       "Guarantors_Yes                                                      -0.105723   \n",
       "No-of-Credits-at-this-Bank_More than 1                               0.091429   \n",
       "\n",
       "                                                 Payment-Status-of-Previous-Credit_Paid Up  \\\n",
       "Duration-of-Credit-Month                                                         -0.047523   \n",
       "Credit-Amount                                                                    -0.069141   \n",
       "Instalment-per-cent                                                              -0.029041   \n",
       "Most-valuable-available-asset                                                    -0.072169   \n",
       "Age-years                                                                        -0.198152   \n",
       "Type-of-apartment                                                                -0.107894   \n",
       "No-of-dependents                                                                 -0.061442   \n",
       "Telephone                                                                        -0.056791   \n",
       "Foreign-Worker                                                                   -0.058931   \n",
       "Account-Balance_Some Balance                                                     -0.096593   \n",
       "Payment-Status-of-Previous-Credit_Paid Up                                         1.000000   \n",
       "Payment-Status-of-Previous-Credit_Some Problems                                  -0.234430   \n",
       "Purpose_New car                                                                  -0.093382   \n",
       "Purpose_Other                                                                     0.043114   \n",
       "Purpose_Used car                                                                  0.044725   \n",
       "Value-Savings-Stocks_None                                                        -0.014030   \n",
       "Value-Savings-Stocks_£100-£1000                                                   0.023748   \n",
       "Length-of-current-employment_4-7 yrs                                             -0.132253   \n",
       "Length-of-current-employment_< 1yr                                                0.079967   \n",
       "Guarantors_Yes                                                                    0.089740   \n",
       "No-of-Credits-at-this-Bank_More than 1                                           -0.656194   \n",
       "\n",
       "                                                 Payment-Status-of-Previous-Credit_Some Problems  \\\n",
       "Duration-of-Credit-Month                                                                0.016521   \n",
       "Credit-Amount                                                                           0.027221   \n",
       "Instalment-per-cent                                                                     0.017865   \n",
       "Most-valuable-available-asset                                                           0.079154   \n",
       "Age-years                                                                               0.065241   \n",
       "Type-of-apartment                                                                      -0.008110   \n",
       "No-of-dependents                                                                        0.086404   \n",
       "Telephone                                                                               0.014168   \n",
       "Foreign-Worker                                                                         -0.042988   \n",
       "Account-Balance_Some Balance                                                           -0.161662   \n",
       "Payment-Status-of-Previous-Credit_Paid Up                                              -0.234430   \n",
       "Payment-Status-of-Previous-Credit_Some Problems                                         1.000000   \n",
       "Purpose_New car                                                                         0.033460   \n",
       "Purpose_Other                                                                          -0.035557   \n",
       "Purpose_Used car                                                                       -0.063259   \n",
       "Value-Savings-Stocks_None                                                               0.039092   \n",
       "Value-Savings-Stocks_£100-£1000                                                        -0.083582   \n",
       "Length-of-current-employment_4-7 yrs                                                   -0.032252   \n",
       "Length-of-current-employment_< 1yr                                                      0.007379   \n",
       "Guarantors_Yes                                                                         -0.009837   \n",
       "No-of-Credits-at-this-Bank_More than 1                                                  0.111929   \n",
       "\n",
       "                                                 Purpose_New car  \\\n",
       "Duration-of-Credit-Month                                0.170528   \n",
       "Credit-Amount                                           0.235174   \n",
       "Instalment-per-cent                                    -0.075907   \n",
       "Most-valuable-available-asset                           0.140401   \n",
       "Age-years                                               0.110441   \n",
       "Type-of-apartment                                       0.082954   \n",
       "No-of-dependents                                        0.061165   \n",
       "Telephone                                               0.152699   \n",
       "Foreign-Worker                                         -0.059034   \n",
       "Account-Balance_Some Balance                            0.013800   \n",
       "Payment-Status-of-Previous-Credit_Paid Up              -0.093382   \n",
       "Payment-Status-of-Previous-Credit_Some Problems         0.033460   \n",
       "Purpose_New car                                         1.000000   \n",
       "Purpose_Other                                          -0.048830   \n",
       "Purpose_Used car                                       -0.136717   \n",
       "Value-Savings-Stocks_None                              -0.029619   \n",
       "Value-Savings-Stocks_£100-£1000                         0.052020   \n",
       "Length-of-current-employment_4-7 yrs                    0.040819   \n",
       "Length-of-current-employment_< 1yr                     -0.079637   \n",
       "Guarantors_Yes                                         -0.045622   \n",
       "No-of-Credits-at-this-Bank_More than 1                  0.065498   \n",
       "\n",
       "                                                 Purpose_Other  \\\n",
       "Duration-of-Credit-Month                             -0.092727   \n",
       "Credit-Amount                                        -0.056556   \n",
       "Instalment-per-cent                                   0.052695   \n",
       "Most-valuable-available-asset                        -0.123864   \n",
       "Age-years                                            -0.036817   \n",
       "Type-of-apartment                                    -0.054968   \n",
       "No-of-dependents                                     -0.023857   \n",
       "Telephone                                            -0.060709   \n",
       "Foreign-Worker                                        0.158995   \n",
       "Account-Balance_Some Balance                         -0.016195   \n",
       "Payment-Status-of-Previous-Credit_Paid Up             0.043114   \n",
       "Payment-Status-of-Previous-Credit_Some Problems      -0.035557   \n",
       "Purpose_New car                                      -0.048830   \n",
       "Purpose_Other                                         1.000000   \n",
       "Purpose_Used car                                     -0.073896   \n",
       "Value-Savings-Stocks_None                             0.022108   \n",
       "Value-Savings-Stocks_£100-£1000                       0.011817   \n",
       "Length-of-current-employment_4-7 yrs                 -0.010937   \n",
       "Length-of-current-employment_< 1yr                    0.003211   \n",
       "Guarantors_Yes                                        0.022814   \n",
       "No-of-Credits-at-this-Bank_More than 1                0.022559   \n",
       "\n",
       "                                                 Purpose_Used car  \\\n",
       "Duration-of-Credit-Month                                -0.090930   \n",
       "Credit-Amount                                           -0.060311   \n",
       "Instalment-per-cent                                     -0.117448   \n",
       "Most-valuable-available-asset                           -0.020996   \n",
       "Age-years                                               -0.133576   \n",
       "Type-of-apartment                                       -0.077632   \n",
       "No-of-dependents                                        -0.100778   \n",
       "Telephone                                               -0.067049   \n",
       "Foreign-Worker                                          -0.009163   \n",
       "Account-Balance_Some Balance                             0.005199   \n",
       "Payment-Status-of-Previous-Credit_Paid Up                0.044725   \n",
       "Payment-Status-of-Previous-Credit_Some Problems         -0.063259   \n",
       "Purpose_New car                                         -0.136717   \n",
       "Purpose_Other                                           -0.073896   \n",
       "Purpose_Used car                                         1.000000   \n",
       "Value-Savings-Stocks_None                                0.092848   \n",
       "Value-Savings-Stocks_£100-£1000                         -0.033086   \n",
       "Length-of-current-employment_4-7 yrs                    -0.106344   \n",
       "Length-of-current-employment_< 1yr                       0.125721   \n",
       "Guarantors_Yes                                           0.073512   \n",
       "No-of-Credits-at-this-Bank_More than 1                  -0.150605   \n",
       "\n",
       "                                                 Value-Savings-Stocks_None  \\\n",
       "Duration-of-Credit-Month                                         -0.047761   \n",
       "Credit-Amount                                                    -0.019617   \n",
       "Instalment-per-cent                                              -0.026135   \n",
       "Most-valuable-available-asset                                     0.006586   \n",
       "Age-years                                                        -0.027133   \n",
       "Type-of-apartment                                                 0.077011   \n",
       "No-of-dependents                                                 -0.012548   \n",
       "Telephone                                                        -0.061762   \n",
       "Foreign-Worker                                                    0.037007   \n",
       "Account-Balance_Some Balance                                     -0.195972   \n",
       "Payment-Status-of-Previous-Credit_Paid Up                        -0.014030   \n",
       "Payment-Status-of-Previous-Credit_Some Problems                   0.039092   \n",
       "Purpose_New car                                                  -0.029619   \n",
       "Purpose_Other                                                     0.022108   \n",
       "Purpose_Used car                                                  0.092848   \n",
       "Value-Savings-Stocks_None                                         1.000000   \n",
       "Value-Savings-Stocks_£100-£1000                                  -0.801784   \n",
       "Length-of-current-employment_4-7 yrs                             -0.131743   \n",
       "Length-of-current-employment_< 1yr                                0.145245   \n",
       "Guarantors_Yes                                                    0.120096   \n",
       "No-of-Credits-at-this-Bank_More than 1                            0.045726   \n",
       "\n",
       "                                                 Value-Savings-Stocks_£100-£1000  \\\n",
       "Duration-of-Credit-Month                                                0.022435   \n",
       "Credit-Amount                                                           0.017937   \n",
       "Instalment-per-cent                                                     0.022352   \n",
       "Most-valuable-available-asset                                          -0.049287   \n",
       "Age-years                                                               0.048471   \n",
       "Type-of-apartment                                                      -0.052926   \n",
       "No-of-dependents                                                        0.010061   \n",
       "Telephone                                                               0.055869   \n",
       "Foreign-Worker                                                          0.003297   \n",
       "Account-Balance_Some Balance                                            0.225714   \n",
       "Payment-Status-of-Previous-Credit_Paid Up                               0.023748   \n",
       "Payment-Status-of-Previous-Credit_Some Problems                        -0.083582   \n",
       "Purpose_New car                                                         0.052020   \n",
       "Purpose_Other                                                           0.011817   \n",
       "Purpose_Used car                                                       -0.033086   \n",
       "Value-Savings-Stocks_None                                              -0.801784   \n",
       "Value-Savings-Stocks_£100-£1000                                         1.000000   \n",
       "Length-of-current-employment_4-7 yrs                                    0.166708   \n",
       "Length-of-current-employment_< 1yr                                     -0.128977   \n",
       "Guarantors_Yes                                                         -0.114123   \n",
       "No-of-Credits-at-this-Bank_More than 1                                 -0.007718   \n",
       "\n",
       "                                                 Length-of-current-employment_4-7 yrs  \\\n",
       "Duration-of-Credit-Month                                                     0.015145   \n",
       "Credit-Amount                                                                0.001965   \n",
       "Instalment-per-cent                                                          0.138795   \n",
       "Most-valuable-available-asset                                                0.160010   \n",
       "Age-years                                                                    0.377782   \n",
       "Type-of-apartment                                                            0.146241   \n",
       "No-of-dependents                                                             0.095949   \n",
       "Telephone                                                                    0.057634   \n",
       "Foreign-Worker                                                               0.025472   \n",
       "Account-Balance_Some Balance                                                 0.112003   \n",
       "Payment-Status-of-Previous-Credit_Paid Up                                   -0.132253   \n",
       "Payment-Status-of-Previous-Credit_Some Problems                             -0.032252   \n",
       "Purpose_New car                                                              0.040819   \n",
       "Purpose_Other                                                               -0.010937   \n",
       "Purpose_Used car                                                            -0.106344   \n",
       "Value-Savings-Stocks_None                                                   -0.131743   \n",
       "Value-Savings-Stocks_£100-£1000                                              0.166708   \n",
       "Length-of-current-employment_4-7 yrs                                         1.000000   \n",
       "Length-of-current-employment_< 1yr                                          -0.635198   \n",
       "Guarantors_Yes                                                              -0.038604   \n",
       "No-of-Credits-at-this-Bank_More than 1                                       0.011026   \n",
       "\n",
       "                                                 Length-of-current-employment_< 1yr  \\\n",
       "Duration-of-Credit-Month                                                  -0.032705   \n",
       "Credit-Amount                                                              0.045733   \n",
       "Instalment-per-cent                                                       -0.115938   \n",
       "Most-valuable-available-asset                                             -0.139605   \n",
       "Age-years                                                                 -0.227806   \n",
       "Type-of-apartment                                                         -0.073763   \n",
       "No-of-dependents                                                          -0.102651   \n",
       "Telephone                                                                 -0.064174   \n",
       "Foreign-Worker                                                             0.027483   \n",
       "Account-Balance_Some Balance                                              -0.073554   \n",
       "Payment-Status-of-Previous-Credit_Paid Up                                  0.079967   \n",
       "Payment-Status-of-Previous-Credit_Some Problems                            0.007379   \n",
       "Purpose_New car                                                           -0.079637   \n",
       "Purpose_Other                                                              0.003211   \n",
       "Purpose_Used car                                                           0.125721   \n",
       "Value-Savings-Stocks_None                                                  0.145245   \n",
       "Value-Savings-Stocks_£100-£1000                                           -0.128977   \n",
       "Length-of-current-employment_4-7 yrs                                      -0.635198   \n",
       "Length-of-current-employment_< 1yr                                         1.000000   \n",
       "Guarantors_Yes                                                             0.061521   \n",
       "No-of-Credits-at-this-Bank_More than 1                                    -0.083283   \n",
       "\n",
       "                                                 Guarantors_Yes  \\\n",
       "Duration-of-Credit-Month                              -0.028300   \n",
       "Credit-Amount                                         -0.052035   \n",
       "Instalment-per-cent                                    0.056079   \n",
       "Most-valuable-available-asset                         -0.056482   \n",
       "Age-years                                             -0.065150   \n",
       "Type-of-apartment                                     -0.059310   \n",
       "No-of-dependents                                       0.078865   \n",
       "Telephone                                             -0.100927   \n",
       "Foreign-Worker                                         0.117202   \n",
       "Account-Balance_Some Balance                          -0.105723   \n",
       "Payment-Status-of-Previous-Credit_Paid Up              0.089740   \n",
       "Payment-Status-of-Previous-Credit_Some Problems       -0.009837   \n",
       "Purpose_New car                                       -0.045622   \n",
       "Purpose_Other                                          0.022814   \n",
       "Purpose_Used car                                       0.073512   \n",
       "Value-Savings-Stocks_None                              0.120096   \n",
       "Value-Savings-Stocks_£100-£1000                       -0.114123   \n",
       "Length-of-current-employment_4-7 yrs                  -0.038604   \n",
       "Length-of-current-employment_< 1yr                     0.061521   \n",
       "Guarantors_Yes                                         1.000000   \n",
       "No-of-Credits-at-this-Bank_More than 1                -0.040592   \n",
       "\n",
       "                                                 No-of-Credits-at-this-Bank_More than 1  \n",
       "Duration-of-Credit-Month                                                      -0.005266  \n",
       "Credit-Amount                                                                 -0.042773  \n",
       "Instalment-per-cent                                                            0.093895  \n",
       "Most-valuable-available-asset                                                  0.020669  \n",
       "Age-years                                                                      0.107193  \n",
       "Type-of-apartment                                                              0.062909  \n",
       "No-of-dependents                                                               0.049556  \n",
       "Telephone                                                                     -0.006654  \n",
       "Foreign-Worker                                                                -0.028144  \n",
       "Account-Balance_Some Balance                                                   0.091429  \n",
       "Payment-Status-of-Previous-Credit_Paid Up                                     -0.656194  \n",
       "Payment-Status-of-Previous-Credit_Some Problems                                0.111929  \n",
       "Purpose_New car                                                                0.065498  \n",
       "Purpose_Other                                                                  0.022559  \n",
       "Purpose_Used car                                                              -0.150605  \n",
       "Value-Savings-Stocks_None                                                      0.045726  \n",
       "Value-Savings-Stocks_£100-£1000                                               -0.007718  \n",
       "Length-of-current-employment_4-7 yrs                                           0.011026  \n",
       "Length-of-current-employment_< 1yr                                            -0.083283  \n",
       "Guarantors_Yes                                                                -0.040592  \n",
       "No-of-Credits-at-this-Bank_More than 1                                         1.000000  "
      ]
     },
     "execution_count": 34,
     "metadata": {},
     "output_type": "execute_result"
    }
   ],
   "source": [
    "corr"
   ]
  },
  {
   "cell_type": "code",
   "execution_count": 35,
   "metadata": {},
   "outputs": [
    {
     "data": {
      "text/plain": [
       "<matplotlib.axes._subplots.AxesSubplot at 0x1a239a22e8>"
      ]
     },
     "execution_count": 35,
     "metadata": {},
     "output_type": "execute_result"
    },
    {
     "data": {
      "image/png": "[encoded data removed]",
      "text/plain": [
       "<Figure size 432x288 with 2 Axes>"
      ]
     },
     "metadata": {
      "needs_background": "light"
     },
     "output_type": "display_data"
    }
   ],
   "source": [
    "# GENERATE THE HEATMAP\n",
    "sns.heatmap(corr)"
   ]
  },
  {
   "cell_type": "code",
   "execution_count": 36,
   "metadata": {},
   "outputs": [],
   "source": [
    "# isolating correlations between features and the target variable\n",
    "# corr['Credit-Application-Result']"
   ]
  },
  {
   "cell_type": "code",
   "execution_count": 37,
   "metadata": {},
   "outputs": [
    {
     "data": {
      "text/plain": [
       "Credit-Application-Result             0\n",
       "Account-Balance                       0\n",
       "Duration-of-Credit-Month              0\n",
       "Payment-Status-of-Previous-Credit     0\n",
       "Purpose                               0\n",
       "Credit-Amount                         0\n",
       "Value-Savings-Stocks                  0\n",
       "Length-of-current-employment          0\n",
       "Instalment-per-cent                   0\n",
       "Guarantors                            0\n",
       "Most-valuable-available-asset         0\n",
       "Age-years                            12\n",
       "Concurrent-Credits                    0\n",
       "Type-of-apartment                     0\n",
       "No-of-Credits-at-this-Bank            0\n",
       "Occupation                            0\n",
       "No-of-dependents                      0\n",
       "Telephone                             0\n",
       "Foreign-Worker                        0\n",
       "dtype: int64"
      ]
     },
     "execution_count": 37,
     "metadata": {},
     "output_type": "execute_result"
    }
   ],
   "source": [
    "old_applicants.isnull().sum()"
   ]
  },
  {
   "cell_type": "code",
   "execution_count": 38,
   "metadata": {},
   "outputs": [
    {
     "data": {
      "text/plain": [
       "Duration-of-Credit-Month                           0.216575\n",
       "Credit-Amount                                      0.223304\n",
       "Instalment-per-cent                                0.027147\n",
       "Most-valuable-available-asset                      0.128530\n",
       "Age-years                                         -0.048424\n",
       "Type-of-apartment                                  0.037225\n",
       "No-of-dependents                                   0.073561\n",
       "Telephone                                          0.045235\n",
       "Foreign-Worker                                    -0.017958\n",
       "Account-Balance_Some Balance                      -0.256463\n",
       "Payment-Status-of-Previous-Credit_Paid Up          0.016008\n",
       "Payment-Status-of-Previous-Credit_Some Problems    0.235543\n",
       "Purpose_New car                                   -0.066924\n",
       "Purpose_Other                                     -0.058568\n",
       "Purpose_Used car                                  -0.056013\n",
       "Value-Savings-Stocks_None                          0.144263\n",
       "Value-Savings-Stocks_£100-£1000                   -0.133193\n",
       "Length-of-current-employment_4-7 yrs              -0.087165\n",
       "Length-of-current-employment_< 1yr                 0.143971\n",
       "Guarantors_Yes                                     0.023101\n",
       "No-of-Credits-at-this-Bank_More than 1            -0.037496\n",
       "dtype: float64"
      ]
     },
     "execution_count": 38,
     "metadata": {},
     "output_type": "execute_result"
    }
   ],
   "source": [
    "# target variable has already been isolated from features when setting X and y variables\n",
    "# otherwise I would have used something like the following code to separate the target variable out of the set\n",
    "# corr['Credit-Application-Result']\n",
    "# this pairwise correlation exactly matches old_applicants_dummies.corr()\n",
    "X_train.corrwith(y_train, axis = 0)\n"
   ]
  },
  {
   "cell_type": "code",
   "execution_count": 39,
   "metadata": {},
   "outputs": [
    {
     "data": {
      "text/plain": [
       "Payment-Status-of-Previous-Credit_Paid Up          0.016008\n",
       "Foreign-Worker                                     0.017958\n",
       "Guarantors_Yes                                     0.023101\n",
       "Instalment-per-cent                                0.027147\n",
       "Type-of-apartment                                  0.037225\n",
       "No-of-Credits-at-this-Bank_More than 1             0.037496\n",
       "Telephone                                          0.045235\n",
       "Age-years                                          0.048424\n",
       "Purpose_Used car                                   0.056013\n",
       "Purpose_Other                                      0.058568\n",
       "Purpose_New car                                    0.066924\n",
       "No-of-dependents                                   0.073561\n",
       "Length-of-current-employment_4-7 yrs               0.087165\n",
       "Most-valuable-available-asset                      0.128530\n",
       "Value-Savings-Stocks_£100-£1000                    0.133193\n",
       "Length-of-current-employment_< 1yr                 0.143971\n",
       "Value-Savings-Stocks_None                          0.144263\n",
       "Duration-of-Credit-Month                           0.216575\n",
       "Credit-Amount                                      0.223304\n",
       "Payment-Status-of-Previous-Credit_Some Problems    0.235543\n",
       "Account-Balance_Some Balance                       0.256463\n",
       "dtype: float64"
      ]
     },
     "execution_count": 39,
     "metadata": {},
     "output_type": "execute_result"
    }
   ],
   "source": [
    "# let's look at the absolute values and sort them in order\n",
    "X_train.corrwith(y_train, axis = 0).abs().sort_values()\n"
   ]
  },
  {
   "cell_type": "code",
   "execution_count": 40,
   "metadata": {},
   "outputs": [
    {
     "data": {
      "text/plain": [
       "Duration-of-Credit-Month                           False\n",
       "Credit-Amount                                      False\n",
       "Instalment-per-cent                                False\n",
       "Most-valuable-available-asset                      False\n",
       "Age-years                                          False\n",
       "Type-of-apartment                                  False\n",
       "No-of-dependents                                   False\n",
       "Telephone                                          False\n",
       "Foreign-Worker                                     False\n",
       "Account-Balance_Some Balance                       False\n",
       "Payment-Status-of-Previous-Credit_Paid Up          False\n",
       "Payment-Status-of-Previous-Credit_Some Problems    False\n",
       "Purpose_New car                                    False\n",
       "Purpose_Other                                      False\n",
       "Purpose_Used car                                   False\n",
       "Value-Savings-Stocks_None                          False\n",
       "Value-Savings-Stocks_£100-£1000                    False\n",
       "Length-of-current-employment_4-7 yrs               False\n",
       "Length-of-current-employment_< 1yr                 False\n",
       "Guarantors_Yes                                     False\n",
       "No-of-Credits-at-this-Bank_More than 1             False\n",
       "dtype: bool"
      ]
     },
     "execution_count": 40,
     "metadata": {},
     "output_type": "execute_result"
    }
   ],
   "source": [
    "# using pandas to filter features that have ±0.7 correlations.\n",
    "# there are no strong correlations between the predictor variables and target variable\n",
    "X_train.corrwith(y_train, axis = 0).abs() > 0.7\n"
   ]
  },
  {
   "cell_type": "code",
   "execution_count": 41,
   "metadata": {},
   "outputs": [
    {
     "data": {
      "text/plain": [
       "Duration-of-Credit-Month                            True\n",
       "Credit-Amount                                       True\n",
       "Instalment-per-cent                                False\n",
       "Most-valuable-available-asset                      False\n",
       "Age-years                                          False\n",
       "Type-of-apartment                                  False\n",
       "No-of-dependents                                   False\n",
       "Telephone                                          False\n",
       "Foreign-Worker                                     False\n",
       "Account-Balance_Some Balance                        True\n",
       "Payment-Status-of-Previous-Credit_Paid Up          False\n",
       "Payment-Status-of-Previous-Credit_Some Problems     True\n",
       "Purpose_New car                                    False\n",
       "Purpose_Other                                      False\n",
       "Purpose_Used car                                   False\n",
       "Value-Savings-Stocks_None                          False\n",
       "Value-Savings-Stocks_£100-£1000                    False\n",
       "Length-of-current-employment_4-7 yrs               False\n",
       "Length-of-current-employment_< 1yr                 False\n",
       "Guarantors_Yes                                     False\n",
       "No-of-Credits-at-this-Bank_More than 1             False\n",
       "dtype: bool"
      ]
     },
     "execution_count": 41,
     "metadata": {},
     "output_type": "execute_result"
    }
   ],
   "source": [
    "# using pandas to filter features that have ±0.2 correlations. \n",
    "X_train.corrwith(y_train, axis = 0).abs() > 0.2\n"
   ]
  },
  {
   "cell_type": "markdown",
   "metadata": {},
   "source": [
    "As shown in the previous three cells, none of the fieds are highly correlated. In other words, none of the columns have a strong correlation at ±0.7. The first signs indications of correlation occur at 0.3. I set a second filter to test for correlation between features at 0.2, which gave me the top 4 highest correlations between features and the target variable.\n"
   ]
  },
  {
   "cell_type": "code",
   "execution_count": 42,
   "metadata": {},
   "outputs": [
    {
     "data": {
      "text/plain": [
       "Index(['Duration-of-Credit-Month', 'Credit-Amount',\n",
       "       'Account-Balance_Some Balance',\n",
       "       'Payment-Status-of-Previous-Credit_Some Problems'],\n",
       "      dtype='object')"
      ]
     },
     "execution_count": 42,
     "metadata": {},
     "output_type": "execute_result"
    }
   ],
   "source": [
    "# plugging mask into previous pandas filter\n",
    "# first_correlated_features = X.columns[X.corrwith(y, axis = 0).abs() > 0.7]\n",
    "first_correlated_features = X_train.columns[X_train.corrwith(y_train, axis = 0).abs() > 0.2]\n",
    "# first_correlated_features = list(first_correlated_features)\n",
    "first_correlated_features\n"
   ]
  },
  {
   "cell_type": "markdown",
   "metadata": {},
   "source": [
    "Note:\n",
    "\n",
    "The data set has been downselected to 6 features:\n",
    "\n",
    "* Account-Balance_Some Balance\n",
    "* Credit-Amount\n",
    "* Duration-of-Credit-Month\n",
    "* Payment-Status-of-Previous-Credit_Some Problems\n"
   ]
  },
  {
   "cell_type": "markdown",
   "metadata": {},
   "source": [
    "# P-Value"
   ]
  },
  {
   "cell_type": "markdown",
   "metadata": {},
   "source": [
    "We can look at the Pearson correlation coefficients and p-values of the downselected predictor variables by running *pearsonr()* function."
   ]
  },
  {
   "cell_type": "code",
   "execution_count": 43,
   "metadata": {},
   "outputs": [
    {
     "data": {
      "text/plain": [
       "(-0.316080415357103, 4.606667913072385e-13)"
      ]
     },
     "execution_count": 43,
     "metadata": {},
     "output_type": "execute_result"
    }
   ],
   "source": [
    "stats.pearsonr(X['Account-Balance_Some Balance'], y)"
   ]
  },
  {
   "cell_type": "code",
   "execution_count": 44,
   "metadata": {},
   "outputs": [
    {
     "data": {
      "text/plain": [
       "(0.20194579161781123, 5.3310815802338685e-06)"
      ]
     },
     "execution_count": 44,
     "metadata": {},
     "output_type": "execute_result"
    }
   ],
   "source": [
    "stats.pearsonr(X['Credit-Amount'], y)"
   ]
  },
  {
   "cell_type": "code",
   "execution_count": 45,
   "metadata": {},
   "outputs": [
    {
     "data": {
      "text/plain": [
       "(0.2025036085032149, 5.015063149493572e-06)"
      ]
     },
     "execution_count": 45,
     "metadata": {},
     "output_type": "execute_result"
    }
   ],
   "source": [
    "stats.pearsonr(X['Duration-of-Credit-Month'], y)"
   ]
  },
  {
   "cell_type": "code",
   "execution_count": 46,
   "metadata": {},
   "outputs": [
    {
     "data": {
      "text/plain": [
       "(0.2535309364742637, 8.970354541038087e-09)"
      ]
     },
     "execution_count": 46,
     "metadata": {},
     "output_type": "execute_result"
    }
   ],
   "source": [
    "stats.pearsonr(X['Payment-Status-of-Previous-Credit_Some Problems'], y)"
   ]
  },
  {
   "cell_type": "markdown",
   "metadata": {},
   "source": [
    "So, I now have five features from the original dataset that are that are most likely to be predictive of the response variable, so I will remove less predictable variables from *X_train* and *X_test*."
   ]
  },
  {
   "cell_type": "code",
   "execution_count": 47,
   "metadata": {},
   "outputs": [],
   "source": [
    "X_train = X_train[first_correlated_features]\n",
    "X_test = X_test[first_correlated_features]\n"
   ]
  },
  {
   "cell_type": "markdown",
   "metadata": {},
   "source": [
    "# Logistic Regression"
   ]
  },
  {
   "cell_type": "code",
   "execution_count": 48,
   "metadata": {},
   "outputs": [],
   "source": [
    "# create classifier as empty box\n",
    "LRC = LogisticRegression()"
   ]
  },
  {
   "cell_type": "code",
   "execution_count": 49,
   "metadata": {},
   "outputs": [
    {
     "data": {
      "text/plain": [
       "LogisticRegression(C=1.0, class_weight=None, dual=False, fit_intercept=True,\n",
       "          intercept_scaling=1, max_iter=100, multi_class='ovr', n_jobs=1,\n",
       "          penalty='l2', random_state=None, solver='liblinear', tol=0.0001,\n",
       "          verbose=0, warm_start=False)"
      ]
     },
     "execution_count": 49,
     "metadata": {},
     "output_type": "execute_result"
    }
   ],
   "source": [
    "# my classifer doesn't now anything about being credit worthy or not\n",
    "# need to use fit learning algorithm to train the classifier\n",
    "LRC.fit(X_train, y_train)"
   ]
  },
  {
   "cell_type": "code",
   "execution_count": 74,
   "metadata": {},
   "outputs": [
    {
     "data": {
      "text/plain": [
       "array([0, 1, 0, 0, 1, 1, 0, 0, 0, 0, 0, 0, 0, 0, 0, 0, 0, 0, 0, 0, 0, 0,\n",
       "       0, 1, 0, 0, 0, 1, 0, 0, 0, 1, 0, 0, 0, 0, 1, 0, 1, 0, 0, 0, 1, 0,\n",
       "       1, 0, 0, 0, 0, 0, 0, 0, 0, 0, 1, 0, 0, 1, 0, 0, 1, 0, 0, 0, 0, 0,\n",
       "       0, 0, 0, 0, 0, 0, 0, 0, 0, 1, 1, 0, 0, 0, 0, 0, 0, 0, 0, 1, 1, 0,\n",
       "       1, 0, 1, 1, 0, 0, 0, 0, 0, 0, 0, 0, 0, 1, 1, 0, 0, 0, 1, 0, 0, 0,\n",
       "       1, 0, 0, 1, 0, 0, 1, 0, 0, 1, 1, 0, 0, 0, 0, 1, 1, 0, 0, 0, 0, 0,\n",
       "       0, 0, 0, 0, 0, 1, 0, 0, 0, 0, 0, 0, 0, 0, 0, 0, 0, 0], dtype=uint8)"
      ]
     },
     "execution_count": 74,
     "metadata": {},
     "output_type": "execute_result"
    }
   ],
   "source": [
    "# let's take the classifier for a spin and make some predictions\n",
    "pred_LRC = LRC.predict(X_test)\n",
    "pred_LRC"
   ]
  },
  {
   "cell_type": "code",
   "execution_count": 75,
   "metadata": {},
   "outputs": [
    {
     "data": {
      "text/plain": [
       "array([[93, 10],\n",
       "       [26, 21]])"
      ]
     },
     "execution_count": 75,
     "metadata": {},
     "output_type": "execute_result"
    }
   ],
   "source": [
    "confusion_matrix(y_test, pred_LRC)"
   ]
  },
  {
   "cell_type": "code",
   "execution_count": 51,
   "metadata": {},
   "outputs": [
    {
     "data": {
      "text/plain": [
       "0.76"
      ]
     },
     "execution_count": 51,
     "metadata": {},
     "output_type": "execute_result"
    }
   ],
   "source": [
    "# Score it on the test set\n",
    "# Using the default classification accuracy score\n",
    "LRC.score(X_test, y_test)"
   ]
  },
  {
   "cell_type": "markdown",
   "metadata": {},
   "source": [
    "# Decision Tree"
   ]
  },
  {
   "cell_type": "code",
   "execution_count": 52,
   "metadata": {},
   "outputs": [],
   "source": [
    "# create classifer... right now it's just an empty box\n",
    "dectree = tree.DecisionTreeClassifier()\n"
   ]
  },
  {
   "cell_type": "code",
   "execution_count": 53,
   "metadata": {},
   "outputs": [
    {
     "data": {
      "text/plain": [
       "DecisionTreeClassifier(class_weight=None, criterion='gini', max_depth=None,\n",
       "            max_features=None, max_leaf_nodes=None,\n",
       "            min_impurity_decrease=0.0, min_impurity_split=None,\n",
       "            min_samples_leaf=1, min_samples_split=2,\n",
       "            min_weight_fraction_leaf=0.0, presort=False, random_state=None,\n",
       "            splitter='best')"
      ]
     },
     "execution_count": 53,
     "metadata": {},
     "output_type": "execute_result"
    }
   ],
   "source": [
    "# my classifier doesn't know anything about being credit worthy or not yet\n",
    "# to train the classifier, I need a learning algorithm\n",
    "# if a classifier is a box of rules, then the learning algorithm is the procedure that creates the rules\n",
    "# fit is my classifier, think of it as a synonym for find patterns in data\n",
    "dectree.fit(X_train, y_train)\n"
   ]
  },
  {
   "cell_type": "code",
   "execution_count": 72,
   "metadata": {},
   "outputs": [
    {
     "data": {
      "text/plain": [
       "array([1, 0, 0, 0, 1, 1, 0, 0, 0, 0, 0, 0, 0, 0, 1, 0, 1, 1, 0, 0, 0, 0,\n",
       "       0, 1, 0, 0, 0, 1, 0, 0, 0, 0, 1, 1, 0, 1, 0, 0, 1, 1, 0, 0, 1, 0,\n",
       "       0, 0, 0, 0, 1, 0, 0, 0, 0, 1, 1, 0, 0, 0, 0, 0, 1, 0, 0, 0, 1, 0,\n",
       "       0, 0, 0, 0, 0, 0, 0, 0, 1, 0, 0, 0, 0, 0, 0, 0, 0, 1, 0, 1, 1, 0,\n",
       "       1, 0, 1, 1, 0, 0, 1, 0, 0, 0, 0, 0, 1, 1, 0, 0, 1, 0, 1, 0, 0, 0,\n",
       "       1, 1, 0, 0, 1, 1, 1, 0, 0, 1, 1, 0, 0, 0, 0, 0, 0, 0, 0, 1, 0, 0,\n",
       "       0, 0, 0, 1, 1, 0, 1, 1, 0, 1, 0, 0, 0, 0, 0, 0, 0, 0], dtype=uint8)"
      ]
     },
     "execution_count": 72,
     "metadata": {},
     "output_type": "execute_result"
    }
   ],
   "source": [
    "# now that the classifier has been trained let's take it for a spin\n",
    "pred_dectree = dectree.predict(X_test)\n",
    "pred_dectree"
   ]
  },
  {
   "cell_type": "code",
   "execution_count": 73,
   "metadata": {},
   "outputs": [
    {
     "data": {
      "text/plain": [
       "array([[82, 21],\n",
       "       [24, 23]])"
      ]
     },
     "execution_count": 73,
     "metadata": {},
     "output_type": "execute_result"
    }
   ],
   "source": [
    "confusion_matrix(y_test, pred_dectree)"
   ]
  },
  {
   "cell_type": "code",
   "execution_count": 55,
   "metadata": {},
   "outputs": [
    {
     "data": {
      "text/plain": [
       "0.7"
      ]
     },
     "execution_count": 55,
     "metadata": {},
     "output_type": "execute_result"
    }
   ],
   "source": [
    "# Score it on the test set\n",
    "# Using the default classification accuracy score\n",
    "dectree.score(X_test, y_test)\n"
   ]
  },
  {
   "cell_type": "code",
   "execution_count": 56,
   "metadata": {},
   "outputs": [],
   "source": [
    "creditworthy_results = [\"Creditworthy\", \"Non-Creditworthy\"]"
   ]
  },
  {
   "cell_type": "code",
   "execution_count": 57,
   "metadata": {},
   "outputs": [
    {
     "data": {
      "text/plain": [
       "['Duration-of-Credit-Month',\n",
       " 'Credit-Amount',\n",
       " 'Instalment-per-cent',\n",
       " 'Most-valuable-available-asset',\n",
       " 'Age-years',\n",
       " 'Type-of-apartment',\n",
       " 'No-of-dependents',\n",
       " 'Telephone',\n",
       " 'Foreign-Worker',\n",
       " 'Account-Balance_Some Balance',\n",
       " 'Payment-Status-of-Previous-Credit_Paid Up',\n",
       " 'Payment-Status-of-Previous-Credit_Some Problems',\n",
       " 'Purpose_New car',\n",
       " 'Purpose_Other',\n",
       " 'Purpose_Used car',\n",
       " 'Value-Savings-Stocks_None',\n",
       " 'Value-Savings-Stocks_£100-£1000',\n",
       " 'Length-of-current-employment_4-7 yrs',\n",
       " 'Length-of-current-employment_< 1yr',\n",
       " 'Guarantors_Yes',\n",
       " 'No-of-Credits-at-this-Bank_More than 1']"
      ]
     },
     "execution_count": 57,
     "metadata": {},
     "output_type": "execute_result"
    }
   ],
   "source": [
    "list(X.columns)"
   ]
  },
  {
   "cell_type": "code",
   "execution_count": 58,
   "metadata": {},
   "outputs": [],
   "source": [
    "# This output can be visualized\n",
    "\n",
    "dotfile = StringIO()\n",
    "tree.export_graphviz(dectree,\n",
    "                     out_file=dotfile,\n",
    "                     feature_names=list(X_train.columns),\n",
    "                     class_names=creditworthy_results,\n",
    "                     filled=True,\n",
    "                     rounded=True,\n",
    "                     impurity=False\n",
    "                    )\n",
    "(graph,)=pydot.graph_from_dot_data(dotfile.getvalue())\n",
    "graph.write_png(\"./assets/dtree.png\")\n",
    "graph.write_pdf(\"./assets/dtree.pdf\")"
   ]
  },
  {
   "cell_type": "markdown",
   "metadata": {},
   "source": [
    "This is a diagram of the visuals I saved to my repository. The diagram provides a visual representation of the decision tree. The nice thing about decision trees is that they are interpretable, and the tree diagram works the same way it would in code (i.e. you know exactly why the classifier makes a decision).\n",
    "\n",
    "![Displaying the visual I just created:](./assets/dtree.png)\n"
   ]
  },
  {
   "cell_type": "markdown",
   "metadata": {},
   "source": [
    "# Boosted Tree (aka Gradient Boosting)\n"
   ]
  },
  {
   "cell_type": "code",
   "execution_count": 59,
   "metadata": {},
   "outputs": [],
   "source": [
    "# create classifier... this is an empty box\n",
    "gbc = GradientBoostingClassifier()"
   ]
  },
  {
   "cell_type": "code",
   "execution_count": 60,
   "metadata": {},
   "outputs": [
    {
     "data": {
      "text/plain": [
       "GradientBoostingClassifier(criterion='friedman_mse', init=None,\n",
       "              learning_rate=0.1, loss='deviance', max_depth=3,\n",
       "              max_features=None, max_leaf_nodes=None,\n",
       "              min_impurity_decrease=0.0, min_impurity_split=None,\n",
       "              min_samples_leaf=1, min_samples_split=2,\n",
       "              min_weight_fraction_leaf=0.0, n_estimators=100,\n",
       "              presort='auto', random_state=None, subsample=1.0, verbose=0,\n",
       "              warm_start=False)"
      ]
     },
     "execution_count": 60,
     "metadata": {},
     "output_type": "execute_result"
    }
   ],
   "source": [
    "# my classifer doesn't now anything about being credit worthy or not\n",
    "# use fit algorithm to train the gbc classifier\n",
    "gbc.fit(X_train, y_train)"
   ]
  },
  {
   "cell_type": "code",
   "execution_count": 76,
   "metadata": {},
   "outputs": [
    {
     "data": {
      "text/plain": [
       "array([0, 0, 0, 0, 1, 0, 0, 0, 0, 0, 0, 0, 0, 0, 0, 0, 0, 0, 0, 0, 0, 0,\n",
       "       0, 1, 0, 0, 1, 0, 0, 0, 0, 1, 0, 1, 0, 0, 1, 0, 1, 0, 0, 0, 1, 0,\n",
       "       0, 0, 0, 1, 0, 0, 0, 0, 0, 1, 1, 0, 0, 1, 0, 0, 0, 0, 0, 0, 1, 0,\n",
       "       0, 0, 0, 0, 0, 0, 0, 0, 1, 0, 0, 0, 0, 0, 0, 1, 0, 0, 0, 1, 1, 0,\n",
       "       1, 0, 1, 1, 1, 0, 0, 0, 0, 0, 0, 0, 0, 0, 1, 0, 1, 0, 1, 0, 0, 0,\n",
       "       0, 1, 1, 0, 0, 0, 0, 0, 0, 1, 0, 0, 0, 0, 0, 0, 0, 0, 0, 0, 0, 0,\n",
       "       0, 0, 0, 0, 0, 0, 0, 0, 0, 0, 0, 0, 0, 0, 0, 0, 0, 0], dtype=uint8)"
      ]
     },
     "execution_count": 76,
     "metadata": {},
     "output_type": "execute_result"
    }
   ],
   "source": [
    "# take your classifier for a spin, make some predictions\n",
    "pred_gbc = gbc.predict(X_test)\n",
    "pred_gbc"
   ]
  },
  {
   "cell_type": "code",
   "execution_count": 77,
   "metadata": {},
   "outputs": [
    {
     "data": {
      "text/plain": [
       "array([[91, 12],\n",
       "       [32, 15]])"
      ]
     },
     "execution_count": 77,
     "metadata": {},
     "output_type": "execute_result"
    }
   ],
   "source": [
    "confusion_matrix(y_test, pred_gbc)"
   ]
  },
  {
   "cell_type": "code",
   "execution_count": 62,
   "metadata": {},
   "outputs": [
    {
     "data": {
      "text/plain": [
       "0.7066666666666667"
      ]
     },
     "execution_count": 62,
     "metadata": {},
     "output_type": "execute_result"
    }
   ],
   "source": [
    "# Score it on the test set\n",
    "# Using the default classification accuracy score\n",
    "gbc.score(X_test, y_test)"
   ]
  },
  {
   "cell_type": "markdown",
   "metadata": {},
   "source": [
    "# Forest Model (aka Random Forest Model)"
   ]
  },
  {
   "cell_type": "code",
   "execution_count": 63,
   "metadata": {},
   "outputs": [],
   "source": [
    "# classifier is empty box\n",
    "rf = RandomForestClassifier()"
   ]
  },
  {
   "cell_type": "code",
   "execution_count": 64,
   "metadata": {},
   "outputs": [
    {
     "data": {
      "text/plain": [
       "RandomForestClassifier(bootstrap=True, class_weight=None, criterion='gini',\n",
       "            max_depth=None, max_features='auto', max_leaf_nodes=None,\n",
       "            min_impurity_decrease=0.0, min_impurity_split=None,\n",
       "            min_samples_leaf=1, min_samples_split=2,\n",
       "            min_weight_fraction_leaf=0.0, n_estimators=10, n_jobs=1,\n",
       "            oob_score=False, random_state=None, verbose=0,\n",
       "            warm_start=False)"
      ]
     },
     "execution_count": 64,
     "metadata": {},
     "output_type": "execute_result"
    }
   ],
   "source": [
    "# classifier doesn't know anything about being credit worthy\n",
    "# so need to use fit algorithm to train the classifier\n",
    "# fit(features, target)\n",
    "rf.fit(X_train, y_train)"
   ]
  },
  {
   "cell_type": "code",
   "execution_count": 79,
   "metadata": {},
   "outputs": [
    {
     "data": {
      "text/plain": [
       "array([0, 0, 0, 0, 1, 1, 0, 0, 1, 0, 0, 0, 0, 0, 0, 0, 1, 0, 0, 0, 0, 0,\n",
       "       0, 1, 0, 0, 0, 0, 0, 0, 0, 0, 0, 1, 0, 1, 0, 0, 1, 1, 0, 0, 1, 0,\n",
       "       0, 0, 0, 0, 0, 0, 0, 0, 0, 0, 1, 0, 0, 0, 0, 0, 0, 0, 0, 0, 0, 0,\n",
       "       0, 0, 0, 0, 0, 0, 0, 0, 1, 0, 0, 0, 0, 0, 0, 0, 0, 0, 0, 1, 1, 0,\n",
       "       0, 0, 1, 1, 0, 0, 1, 0, 0, 0, 0, 0, 0, 0, 1, 0, 1, 0, 1, 0, 0, 0,\n",
       "       0, 1, 1, 0, 0, 0, 0, 0, 0, 1, 0, 0, 0, 0, 0, 0, 0, 0, 0, 0, 0, 0,\n",
       "       0, 0, 0, 0, 0, 0, 1, 1, 0, 1, 0, 0, 0, 0, 0, 0, 0, 0], dtype=uint8)"
      ]
     },
     "execution_count": 79,
     "metadata": {},
     "output_type": "execute_result"
    }
   ],
   "source": [
    "# take the trained classifier for a spin and make some predictions\n",
    "pred_rf = rf.predict(X_test)\n",
    "pred_rf"
   ]
  },
  {
   "cell_type": "code",
   "execution_count": 80,
   "metadata": {},
   "outputs": [
    {
     "data": {
      "text/plain": [
       "array([[94,  9],\n",
       "       [30, 17]])"
      ]
     },
     "execution_count": 80,
     "metadata": {},
     "output_type": "execute_result"
    }
   ],
   "source": [
    "confusion_matrix(y_test, pred_rf)"
   ]
  },
  {
   "cell_type": "code",
   "execution_count": 66,
   "metadata": {},
   "outputs": [
    {
     "data": {
      "text/plain": [
       "0.74"
      ]
     },
     "execution_count": 66,
     "metadata": {},
     "output_type": "execute_result"
    }
   ],
   "source": [
    "# Score it on the test set\n",
    "# Using the default classification accuracy score\n",
    "rf.score(X_test, y_test)"
   ]
  },
  {
   "cell_type": "markdown",
   "metadata": {},
   "source": [
    "# KNN"
   ]
  },
  {
   "cell_type": "code",
   "execution_count": 67,
   "metadata": {},
   "outputs": [
    {
     "data": {
      "text/plain": [
       "0.6133333333333333"
      ]
     },
     "execution_count": 67,
     "metadata": {},
     "output_type": "execute_result"
    }
   ],
   "source": [
    "# Not a part of this project, but curious how KNN classifier compares to others\n",
    "knn = KNeighborsClassifier()\n",
    "knn.fit(X_train, y_train)\n",
    "knn.predict(X_test)\n",
    "knn.score(X_test, y_test)\n"
   ]
  },
  {
   "cell_type": "markdown",
   "metadata": {},
   "source": [
    "# RESOURCES\n",
    "\n",
    "* ### [project details](https://classroom.udacity.com/nanodegrees/nd008t/parts/54e2103b-5630-497a-bc37-c05d45cda549/modules/12c50013-ad11-4980-88a0-13d474cda9b8/lessons/ee56f886-070e-40ca-bfc8-cab2c5cdde7d/concepts/ac7bf309-3e98-4a2f-ad4e-555905d7cd07)\n",
    "* ### [rubric](https://review.udacity.com/#!/rubrics/265/view)\n",
    "* ### [main project folder](https://udacity-travismgillespie.notebooks.azure.com/j/tree)\n",
    "* ### variance\n",
    "    * #### [use R-squared to describe variance](https://classroom.udacity.com/nanodegrees/nd008t/parts/9cd2f005-f9b1-4953-ba02-ad65805b2a4a/modules/fc4c1ffe-01f6-4c11-b38b-646ecf1d3c59/lessons/576552b9-a1b4-45be-9428-572331a4e186/concepts/82bfe969-921b-4175-adb5-797e84ba6107): also look into [project 2](https://udacity-travismgillespie.notebooks.azure.com/j/notebooks/project2/Data%20Wrangling.ipynb) diamond catalog to see if I calculated correlation p and r-squared at same time... may have used a corr-matrix\n",
    "* ### feature selection\n",
    "    * #### [Packt: select features in machine learning](https://hub.packtpub.com/selecting-statistical-based-features-in-machine-learning-application/)\n",
    "    * #### [use p-value & correlation to select predictor variable](https://classroom.udacity.com/nanodegrees/nd008t/parts/9cd2f005-f9b1-4953-ba02-ad65805b2a4a/modules/fc4c1ffe-01f6-4c11-b38b-646ecf1d3c59/lessons/576552b9-a1b4-45be-9428-572331a4e186/concepts/82bfe969-921b-4175-adb5-797e84ba6107)\n",
    "    * #### [p values don’t help in feature selection](https://www.quora.com/How-did-you-use-p-value-for-feature-selection)\n",
    "    * #### [Feature selection - univariate selection](https://blog.datadive.net/selecting-good-features-part-i-univariate-selection/)\n",
    "    * #### [predictor variables](https://classroom.udacity.com/nanodegrees/nd008t/parts/9cd2f005-f9b1-4953-ba02-ad65805b2a4a/modules/fc4c1ffe-01f6-4c11-b38b-646ecf1d3c59/lessons/576552b9-a1b4-45be-9428-572331a4e186/concepts/631d190c-8626-4dd7-92df-f5bd96913c48): udacity\n",
    "    * #### [explanatory variables (aka predictor variables)](https://classroom.udacity.com/nanodegrees/nd008t/parts/9cd2f005-f9b1-4953-ba02-ad65805b2a4a/modules/fc4c1ffe-01f6-4c11-b38b-646ecf1d3c59/lessons/576552b9-a1b4-45be-9428-572331a4e186/concepts/631d190c-8626-4dd7-92df-f5bd96913c48): udacity\n",
    "    * #### [feature selection ex](https://www.youtube.com/watch?v=hhmsHY2vWY4)\n",
    "    * #### [feature selection correlation and p-value](https://towardsdatascience.com/feature-selection-correlation-and-p-value-da8921bfb3cf)\n",
    "* ### coefficients\n",
    "    * #### [calculate coefficients](https://classroom.udacity.com/nanodegrees/nd008t/parts/9cd2f005-f9b1-4953-ba02-ad65805b2a4a/modules/fc4c1ffe-01f6-4c11-b38b-646ecf1d3c59/lessons/576552b9-a1b4-45be-9428-572331a4e186/concepts/631d190c-8626-4dd7-92df-f5bd96913c48): watch udacity video\n",
    "* ### linear regression\n",
    "    * #### [packt ex](https://www.youtube.com/watch?v=Eqv98w1ukZk): good example of seeds and splitting test set\n",
    "* ### logistic regression\n",
    "    * #### [StatQuest](https://www.youtube.com/watch?v=yIYKR4sgzI8)\n",
    "    * #### [data school ex](https://www.youtube.com/watch?v=RlQuVL6-qe8&index=4&list=PL5-da3qGB5ICeMbQuqbbCOQWcS6OYBr5A)\n",
    "    * #### [Titanic ex](https://www.youtube.com/watch?v=VCJdg7YBbAQ)\n",
    "    * #### [logistic regression ex](https://www.youtube.com/watch?v=1nWFHa6K23w)\n",
    "* ### decision tree\n",
    "    * #### [iris google developers](https://www.youtube.com/watch?v=tNa99PG8hR8&list=PLOU2XLYxmsIIuiBfYad6rFYQU_jL2ryal&index=2)\n",
    "* ### boosted tree (aka Gradient boosting)\n",
    "    * #### [documentation: scikit learn](https://scikit-learn.org/stable/modules/ensemble.html#gradient-tree-boosting)\n",
    "    * #### [gradient boosting ex](https://www.youtube.com/watch?v=gIJHI5jSChM)\n",
    "    * #### [gradient boosting ex](https://www.youtube.com/watch?v=sRktKszFmSk)\n",
    "    * #### [gradient boosting ex](https://www.youtube.com/watch?v=X3Wbfb4M33w)\n",
    "    * #### [gradient boosting ex](https://www.youtube.com/watch?v=2WfKzyi__l4)\n",
    "    * #### [ada boosting ex](https://www.youtube.com/watch?v=GM3CDQfQ4sw)\n",
    "    * #### [additional boosting reading](https://en.wikipedia.org/wiki/Gradient_boosting)\n",
    "* ### forest model (aka random forest model)\n",
    "    * #### [documentation: scikit learn](https://scikit-learn.org/stable/modules/ensemble.html#random-forests)\n",
    "    * #### [forest model udacity](https://classroom.udacity.com/nanodegrees/nd008t/parts/54e2103b-5630-497a-bc37-c05d45cda549/modules/12c50013-ad11-4980-88a0-13d474cda9b8/lessons/59e0ee88-1a1e-459d-a79e-53ef74c13e77/concepts/65b13e59-9be3-45f8-a6f3-196369dc3c3d)\n",
    "    * #### [random forest example](https://www.youtube.com/watch?v=D_2LkhMJcfY)\n",
    "    \n",
    "* ### backward elemenation\n",
    "    * #### [looking up details on SL = 0.05](https://www.kaggle.com/umeshsati54/backward-elimination)\n",
    "    \n",
    "* ### misc\n",
    "    * #### [data school](https://www.youtube.com/watch?v=RlQuVL6-qe8&index=4&list=PL5-da3qGB5ICeMbQuqbbCOQWcS6OYBr5A): \n",
    "    * #### [packt](https://www.youtube.com/watch?v=Eqv98w1ukZk): splits data set as projedct instructions describe\n",
    "    * #### [titanic](https://www.youtube.com/watch?v=VCJdg7YBbAQ): describes creating dummies from dataset\n",
    "    * #### [iris google developers](https://www.youtube.com/watch?v=tNa99PG8hR8&list=PLOU2XLYxmsIIuiBfYad6rFYQU_jL2ryal&index=2)\n",
    "    * #### [random_state acts as seed for random number generator](https://medium.com/@contactsunny/how-to-split-your-dataset-to-train-and-test-datasets-using-scikit-learn-e7cf6eb5e0d)\n",
    "    "
   ]
  },
  {
   "cell_type": "code",
   "execution_count": null,
   "metadata": {},
   "outputs": [],
   "source": []
  }
 ],
 "metadata": {
  "kernelspec": {
   "display_name": "Python 3",
   "language": "python",
   "name": "python3"
  },
  "language_info": {
   "codemirror_mode": {
    "name": "ipython",
    "version": 3
   },
   "file_extension": ".py",
   "mimetype": "text/x-python",
   "name": "python",
   "nbconvert_exporter": "python",
   "pygments_lexer": "ipython3",
   "version": "3.7.2"
  },
  "toc": {
   "base_numbering": 1,
   "nav_menu": {},
   "number_sections": true,
   "sideBar": true,
   "skip_h1_title": false,
   "title_cell": "Table of Contents",
   "title_sidebar": "Contents",
   "toc_cell": false,
   "toc_position": {},
   "toc_section_display": true,
   "toc_window_display": false
  }
 },
 "nbformat": 4,
 "nbformat_minor": 2
}
