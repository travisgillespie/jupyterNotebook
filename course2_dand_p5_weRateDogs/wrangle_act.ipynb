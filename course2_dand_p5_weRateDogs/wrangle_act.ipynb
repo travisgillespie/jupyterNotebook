{
 "cells": [
  {
   "cell_type": "markdown",
   "metadata": {
    "collapsed": true
   },
   "source": [
    "# Data Wrangling Act WeRateDogs\n",
    "\n",
    "### by Travis Gillespie"
   ]
  },
  {
   "cell_type": "markdown",
   "metadata": {},
   "source": [
    "## Table of Contents\n",
    "- [Introduction](#intro)\n",
    "- [Gather Data](#gather)\n",
    "- [Assess Data](#assess)\n",
    "   - [Quality](#quality)\n",
    "   - [Tidiness](#tidiness)\n",
    "- [Clean Data](#clean)\n",
    "- [Analyze, and Visualize](#analyzing)\n",
    "   - [Insight one & visualization](#one)\n",
    "   - [Insight two](#two)\n",
    "   - [Insight three & visualization](#three)\n",
    "   - [Insight four & visualization](#four)\n",
    "- [Store](#storing)   \n",
    "- [Resources](#resources)"
   ]
  },
  {
   "cell_type": "markdown",
   "metadata": {},
   "source": [
    "<a id='intro'></a>\n",
    "## Introduction"
   ]
  },
  {
   "cell_type": "markdown",
   "metadata": {},
   "source": [
    "The purpose of this project is to wrangle data from Twitter's tweet archive, under WeRateDogs. I'm looking forward to this project because I get to use some of the skills I've learned over the certification path and through various books I've been working through the past few months. [<sup>1 - 4</sup>](#resources)\n",
    "\n",
    "I was not able to find a general template within the project details, so I looked on github and found a common template most projects follow. [<sup>5</sup>](#resources) The table of contents above provides a quick overview of that structure."
   ]
  },
  {
   "cell_type": "markdown",
   "metadata": {},
   "source": [
    "<a id='gather'></a>\n",
    "## Gathering data"
   ]
  },
  {
   "cell_type": "markdown",
   "metadata": {},
   "source": [
    "This is the first step in data wrangling. In this section I will and import all three data sets."
   ]
  },
  {
   "cell_type": "code",
   "execution_count": 1,
   "metadata": {},
   "outputs": [],
   "source": [
    "import pandas as pd\n",
    "import numpy as np\n",
    "import matplotlib.pyplot as plt\n",
    "import seaborn as sns\n",
    "%matplotlib inline\n",
    "import requests\n",
    "import tweepy\n",
    "import json\n",
    "import time\n",
    "import sys\n",
    "import re\n",
    "from datetime import datetime, timedelta"
   ]
  },
  {
   "cell_type": "markdown",
   "metadata": {},
   "source": [
    "#### Import Downloaded Data: Twitter Archive"
   ]
  },
  {
   "cell_type": "code",
   "execution_count": 2,
   "metadata": {},
   "outputs": [],
   "source": [
    "# set df_twitter to twitter-archive-enhanced data\n",
    "df_original_twitter = pd.read_csv('./assets/twitter-archive-enhanced.csv')"
   ]
  },
  {
   "cell_type": "markdown",
   "metadata": {},
   "source": [
    "#### Download Data Programatically: Tweet Image Prediction"
   ]
  },
  {
   "cell_type": "code",
   "execution_count": 3,
   "metadata": {},
   "outputs": [
    {
     "name": "stdout",
     "output_type": "stream",
     "text": [
      "<Response [200]>\n"
     ]
    }
   ],
   "source": [
    "# set site to url\n",
    "url = \"https://d17h27t6h515a5.cloudfront.net/topher/2017/August/599fd2ad_image-predictions/image-predictions.tsv\"\n",
    "response = requests.get(url)\n",
    "\n",
    "# check that response.status_code returns 200\n",
    "print(response)"
   ]
  },
  {
   "cell_type": "code",
   "execution_count": 4,
   "metadata": {},
   "outputs": [],
   "source": [
    "# Use file to refer to the file object\n",
    "with open('./assets/image-predictions.tsv', mode = 'wb') as file:\n",
    "    file.write(response.content)\n",
    "    \n",
    "# set tsv to df_imagePredictions\n",
    "df_original_imagePredictions = pd.read_csv('./assets/image-predictions.tsv', sep='\\t')"
   ]
  },
  {
   "cell_type": "markdown",
   "metadata": {},
   "source": [
    "#### Query JSON Data: Twitter API"
   ]
  },
  {
   "cell_type": "code",
   "execution_count": 5,
   "metadata": {},
   "outputs": [],
   "source": [
    "# created twitter account to authenticate twitter api at https://apps.twitter.com/app\n",
    "# consumer_key = 'Consumer Key (API key)'\n",
    "# consumer_secret = 'Consumer Secret (API Secret)'\n",
    "# access_token = 'Access Token'\n",
    "# access_token_secret = 'Access Token Secret'\n",
    "\n",
    "# removed strings to submit project\n",
    "consumer_key = ''\n",
    "consumer_secret = ''\n",
    "access_token = ''\n",
    "access_token_secret = ''\n",
    "\n",
    "auth = tweepy.OAuthHandler(consumer_key, consumer_secret)\n",
    "auth.set_access_token(access_token, access_token_secret)\n",
    "\n",
    "# build API instance\n",
    "api = tweepy.API(auth_handler = auth)"
   ]
  },
  {
   "cell_type": "code",
   "execution_count": 6,
   "metadata": {},
   "outputs": [
    {
     "data": {
      "text/plain": [
       "0.38"
      ]
     },
     "execution_count": 6,
     "metadata": {},
     "output_type": "execute_result"
    }
   ],
   "source": [
    "# converted type as string to use in twitter query below\n",
    "# set time delays\n",
    "tweetIDsList = df_original_twitter['tweet_id'].astype(str)\n",
    "timeDelay = round(1 / (len(tweetIDsList) / (15*60)),2) # time to wait and avoid RateLimitError\n",
    "timeDelay # time delay is set to run about 2 querys per second, this should give a total time of 15minutes when querying for data below\n"
   ]
  },
  {
   "cell_type": "code",
   "execution_count": 7,
   "metadata": {},
   "outputs": [
    {
     "name": "stdout",
     "output_type": "stream",
     "text": [
      "Completed: 2355/2355 ≈ 100.0% [==============================]"
     ]
    }
   ],
   "source": [
    "# query Twitter using values in tweetIDsList\n",
    "tweet = {}\n",
    "errorList = []\n",
    "total = len(tweetIDsList) - 1  # total number to reach minus 1 b/c i starts at 0\n",
    "bar_length = 30  # should be less than 100\n",
    "i = 0\n",
    "\n",
    "for tweetID in tweetIDsList:\n",
    "    \n",
    "    percent = 100.0*i/total\n",
    "    errorType = \"\"\n",
    "\n",
    "    try:\n",
    "        status = api.get_status(tweetID, \n",
    "                                retry_count = 1, # default number of retries to attempt when error occurs\n",
    "                                retry_delay = 2, # number of seconds to wait between retries\n",
    "                                timeout = 60, # maximum amount of time to wait for a response from Twitter\n",
    "                                wait_on_rate_limit = True, # wait for rate limits to restore\n",
    "                                wait_on_rate_notify = True) # print notification when Tweepy is waiting for rate limits to restore\n",
    "\n",
    "        tweet[tweetID] = status._json\n",
    "\n",
    "    except tweepy.RateLimitError as error:\n",
    "        # print(\"\\n\\nID: \" + tweetID + \"-> RateLimitError: \" + str(error) + \"\\n\\n\")\n",
    "        errorList.append(\"ID: \" + tweetID + \"-> Error: \" + str(error))        \n",
    "        time.sleep(15 * 60) # sleep for 15 minutes rather than default 10 minutes\n",
    "        \n",
    "    except tweepy.TweepError as error:\n",
    "        # print(\"\\n\\nID: \" + tweetID + \"-> TweepError: \" + str(error) + \"\\n\\n\")\n",
    "        errorList.append(\"ID: \" + tweetID + \"-> Error: \" + str(error))\n",
    "        \n",
    "    except Exception as error:\n",
    "        # print(\"\\n\\nID: \" + tweetID + \"-> Error: \" + str(error) + \"\\n\\n\")        \n",
    "        errorList.append(\"ID: \" + tweetID + \"-> Error: \" + str(error))\n",
    "        \n",
    "\n",
    "    # progress bar go get some coffee while you wait\n",
    "    sys.stdout.write('\\r')\n",
    "    sys.stdout.write(\"Completed: {}/{} ≈ \"\n",
    "                     .format(i,total))\n",
    "    sys.stdout.write(\"{:>3}% [{:{}}]\"\n",
    "                     .format(round(float(percent),1),\n",
    "                             '='*int(percent/(100.0/bar_length)), bar_length))\n",
    "    sys.stdout.flush()\n",
    "    time.sleep(timeDelay) # time delay is set to prevent rate limit errors\n",
    "    # time.sleep(3) is equal to 3 seconds\n",
    "    # time.sleep(.3) is equal to 300 milliseconds\n",
    "\n",
    "    i = i + 1"
   ]
  },
  {
   "cell_type": "markdown",
   "metadata": {},
   "source": [
    "Time delay is set to allow *n* amount of queries per second [<sup>6</sup>](#resources) . Due to Twitter's Rate Limits and the number of *tweetID* to query with the time delay is set to approximately 300 milliseconds ( *i.e. time.sleep(0.3)* ); allowing about two queries per second in this case. It should take roughly 15 minutes to perform all queries, which should help prevent any rate."
   ]
  },
  {
   "cell_type": "code",
   "execution_count": 8,
   "metadata": {},
   "outputs": [],
   "source": [
    "with open('./assets/tweet_json.txt', 'w') as output:\n",
    "    json.dump(tweet, \n",
    "              output,\n",
    "              sort_keys = True,\n",
    "              indent = 4,\n",
    "              ensure_ascii = False\n",
    "             )"
   ]
  },
  {
   "cell_type": "code",
   "execution_count": 9,
   "metadata": {},
   "outputs": [],
   "source": [
    "# read json file back in\n",
    "df_original_tweets = pd.read_json('./assets/tweet_json.txt', orient = 'index')"
   ]
  },
  {
   "cell_type": "code",
   "execution_count": 10,
   "metadata": {},
   "outputs": [],
   "source": [
    "# make copies of original dataframes\n",
    "df_twitter = df_original_twitter.copy()\n",
    "df_imagePredictions = df_original_imagePredictions.copy()\n",
    "df_tweets = df_original_tweets.copy()"
   ]
  },
  {
   "cell_type": "markdown",
   "metadata": {},
   "source": [
    "<a id='assess'></a>\n",
    "## Assessing data"
   ]
  },
  {
   "cell_type": "markdown",
   "metadata": {},
   "source": [
    "This is the second step in the data wrangling process. In this section I will look at the three data sets. First, I want to start by using *head()* to get an idea of what the data looks like within each table. Then, I will use *info()* to look at the size & shape of each table, and determine if any values are missing."
   ]
  },
  {
   "cell_type": "code",
   "execution_count": 11,
   "metadata": {
    "scrolled": true
   },
   "outputs": [
    {
     "data": {
      "text/html": [
       "<div>\n",
       "<style>\n",
       "    .dataframe thead tr:only-child th {\n",
       "        text-align: right;\n",
       "    }\n",
       "\n",
       "    .dataframe thead th {\n",
       "        text-align: left;\n",
       "    }\n",
       "\n",
       "    .dataframe tbody tr th {\n",
       "        vertical-align: top;\n",
       "    }\n",
       "</style>\n",
       "<table border=\"1\" class=\"dataframe\">\n",
       "  <thead>\n",
       "    <tr style=\"text-align: right;\">\n",
       "      <th></th>\n",
       "      <th>tweet_id</th>\n",
       "      <th>in_reply_to_status_id</th>\n",
       "      <th>in_reply_to_user_id</th>\n",
       "      <th>timestamp</th>\n",
       "      <th>source</th>\n",
       "      <th>text</th>\n",
       "      <th>retweeted_status_id</th>\n",
       "      <th>retweeted_status_user_id</th>\n",
       "      <th>retweeted_status_timestamp</th>\n",
       "      <th>expanded_urls</th>\n",
       "      <th>rating_numerator</th>\n",
       "      <th>rating_denominator</th>\n",
       "      <th>name</th>\n",
       "      <th>doggo</th>\n",
       "      <th>floofer</th>\n",
       "      <th>pupper</th>\n",
       "      <th>puppo</th>\n",
       "    </tr>\n",
       "  </thead>\n",
       "  <tbody>\n",
       "    <tr>\n",
       "      <th>0</th>\n",
       "      <td>892420643555336193</td>\n",
       "      <td>NaN</td>\n",
       "      <td>NaN</td>\n",
       "      <td>2017-08-01 16:23:56 +0000</td>\n",
       "      <td>&lt;a href=\"http://twitter.com/download/iphone\" r...</td>\n",
       "      <td>This is Phineas. He's a mystical boy. Only eve...</td>\n",
       "      <td>NaN</td>\n",
       "      <td>NaN</td>\n",
       "      <td>NaN</td>\n",
       "      <td>https://twitter.com/dog_rates/status/892420643...</td>\n",
       "      <td>13</td>\n",
       "      <td>10</td>\n",
       "      <td>Phineas</td>\n",
       "      <td>None</td>\n",
       "      <td>None</td>\n",
       "      <td>None</td>\n",
       "      <td>None</td>\n",
       "    </tr>\n",
       "    <tr>\n",
       "      <th>1</th>\n",
       "      <td>892177421306343426</td>\n",
       "      <td>NaN</td>\n",
       "      <td>NaN</td>\n",
       "      <td>2017-08-01 00:17:27 +0000</td>\n",
       "      <td>&lt;a href=\"http://twitter.com/download/iphone\" r...</td>\n",
       "      <td>This is Tilly. She's just checking pup on you....</td>\n",
       "      <td>NaN</td>\n",
       "      <td>NaN</td>\n",
       "      <td>NaN</td>\n",
       "      <td>https://twitter.com/dog_rates/status/892177421...</td>\n",
       "      <td>13</td>\n",
       "      <td>10</td>\n",
       "      <td>Tilly</td>\n",
       "      <td>None</td>\n",
       "      <td>None</td>\n",
       "      <td>None</td>\n",
       "      <td>None</td>\n",
       "    </tr>\n",
       "  </tbody>\n",
       "</table>\n",
       "</div>"
      ],
      "text/plain": [
       "             tweet_id  in_reply_to_status_id  in_reply_to_user_id  \\\n",
       "0  892420643555336193                    NaN                  NaN   \n",
       "1  892177421306343426                    NaN                  NaN   \n",
       "\n",
       "                   timestamp  \\\n",
       "0  2017-08-01 16:23:56 +0000   \n",
       "1  2017-08-01 00:17:27 +0000   \n",
       "\n",
       "                                              source  \\\n",
       "0  <a href=\"http://twitter.com/download/iphone\" r...   \n",
       "1  <a href=\"http://twitter.com/download/iphone\" r...   \n",
       "\n",
       "                                                text  retweeted_status_id  \\\n",
       "0  This is Phineas. He's a mystical boy. Only eve...                  NaN   \n",
       "1  This is Tilly. She's just checking pup on you....                  NaN   \n",
       "\n",
       "   retweeted_status_user_id retweeted_status_timestamp  \\\n",
       "0                       NaN                        NaN   \n",
       "1                       NaN                        NaN   \n",
       "\n",
       "                                       expanded_urls  rating_numerator  \\\n",
       "0  https://twitter.com/dog_rates/status/892420643...                13   \n",
       "1  https://twitter.com/dog_rates/status/892177421...                13   \n",
       "\n",
       "   rating_denominator     name doggo floofer pupper puppo  \n",
       "0                  10  Phineas  None    None   None  None  \n",
       "1                  10    Tilly  None    None   None  None  "
      ]
     },
     "execution_count": 11,
     "metadata": {},
     "output_type": "execute_result"
    }
   ],
   "source": [
    "# df_twitter dataset\n",
    "# display first 2 rows\n",
    "df_twitter.head(2)"
   ]
  },
  {
   "cell_type": "code",
   "execution_count": 12,
   "metadata": {},
   "outputs": [
    {
     "name": "stdout",
     "output_type": "stream",
     "text": [
      "<class 'pandas.core.frame.DataFrame'>\n",
      "RangeIndex: 2356 entries, 0 to 2355\n",
      "Data columns (total 17 columns):\n",
      "tweet_id                      2356 non-null int64\n",
      "in_reply_to_status_id         78 non-null float64\n",
      "in_reply_to_user_id           78 non-null float64\n",
      "timestamp                     2356 non-null object\n",
      "source                        2356 non-null object\n",
      "text                          2356 non-null object\n",
      "retweeted_status_id           181 non-null float64\n",
      "retweeted_status_user_id      181 non-null float64\n",
      "retweeted_status_timestamp    181 non-null object\n",
      "expanded_urls                 2297 non-null object\n",
      "rating_numerator              2356 non-null int64\n",
      "rating_denominator            2356 non-null int64\n",
      "name                          2356 non-null object\n",
      "doggo                         2356 non-null object\n",
      "floofer                       2356 non-null object\n",
      "pupper                        2356 non-null object\n",
      "puppo                         2356 non-null object\n",
      "dtypes: float64(4), int64(3), object(10)\n",
      "memory usage: 313.0+ KB\n"
     ]
    }
   ],
   "source": [
    "df_twitter.info()"
   ]
  },
  {
   "cell_type": "code",
   "execution_count": 13,
   "metadata": {},
   "outputs": [
    {
     "data": {
      "text/plain": [
       "0"
      ]
     },
     "execution_count": 13,
     "metadata": {},
     "output_type": "execute_result"
    }
   ],
   "source": [
    "sum(df_twitter['tweet_id'].duplicated())"
   ]
  },
  {
   "cell_type": "code",
   "execution_count": 14,
   "metadata": {},
   "outputs": [
    {
     "data": {
      "text/html": [
       "<div>\n",
       "<style>\n",
       "    .dataframe thead tr:only-child th {\n",
       "        text-align: right;\n",
       "    }\n",
       "\n",
       "    .dataframe thead th {\n",
       "        text-align: left;\n",
       "    }\n",
       "\n",
       "    .dataframe tbody tr th {\n",
       "        vertical-align: top;\n",
       "    }\n",
       "</style>\n",
       "<table border=\"1\" class=\"dataframe\">\n",
       "  <thead>\n",
       "    <tr style=\"text-align: right;\">\n",
       "      <th></th>\n",
       "      <th>tweet_id</th>\n",
       "      <th>jpg_url</th>\n",
       "      <th>img_num</th>\n",
       "      <th>p1</th>\n",
       "      <th>p1_conf</th>\n",
       "      <th>p1_dog</th>\n",
       "      <th>p2</th>\n",
       "      <th>p2_conf</th>\n",
       "      <th>p2_dog</th>\n",
       "      <th>p3</th>\n",
       "      <th>p3_conf</th>\n",
       "      <th>p3_dog</th>\n",
       "    </tr>\n",
       "  </thead>\n",
       "  <tbody>\n",
       "    <tr>\n",
       "      <th>0</th>\n",
       "      <td>666020888022790149</td>\n",
       "      <td>https://pbs.twimg.com/media/CT4udn0WwAA0aMy.jpg</td>\n",
       "      <td>1</td>\n",
       "      <td>Welsh_springer_spaniel</td>\n",
       "      <td>0.465074</td>\n",
       "      <td>True</td>\n",
       "      <td>collie</td>\n",
       "      <td>0.156665</td>\n",
       "      <td>True</td>\n",
       "      <td>Shetland_sheepdog</td>\n",
       "      <td>0.061428</td>\n",
       "      <td>True</td>\n",
       "    </tr>\n",
       "    <tr>\n",
       "      <th>1</th>\n",
       "      <td>666029285002620928</td>\n",
       "      <td>https://pbs.twimg.com/media/CT42GRgUYAA5iDo.jpg</td>\n",
       "      <td>1</td>\n",
       "      <td>redbone</td>\n",
       "      <td>0.506826</td>\n",
       "      <td>True</td>\n",
       "      <td>miniature_pinscher</td>\n",
       "      <td>0.074192</td>\n",
       "      <td>True</td>\n",
       "      <td>Rhodesian_ridgeback</td>\n",
       "      <td>0.072010</td>\n",
       "      <td>True</td>\n",
       "    </tr>\n",
       "  </tbody>\n",
       "</table>\n",
       "</div>"
      ],
      "text/plain": [
       "             tweet_id                                          jpg_url  \\\n",
       "0  666020888022790149  https://pbs.twimg.com/media/CT4udn0WwAA0aMy.jpg   \n",
       "1  666029285002620928  https://pbs.twimg.com/media/CT42GRgUYAA5iDo.jpg   \n",
       "\n",
       "   img_num                      p1   p1_conf  p1_dog                  p2  \\\n",
       "0        1  Welsh_springer_spaniel  0.465074    True              collie   \n",
       "1        1                 redbone  0.506826    True  miniature_pinscher   \n",
       "\n",
       "    p2_conf  p2_dog                   p3   p3_conf  p3_dog  \n",
       "0  0.156665    True    Shetland_sheepdog  0.061428    True  \n",
       "1  0.074192    True  Rhodesian_ridgeback  0.072010    True  "
      ]
     },
     "execution_count": 14,
     "metadata": {},
     "output_type": "execute_result"
    }
   ],
   "source": [
    "# df_imagePredictions dataset\n",
    "# display first 2 rows\n",
    "df_imagePredictions.head(2)"
   ]
  },
  {
   "cell_type": "code",
   "execution_count": 15,
   "metadata": {},
   "outputs": [
    {
     "name": "stdout",
     "output_type": "stream",
     "text": [
      "<class 'pandas.core.frame.DataFrame'>\n",
      "RangeIndex: 2075 entries, 0 to 2074\n",
      "Data columns (total 12 columns):\n",
      "tweet_id    2075 non-null int64\n",
      "jpg_url     2075 non-null object\n",
      "img_num     2075 non-null int64\n",
      "p1          2075 non-null object\n",
      "p1_conf     2075 non-null float64\n",
      "p1_dog      2075 non-null bool\n",
      "p2          2075 non-null object\n",
      "p2_conf     2075 non-null float64\n",
      "p2_dog      2075 non-null bool\n",
      "p3          2075 non-null object\n",
      "p3_conf     2075 non-null float64\n",
      "p3_dog      2075 non-null bool\n",
      "dtypes: bool(3), float64(3), int64(2), object(4)\n",
      "memory usage: 152.1+ KB\n"
     ]
    }
   ],
   "source": [
    "df_imagePredictions.info()"
   ]
  },
  {
   "cell_type": "code",
   "execution_count": 16,
   "metadata": {},
   "outputs": [
    {
     "data": {
      "text/plain": [
       "0"
      ]
     },
     "execution_count": 16,
     "metadata": {},
     "output_type": "execute_result"
    }
   ],
   "source": [
    "sum(df_imagePredictions['tweet_id'].duplicated())"
   ]
  },
  {
   "cell_type": "code",
   "execution_count": 17,
   "metadata": {},
   "outputs": [
    {
     "data": {
      "text/html": [
       "<div>\n",
       "<style>\n",
       "    .dataframe thead tr:only-child th {\n",
       "        text-align: right;\n",
       "    }\n",
       "\n",
       "    .dataframe thead th {\n",
       "        text-align: left;\n",
       "    }\n",
       "\n",
       "    .dataframe tbody tr th {\n",
       "        vertical-align: top;\n",
       "    }\n",
       "</style>\n",
       "<table border=\"1\" class=\"dataframe\">\n",
       "  <thead>\n",
       "    <tr style=\"text-align: right;\">\n",
       "      <th></th>\n",
       "      <th>contributors</th>\n",
       "      <th>coordinates</th>\n",
       "      <th>created_at</th>\n",
       "      <th>entities</th>\n",
       "      <th>extended_entities</th>\n",
       "      <th>favorite_count</th>\n",
       "      <th>favorited</th>\n",
       "      <th>geo</th>\n",
       "      <th>id</th>\n",
       "      <th>id_str</th>\n",
       "      <th>...</th>\n",
       "      <th>quoted_status</th>\n",
       "      <th>quoted_status_id</th>\n",
       "      <th>quoted_status_id_str</th>\n",
       "      <th>retweet_count</th>\n",
       "      <th>retweeted</th>\n",
       "      <th>retweeted_status</th>\n",
       "      <th>source</th>\n",
       "      <th>text</th>\n",
       "      <th>truncated</th>\n",
       "      <th>user</th>\n",
       "    </tr>\n",
       "  </thead>\n",
       "  <tbody>\n",
       "    <tr>\n",
       "      <th>1991-02-08 13:48:08.022790149</th>\n",
       "      <td>NaN</td>\n",
       "      <td>NaN</td>\n",
       "      <td>2015-11-15 22:32:08</td>\n",
       "      <td>{'hashtags': [], 'media': [{'display_url': 'pi...</td>\n",
       "      <td>{'media': [{'display_url': 'pic.twitter.com/BL...</td>\n",
       "      <td>2549</td>\n",
       "      <td>0</td>\n",
       "      <td>NaN</td>\n",
       "      <td>666020888022790144</td>\n",
       "      <td>666020888022790144</td>\n",
       "      <td>...</td>\n",
       "      <td>NaN</td>\n",
       "      <td>NaN</td>\n",
       "      <td>NaN</td>\n",
       "      <td>508</td>\n",
       "      <td>0</td>\n",
       "      <td>NaN</td>\n",
       "      <td>&lt;a href=\"http://twitter.com/download/iphone\" r...</td>\n",
       "      <td>Here we have a Japanese Irish Setter. Lost eye...</td>\n",
       "      <td>0</td>\n",
       "      <td>{'contributors_enabled': False, 'created_at': ...</td>\n",
       "    </tr>\n",
       "    <tr>\n",
       "      <th>1991-02-08 16:08:05.002620928</th>\n",
       "      <td>NaN</td>\n",
       "      <td>NaN</td>\n",
       "      <td>2015-11-15 23:05:30</td>\n",
       "      <td>{'hashtags': [], 'media': [{'display_url': 'pi...</td>\n",
       "      <td>{'media': [{'display_url': 'pic.twitter.com/r7...</td>\n",
       "      <td>128</td>\n",
       "      <td>0</td>\n",
       "      <td>NaN</td>\n",
       "      <td>666029285002620928</td>\n",
       "      <td>666029285002620928</td>\n",
       "      <td>...</td>\n",
       "      <td>NaN</td>\n",
       "      <td>NaN</td>\n",
       "      <td>NaN</td>\n",
       "      <td>47</td>\n",
       "      <td>0</td>\n",
       "      <td>NaN</td>\n",
       "      <td>&lt;a href=\"http://twitter.com/download/iphone\" r...</td>\n",
       "      <td>This is a western brown Mitsubishi terrier. Up...</td>\n",
       "      <td>0</td>\n",
       "      <td>{'contributors_enabled': False, 'created_at': ...</td>\n",
       "    </tr>\n",
       "  </tbody>\n",
       "</table>\n",
       "<p>2 rows × 30 columns</p>\n",
       "</div>"
      ],
      "text/plain": [
       "                               contributors  coordinates          created_at  \\\n",
       "1991-02-08 13:48:08.022790149           NaN          NaN 2015-11-15 22:32:08   \n",
       "1991-02-08 16:08:05.002620928           NaN          NaN 2015-11-15 23:05:30   \n",
       "\n",
       "                                                                        entities  \\\n",
       "1991-02-08 13:48:08.022790149  {'hashtags': [], 'media': [{'display_url': 'pi...   \n",
       "1991-02-08 16:08:05.002620928  {'hashtags': [], 'media': [{'display_url': 'pi...   \n",
       "\n",
       "                                                               extended_entities  \\\n",
       "1991-02-08 13:48:08.022790149  {'media': [{'display_url': 'pic.twitter.com/BL...   \n",
       "1991-02-08 16:08:05.002620928  {'media': [{'display_url': 'pic.twitter.com/r7...   \n",
       "\n",
       "                               favorite_count  favorited  geo  \\\n",
       "1991-02-08 13:48:08.022790149            2549          0  NaN   \n",
       "1991-02-08 16:08:05.002620928             128          0  NaN   \n",
       "\n",
       "                                               id              id_str  \\\n",
       "1991-02-08 13:48:08.022790149  666020888022790144  666020888022790144   \n",
       "1991-02-08 16:08:05.002620928  666029285002620928  666029285002620928   \n",
       "\n",
       "                                                     ...                          \\\n",
       "1991-02-08 13:48:08.022790149                        ...                           \n",
       "1991-02-08 16:08:05.002620928                        ...                           \n",
       "\n",
       "                              quoted_status  quoted_status_id  \\\n",
       "1991-02-08 13:48:08.022790149           NaN               NaN   \n",
       "1991-02-08 16:08:05.002620928           NaN               NaN   \n",
       "\n",
       "                               quoted_status_id_str  retweet_count  retweeted  \\\n",
       "1991-02-08 13:48:08.022790149                   NaN            508          0   \n",
       "1991-02-08 16:08:05.002620928                   NaN             47          0   \n",
       "\n",
       "                               retweeted_status  \\\n",
       "1991-02-08 13:48:08.022790149               NaN   \n",
       "1991-02-08 16:08:05.002620928               NaN   \n",
       "\n",
       "                                                                          source  \\\n",
       "1991-02-08 13:48:08.022790149  <a href=\"http://twitter.com/download/iphone\" r...   \n",
       "1991-02-08 16:08:05.002620928  <a href=\"http://twitter.com/download/iphone\" r...   \n",
       "\n",
       "                                                                            text  \\\n",
       "1991-02-08 13:48:08.022790149  Here we have a Japanese Irish Setter. Lost eye...   \n",
       "1991-02-08 16:08:05.002620928  This is a western brown Mitsubishi terrier. Up...   \n",
       "\n",
       "                               truncated  \\\n",
       "1991-02-08 13:48:08.022790149          0   \n",
       "1991-02-08 16:08:05.002620928          0   \n",
       "\n",
       "                                                                            user  \n",
       "1991-02-08 13:48:08.022790149  {'contributors_enabled': False, 'created_at': ...  \n",
       "1991-02-08 16:08:05.002620928  {'contributors_enabled': False, 'created_at': ...  \n",
       "\n",
       "[2 rows x 30 columns]"
      ]
     },
     "execution_count": 17,
     "metadata": {},
     "output_type": "execute_result"
    }
   ],
   "source": [
    "# df_tweets dataset\n",
    "# display first 2 rows\n",
    "df_tweets.head(2)"
   ]
  },
  {
   "cell_type": "code",
   "execution_count": 18,
   "metadata": {
    "scrolled": false
   },
   "outputs": [
    {
     "name": "stdout",
     "output_type": "stream",
     "text": [
      "<class 'pandas.core.frame.DataFrame'>\n",
      "DatetimeIndex: 2341 entries, 1991-02-08 13:48:08.022790149 to 1998-04-12 22:37:23.555336193\n",
      "Data columns (total 30 columns):\n",
      "contributors                     0 non-null float64\n",
      "coordinates                      0 non-null float64\n",
      "created_at                       2341 non-null datetime64[ns]\n",
      "entities                         2341 non-null object\n",
      "extended_entities                1822 non-null object\n",
      "favorite_count                   2341 non-null int64\n",
      "favorited                        2341 non-null int64\n",
      "geo                              0 non-null float64\n",
      "id                               2341 non-null int64\n",
      "id_str                           2341 non-null int64\n",
      "in_reply_to_screen_name          78 non-null object\n",
      "in_reply_to_status_id            78 non-null float64\n",
      "in_reply_to_status_id_str        78 non-null float64\n",
      "in_reply_to_user_id              78 non-null float64\n",
      "in_reply_to_user_id_str          78 non-null float64\n",
      "is_quote_status                  2341 non-null int64\n",
      "lang                             2341 non-null object\n",
      "place                            1 non-null object\n",
      "possibly_sensitive               2205 non-null float64\n",
      "possibly_sensitive_appealable    2205 non-null float64\n",
      "quoted_status                    24 non-null object\n",
      "quoted_status_id                 26 non-null float64\n",
      "quoted_status_id_str             26 non-null float64\n",
      "retweet_count                    2341 non-null int64\n",
      "retweeted                        2341 non-null int64\n",
      "retweeted_status                 167 non-null object\n",
      "source                           2341 non-null object\n",
      "text                             2341 non-null object\n",
      "truncated                        2341 non-null int64\n",
      "user                             2341 non-null object\n",
      "dtypes: datetime64[ns](1), float64(11), int64(8), object(10)\n",
      "memory usage: 567.0+ KB\n"
     ]
    }
   ],
   "source": [
    "df_tweets.info()"
   ]
  },
  {
   "cell_type": "markdown",
   "metadata": {},
   "source": [
    "<a id='quality'></a>\n",
    "### Quality"
   ]
  },
  {
   "cell_type": "markdown",
   "metadata": {},
   "source": [
    "1. [jump to section:](#qualityNull) df_twitter and df_tweets data sets are both missing several values.\n",
    "\n",
    "* [jump to section:](#qualityRenameColumns) Attribute fields labels are misleading or at least lacking. For example, dataframe df_twitter, column labeled _name_; is this the account owner, pet owner, or anmial's name, is this a first name or a full name?\n",
    "\n",
    "* [jump to section:](#qualityAnimalNames) Within df_twitter, column labeled _name_, animal names are misleading or indicate non-animal names.\n",
    "\n",
    "* [jump to section:](#qualityError) Querying Twitter database for tweetID in tweetIDsList returns the following error codes.\n",
    "\n",
    "    * Error: [{'code': 144, 'message': 'No status found with that ID.'}]\n",
    "    \n",
    "    * Error: [{'code': 34, 'message': 'Sorry, that page does not exist.'}]\n",
    "    \n",
    "    * Error: [{'code': 179, 'message': 'Sorry, you are not authorized to see this status.'}]\n",
    "    \n",
    "    * Error: [{'message': 'Rate limit exceeded', 'code': 88}]\n",
    "\n",
    "* [jump to section:](#qualitySeparateDateTime) Separate _timestamp_ column out into two columns; date and time.\n",
    "\n",
    "* [jump to section:](#qualityDogType) Combine columns where possible. Similar columns are not distinct, and have similar values in separate columns. Regarding the df_imagePredictions dataframe; what's the difference between columns *p1_dog*, *p2_dog*, *p3_dog* and why are the values in separate columns?\n",
    "\n",
    "* [jump to section:](#qualityRemoveNumerator) Remove numberator values that are too large.\n",
    "\n",
    "* [jump to section:](#qualityIncorrectAnimals) Ensure all animals are of type dog. df_imagePredictions contains images of animals other than dogs (e.g. row 6 contains a [turtle](https://pbs.twimg.com/media/CT5KoJ1WoAAJash.jpg)).\n",
    "\n",
    "* [jump to section:](#qualityNumerator) Convert decimal values to floats.\n",
    "\n",
    "* [jump to section:](#qualityText) Text column contains decimals (e.g. 9.75).\n",
    "\n",
    "* I am only making a note here. Fixes are handled in different locations. df_twitter only has 2536 rows while df_imagePredictions has 2075. Clean the datasets so each column has an equal amount of entries.\n",
    "\n",
    "* I am only making a note here. Fixes are handled in different locations. Data entries do not follow a standard convention. Dataframe df_twitter, column labeled _name_ has many rows that look like they are first names. Row number 1 is *Tilly*, row 5 is *None*, 22 is *such*, and 2327 is *a*."
   ]
  },
  {
   "cell_type": "markdown",
   "metadata": {},
   "source": [
    "<a id='tidiness'></a>\n",
    "### Tidiness"
   ]
  },
  {
   "cell_type": "markdown",
   "metadata": {},
   "source": [
    "1. I am only making a note here. I will not make any changes regarding this note. There are three dataframes  df_twitter, df_imagePredictions, and df_tweets. These dataframes provide information regarding tweets, but they are not organized. It would be beneficial to create an entity relationship diagram (ERD) which would help separate the information and clean these dataframes.\n",
    "\n",
    "* [jump to section:](#tidyJoin) Another option is to join tables, rather than separating infortamion out further. This would allow me to consolidate relevant information into one table and eliminate unwanted columns. Still an ERD would be benefitial to map the datasets.\n",
    "\n",
    "* [jump to section:](#tidyDogType) Regarding the df_twitter dataframe. My best guess is the columns _doggo_, _floofer_, _pupper_, and _puppo_ columns represent the dog's developmental stage. The dataset would be cleaner if these values were placed in one column.\n",
    "\n",
    "* [jump to section:](#tidyReadability) Edit df_twitter column _source_ so labels are readable.\n",
    "\n",
    "* [jump to section:](#tidyNull) Remove columns that contain only null values.\n",
    "\n",
    "* [jump to section:](#dateTime) Convert datetime types from _object_ to _datetime_."
   ]
  },
  {
   "cell_type": "markdown",
   "metadata": {},
   "source": [
    "<a id='clean'></a>\n",
    "## Cleaning Data"
   ]
  },
  {
   "cell_type": "markdown",
   "metadata": {},
   "source": [
    "This is the third step in data wrangling. This is where I will fix the quality and tidiness issues previously stated."
   ]
  },
  {
   "cell_type": "markdown",
   "metadata": {},
   "source": [
    "<a id='qualityError'></a>\n",
    "#### Define"
   ]
  },
  {
   "cell_type": "markdown",
   "metadata": {},
   "source": [
    "*- Querying Twitter database for tweetID in tweetIDsList returns error codes.*\n",
    "\n",
    "I could only handle this with Try and Except in the data gathering section. But I am placing all error codes handled in a log file."
   ]
  },
  {
   "cell_type": "markdown",
   "metadata": {},
   "source": [
    "#### Code"
   ]
  },
  {
   "cell_type": "code",
   "execution_count": 19,
   "metadata": {},
   "outputs": [],
   "source": [
    "   \n",
    "# write errorList out to log\n",
    "with open('./assets/error_log.txt', 'w') as filehandle:\n",
    "    for listitem in errorList:\n",
    "        filehandle.write('%s\\n' % listitem)"
   ]
  },
  {
   "cell_type": "markdown",
   "metadata": {},
   "source": [
    "#### Test"
   ]
  },
  {
   "cell_type": "code",
   "execution_count": 20,
   "metadata": {},
   "outputs": [
    {
     "data": {
      "text/html": [
       "<div>\n",
       "<style>\n",
       "    .dataframe thead tr:only-child th {\n",
       "        text-align: right;\n",
       "    }\n",
       "\n",
       "    .dataframe thead th {\n",
       "        text-align: left;\n",
       "    }\n",
       "\n",
       "    .dataframe tbody tr th {\n",
       "        vertical-align: top;\n",
       "    }\n",
       "</style>\n",
       "<table border=\"1\" class=\"dataframe\">\n",
       "  <thead>\n",
       "    <tr style=\"text-align: right;\">\n",
       "      <th></th>\n",
       "      <th>0</th>\n",
       "    </tr>\n",
       "  </thead>\n",
       "  <tbody>\n",
       "    <tr>\n",
       "      <th>0</th>\n",
       "      <td>ID: 888202515573088257-&gt; Error: [{'code': 144,...</td>\n",
       "    </tr>\n",
       "    <tr>\n",
       "      <th>1</th>\n",
       "      <td>ID: 873697596434513921-&gt; Error: [{'code': 144,...</td>\n",
       "    </tr>\n",
       "    <tr>\n",
       "      <th>2</th>\n",
       "      <td>ID: 872668790621863937-&gt; Error: [{'code': 144,...</td>\n",
       "    </tr>\n",
       "  </tbody>\n",
       "</table>\n",
       "</div>"
      ],
      "text/plain": [
       "                                                   0\n",
       "0  ID: 888202515573088257-> Error: [{'code': 144,...\n",
       "1  ID: 873697596434513921-> Error: [{'code': 144,...\n",
       "2  ID: 872668790621863937-> Error: [{'code': 144,..."
      ]
     },
     "execution_count": 20,
     "metadata": {},
     "output_type": "execute_result"
    }
   ],
   "source": [
    "df_log = pd.read_csv('./assets/error_log.txt', delimiter = \"\\t\", header=None)\n",
    "df_log.head(3)"
   ]
  },
  {
   "cell_type": "markdown",
   "metadata": {},
   "source": [
    "<a id='tidyJoin'></a>\n",
    "#### Define"
   ]
  },
  {
   "cell_type": "markdown",
   "metadata": {},
   "source": [
    "*- Another option is to join tables, rather than separating infortamion out further.*\n",
    "\n",
    "In this section I'll join [<sup>7</sup>](#resources) the tables."
   ]
  },
  {
   "cell_type": "code",
   "execution_count": 21,
   "metadata": {},
   "outputs": [
    {
     "data": {
      "text/plain": [
       "['tweet_id',\n",
       " 'in_reply_to_status_id',\n",
       " 'in_reply_to_user_id',\n",
       " 'timestamp',\n",
       " 'source',\n",
       " 'text',\n",
       " 'retweeted_status_id',\n",
       " 'retweeted_status_user_id',\n",
       " 'retweeted_status_timestamp',\n",
       " 'expanded_urls',\n",
       " 'rating_numerator',\n",
       " 'rating_denominator',\n",
       " 'name',\n",
       " 'doggo',\n",
       " 'floofer',\n",
       " 'pupper',\n",
       " 'puppo']"
      ]
     },
     "execution_count": 21,
     "metadata": {},
     "output_type": "execute_result"
    }
   ],
   "source": [
    "list(df_twitter)"
   ]
  },
  {
   "cell_type": "code",
   "execution_count": 22,
   "metadata": {},
   "outputs": [
    {
     "data": {
      "text/plain": [
       "['contributors',\n",
       " 'coordinates',\n",
       " 'created_at',\n",
       " 'entities',\n",
       " 'extended_entities',\n",
       " 'favorite_count',\n",
       " 'favorited',\n",
       " 'geo',\n",
       " 'id',\n",
       " 'id_str',\n",
       " 'in_reply_to_screen_name',\n",
       " 'in_reply_to_status_id',\n",
       " 'in_reply_to_status_id_str',\n",
       " 'in_reply_to_user_id',\n",
       " 'in_reply_to_user_id_str',\n",
       " 'is_quote_status',\n",
       " 'lang',\n",
       " 'place',\n",
       " 'possibly_sensitive',\n",
       " 'possibly_sensitive_appealable',\n",
       " 'quoted_status',\n",
       " 'quoted_status_id',\n",
       " 'quoted_status_id_str',\n",
       " 'retweet_count',\n",
       " 'retweeted',\n",
       " 'retweeted_status',\n",
       " 'source',\n",
       " 'text',\n",
       " 'truncated',\n",
       " 'user']"
      ]
     },
     "execution_count": 22,
     "metadata": {},
     "output_type": "execute_result"
    }
   ],
   "source": [
    "list(df_tweets)"
   ]
  },
  {
   "cell_type": "markdown",
   "metadata": {},
   "source": [
    "#### Code"
   ]
  },
  {
   "cell_type": "code",
   "execution_count": 23,
   "metadata": {},
   "outputs": [],
   "source": [
    "# Join left all three dataframes df_twitter, df_imagePredictions, and df_tweets.\n",
    "df_cleanData = pd.merge(df_twitter, df_imagePredictions, on = 'tweet_id', how = 'left')\n",
    "\n",
    "# Merge two dataframes with different column names using left_on and right_on\n",
    "df_cleanData = pd.merge(df_cleanData, df_tweets, how = 'left', left_on = 'tweet_id', right_on = 'id')\n",
    "\n",
    "df_cleanData.to_csv('./assets/df_clean.csv', encoding = 'utf-8')"
   ]
  },
  {
   "cell_type": "markdown",
   "metadata": {},
   "source": [
    "#### Test"
   ]
  },
  {
   "cell_type": "code",
   "execution_count": 24,
   "metadata": {
    "scrolled": false
   },
   "outputs": [
    {
     "name": "stdout",
     "output_type": "stream",
     "text": [
      "<class 'pandas.core.frame.DataFrame'>\n",
      "Int64Index: 2356 entries, 0 to 2355\n",
      "Data columns (total 58 columns):\n",
      "tweet_id                         2356 non-null int64\n",
      "in_reply_to_status_id_x          78 non-null float64\n",
      "in_reply_to_user_id_x            78 non-null float64\n",
      "timestamp                        2356 non-null object\n",
      "source_x                         2356 non-null object\n",
      "text_x                           2356 non-null object\n",
      "retweeted_status_id              181 non-null float64\n",
      "retweeted_status_user_id         181 non-null float64\n",
      "retweeted_status_timestamp       181 non-null object\n",
      "expanded_urls                    2297 non-null object\n",
      "rating_numerator                 2356 non-null int64\n",
      "rating_denominator               2356 non-null int64\n",
      "name                             2356 non-null object\n",
      "doggo                            2356 non-null object\n",
      "floofer                          2356 non-null object\n",
      "pupper                           2356 non-null object\n",
      "puppo                            2356 non-null object\n",
      "jpg_url                          2075 non-null object\n",
      "img_num                          2075 non-null float64\n",
      "p1                               2075 non-null object\n",
      "p1_conf                          2075 non-null float64\n",
      "p1_dog                           2075 non-null object\n",
      "p2                               2075 non-null object\n",
      "p2_conf                          2075 non-null float64\n",
      "p2_dog                           2075 non-null object\n",
      "p3                               2075 non-null object\n",
      "p3_conf                          2075 non-null float64\n",
      "p3_dog                           2075 non-null object\n",
      "contributors                     0 non-null float64\n",
      "coordinates                      0 non-null float64\n",
      "created_at                       1511 non-null datetime64[ns]\n",
      "entities                         1511 non-null object\n",
      "extended_entities                1204 non-null object\n",
      "favorite_count                   1511 non-null float64\n",
      "favorited                        1511 non-null float64\n",
      "geo                              0 non-null float64\n",
      "id                               1511 non-null float64\n",
      "id_str                           1511 non-null float64\n",
      "in_reply_to_screen_name          49 non-null object\n",
      "in_reply_to_status_id_y          49 non-null float64\n",
      "in_reply_to_status_id_str        49 non-null float64\n",
      "in_reply_to_user_id_y            49 non-null float64\n",
      "in_reply_to_user_id_str          49 non-null float64\n",
      "is_quote_status                  1511 non-null float64\n",
      "lang                             1511 non-null object\n",
      "place                            1 non-null object\n",
      "possibly_sensitive               1437 non-null float64\n",
      "possibly_sensitive_appealable    1437 non-null float64\n",
      "quoted_status                    17 non-null object\n",
      "quoted_status_id                 18 non-null float64\n",
      "quoted_status_id_str             18 non-null float64\n",
      "retweet_count                    1511 non-null float64\n",
      "retweeted                        1511 non-null float64\n",
      "retweeted_status                 92 non-null object\n",
      "source_y                         1511 non-null object\n",
      "text_y                           1511 non-null object\n",
      "truncated                        1511 non-null float64\n",
      "user                             1511 non-null object\n",
      "dtypes: datetime64[ns](1), float64(27), int64(3), object(27)\n",
      "memory usage: 1.1+ MB\n"
     ]
    }
   ],
   "source": [
    "df_cleanData.info()"
   ]
  },
  {
   "cell_type": "markdown",
   "metadata": {},
   "source": [
    "<a id='qualityNull'></a>\n",
    "#### Define"
   ]
  },
  {
   "cell_type": "markdown",
   "metadata": {},
   "source": [
    "*- df_twitter and df_tweets data sets are both missing several values.*\n",
    "\n",
    "Remove retweets that provide null data. "
   ]
  },
  {
   "cell_type": "markdown",
   "metadata": {},
   "source": [
    "#### Code"
   ]
  },
  {
   "cell_type": "code",
   "execution_count": 25,
   "metadata": {},
   "outputs": [],
   "source": [
    "# Remove retweets and keep row when isnull returns True.\n",
    "df_cleanData = df_cleanData[pd.isnull(df_cleanData['retweeted_status_id'])]"
   ]
  },
  {
   "cell_type": "markdown",
   "metadata": {},
   "source": [
    "#### Test"
   ]
  },
  {
   "cell_type": "code",
   "execution_count": 26,
   "metadata": {},
   "outputs": [
    {
     "data": {
      "text/plain": [
       "2175"
      ]
     },
     "execution_count": 26,
     "metadata": {},
     "output_type": "execute_result"
    }
   ],
   "source": [
    "# shape of the remaining \n",
    "df_cleanData.shape[0]"
   ]
  },
  {
   "cell_type": "markdown",
   "metadata": {},
   "source": [
    "<a id=''></a>\n",
    "#### Define"
   ]
  },
  {
   "cell_type": "markdown",
   "metadata": {},
   "source": [
    "Remove unwanted columns and columns that contain only null values."
   ]
  },
  {
   "cell_type": "markdown",
   "metadata": {},
   "source": [
    "#### Code"
   ]
  },
  {
   "cell_type": "code",
   "execution_count": 27,
   "metadata": {},
   "outputs": [],
   "source": [
    "# remove id and created_at b/c they are identical to tweet_id and timestamp\n",
    "df_cleanData = df_cleanData.drop(['in_reply_to_status_id_x',\n",
    "                                  'in_reply_to_user_id_x',\n",
    "                                  \n",
    "                                  'retweeted_status_id',\n",
    "                                  'retweeted_status_user_id',                                  \n",
    "                                  'retweeted_status_timestamp',\n",
    "\n",
    "                                  'contributors',\n",
    "                                  'coordinates',\n",
    "                                  'created_at',\n",
    "                                  'extended_entities',\n",
    "                                  'geo',\n",
    "                                  'id',\n",
    "                                  'in_reply_to_screen_name',\n",
    "                                  'in_reply_to_status_id_y',\n",
    "                                  'in_reply_to_status_id_str',\n",
    "                                  'in_reply_to_user_id_y',\n",
    "                                  'in_reply_to_user_id_str',\n",
    "                                  'quoted_status',\n",
    "                                  'quoted_status_id',\n",
    "                                  'quoted_status_id_str',\n",
    "                                  'place',\n",
    "                                  'retweeted',\n",
    "                                  'source_y',\n",
    "                                  'text_y'], \n",
    "                                 axis=1)"
   ]
  },
  {
   "cell_type": "markdown",
   "metadata": {},
   "source": [
    "#### Test"
   ]
  },
  {
   "cell_type": "code",
   "execution_count": 28,
   "metadata": {},
   "outputs": [
    {
     "name": "stdout",
     "output_type": "stream",
     "text": [
      "<class 'pandas.core.frame.DataFrame'>\n",
      "Int64Index: 2175 entries, 0 to 2355\n",
      "Data columns (total 35 columns):\n",
      "tweet_id                         2175 non-null int64\n",
      "timestamp                        2175 non-null object\n",
      "source_x                         2175 non-null object\n",
      "text_x                           2175 non-null object\n",
      "expanded_urls                    2117 non-null object\n",
      "rating_numerator                 2175 non-null int64\n",
      "rating_denominator               2175 non-null int64\n",
      "name                             2175 non-null object\n",
      "doggo                            2175 non-null object\n",
      "floofer                          2175 non-null object\n",
      "pupper                           2175 non-null object\n",
      "puppo                            2175 non-null object\n",
      "jpg_url                          1994 non-null object\n",
      "img_num                          1994 non-null float64\n",
      "p1                               1994 non-null object\n",
      "p1_conf                          1994 non-null float64\n",
      "p1_dog                           1994 non-null object\n",
      "p2                               1994 non-null object\n",
      "p2_conf                          1994 non-null float64\n",
      "p2_dog                           1994 non-null object\n",
      "p3                               1994 non-null object\n",
      "p3_conf                          1994 non-null float64\n",
      "p3_dog                           1994 non-null object\n",
      "entities                         1419 non-null object\n",
      "favorite_count                   1419 non-null float64\n",
      "favorited                        1419 non-null float64\n",
      "id_str                           1419 non-null float64\n",
      "is_quote_status                  1419 non-null float64\n",
      "lang                             1419 non-null object\n",
      "possibly_sensitive               1383 non-null float64\n",
      "possibly_sensitive_appealable    1383 non-null float64\n",
      "retweet_count                    1419 non-null float64\n",
      "retweeted_status                 0 non-null object\n",
      "truncated                        1419 non-null float64\n",
      "user                             1419 non-null object\n",
      "dtypes: float64(12), int64(3), object(20)\n",
      "memory usage: 611.7+ KB\n"
     ]
    }
   ],
   "source": [
    "df_cleanData.info()"
   ]
  },
  {
   "cell_type": "markdown",
   "metadata": {},
   "source": [
    "<a id='qualityRenameColumns'></a>\n",
    "#### Define"
   ]
  },
  {
   "cell_type": "markdown",
   "metadata": {},
   "source": [
    "*- Attribute fields labels are misleading or at least lacking.*\n",
    "\n",
    "In this section, I rename columns to provide clarity."
   ]
  },
  {
   "cell_type": "markdown",
   "metadata": {},
   "source": [
    "#### Code"
   ]
  },
  {
   "cell_type": "code",
   "execution_count": 29,
   "metadata": {},
   "outputs": [],
   "source": [
    "df_cleanData.rename(columns={'source_x':'source',\n",
    "                             'text_x': 'text',\n",
    "                             'name': 'pets_name'\n",
    "                  },\n",
    "          inplace=True\n",
    "         )"
   ]
  },
  {
   "cell_type": "markdown",
   "metadata": {},
   "source": [
    "#### Test"
   ]
  },
  {
   "cell_type": "code",
   "execution_count": 30,
   "metadata": {},
   "outputs": [
    {
     "name": "stdout",
     "output_type": "stream",
     "text": [
      "tweet_id\n",
      "timestamp\n",
      "source\n",
      "text\n",
      "expanded_urls\n",
      "rating_numerator\n",
      "rating_denominator\n",
      "pets_name\n",
      "doggo\n",
      "floofer\n",
      "pupper\n",
      "puppo\n",
      "jpg_url\n",
      "img_num\n",
      "p1\n",
      "p1_conf\n",
      "p1_dog\n",
      "p2\n",
      "p2_conf\n",
      "p2_dog\n",
      "p3\n",
      "p3_conf\n",
      "p3_dog\n",
      "entities\n",
      "favorite_count\n",
      "favorited\n",
      "id_str\n",
      "is_quote_status\n",
      "lang\n",
      "possibly_sensitive\n",
      "possibly_sensitive_appealable\n",
      "retweet_count\n",
      "retweeted_status\n",
      "truncated\n",
      "user\n"
     ]
    }
   ],
   "source": [
    "for i in df_cleanData.columns:\n",
    "    print(i)"
   ]
  },
  {
   "cell_type": "markdown",
   "metadata": {},
   "source": [
    "<a id='dateTime'></a>\n",
    "#### Define"
   ]
  },
  {
   "cell_type": "markdown",
   "metadata": {},
   "source": [
    "*- Convert datetime types from _object_ to _datetime_.*\n",
    "\n",
    "I this sections I will convert column _timestamp_ to datatime objects."
   ]
  },
  {
   "cell_type": "markdown",
   "metadata": {},
   "source": [
    "#### Code"
   ]
  },
  {
   "cell_type": "code",
   "execution_count": 31,
   "metadata": {},
   "outputs": [],
   "source": [
    "df_cleanData[['timestamp']] = df_cleanData[['timestamp']].apply(pd.to_datetime)"
   ]
  },
  {
   "cell_type": "markdown",
   "metadata": {},
   "source": [
    "#### Test"
   ]
  },
  {
   "cell_type": "code",
   "execution_count": 32,
   "metadata": {},
   "outputs": [
    {
     "name": "stdout",
     "output_type": "stream",
     "text": [
      "<class 'pandas.core.frame.DataFrame'>\n",
      "Int64Index: 2175 entries, 0 to 2355\n",
      "Data columns (total 35 columns):\n",
      "tweet_id                         2175 non-null int64\n",
      "timestamp                        2175 non-null datetime64[ns]\n",
      "source                           2175 non-null object\n",
      "text                             2175 non-null object\n",
      "expanded_urls                    2117 non-null object\n",
      "rating_numerator                 2175 non-null int64\n",
      "rating_denominator               2175 non-null int64\n",
      "pets_name                        2175 non-null object\n",
      "doggo                            2175 non-null object\n",
      "floofer                          2175 non-null object\n",
      "pupper                           2175 non-null object\n",
      "puppo                            2175 non-null object\n",
      "jpg_url                          1994 non-null object\n",
      "img_num                          1994 non-null float64\n",
      "p1                               1994 non-null object\n",
      "p1_conf                          1994 non-null float64\n",
      "p1_dog                           1994 non-null object\n",
      "p2                               1994 non-null object\n",
      "p2_conf                          1994 non-null float64\n",
      "p2_dog                           1994 non-null object\n",
      "p3                               1994 non-null object\n",
      "p3_conf                          1994 non-null float64\n",
      "p3_dog                           1994 non-null object\n",
      "entities                         1419 non-null object\n",
      "favorite_count                   1419 non-null float64\n",
      "favorited                        1419 non-null float64\n",
      "id_str                           1419 non-null float64\n",
      "is_quote_status                  1419 non-null float64\n",
      "lang                             1419 non-null object\n",
      "possibly_sensitive               1383 non-null float64\n",
      "possibly_sensitive_appealable    1383 non-null float64\n",
      "retweet_count                    1419 non-null float64\n",
      "retweeted_status                 0 non-null object\n",
      "truncated                        1419 non-null float64\n",
      "user                             1419 non-null object\n",
      "dtypes: datetime64[ns](1), float64(12), int64(3), object(19)\n",
      "memory usage: 611.7+ KB\n"
     ]
    }
   ],
   "source": [
    "df_cleanData.info()"
   ]
  },
  {
   "cell_type": "markdown",
   "metadata": {},
   "source": [
    "<a id='qualitySeparateDateTime'></a>\n",
    "#### Define"
   ]
  },
  {
   "cell_type": "markdown",
   "metadata": {},
   "source": [
    "*- Separate timestamp column out into two columns; date and time.*\n",
    "\n",
    "Create separate column _timestamp_ out into two separate columns _date_ and _time_, and format them accordingly. Convert the new columns to datetime objects, then drop the column _timestamp_."
   ]
  },
  {
   "cell_type": "markdown",
   "metadata": {},
   "source": [
    "#### Code"
   ]
  },
  {
   "cell_type": "code",
   "execution_count": 33,
   "metadata": {},
   "outputs": [],
   "source": [
    "# df_cleanData['date'] = df_cleanData['timestamp'].apply(lambda time: time.strftime('%m-%d-%Y'))\n",
    "df_cleanData['date'] = df_cleanData['timestamp'].apply(lambda time: time.strftime('%Y-%m-%d'))\n",
    "df_cleanData['time'] = df_cleanData['timestamp'].apply(lambda time: time.strftime('%H:%M'))\n",
    "\n",
    "# convert new columns to datetime objects\n",
    "df_cleanData[['date']] = df_cleanData[['date']].apply(pd.to_datetime)\n",
    "df_cleanData[['time']] = df_cleanData[['time']].apply(pd.to_datetime)\n",
    "df_cleanData.head(1)\n",
    "\n",
    "# Drop timestamp column\n",
    "df_cleanData = df_cleanData.drop(['timestamp'], axis = 1)\n"
   ]
  },
  {
   "cell_type": "markdown",
   "metadata": {},
   "source": [
    "#### Test"
   ]
  },
  {
   "cell_type": "code",
   "execution_count": 34,
   "metadata": {},
   "outputs": [
    {
     "name": "stdout",
     "output_type": "stream",
     "text": [
      "<class 'pandas.core.frame.DataFrame'>\n",
      "Int64Index: 2175 entries, 0 to 2355\n",
      "Data columns (total 36 columns):\n",
      "tweet_id                         2175 non-null int64\n",
      "source                           2175 non-null object\n",
      "text                             2175 non-null object\n",
      "expanded_urls                    2117 non-null object\n",
      "rating_numerator                 2175 non-null int64\n",
      "rating_denominator               2175 non-null int64\n",
      "pets_name                        2175 non-null object\n",
      "doggo                            2175 non-null object\n",
      "floofer                          2175 non-null object\n",
      "pupper                           2175 non-null object\n",
      "puppo                            2175 non-null object\n",
      "jpg_url                          1994 non-null object\n",
      "img_num                          1994 non-null float64\n",
      "p1                               1994 non-null object\n",
      "p1_conf                          1994 non-null float64\n",
      "p1_dog                           1994 non-null object\n",
      "p2                               1994 non-null object\n",
      "p2_conf                          1994 non-null float64\n",
      "p2_dog                           1994 non-null object\n",
      "p3                               1994 non-null object\n",
      "p3_conf                          1994 non-null float64\n",
      "p3_dog                           1994 non-null object\n",
      "entities                         1419 non-null object\n",
      "favorite_count                   1419 non-null float64\n",
      "favorited                        1419 non-null float64\n",
      "id_str                           1419 non-null float64\n",
      "is_quote_status                  1419 non-null float64\n",
      "lang                             1419 non-null object\n",
      "possibly_sensitive               1383 non-null float64\n",
      "possibly_sensitive_appealable    1383 non-null float64\n",
      "retweet_count                    1419 non-null float64\n",
      "retweeted_status                 0 non-null object\n",
      "truncated                        1419 non-null float64\n",
      "user                             1419 non-null object\n",
      "date                             2175 non-null datetime64[ns]\n",
      "time                             2175 non-null datetime64[ns]\n",
      "dtypes: datetime64[ns](2), float64(12), int64(3), object(19)\n",
      "memory usage: 628.7+ KB\n"
     ]
    }
   ],
   "source": [
    "df_cleanData.info()"
   ]
  },
  {
   "cell_type": "markdown",
   "metadata": {},
   "source": [
    "<a id=''></a>\n",
    "#### Define"
   ]
  },
  {
   "cell_type": "markdown",
   "metadata": {},
   "source": [
    "Check for duplicate tweet_id's, if so delete them."
   ]
  },
  {
   "cell_type": "markdown",
   "metadata": {},
   "source": [
    "#### Code"
   ]
  },
  {
   "cell_type": "markdown",
   "metadata": {},
   "source": [
    "No code needed. The test below shows there are zero duplicates in *tweet_id*."
   ]
  },
  {
   "cell_type": "markdown",
   "metadata": {},
   "source": [
    "#### Test"
   ]
  },
  {
   "cell_type": "code",
   "execution_count": 35,
   "metadata": {},
   "outputs": [
    {
     "data": {
      "text/plain": [
       "0"
      ]
     },
     "execution_count": 35,
     "metadata": {},
     "output_type": "execute_result"
    }
   ],
   "source": [
    "sum(df_cleanData['tweet_id'].duplicated())"
   ]
  },
  {
   "cell_type": "markdown",
   "metadata": {},
   "source": [
    "<a id=''></a>\n",
    "#### Define"
   ]
  },
  {
   "cell_type": "markdown",
   "metadata": {},
   "source": [
    "Check for tweets with missing images and drop them."
   ]
  },
  {
   "cell_type": "markdown",
   "metadata": {},
   "source": [
    "#### Code"
   ]
  },
  {
   "cell_type": "code",
   "execution_count": 36,
   "metadata": {},
   "outputs": [],
   "source": [
    "missingImagesPrevious = sum(pd.isnull(df_cleanData['jpg_url']))\n",
    "df_cleanData = df_cleanData.dropna(subset = ['jpg_url'])\n",
    "missingImagesCurrent = sum(pd.isnull(df_cleanData['jpg_url']))"
   ]
  },
  {
   "cell_type": "markdown",
   "metadata": {},
   "source": [
    "#### Test"
   ]
  },
  {
   "cell_type": "code",
   "execution_count": 37,
   "metadata": {},
   "outputs": [
    {
     "name": "stdout",
     "output_type": "stream",
     "text": [
      "There were 181 rows missing an image.\n",
      "There are 0 rows missing an image.\n"
     ]
    }
   ],
   "source": [
    "print(\"There were %d rows missing an image.\" % (missingImagesPrevious))\n",
    "print(\"There are %d rows missing an image.\" % (missingImagesCurrent))"
   ]
  },
  {
   "cell_type": "markdown",
   "metadata": {},
   "source": [
    "<a id='tidyDogType'></a>\n",
    "#### Define"
   ]
  },
  {
   "cell_type": "markdown",
   "metadata": {},
   "source": [
    "*- Regarding the df_twitter dataframe. My best guess is the columns _doggo_, _floofer_, _pupper_, and _puppo_ columns represent the dog's developmental stage. The dataset would be cleaner if these values were placed in one column.*\n",
    "\n",
    "Merge dog developmental stages *pupper, puppo, doggo, floofer* into one column. Any misnamed stages will need to be renamed."
   ]
  },
  {
   "cell_type": "markdown",
   "metadata": {},
   "source": [
    "#### Code"
   ]
  },
  {
   "cell_type": "code",
   "execution_count": 38,
   "metadata": {},
   "outputs": [],
   "source": [
    "def replaceNames(columnName, currentValue, newValue):\n",
    "    df_cleanData[columnName].replace(currentValue, newValue, inplace=True)"
   ]
  },
  {
   "cell_type": "code",
   "execution_count": 39,
   "metadata": {},
   "outputs": [],
   "source": [
    "stageList = ['pupper',\n",
    "             'puppo',\n",
    "             'doggo',\n",
    "             'floofer']\n",
    "\n",
    "for stage in stageList:\n",
    "    replaceNames(stage, 'None', '')"
   ]
  },
  {
   "cell_type": "code",
   "execution_count": 40,
   "metadata": {},
   "outputs": [],
   "source": [
    "# Replacing n/a with empty strings\n",
    "df_cleanData.update(df_cleanData[['pupper',\n",
    "                                  'puppo',\n",
    "                                  'doggo',\n",
    "                                  'floofer']\n",
    "                                ].fillna(''))\n",
    "\n",
    "# Merge dog phases into one new column using sum()\n",
    "df_cleanData['developmentalStage'] = df_cleanData[['doggo',\n",
    "                                                   'floofer',\n",
    "                                                   'pupper',\n",
    "                                                   'puppo']\n",
    "                                                    ].sum(axis=1)"
   ]
  },
  {
   "cell_type": "markdown",
   "metadata": {},
   "source": [
    "#### Test"
   ]
  },
  {
   "cell_type": "code",
   "execution_count": 41,
   "metadata": {},
   "outputs": [
    {
     "name": "stdout",
     "output_type": "stream",
     "text": [
      "0: \n",
      "1: doggo\n",
      "2: puppo\n",
      "3: pupper\n",
      "4: floofer\n",
      "5: doggopuppo\n",
      "6: doggofloofer\n",
      "7: doggopupper\n"
     ]
    }
   ],
   "source": [
    "# Unique names of the developmental stages after rename\n",
    "n = 0\n",
    "for i in df_cleanData['developmentalStage'].unique():\n",
    "    print(\"{}: {}\".format(n, i))\n",
    "    n = n + 1\n"
   ]
  },
  {
   "cell_type": "markdown",
   "metadata": {},
   "source": [
    "<a id=''></a>\n",
    "#### Define"
   ]
  },
  {
   "cell_type": "markdown",
   "metadata": {},
   "source": [
    "There is an empty string in the list above (direclty before doggo). Also, duplicate values appear when rows have multiple entries (*e.g. doggopuppo, doggofloofer, doggopupper*). These need to be fixed. Empty strings will be coded with *no-entry*, and multiple entries will be named *multi-entry*. Then drop the columns *pupper, puppo, doggo, floofer*."
   ]
  },
  {
   "cell_type": "markdown",
   "metadata": {},
   "source": [
    "#### Code"
   ]
  },
  {
   "cell_type": "code",
   "execution_count": 42,
   "metadata": {},
   "outputs": [],
   "source": [
    "# Fix the misnamed developmental stages by renaming cells that have multiple entries for developmental stage, name it multi-entry\n",
    "listMultipleDogType = ['doggopuppo', 'doggofloofer', 'doggopupper']\n",
    "for multiple in listMultipleDogType:\n",
    "    replaceNames('developmentalStage', multiple, 'multi-entry')\n",
    "\n",
    "# Replace empty strings with None, did this now to eliminate duplicate work if None used earlier\n",
    "replaceNames('developmentalStage', '', 'no-entry')"
   ]
  },
  {
   "cell_type": "code",
   "execution_count": 43,
   "metadata": {},
   "outputs": [],
   "source": [
    "# Drop various dog stages\n",
    "df_cleanData = df_cleanData.drop(['pupper',\n",
    "                             'puppo',\n",
    "                             'doggo',\n",
    "                             'floofer'],\n",
    "                            axis = 1)"
   ]
  },
  {
   "cell_type": "markdown",
   "metadata": {},
   "source": [
    "#### Test"
   ]
  },
  {
   "cell_type": "code",
   "execution_count": 44,
   "metadata": {},
   "outputs": [
    {
     "name": "stdout",
     "output_type": "stream",
     "text": [
      "0: no-entry\n",
      "1: doggo\n",
      "2: puppo\n",
      "3: pupper\n",
      "4: floofer\n",
      "5: multi-entry\n"
     ]
    }
   ],
   "source": [
    "n = 0\n",
    "for i in df_cleanData['developmentalStage'].unique():\n",
    "    print(\"{}: {}\".format(n, i))\n",
    "    n = n + 1"
   ]
  },
  {
   "cell_type": "code",
   "execution_count": 45,
   "metadata": {},
   "outputs": [
    {
     "name": "stdout",
     "output_type": "stream",
     "text": [
      "tweet_id\n",
      "source\n",
      "text\n",
      "expanded_urls\n",
      "rating_numerator\n",
      "rating_denominator\n",
      "pets_name\n",
      "jpg_url\n",
      "img_num\n",
      "p1\n",
      "p1_conf\n",
      "p1_dog\n",
      "p2\n",
      "p2_conf\n",
      "p2_dog\n",
      "p3\n",
      "p3_conf\n",
      "p3_dog\n",
      "entities\n",
      "favorite_count\n",
      "favorited\n",
      "id_str\n",
      "is_quote_status\n",
      "lang\n",
      "possibly_sensitive\n",
      "possibly_sensitive_appealable\n",
      "retweet_count\n",
      "retweeted_status\n",
      "truncated\n",
      "user\n",
      "date\n",
      "time\n",
      "developmentalStage\n"
     ]
    }
   ],
   "source": [
    "for i in df_cleanData.columns:\n",
    "    print(i)"
   ]
  },
  {
   "cell_type": "markdown",
   "metadata": {},
   "source": [
    "<a id='qualityDogType'></a>\n",
    "<a id='qualityIncorrectAnimals'></a>\n",
    "#### Define"
   ]
  },
  {
   "cell_type": "markdown",
   "metadata": {},
   "source": [
    "*- Combine columns where possible.*\n",
    "\n",
    "*- Ensure all animals are of type dog.*\n",
    "\n",
    "Create a function *dog_type()*. It will be used to place dog types *max* & *confs* values into their respective column. This function will also drop animals that are not of type dog."
   ]
  },
  {
   "cell_type": "markdown",
   "metadata": {},
   "source": [
    "#### Code"
   ]
  },
  {
   "cell_type": "code",
   "execution_count": 46,
   "metadata": {},
   "outputs": [],
   "source": [
    "dogTypeMax = []\n",
    "dogConfsMax = []\n",
    "def dog_type(animal):\n",
    "    dogs = []\n",
    "    dogConfs = []\n",
    "            \n",
    "    if animal[\"p1_dog\"]:\n",
    "        dogs.append(animal[\"p1\"])\n",
    "        dogConfs.append(animal[\"p1_conf\"])\n",
    "    if animal[\"p2_dog\"]:\n",
    "        dogs.append(animal[\"p1\"])        \n",
    "        dogConfs.append(animal[\"p2_conf\"])\n",
    "    if animal[\"p3_dog\"]:\n",
    "        dogs.append(animal[\"p1\"])        \n",
    "        dogConfs.append(animal[\"p3_conf\"])\n",
    "    if not animal[\"p1_dog\"] and not animal[\"p2_dog\"] and not animal[\"p3_dog\"]:\n",
    "        dogs.append(False)\n",
    "        dogConfs.append(np.nan)\n",
    "\n",
    "    max_index = np.argmax(dogConfs)\n",
    "    max_value = np.max(dogConfs)    \n",
    "\n",
    "    dogTypeMax.append(dogs[max_index])\n",
    "    dogConfsMax.append(max_value)\n",
    "\n",
    "df_cleanData.apply(dog_type, axis = 1)\n",
    "df_cleanData['dogTypeMax'] = dogTypeMax\n",
    "df_cleanData['dogConfsMax'] = dogConfsMax"
   ]
  },
  {
   "cell_type": "markdown",
   "metadata": {},
   "source": [
    "#### Test"
   ]
  },
  {
   "cell_type": "code",
   "execution_count": 47,
   "metadata": {},
   "outputs": [
    {
     "data": {
      "text/plain": [
       "False                 308\n",
       "golden_retriever      139\n",
       "Labrador_retriever     95\n",
       "Pembroke               88\n",
       "Chihuahua              79\n",
       "Name: dogTypeMax, dtype: int64"
      ]
     },
     "execution_count": 47,
     "metadata": {},
     "output_type": "execute_result"
    }
   ],
   "source": [
    "df_cleanData['dogTypeMax'].sort_index().value_counts().head()"
   ]
  },
  {
   "cell_type": "code",
   "execution_count": 48,
   "metadata": {},
   "outputs": [
    {
     "data": {
      "text/plain": [
       "0         NaN\n",
       "1    0.323581\n",
       "2    0.716012\n",
       "3    0.168086\n",
       "4    0.555712\n",
       "Name: dogConfsMax, dtype: float64"
      ]
     },
     "execution_count": 48,
     "metadata": {},
     "output_type": "execute_result"
    }
   ],
   "source": [
    "df_cleanData['dogConfsMax'].head()"
   ]
  },
  {
   "cell_type": "markdown",
   "metadata": {},
   "source": [
    "<a id='qualityAnimalNames'></a>\n",
    "#### Define"
   ]
  },
  {
   "cell_type": "markdown",
   "metadata": {},
   "source": [
    "*- Animal names are misleading or indicate non-animal names.*\n",
    "\n",
    "Fix peculiar dog names. Find the names and rename them."
   ]
  },
  {
   "cell_type": "markdown",
   "metadata": {},
   "source": [
    "#### Code"
   ]
  },
  {
   "cell_type": "code",
   "execution_count": 49,
   "metadata": {
    "scrolled": true
   },
   "outputs": [],
   "source": [
    "df_listOfNames = pd.DataFrame()\n",
    "chars_1 = []\n",
    "chars_2 = []\n",
    "chars_3 = []\n",
    "chars_4 = []\n",
    "chars_5 = []\n",
    "chars_6orMore = []\n",
    "\n",
    "# function counts the places name's into lists based on character lengths\n",
    "def nameCharsCount(itemNum):\n",
    "    listShortNames = []\n",
    "    \n",
    "    for i in df_cleanData['pets_name']:\n",
    "        if len(i) == itemNum:\n",
    "            if itemNum == 1 and i not in chars_1:\n",
    "                chars_1.append(i)\n",
    "            elif itemNum == 2 and i not in chars_2:\n",
    "                chars_2.append(i)\n",
    "            elif itemNum == 3 and i not in chars_3:\n",
    "                chars_3.append(i)\n",
    "            elif itemNum == 4 and i not in chars_4:\n",
    "                chars_4.append(i)\n",
    "            elif itemNum == 5 and i not in chars_5:\n",
    "                chars_5.append(i)\n",
    "            elif itemNum >= 6 and i not in chars_6orMore:\n",
    "                chars_6orMore.append(i)\n",
    "\n",
    "# function appends empty strings to each list until each list equals the longest list's length\n",
    "def appendToList(currentList, largestListLen):\n",
    "    if len(currentList) < largestListLen:\n",
    "        diff = largestListLen - len(currentList)\n",
    "        for i in range(diff):\n",
    "            currentList.append('')\n",
    "    currentList.sort(reverse=False, key=lambda x: (x is '', x))\n",
    "    \n",
    "# call nameCharsCount 10 times\n",
    "for i in range(10):\n",
    "    nameCharsCount(i)\n",
    "\n",
    "# determine which list is the longest\n",
    "largestListLen = max(len(chars_1), len(chars_2), len(chars_3), len(chars_4), len(chars_5), len(chars_6orMore))\n",
    "\n",
    "# calling the appendToList function to make each list the same length\n",
    "appendToList(chars_1, largestListLen)\n",
    "appendToList(chars_2, largestListLen)\n",
    "appendToList(chars_3, largestListLen)\n",
    "appendToList(chars_4, largestListLen)\n",
    "appendToList(chars_5, largestListLen)\n",
    "appendToList(chars_6orMore, largestListLen)\n",
    "\n",
    "# place sorted lists into dataframe\n",
    "df_listOfNames['chars_1'] = chars_1\n",
    "df_listOfNames['chars_2'] = chars_2\n",
    "df_listOfNames['chars_3'] = chars_3\n",
    "df_listOfNames['chars_4'] = chars_4\n",
    "df_listOfNames['chars_5'] = chars_5\n",
    "df_listOfNames['chars_6orMore'] = chars_6orMore"
   ]
  },
  {
   "cell_type": "code",
   "execution_count": 50,
   "metadata": {},
   "outputs": [
    {
     "data": {
      "text/html": [
       "<div>\n",
       "<style>\n",
       "    .dataframe thead tr:only-child th {\n",
       "        text-align: right;\n",
       "    }\n",
       "\n",
       "    .dataframe thead th {\n",
       "        text-align: left;\n",
       "    }\n",
       "\n",
       "    .dataframe tbody tr th {\n",
       "        vertical-align: top;\n",
       "    }\n",
       "</style>\n",
       "<table border=\"1\" class=\"dataframe\">\n",
       "  <thead>\n",
       "    <tr style=\"text-align: right;\">\n",
       "      <th></th>\n",
       "      <th>chars_1</th>\n",
       "      <th>chars_2</th>\n",
       "      <th>chars_3</th>\n",
       "      <th>chars_4</th>\n",
       "      <th>chars_5</th>\n",
       "      <th>chars_6orMore</th>\n",
       "    </tr>\n",
       "  </thead>\n",
       "  <tbody>\n",
       "    <tr>\n",
       "      <th>0</th>\n",
       "      <td>O</td>\n",
       "      <td>Al</td>\n",
       "      <td>Ace</td>\n",
       "      <td>Abby</td>\n",
       "      <td>Adele</td>\n",
       "      <td>Albert</td>\n",
       "    </tr>\n",
       "    <tr>\n",
       "      <th>1</th>\n",
       "      <td>a</td>\n",
       "      <td>Bo</td>\n",
       "      <td>Aja</td>\n",
       "      <td>Acro</td>\n",
       "      <td>Aiden</td>\n",
       "      <td>Aldrick</td>\n",
       "    </tr>\n",
       "    <tr>\n",
       "      <th>2</th>\n",
       "      <td></td>\n",
       "      <td>Ed</td>\n",
       "      <td>Alf</td>\n",
       "      <td>Alfy</td>\n",
       "      <td>Akumi</td>\n",
       "      <td>Alejandro</td>\n",
       "    </tr>\n",
       "    <tr>\n",
       "      <th>3</th>\n",
       "      <td></td>\n",
       "      <td>JD</td>\n",
       "      <td>Amy</td>\n",
       "      <td>Andy</td>\n",
       "      <td>Albus</td>\n",
       "      <td>Alexander</td>\n",
       "    </tr>\n",
       "    <tr>\n",
       "      <th>4</th>\n",
       "      <td></td>\n",
       "      <td>Jo</td>\n",
       "      <td>Ash</td>\n",
       "      <td>Anna</td>\n",
       "      <td>Alfie</td>\n",
       "      <td>Ambrose</td>\n",
       "    </tr>\n",
       "    <tr>\n",
       "      <th>5</th>\n",
       "      <td></td>\n",
       "      <td>Mo</td>\n",
       "      <td>Ava</td>\n",
       "      <td>Aqua</td>\n",
       "      <td>Alice</td>\n",
       "      <td>Amélie</td>\n",
       "    </tr>\n",
       "    <tr>\n",
       "      <th>6</th>\n",
       "      <td></td>\n",
       "      <td>an</td>\n",
       "      <td>Ben</td>\n",
       "      <td>Arlo</td>\n",
       "      <td>Amber</td>\n",
       "      <td>Anakin</td>\n",
       "    </tr>\n",
       "    <tr>\n",
       "      <th>7</th>\n",
       "      <td></td>\n",
       "      <td>by</td>\n",
       "      <td>Blu</td>\n",
       "      <td>Arya</td>\n",
       "      <td>Andru</td>\n",
       "      <td>Anthony</td>\n",
       "    </tr>\n",
       "    <tr>\n",
       "      <th>8</th>\n",
       "      <td></td>\n",
       "      <td>my</td>\n",
       "      <td>Bob</td>\n",
       "      <td>Axel</td>\n",
       "      <td>Angel</td>\n",
       "      <td>Antony</td>\n",
       "    </tr>\n",
       "    <tr>\n",
       "      <th>9</th>\n",
       "      <td></td>\n",
       "      <td></td>\n",
       "      <td>Cal</td>\n",
       "      <td>BeBe</td>\n",
       "      <td>Arlen</td>\n",
       "      <td>Apollo</td>\n",
       "    </tr>\n",
       "  </tbody>\n",
       "</table>\n",
       "</div>"
      ],
      "text/plain": [
       "  chars_1 chars_2 chars_3 chars_4 chars_5 chars_6orMore\n",
       "0       O      Al     Ace    Abby   Adele        Albert\n",
       "1       a      Bo     Aja    Acro   Aiden       Aldrick\n",
       "2              Ed     Alf    Alfy   Akumi     Alejandro\n",
       "3              JD     Amy    Andy   Albus     Alexander\n",
       "4              Jo     Ash    Anna   Alfie       Ambrose\n",
       "5              Mo     Ava    Aqua   Alice        Amélie\n",
       "6              an     Ben    Arlo   Amber        Anakin\n",
       "7              by     Blu    Arya   Andru       Anthony\n",
       "8              my     Bob    Axel   Angel        Antony\n",
       "9                     Cal    BeBe   Arlen        Apollo"
      ]
     },
     "execution_count": 50,
     "metadata": {},
     "output_type": "execute_result"
    }
   ],
   "source": [
    "df_listOfNames.head(10)"
   ]
  },
  {
   "cell_type": "markdown",
   "metadata": {},
   "source": [
    "I'm learning to use lambda function. In this case I used it to sort each lists before adding them to the dataframe [<sup>8</sup>](#resources) . One item I'm having trouble with is using _lambda_ to do two things. I want to place empty strings at the end of each list, and sort the list with lowercase strings before uppercase strings. The lowercase values tend to not follow a naming convention that is suitable for the _name_ column. I can sort with the _str.lower()_ function by itself or use _lambda_ to place empty strings at the end of each list, but have not figured out how to do both."
   ]
  },
  {
   "cell_type": "code",
   "execution_count": 51,
   "metadata": {},
   "outputs": [],
   "source": [
    "# Replace the list of peculiar names from the dataframe\n",
    "\n",
    "namesList = ['a',\n",
    "             'actually',\n",
    "             'all',\n",
    "             'an',\n",
    "             'by',\n",
    "             'getting',\n",
    "             'infuriating',\n",
    "             'just',\n",
    "             'life',\n",
    "             'light',\n",
    "             'mad',\n",
    "             'my',\n",
    "             'None',\n",
    "             'not',\n",
    "             'O',\n",
    "             'old',\n",
    "             'one',\n",
    "             'quite',\n",
    "             'such',\n",
    "             'the',\n",
    "             'this',\n",
    "             'very']\n",
    "    \n",
    "for name in namesList:\n",
    "    replaceNames('pets_name', name, '')\n"
   ]
  },
  {
   "cell_type": "markdown",
   "metadata": {},
   "source": [
    "#### Test"
   ]
  },
  {
   "cell_type": "code",
   "execution_count": 52,
   "metadata": {},
   "outputs": [
    {
     "data": {
      "text/plain": [
       "0      Phineas\n",
       "1        Tilly\n",
       "2       Archie\n",
       "3        Darla\n",
       "4     Franklin\n",
       "5             \n",
       "6          Jax\n",
       "7             \n",
       "8         Zoey\n",
       "9       Cassie\n",
       "10        Koda\n",
       "11       Bruno\n",
       "12            \n",
       "13         Ted\n",
       "14      Stuart\n",
       "Name: pets_name, dtype: object"
      ]
     },
     "execution_count": 52,
     "metadata": {},
     "output_type": "execute_result"
    }
   ],
   "source": [
    "df_cleanData.pets_name.head(15)"
   ]
  },
  {
   "cell_type": "code",
   "execution_count": 53,
   "metadata": {},
   "outputs": [
    {
     "name": "stdout",
     "output_type": "stream",
     "text": [
      "There are 640 rows without a name.\n"
     ]
    }
   ],
   "source": [
    "noNames = sum(df_cleanData['pets_name'] == '')\n",
    "print(\"There are %d rows without a name.\" % (noNames))"
   ]
  },
  {
   "cell_type": "markdown",
   "metadata": {},
   "source": [
    "<a id='tidyReadability'></a>\n",
    "#### Define"
   ]
  },
  {
   "cell_type": "markdown",
   "metadata": {},
   "source": [
    "*- Edit column _source_ so labels are readable.*\n",
    "\n",
    "Tidy text within the *source* column. Make it reader friendly."
   ]
  },
  {
   "cell_type": "markdown",
   "metadata": {},
   "source": [
    "#### Code"
   ]
  },
  {
   "cell_type": "code",
   "execution_count": 54,
   "metadata": {},
   "outputs": [],
   "source": [
    "uniqueSourceList = df_cleanData['source'].unique()\n",
    "\n",
    "for s in (uniqueSourceList):\n",
    "    i1 = s.find(\">\") + 1\n",
    "    i2 = s.find(\"</a>\")\n",
    "    sNew = s[i1:i2]\n",
    "\n",
    "    replaceNames('source',s,sNew)"
   ]
  },
  {
   "cell_type": "markdown",
   "metadata": {},
   "source": [
    "#### Test"
   ]
  },
  {
   "cell_type": "code",
   "execution_count": 55,
   "metadata": {},
   "outputs": [
    {
     "name": "stdout",
     "output_type": "stream",
     "text": [
      "Twitter for iPhone\n",
      "Twitter Web Client\n",
      "TweetDeck\n"
     ]
    }
   ],
   "source": [
    "uniqueSource = df_cleanData['source'].unique()\n",
    "\n",
    "for i in uniqueSource:\n",
    "    print(i)"
   ]
  },
  {
   "cell_type": "markdown",
   "metadata": {},
   "source": [
    "<a id='qualityNumerator'></a>\n",
    "#### Define"
   ]
  },
  {
   "cell_type": "markdown",
   "metadata": {},
   "source": [
    "*- Convert decimal values to floats.*\n",
    "\n",
    "Convert the data type for *rating_numerator* and *rating_denominator*."
   ]
  },
  {
   "cell_type": "markdown",
   "metadata": {},
   "source": [
    "#### Code"
   ]
  },
  {
   "cell_type": "code",
   "execution_count": 56,
   "metadata": {},
   "outputs": [],
   "source": [
    "# convert type\n",
    "df_cleanData['rating_numerator'] = df_cleanData['rating_numerator'].astype(float)\n",
    "df_cleanData['rating_denominator'] = df_cleanData['rating_denominator'].astype(float)"
   ]
  },
  {
   "cell_type": "code",
   "execution_count": 57,
   "metadata": {},
   "outputs": [
    {
     "data": {
      "text/plain": [
       "0       13.0\n",
       "1       13.0\n",
       "2       12.0\n",
       "3       13.0\n",
       "4       12.0\n",
       "5       13.0\n",
       "6       13.0\n",
       "7       13.0\n",
       "8       13.0\n",
       "9       14.0\n",
       "10      13.0\n",
       "11      13.0\n",
       "12      13.0\n",
       "13      12.0\n",
       "14      13.0\n",
       "15      13.0\n",
       "16      12.0\n",
       "17      13.0\n",
       "18      13.0\n",
       "20      12.0\n",
       "21      13.0\n",
       "22      14.0\n",
       "23      13.0\n",
       "24      13.0\n",
       "25      12.0\n",
       "26      13.0\n",
       "27      13.0\n",
       "28      13.0\n",
       "29      12.0\n",
       "31      13.0\n",
       "        ... \n",
       "2326     2.0\n",
       "2327     7.0\n",
       "2328     9.0\n",
       "2329    11.0\n",
       "2330     6.0\n",
       "2331     8.0\n",
       "2332    10.0\n",
       "2333     9.0\n",
       "2334     3.0\n",
       "2335     1.0\n",
       "2336    11.0\n",
       "2337    10.0\n",
       "2338     1.0\n",
       "2339    11.0\n",
       "2340     8.0\n",
       "2341     9.0\n",
       "2342     6.0\n",
       "2343    10.0\n",
       "2344     9.0\n",
       "2345    10.0\n",
       "2346     8.0\n",
       "2347     9.0\n",
       "2348    10.0\n",
       "2349     2.0\n",
       "2350    10.0\n",
       "2351     5.0\n",
       "2352     6.0\n",
       "2353     9.0\n",
       "2354     7.0\n",
       "2355     8.0\n",
       "Name: rating_numerator, Length: 1994, dtype: float64"
      ]
     },
     "execution_count": 57,
     "metadata": {},
     "output_type": "execute_result"
    }
   ],
   "source": [
    "df_cleanData['rating_numerator']"
   ]
  },
  {
   "cell_type": "code",
   "execution_count": 58,
   "metadata": {},
   "outputs": [],
   "source": [
    "with open('./assets/numerator.txt', 'w') as filehandle:\n",
    "    for numerator in df_cleanData['rating_numerator']:\n",
    "        filehandle.write('%s\\n' % numerator)"
   ]
  },
  {
   "cell_type": "markdown",
   "metadata": {},
   "source": [
    "#### Test"
   ]
  },
  {
   "cell_type": "code",
   "execution_count": 59,
   "metadata": {},
   "outputs": [
    {
     "name": "stdout",
     "output_type": "stream",
     "text": [
      "<class 'pandas.core.frame.DataFrame'>\n",
      "Int64Index: 1994 entries, 0 to 2355\n",
      "Data columns (total 35 columns):\n",
      "tweet_id                         1994 non-null int64\n",
      "source                           1994 non-null object\n",
      "text                             1994 non-null object\n",
      "expanded_urls                    1994 non-null object\n",
      "rating_numerator                 1994 non-null float64\n",
      "rating_denominator               1994 non-null float64\n",
      "pets_name                        1994 non-null object\n",
      "jpg_url                          1994 non-null object\n",
      "img_num                          1994 non-null float64\n",
      "p1                               1994 non-null object\n",
      "p1_conf                          1994 non-null float64\n",
      "p1_dog                           1994 non-null object\n",
      "p2                               1994 non-null object\n",
      "p2_conf                          1994 non-null float64\n",
      "p2_dog                           1994 non-null object\n",
      "p3                               1994 non-null object\n",
      "p3_conf                          1994 non-null float64\n",
      "p3_dog                           1994 non-null object\n",
      "entities                         1299 non-null object\n",
      "favorite_count                   1299 non-null float64\n",
      "favorited                        1299 non-null float64\n",
      "id_str                           1299 non-null float64\n",
      "is_quote_status                  1299 non-null float64\n",
      "lang                             1299 non-null object\n",
      "possibly_sensitive               1299 non-null float64\n",
      "possibly_sensitive_appealable    1299 non-null float64\n",
      "retweet_count                    1299 non-null float64\n",
      "retweeted_status                 0 non-null object\n",
      "truncated                        1299 non-null float64\n",
      "user                             1299 non-null object\n",
      "date                             1994 non-null datetime64[ns]\n",
      "time                             1994 non-null datetime64[ns]\n",
      "developmentalStage               1994 non-null object\n",
      "dogTypeMax                       1994 non-null object\n",
      "dogConfsMax                      1686 non-null float64\n",
      "dtypes: datetime64[ns](2), float64(15), int64(1), object(17)\n",
      "memory usage: 640.8+ KB\n"
     ]
    }
   ],
   "source": [
    "df_cleanData.info()"
   ]
  },
  {
   "cell_type": "code",
   "execution_count": 60,
   "metadata": {},
   "outputs": [
    {
     "name": "stdout",
     "output_type": "stream",
     "text": [
      "[  10.   70.    7.  150.   11.  170.   20.   50.   90.   80.   40.  130.\n",
      "  110.  120.    2.]\n"
     ]
    }
   ],
   "source": [
    "print(df_cleanData['rating_denominator'].unique())"
   ]
  },
  {
   "cell_type": "markdown",
   "metadata": {},
   "source": [
    "<a id='qualityText'></a>\n",
    "#### Define"
   ]
  },
  {
   "cell_type": "markdown",
   "metadata": {},
   "source": [
    "*- Text column contains decimals (e.g. 9.75).*\n",
    "\n",
    "Find decimal values in text, pull decimal values from text and re-run ratings."
   ]
  },
  {
   "cell_type": "markdown",
   "metadata": {},
   "source": [
    "#### Code"
   ]
  },
  {
   "cell_type": "code",
   "execution_count": 61,
   "metadata": {
    "scrolled": false
   },
   "outputs": [
    {
     "data": {
      "text/plain": [
       "12.00      453\n",
       "10.00      410\n",
       "11.00      399\n",
       "13.00      261\n",
       "9.00       151\n",
       "8.00        94\n",
       "7.00        53\n",
       "14.00       35\n",
       "6.00        32\n",
       "5.00        31\n",
       "3.00        19\n",
       "4.00        14\n",
       "2.00         9\n",
       "1.00         4\n",
       "8.50         4\n",
       "9.50         3\n",
       "7.50         3\n",
       "4.50         2\n",
       "0.00         2\n",
       "6.50         2\n",
       "5.50         2\n",
       "10.50        2\n",
       "11.50        1\n",
       "9.75         1\n",
       "1776.00      1\n",
       "9.67         1\n",
       "34.29        1\n",
       "13.50        1\n",
       "11.26        1\n",
       "11.27        1\n",
       "420.00       1\n",
       "Name: new_dog_rating, dtype: int64"
      ]
     },
     "execution_count": 61,
     "metadata": {},
     "output_type": "execute_result"
    }
   ],
   "source": [
    "textRatingList = []\n",
    "\n",
    "df_cleanData['text'].apply(lambda x: textRatingList.append(re.findall(r'((?:\\d+\\.)?\\d+)\\/(\\d+)', x, flags=0)))\n",
    "\n",
    "ratingList = []\n",
    "dogList = []\n",
    "\n",
    "# print(len(df_cleanData['text'])) -> 1994\n",
    "# print(len(textRatingList)) -> 1994\n",
    "# print(len(df_cleanData)) -> 1994\n",
    "# print(index) -> 1993\n",
    "\n",
    "for item in textRatingList:\n",
    "#     print(index)\n",
    "#     index = index + 1         \n",
    "    \n",
    "    # tweet doesn't have a rating, but has a count of 1\n",
    "    if len(item) == 0:\n",
    "        ratingList.append('')\n",
    "        dogList.append(1)\n",
    "\n",
    "    # tweets have one rating and count of 1\n",
    "    elif len(item) == 1 and item[0][-1] == '10':\n",
    "        value = round(float(item[0][0]), 2)\n",
    "        ratingList.append(value)\n",
    "        dogList.append(1)\n",
    "\n",
    "    # exactly one rating\n",
    "    elif len(item) == 1:\n",
    "        value = (float(item[0][-1]) / 10)\n",
    "        division = round(float(item[0][0]) / value, 2)\n",
    "        ratingList.append(division)\n",
    "        dogList.append(value)\n",
    "        \n",
    "    # tweets with multiple ratings\n",
    "    elif len(item) > 1:\n",
    "        total = 0\n",
    "        tempRatingList = []\n",
    "        for i in range(len(item)):\n",
    "            if item[i][-1] == '10':\n",
    "                tempRatingList.append(item[i])\n",
    "        for rate in tempRatingList:\n",
    "            total = total + float(rate[0])\n",
    "\n",
    "        newRating = round(total / len(item), 2)\n",
    "        ratingList.append(newRating) \n",
    "        dogList.append(len(item))\n",
    "        \n",
    "    # if error occurs\n",
    "    else:\n",
    "        errorString = ('Did not parse')\n",
    "        ratingList.append(errorString) \n",
    "        dogList.append(errorString)   \n",
    "                \n",
    "# print(len(ratingList))\n",
    "# print(len(dogList))\n",
    "\n",
    "df_cleanData['new_dog_rating'] = ratingList\n",
    "df_cleanData['dog_counts'] = dogList\n",
    "df_cleanData['new_dog_rating'].value_counts()\n"
   ]
  },
  {
   "cell_type": "markdown",
   "metadata": {},
   "source": [
    "#### Test"
   ]
  },
  {
   "cell_type": "code",
   "execution_count": 62,
   "metadata": {},
   "outputs": [
    {
     "name": "stdout",
     "output_type": "stream",
     "text": [
      "<class 'pandas.core.frame.DataFrame'>\n",
      "Int64Index: 1994 entries, 0 to 2355\n",
      "Data columns (total 37 columns):\n",
      "tweet_id                         1994 non-null int64\n",
      "source                           1994 non-null object\n",
      "text                             1994 non-null object\n",
      "expanded_urls                    1994 non-null object\n",
      "rating_numerator                 1994 non-null float64\n",
      "rating_denominator               1994 non-null float64\n",
      "pets_name                        1994 non-null object\n",
      "jpg_url                          1994 non-null object\n",
      "img_num                          1994 non-null float64\n",
      "p1                               1994 non-null object\n",
      "p1_conf                          1994 non-null float64\n",
      "p1_dog                           1994 non-null object\n",
      "p2                               1994 non-null object\n",
      "p2_conf                          1994 non-null float64\n",
      "p2_dog                           1994 non-null object\n",
      "p3                               1994 non-null object\n",
      "p3_conf                          1994 non-null float64\n",
      "p3_dog                           1994 non-null object\n",
      "entities                         1299 non-null object\n",
      "favorite_count                   1299 non-null float64\n",
      "favorited                        1299 non-null float64\n",
      "id_str                           1299 non-null float64\n",
      "is_quote_status                  1299 non-null float64\n",
      "lang                             1299 non-null object\n",
      "possibly_sensitive               1299 non-null float64\n",
      "possibly_sensitive_appealable    1299 non-null float64\n",
      "retweet_count                    1299 non-null float64\n",
      "retweeted_status                 0 non-null object\n",
      "truncated                        1299 non-null float64\n",
      "user                             1299 non-null object\n",
      "date                             1994 non-null datetime64[ns]\n",
      "time                             1994 non-null datetime64[ns]\n",
      "developmentalStage               1994 non-null object\n",
      "dogTypeMax                       1994 non-null object\n",
      "dogConfsMax                      1686 non-null float64\n",
      "new_dog_rating                   1994 non-null float64\n",
      "dog_counts                       1994 non-null float64\n",
      "dtypes: datetime64[ns](2), float64(17), int64(1), object(17)\n",
      "memory usage: 672.0+ KB\n"
     ]
    }
   ],
   "source": [
    "df_cleanData.info()"
   ]
  },
  {
   "cell_type": "markdown",
   "metadata": {},
   "source": [
    "<a id='qualityRemoveNumerator'></a>\n",
    "#### Define"
   ]
  },
  {
   "cell_type": "markdown",
   "metadata": {},
   "source": [
    "*- Remove numberator values that are too large.*\n",
    "\n",
    "Remove ratings in numerator that are greater than the highest sanctioned value."
   ]
  },
  {
   "cell_type": "markdown",
   "metadata": {},
   "source": [
    "#### Code"
   ]
  },
  {
   "cell_type": "code",
   "execution_count": 63,
   "metadata": {},
   "outputs": [],
   "source": [
    "# commented out this line of code b/c it drops entries down from 1975 to 305\n",
    "df_cleanData.dropna(subset = [\"developmentalStage\"], inplace = True)\n",
    "df_cleanData = df_cleanData[~(df_cleanData[\"rating_numerator\"] > 15)]"
   ]
  },
  {
   "cell_type": "markdown",
   "metadata": {},
   "source": [
    "#### Test"
   ]
  },
  {
   "cell_type": "code",
   "execution_count": 64,
   "metadata": {},
   "outputs": [
    {
     "name": "stdout",
     "output_type": "stream",
     "text": [
      "<class 'pandas.core.frame.DataFrame'>\n",
      "Int64Index: 1975 entries, 0 to 2355\n",
      "Data columns (total 37 columns):\n",
      "tweet_id                         1975 non-null int64\n",
      "source                           1975 non-null object\n",
      "text                             1975 non-null object\n",
      "expanded_urls                    1975 non-null object\n",
      "rating_numerator                 1975 non-null float64\n",
      "rating_denominator               1975 non-null float64\n",
      "pets_name                        1975 non-null object\n",
      "jpg_url                          1975 non-null object\n",
      "img_num                          1975 non-null float64\n",
      "p1                               1975 non-null object\n",
      "p1_conf                          1975 non-null float64\n",
      "p1_dog                           1975 non-null object\n",
      "p2                               1975 non-null object\n",
      "p2_conf                          1975 non-null float64\n",
      "p2_dog                           1975 non-null object\n",
      "p3                               1975 non-null object\n",
      "p3_conf                          1975 non-null float64\n",
      "p3_dog                           1975 non-null object\n",
      "entities                         1286 non-null object\n",
      "favorite_count                   1286 non-null float64\n",
      "favorited                        1286 non-null float64\n",
      "id_str                           1286 non-null float64\n",
      "is_quote_status                  1286 non-null float64\n",
      "lang                             1286 non-null object\n",
      "possibly_sensitive               1286 non-null float64\n",
      "possibly_sensitive_appealable    1286 non-null float64\n",
      "retweet_count                    1286 non-null float64\n",
      "retweeted_status                 0 non-null object\n",
      "truncated                        1286 non-null float64\n",
      "user                             1286 non-null object\n",
      "date                             1975 non-null datetime64[ns]\n",
      "time                             1975 non-null datetime64[ns]\n",
      "developmentalStage               1975 non-null object\n",
      "dogTypeMax                       1975 non-null object\n",
      "dogConfsMax                      1670 non-null float64\n",
      "new_dog_rating                   1975 non-null float64\n",
      "dog_counts                       1975 non-null float64\n",
      "dtypes: datetime64[ns](2), float64(17), int64(1), object(17)\n",
      "memory usage: 586.3+ KB\n"
     ]
    }
   ],
   "source": [
    "df_cleanData.info()"
   ]
  },
  {
   "cell_type": "markdown",
   "metadata": {},
   "source": [
    "<a id='tidyNull'></a>\n",
    "#### Define"
   ]
  },
  {
   "cell_type": "markdown",
   "metadata": {},
   "source": [
    "_- Remove columns that contain only null values._\n",
    "\n",
    "Drop remaining unwanted columns and last set of null values. I played around with both dropping unwanted columns from a dataframe, and creating new dataframes with desired columns. In this project, I found two advantages to dropping columns and working with the dataframe, rather than creating a new dataframe to work with that contained only desired columns. These advantages are listed in the *wrangle_report*. After coding this section, there should not be any more rows with a null value."
   ]
  },
  {
   "cell_type": "markdown",
   "metadata": {},
   "source": [
    "#### Code"
   ]
  },
  {
   "cell_type": "code",
   "execution_count": 65,
   "metadata": {},
   "outputs": [],
   "source": [
    "# remove unwanted columns\n",
    "df_cleanData = df_cleanData.drop([ 'entities',\n",
    "                    'expanded_urls',\n",
    "                    'favorited',\n",
    "                    'id_str',\n",
    "                    'is_quote_status',\n",
    "                    'lang',\n",
    "                    'possibly_sensitive_appealable',\n",
    "                    'possibly_sensitive',\n",
    "                    'retweeted_status',\n",
    "                    'truncated',\n",
    "                    'user'\n",
    "                  ],\n",
    "                  axis = 1)"
   ]
  },
  {
   "cell_type": "code",
   "execution_count": 66,
   "metadata": {},
   "outputs": [],
   "source": [
    "# remove last set of null values.\n",
    "df_cleanData = df_cleanData.dropna(subset = ['favorite_count'])\n",
    "df_cleanData = df_cleanData.dropna(subset = ['dogConfsMax'])"
   ]
  },
  {
   "cell_type": "markdown",
   "metadata": {},
   "source": [
    "#### Test"
   ]
  },
  {
   "cell_type": "code",
   "execution_count": 67,
   "metadata": {},
   "outputs": [
    {
     "name": "stdout",
     "output_type": "stream",
     "text": [
      "<class 'pandas.core.frame.DataFrame'>\n",
      "Int64Index: 1089 entries, 2 to 2354\n",
      "Data columns (total 26 columns):\n",
      "tweet_id              1089 non-null int64\n",
      "source                1089 non-null object\n",
      "text                  1089 non-null object\n",
      "rating_numerator      1089 non-null float64\n",
      "rating_denominator    1089 non-null float64\n",
      "pets_name             1089 non-null object\n",
      "jpg_url               1089 non-null object\n",
      "img_num               1089 non-null float64\n",
      "p1                    1089 non-null object\n",
      "p1_conf               1089 non-null float64\n",
      "p1_dog                1089 non-null object\n",
      "p2                    1089 non-null object\n",
      "p2_conf               1089 non-null float64\n",
      "p2_dog                1089 non-null object\n",
      "p3                    1089 non-null object\n",
      "p3_conf               1089 non-null float64\n",
      "p3_dog                1089 non-null object\n",
      "favorite_count        1089 non-null float64\n",
      "retweet_count         1089 non-null float64\n",
      "date                  1089 non-null datetime64[ns]\n",
      "time                  1089 non-null datetime64[ns]\n",
      "developmentalStage    1089 non-null object\n",
      "dogTypeMax            1089 non-null object\n",
      "dogConfsMax           1089 non-null float64\n",
      "new_dog_rating        1089 non-null float64\n",
      "dog_counts            1089 non-null float64\n",
      "dtypes: datetime64[ns](2), float64(11), int64(1), object(12)\n",
      "memory usage: 229.7+ KB\n"
     ]
    }
   ],
   "source": [
    "df_cleanData.info()"
   ]
  },
  {
   "cell_type": "markdown",
   "metadata": {},
   "source": [
    "<a id='analyzing'></a>\n",
    "## Analyzing, and Visualizing Data"
   ]
  },
  {
   "cell_type": "code",
   "execution_count": 68,
   "metadata": {},
   "outputs": [],
   "source": [
    "df_stats = df_cleanData.copy()\n",
    "df_stats = df_stats.drop(['tweet_id',\n",
    "                          'text',\n",
    "                          'pets_name',\n",
    "                          'jpg_url',\n",
    "                          'img_num',\n",
    "                          'p1',\n",
    "                          'p1_dog',\n",
    "                          'p2',\n",
    "                          'p2_dog',\n",
    "                          'p3',\n",
    "                          'p3_dog',\n",
    "                          'date',\n",
    "                          'time'\n",
    "                          \n",
    "                         ], axis = 1 )"
   ]
  },
  {
   "cell_type": "code",
   "execution_count": 69,
   "metadata": {},
   "outputs": [],
   "source": [
    "# rearranging columns for ease of graphing sequence in heatmap below\n",
    "\n",
    "df_stats = df_stats[['source', 'new_dog_rating', 'dog_counts', 'rating_numerator', 'rating_denominator', 'p1_conf', 'p2_conf', 'p3_conf', 'retweet_count', 'favorite_count', 'developmentalStage', 'dogTypeMax', 'dogConfsMax']]"
   ]
  },
  {
   "cell_type": "code",
   "execution_count": 70,
   "metadata": {},
   "outputs": [
    {
     "name": "stdout",
     "output_type": "stream",
     "text": [
      "Twitter for iPhone    1067\n",
      "Twitter Web Client      15\n",
      "TweetDeck                7\n",
      "Name: source, dtype: int64\n",
      "\n",
      "\n",
      "12.0    268\n",
      "10.0    253\n",
      "11.0    223\n",
      "Name: new_dog_rating, dtype: int64\n",
      "\n",
      "\n",
      "1.0    1075\n",
      "2.0      13\n",
      "3.0       1\n",
      "Name: dog_counts, dtype: int64\n",
      "\n",
      "\n",
      "12.0    269\n",
      "10.0    259\n",
      "11.0    224\n",
      "Name: rating_numerator, dtype: int64\n",
      "\n",
      "\n",
      "10.0    1087\n",
      "2.0        1\n",
      "20.0       1\n",
      "Name: rating_denominator, dtype: int64\n",
      "\n",
      "\n",
      "0.873233    2\n",
      "0.786089    2\n",
      "0.862964    1\n",
      "Name: p1_conf, dtype: int64\n",
      "\n",
      "\n",
      "0.108382    2\n",
      "0.159672    1\n",
      "0.025248    1\n",
      "Name: p2_conf, dtype: int64\n",
      "\n",
      "\n",
      "0.063703    1\n",
      "0.144147    1\n",
      "0.083643    1\n",
      "Name: p3_conf, dtype: int64\n",
      "\n",
      "\n",
      "303.0     4\n",
      "1328.0    3\n",
      "858.0     3\n",
      "Name: retweet_count, dtype: int64\n",
      "\n",
      "\n",
      "1487.0    3\n",
      "1481.0    3\n",
      "391.0     2\n",
      "Name: favorite_count, dtype: int64\n",
      "\n",
      "\n",
      "no-entry    919\n",
      "pupper      116\n",
      "doggo        29\n",
      "Name: developmentalStage, dtype: int64\n",
      "\n",
      "\n",
      "golden_retriever      93\n",
      "Pembroke              65\n",
      "Labrador_retriever    59\n",
      "Name: dogTypeMax, dtype: int64\n",
      "\n",
      "\n",
      "0.786089    2\n",
      "0.873233    2\n",
      "0.862964    1\n",
      "Name: dogConfsMax, dtype: int64\n",
      "\n",
      "\n"
     ]
    }
   ],
   "source": [
    "# top 3 highest value counts for each column\n",
    "for c in df_stats.columns:\n",
    "    print(df_stats[c].sort_index().value_counts().head(3))\n",
    "    print(\"\\n\")"
   ]
  },
  {
   "cell_type": "code",
   "execution_count": 71,
   "metadata": {},
   "outputs": [
    {
     "data": {
      "text/html": [
       "<div>\n",
       "<style>\n",
       "    .dataframe thead tr:only-child th {\n",
       "        text-align: right;\n",
       "    }\n",
       "\n",
       "    .dataframe thead th {\n",
       "        text-align: left;\n",
       "    }\n",
       "\n",
       "    .dataframe tbody tr th {\n",
       "        vertical-align: top;\n",
       "    }\n",
       "</style>\n",
       "<table border=\"1\" class=\"dataframe\">\n",
       "  <thead>\n",
       "    <tr style=\"text-align: right;\">\n",
       "      <th></th>\n",
       "      <th>new_dog_rating</th>\n",
       "      <th>dog_counts</th>\n",
       "      <th>rating_numerator</th>\n",
       "      <th>rating_denominator</th>\n",
       "      <th>p1_conf</th>\n",
       "      <th>p2_conf</th>\n",
       "      <th>p3_conf</th>\n",
       "      <th>retweet_count</th>\n",
       "      <th>favorite_count</th>\n",
       "      <th>dogConfsMax</th>\n",
       "    </tr>\n",
       "  </thead>\n",
       "  <tbody>\n",
       "    <tr>\n",
       "      <th>count</th>\n",
       "      <td>1089.00</td>\n",
       "      <td>1089.00</td>\n",
       "      <td>1089.00</td>\n",
       "      <td>1089.00</td>\n",
       "      <td>1089.00</td>\n",
       "      <td>1089.00</td>\n",
       "      <td>1089.00</td>\n",
       "      <td>1089.00</td>\n",
       "      <td>1089.00</td>\n",
       "      <td>1089.00</td>\n",
       "    </tr>\n",
       "    <tr>\n",
       "      <th>mean</th>\n",
       "      <td>10.75</td>\n",
       "      <td>1.01</td>\n",
       "      <td>10.75</td>\n",
       "      <td>10.00</td>\n",
       "      <td>0.60</td>\n",
       "      <td>0.14</td>\n",
       "      <td>0.06</td>\n",
       "      <td>2547.05</td>\n",
       "      <td>8609.94</td>\n",
       "      <td>0.54</td>\n",
       "    </tr>\n",
       "    <tr>\n",
       "      <th>std</th>\n",
       "      <td>1.80</td>\n",
       "      <td>0.12</td>\n",
       "      <td>1.82</td>\n",
       "      <td>0.39</td>\n",
       "      <td>0.27</td>\n",
       "      <td>0.10</td>\n",
       "      <td>0.05</td>\n",
       "      <td>4088.26</td>\n",
       "      <td>11845.81</td>\n",
       "      <td>0.30</td>\n",
       "    </tr>\n",
       "    <tr>\n",
       "      <th>min</th>\n",
       "      <td>2.00</td>\n",
       "      <td>1.00</td>\n",
       "      <td>1.00</td>\n",
       "      <td>2.00</td>\n",
       "      <td>0.04</td>\n",
       "      <td>0.00</td>\n",
       "      <td>0.00</td>\n",
       "      <td>12.00</td>\n",
       "      <td>80.00</td>\n",
       "      <td>0.00</td>\n",
       "    </tr>\n",
       "    <tr>\n",
       "      <th>25%</th>\n",
       "      <td>10.00</td>\n",
       "      <td>1.00</td>\n",
       "      <td>10.00</td>\n",
       "      <td>10.00</td>\n",
       "      <td>0.37</td>\n",
       "      <td>0.06</td>\n",
       "      <td>0.02</td>\n",
       "      <td>582.00</td>\n",
       "      <td>1893.00</td>\n",
       "      <td>0.30</td>\n",
       "    </tr>\n",
       "    <tr>\n",
       "      <th>50%</th>\n",
       "      <td>11.00</td>\n",
       "      <td>1.00</td>\n",
       "      <td>11.00</td>\n",
       "      <td>10.00</td>\n",
       "      <td>0.60</td>\n",
       "      <td>0.12</td>\n",
       "      <td>0.05</td>\n",
       "      <td>1302.00</td>\n",
       "      <td>4051.00</td>\n",
       "      <td>0.54</td>\n",
       "    </tr>\n",
       "    <tr>\n",
       "      <th>75%</th>\n",
       "      <td>12.00</td>\n",
       "      <td>1.00</td>\n",
       "      <td>12.00</td>\n",
       "      <td>10.00</td>\n",
       "      <td>0.84</td>\n",
       "      <td>0.20</td>\n",
       "      <td>0.10</td>\n",
       "      <td>2990.00</td>\n",
       "      <td>10834.00</td>\n",
       "      <td>0.81</td>\n",
       "    </tr>\n",
       "    <tr>\n",
       "      <th>max</th>\n",
       "      <td>14.00</td>\n",
       "      <td>3.00</td>\n",
       "      <td>14.00</td>\n",
       "      <td>20.00</td>\n",
       "      <td>1.00</td>\n",
       "      <td>0.47</td>\n",
       "      <td>0.27</td>\n",
       "      <td>60038.00</td>\n",
       "      <td>121429.00</td>\n",
       "      <td>1.00</td>\n",
       "    </tr>\n",
       "  </tbody>\n",
       "</table>\n",
       "</div>"
      ],
      "text/plain": [
       "       new_dog_rating  dog_counts  rating_numerator  rating_denominator  \\\n",
       "count         1089.00     1089.00           1089.00             1089.00   \n",
       "mean            10.75        1.01             10.75               10.00   \n",
       "std              1.80        0.12              1.82                0.39   \n",
       "min              2.00        1.00              1.00                2.00   \n",
       "25%             10.00        1.00             10.00               10.00   \n",
       "50%             11.00        1.00             11.00               10.00   \n",
       "75%             12.00        1.00             12.00               10.00   \n",
       "max             14.00        3.00             14.00               20.00   \n",
       "\n",
       "       p1_conf  p2_conf  p3_conf  retweet_count  favorite_count  dogConfsMax  \n",
       "count  1089.00  1089.00  1089.00        1089.00         1089.00      1089.00  \n",
       "mean      0.60     0.14     0.06        2547.05         8609.94         0.54  \n",
       "std       0.27     0.10     0.05        4088.26        11845.81         0.30  \n",
       "min       0.04     0.00     0.00          12.00           80.00         0.00  \n",
       "25%       0.37     0.06     0.02         582.00         1893.00         0.30  \n",
       "50%       0.60     0.12     0.05        1302.00         4051.00         0.54  \n",
       "75%       0.84     0.20     0.10        2990.00        10834.00         0.81  \n",
       "max       1.00     0.47     0.27       60038.00       121429.00         1.00  "
      ]
     },
     "execution_count": 71,
     "metadata": {},
     "output_type": "execute_result"
    }
   ],
   "source": [
    "# summary report\n",
    "round(df_stats.describe(), 2)"
   ]
  },
  {
   "cell_type": "markdown",
   "metadata": {},
   "source": [
    "<a id=''></a>\n",
    "### Colormaps"
   ]
  },
  {
   "cell_type": "code",
   "execution_count": 72,
   "metadata": {},
   "outputs": [
    {
     "data": {
      "application/vnd.jupyter.widget-view+json": {
       "model_id": "73258484a7a341738d37634c0ac30b54",
       "version_major": 2,
       "version_minor": 0
      },
      "text/html": [
       "<p>Failed to display Jupyter Widget of type <code>interactive</code>.</p>\n",
       "<p>\n",
       "  If you're reading this message in the Jupyter Notebook or JupyterLab Notebook, it may mean\n",
       "  that the widgets JavaScript is still loading. If this message persists, it\n",
       "  likely means that the widgets JavaScript library is either not installed or\n",
       "  not enabled. See the <a href=\"https://ipywidgets.readthedocs.io/en/stable/user_install.html\">Jupyter\n",
       "  Widgets Documentation</a> for setup instructions.\n",
       "</p>\n",
       "<p>\n",
       "  If you're reading this message in another frontend (for example, a static\n",
       "  rendering on GitHub or <a href=\"https://nbviewer.jupyter.org/\">NBViewer</a>),\n",
       "  it may mean that your frontend doesn't currently support widgets.\n",
       "</p>\n"
      ],
      "text/plain": [
       "interactive(children=(Dropdown(description='name', options=('RdBu', 'RdGy', 'PRGn', 'PiYG', 'BrBG', 'RdYlBu', 'RdYlGn', 'Spectral'), value='RdBu'), IntSlider(value=9, description='n', max=16, min=2), FloatSlider(value=1.0, description='desat', max=1.0), Dropdown(description='variant', options=('regular', 'reverse'), value='regular'), Output()), _dom_classes=('widget-interact',))"
      ]
     },
     "metadata": {},
     "output_type": "display_data"
    }
   ],
   "source": [
    "# use cmap to set the chart colors\n",
    "cmap = sns.choose_colorbrewer_palette(data_type = \"d\") # set data_type to d, q, or s"
   ]
  },
  {
   "cell_type": "markdown",
   "metadata": {},
   "source": [
    "Use _cmap_ to set colors for all graphs below."
   ]
  },
  {
   "cell_type": "markdown",
   "metadata": {},
   "source": [
    "<a id='one'></a>\n",
    "### Insight one & visualization"
   ]
  },
  {
   "cell_type": "code",
   "execution_count": 73,
   "metadata": {},
   "outputs": [
    {
     "data": {
      "image/png": "[encoded data removed]",
      "text/plain": [
       "<matplotlib.figure.Figure at 0x7fe1238ff390>"
      ]
     },
     "metadata": {
      "needs_background": "light"
     },
     "output_type": "display_data"
    }
   ],
   "source": [
    "plt.figure(figsize=(10, 6))\n",
    "sns.set(style = \"darkgrid\")\n",
    "sns.countplot(data = df_stats, x = \"source\", palette = cmap)\n",
    "plt.title('Tweet Count by Source', fontsize = 18)\n",
    "plt.xlabel('Source', fontsize = 15)\n",
    "plt.ylabel('Count', fontsize = 15)\n",
    "plt.xticks(fontsize = 10)\n",
    "plt.yticks(fontsize = 10)\n",
    "plt.tight_layout()\n",
    "plt.savefig('./assets/images/tweetCountBySource', dpi = 300)\n",
    "plt.show()\n",
    "# help(sns.countplot)"
   ]
  },
  {
   "cell_type": "markdown",
   "metadata": {},
   "source": [
    "Looked at the count of each tweet source."
   ]
  },
  {
   "cell_type": "markdown",
   "metadata": {},
   "source": [
    "<a id='two'></a>\n",
    "### Insight two & visualization"
   ]
  },
  {
   "cell_type": "code",
   "execution_count": 74,
   "metadata": {},
   "outputs": [
    {
     "data": {
      "image/png": "[encoded data removed]",
      "text/plain": [
       "<matplotlib.figure.Figure at 0x7fe123a7d160>"
      ]
     },
     "metadata": {},
     "output_type": "display_data"
    }
   ],
   "source": [
    "common_dog_types = df_stats.groupby(\"dogTypeMax\").filter(lambda x: len(x) >= 20 and len(x) < 150)\n",
    "\n",
    "plt.figure(figsize=(10, 6))\n",
    "common_dog_types[\"dogTypeMax\"].value_counts().plot(kind = 'bar', color = sns.color_palette(cmap))\n",
    "\n",
    "plt.title('Top Rated Dog Types', fontsize = 18)\n",
    "plt.xlabel('Dog Types', fontsize = 15)\n",
    "plt.ylabel('Count', fontsize = 15)\n",
    "plt.xticks(fontsize = 10, rotation=75)\n",
    "plt.yticks(fontsize = 10)\n",
    "# plt.ylim(10, 40)\n",
    "plt.tight_layout()\n",
    "plt.savefig('./assets/images/topRatedDogTypes', dpi = 300)\n",
    "plt.show()\n",
    "\n",
    "\n"
   ]
  },
  {
   "cell_type": "markdown",
   "metadata": {},
   "source": [
    "This bar garph shows most popular dog types (breeds) in descending order."
   ]
  },
  {
   "cell_type": "markdown",
   "metadata": {},
   "source": [
    "<a id='three'></a>\n",
    "### Insight three & visualization"
   ]
  },
  {
   "cell_type": "markdown",
   "metadata": {},
   "source": [
    "My hypothesis is popular tweets receive higher amounts of retweets and favorites status."
   ]
  },
  {
   "cell_type": "code",
   "execution_count": 75,
   "metadata": {},
   "outputs": [
    {
     "data": {
      "image/png": "[encoded data removed]",
      "text/plain": [
       "<matplotlib.figure.Figure at 0x7fe123c977b8>"
      ]
     },
     "metadata": {},
     "output_type": "display_data"
    }
   ],
   "source": [
    "# Compute the correlation matrix\n",
    "corr = df_stats.corr(method='pearson')\n",
    "\n",
    "# Generate a mask for the upper triangle\n",
    "mask = np.zeros_like(corr, dtype=np.bool)\n",
    "mask[np.triu_indices_from(mask)] = True\n",
    "\n",
    "# Set up the matplotlib figure\n",
    "fig, ax = plt.subplots(figsize=(10, 6))\n",
    "\n",
    "# Draw the heatmap with the mask and correct aspect ratio\n",
    "sns.heatmap(corr, annot=True, fmt='.4f',\n",
    "            cmap=cmap, cbar=True, ax=ax, mask = mask,\n",
    "            square=False, linewidths=.5,cbar_kws={\"shrink\": .5})\n",
    "ax.set_title('Heatmap', fontsize = 18)\n",
    "ax.set_xlabel('Variable 1', fontsize = 15)\n",
    "ax.set_ylabel('Variable 2', fontsize = 15)\n",
    "ax.set_yticklabels(ax.get_yticklabels(), rotation=\"horizontal\", fontsize = 10)\n",
    "ax.set_xticklabels(ax.get_xticklabels(), fontsize = 10)\n",
    "plt.tight_layout()\n",
    "plt.savefig('./assets/images/pearsonCorrelation', dpi = 300, bbox_inches='tight', pad_inches=0.0)\n",
    "plt.show()"
   ]
  },
  {
   "cell_type": "markdown",
   "metadata": {},
   "source": [
    "I needed help masking the parallel values within this heatmap [<sup>9</sup>](#resources) . Notice the pearson correlation coifficient between retweet count and favorite count (0.9276) is easy to spot when compared to a normal heatmap correlation matrix that duplicates values. This is considered a strong positive correlation."
   ]
  },
  {
   "cell_type": "code",
   "execution_count": 76,
   "metadata": {
    "scrolled": true
   },
   "outputs": [
    {
     "data": {
      "image/png": "[encoded data removed]",
      "text/plain": [
       "<matplotlib.figure.Figure at 0x7fe1233af9e8>"
      ]
     },
     "metadata": {},
     "output_type": "display_data"
    }
   ],
   "source": [
    "plt.figure(figsize=(10, 6))\n",
    "sns.regplot(data = df_stats, x = \"retweet_count\", y = \"favorite_count\", \n",
    "            ci = 95, color = cmap[0])\n",
    "plt.title('Relationship Between\\nRetweets and Favorites', fontsize = 18)\n",
    "plt.xlabel('Retweet Count', fontsize = 15)\n",
    "plt.ylabel('\\nFavorite Count', fontsize = 15)\n",
    "plt.xticks(fontsize = 10)\n",
    "plt.yticks(fontsize = 10)\n",
    "plt.tight_layout()\n",
    "plt.savefig('./assets/images/relationshipRetweetsAndFavorites', dpi = 300)\n",
    "plt.show()\n",
    "# help(sns.regplot)"
   ]
  },
  {
   "cell_type": "markdown",
   "metadata": {},
   "source": [
    "This graph displays a positive correlation between retweet count and favorite count."
   ]
  },
  {
   "cell_type": "markdown",
   "metadata": {},
   "source": [
    "<a id='four'></a>\n",
    "### Insight four & visualization"
   ]
  },
  {
   "cell_type": "code",
   "execution_count": 77,
   "metadata": {},
   "outputs": [],
   "source": [
    "df_stats.to_csv('./assets/df_stats.csv', encoding = 'utf-8')\n",
    "# df_stats[['rating_numerator', 'new_dog_rating']]"
   ]
  },
  {
   "cell_type": "code",
   "execution_count": 78,
   "metadata": {},
   "outputs": [
    {
     "data": {
      "text/html": [
       "<div>\n",
       "<style>\n",
       "    .dataframe thead tr:only-child th {\n",
       "        text-align: right;\n",
       "    }\n",
       "\n",
       "    .dataframe thead th {\n",
       "        text-align: left;\n",
       "    }\n",
       "\n",
       "    .dataframe tbody tr th {\n",
       "        vertical-align: top;\n",
       "    }\n",
       "</style>\n",
       "<table border=\"1\" class=\"dataframe\">\n",
       "  <thead>\n",
       "    <tr style=\"text-align: right;\">\n",
       "      <th></th>\n",
       "      <th>count</th>\n",
       "      <th>mean</th>\n",
       "      <th>std</th>\n",
       "      <th>min</th>\n",
       "      <th>25%</th>\n",
       "      <th>50%</th>\n",
       "      <th>75%</th>\n",
       "      <th>max</th>\n",
       "    </tr>\n",
       "    <tr>\n",
       "      <th>developmentalStage</th>\n",
       "      <th></th>\n",
       "      <th></th>\n",
       "      <th></th>\n",
       "      <th></th>\n",
       "      <th></th>\n",
       "      <th></th>\n",
       "      <th></th>\n",
       "      <th></th>\n",
       "    </tr>\n",
       "  </thead>\n",
       "  <tbody>\n",
       "    <tr>\n",
       "      <th>doggo</th>\n",
       "      <td>29.0</td>\n",
       "      <td>11.586207</td>\n",
       "      <td>1.570197</td>\n",
       "      <td>8.0</td>\n",
       "      <td>11.00</td>\n",
       "      <td>11.0</td>\n",
       "      <td>13.00</td>\n",
       "      <td>14.0</td>\n",
       "    </tr>\n",
       "    <tr>\n",
       "      <th>floofer</th>\n",
       "      <td>4.0</td>\n",
       "      <td>11.500000</td>\n",
       "      <td>1.290994</td>\n",
       "      <td>10.0</td>\n",
       "      <td>10.75</td>\n",
       "      <td>11.5</td>\n",
       "      <td>12.25</td>\n",
       "      <td>13.0</td>\n",
       "    </tr>\n",
       "    <tr>\n",
       "      <th>multi-entry</th>\n",
       "      <td>7.0</td>\n",
       "      <td>11.000000</td>\n",
       "      <td>2.708013</td>\n",
       "      <td>5.0</td>\n",
       "      <td>11.50</td>\n",
       "      <td>12.0</td>\n",
       "      <td>12.00</td>\n",
       "      <td>13.0</td>\n",
       "    </tr>\n",
       "    <tr>\n",
       "      <th>no-entry</th>\n",
       "      <td>919.0</td>\n",
       "      <td>10.703667</td>\n",
       "      <td>1.836619</td>\n",
       "      <td>2.0</td>\n",
       "      <td>10.00</td>\n",
       "      <td>11.0</td>\n",
       "      <td>12.00</td>\n",
       "      <td>14.0</td>\n",
       "    </tr>\n",
       "    <tr>\n",
       "      <th>pupper</th>\n",
       "      <td>116.0</td>\n",
       "      <td>10.780172</td>\n",
       "      <td>1.422320</td>\n",
       "      <td>7.0</td>\n",
       "      <td>10.00</td>\n",
       "      <td>11.0</td>\n",
       "      <td>12.00</td>\n",
       "      <td>14.0</td>\n",
       "    </tr>\n",
       "    <tr>\n",
       "      <th>puppo</th>\n",
       "      <td>14.0</td>\n",
       "      <td>11.785714</td>\n",
       "      <td>1.423893</td>\n",
       "      <td>9.0</td>\n",
       "      <td>11.00</td>\n",
       "      <td>12.0</td>\n",
       "      <td>13.00</td>\n",
       "      <td>14.0</td>\n",
       "    </tr>\n",
       "  </tbody>\n",
       "</table>\n",
       "</div>"
      ],
      "text/plain": [
       "                    count       mean       std   min    25%   50%    75%   max\n",
       "developmentalStage                                                            \n",
       "doggo                29.0  11.586207  1.570197   8.0  11.00  11.0  13.00  14.0\n",
       "floofer               4.0  11.500000  1.290994  10.0  10.75  11.5  12.25  13.0\n",
       "multi-entry           7.0  11.000000  2.708013   5.0  11.50  12.0  12.00  13.0\n",
       "no-entry            919.0  10.703667  1.836619   2.0  10.00  11.0  12.00  14.0\n",
       "pupper              116.0  10.780172  1.422320   7.0  10.00  11.0  12.00  14.0\n",
       "puppo                14.0  11.785714  1.423893   9.0  11.00  12.0  13.00  14.0"
      ]
     },
     "execution_count": 78,
     "metadata": {},
     "output_type": "execute_result"
    }
   ],
   "source": [
    "# summary of central tendancy and interquartile ranges\n",
    "df_stats.groupby('developmentalStage')[\"new_dog_rating\"].describe()"
   ]
  },
  {
   "cell_type": "code",
   "execution_count": 79,
   "metadata": {},
   "outputs": [
    {
     "data": {
      "image/png": "[encoded data removed]",
      "text/plain": [
       "<matplotlib.figure.Figure at 0x7fe12454fe48>"
      ]
     },
     "metadata": {},
     "output_type": "display_data"
    }
   ],
   "source": [
    "plt.figure(figsize=(10, 6))\n",
    "sns.boxplot(data = df_stats, x = \"developmentalStage\", y = \"new_dog_rating\", palette = cmap)\n",
    "plt.title('Boxplot of Dog Types', fontsize = 18)\n",
    "plt.xlabel('Developmental Stage', fontsize = 15)\n",
    "plt.ylabel('Ratings', fontsize = 15)\n",
    "plt.xticks(fontsize = 10)\n",
    "plt.yticks(fontsize = 10)\n",
    "plt.tight_layout()\n",
    "plt.savefig('./assets/images/boxplotDogTypes', dpi = 300)\n",
    "plt.show()\n",
    "# help(sns.boxplot)"
   ]
  },
  {
   "cell_type": "markdown",
   "metadata": {},
   "source": [
    "Box plot displays the range of ratings for each developmental stage. "
   ]
  },
  {
   "cell_type": "markdown",
   "metadata": {},
   "source": [
    "<a id='storing'></a>\n",
    "## Storing"
   ]
  },
  {
   "cell_type": "code",
   "execution_count": 80,
   "metadata": {},
   "outputs": [],
   "source": [
    "df_cleanData.to_csv('./assets/twitter_archive_master.csv', encoding = 'utf-8')"
   ]
  },
  {
   "cell_type": "markdown",
   "metadata": {},
   "source": [
    "<a id='resources'></a>\n",
    "### Resources"
   ]
  },
  {
   "cell_type": "markdown",
   "metadata": {},
   "source": [
    "1. *Kazil, J., & Jarmul, K. (2016). Data wrangling with Python: Tips and tools to make your life easier.*\n",
    "\n",
    "* *Dale, K. (2016). Data visualization with Python & Javascript: Scrape, clean, explore & transform your data.*\n",
    "\n",
    "* *McKinney, W. (2018). Python for data analysis: Data wrangling with Pandas, NumPy, and IPython.*\n",
    "\n",
    "* *Schutt, R., & ONeil, C. (2014). Doing data science.*\n",
    "\n",
    "* [Example Project Layout Template](https://github.com/latinacode/Wrangle-and-Analyze-Data/blob/master/wrangle_act.ipynb)\n",
    "\n",
    "* [Time Delay](https://www.pythoncentral.io/pythons-time-sleep-pause-wait-sleep-stop-your-code/)\n",
    "\n",
    "* [Joining Dataframes with Pandas](https://chrisalbon.com/python/data_wrangling/pandas_join_merge_dataframe/)\n",
    "\n",
    "* [Lambda](http://jamie-wong.com/2009/12/06/lambda-functions/)\n",
    "\n",
    "* [Heatmap Pearson Correlation](https://seaborn.pydata.org/examples/many_pairwise_correlations.html)"
   ]
  },
  {
   "cell_type": "code",
   "execution_count": null,
   "metadata": {},
   "outputs": [],
   "source": []
  }
 ],
 "metadata": {
  "kernelspec": {
   "display_name": "Python 3",
   "language": "python",
   "name": "python3"
  },
  "language_info": {
   "codemirror_mode": {
    "name": "ipython",
    "version": 3
   },
   "file_extension": ".py",
   "mimetype": "text/x-python",
   "name": "python",
   "nbconvert_exporter": "python",
   "pygments_lexer": "ipython3",
   "version": "3.6.3"
  }
 },
 "nbformat": 4,
 "nbformat_minor": 2
}
