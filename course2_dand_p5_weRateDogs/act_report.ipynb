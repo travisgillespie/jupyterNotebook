{
 "cells": [
  {
   "cell_type": "markdown",
   "metadata": {},
   "source": [
    "# Data Act Report\n",
    "\n",
    "### by Travis Gillespie"
   ]
  },
  {
   "cell_type": "markdown",
   "metadata": {},
   "source": [
    "## Table of Contents\n",
    "- [Introduction](#intro)\n",
    "- [Analyze, and Visualize](#analyzing)\n",
    "   - [Insight one & visualization](#one)\n",
    "   - [Insight two](#two)\n",
    "   - [Insight three & visualization](#three)\n",
    "   - [Insight four & visualization](#four)\n",
    "- [Resources](#resources)"
   ]
  },
  {
   "cell_type": "markdown",
   "metadata": {},
   "source": [
    "<a id='intro'></a>\n",
    "## Introduction"
   ]
  },
  {
   "cell_type": "markdown",
   "metadata": {},
   "source": [
    "The purpose of this project is to wrangle data from Twitter's tweet archive, under WeRateDogs. The visuals included in this post represent data gathered, assessed, cleaned, and graphed in the [*wrangle_act.ipynb*](./wrangle_act.ipynb) file. This section analyzes the visualizations created as a through the data wrangling process."
   ]
  },
  {
   "cell_type": "markdown",
   "metadata": {},
   "source": [
    "<a id='analyzing'></a>\n",
    "## Analyzing, and Visualizing Data"
   ]
  },
  {
   "cell_type": "markdown",
   "metadata": {},
   "source": [
    "<a id='one'></a>\n",
    "### Insight one & visualization"
   ]
  },
  {
   "cell_type": "markdown",
   "metadata": {},
   "source": [
    "I looked into the distribution of tweet sources. The chart suggests most tweets come from iPhone. I found it interesting that iPhone accounts for more than ten-times the amount of other sources combined. I also thought it was interesting that iPhone is the only mobile device listed. I am curious what this chart would look like if other mobile devices were included in the data set (e.g. Android)."
   ]
  },
  {
   "cell_type": "markdown",
   "metadata": {},
   "source": [
    "<img src=\"assets/images/tweetCountBySource.png\" width=\"75%\" align=\"left\">"
   ]
  },
  {
   "cell_type": "markdown",
   "metadata": {},
   "source": [
    "<a id='two'></a>\n",
    "### Insight two & visualization"
   ]
  },
  {
   "cell_type": "markdown",
   "metadata": {},
   "source": [
    "This graph displays the top 10 rated dog types. I was able to graph the top 10 dogs by adding a filter that selected ratings with a count greater than or equal to 20, and less than 150. The graph suggests Golden Retreivers are the most popular breed, followed by Pembroke, then Labrador Retrevier."
   ]
  },
  {
   "cell_type": "markdown",
   "metadata": {},
   "source": [
    "<img src=\"./assets/images/topRatedDogTypes.png\" width=\"75%\" align=\"left\">"
   ]
  },
  {
   "cell_type": "markdown",
   "metadata": {},
   "source": [
    "<a id='three'></a>\n",
    "### Insight three & visualization"
   ]
  },
  {
   "cell_type": "markdown",
   "metadata": {},
   "source": [
    "My hypothesis was popular tweets receive higher amounts of retweets and favorites status. I ran a pearson correlation and created a scatter plot to determine the relationship between the count of retweets and favorites."
   ]
  },
  {
   "cell_type": "markdown",
   "metadata": {},
   "source": [
    "<img src=\"./assets/images/pearsonCorrelation.png\" width=\"80%\" align=\"left\">"
   ]
  },
  {
   "cell_type": "markdown",
   "metadata": {},
   "source": [
    "____"
   ]
  },
  {
   "cell_type": "markdown",
   "metadata": {},
   "source": [
    "<img src=\"./assets/images/relationshipRetweetsAndFavorites.png\" width=\"75%\" align=\"left\">"
   ]
  },
  {
   "cell_type": "markdown",
   "metadata": {},
   "source": [
    "Both graphs suggest there is a positive correlation between _retweet count_ and _favorite count_. The coifficient of correlation (aka is correlation coifficient) between _retweet count_ and _favorite count_ is approximately 0.928. This is considered a strong positive relationship, since the correlation coifficient is greater than 0.7; also creating a strong correlation of determination (aka r-squared) approximately 0.86. This was calculated by squaring the correlation coifficient value found in the heatmap."
   ]
  },
  {
   "cell_type": "markdown",
   "metadata": {},
   "source": [
    "<a id='four'></a>\n",
    "### Insight four & visualization"
   ]
  },
  {
   "cell_type": "markdown",
   "metadata": {},
   "source": [
    "Although I could not find a description of puppo's, here are some brief descriptions on the other developmental stage categories [<sup>1</sup>](#resources) . \n",
    "* Pupper - small doggo\n",
    "* Doggo - dog\n",
    "* Woofer - big doggo\n"
   ]
  },
  {
   "cell_type": "markdown",
   "metadata": {},
   "source": [
    "<img src=\"./assets/images/boxplotDogTypes.png\" width=\"75%\" align=\"left\">"
   ]
  },
  {
   "cell_type": "markdown",
   "metadata": {},
   "source": [
    "I was surprised to find puppers had the greatest range in ratings, as suggested in the boxplot. On the other hand, puppo's and doggo's have smaller ranges (compared to pupper's) and the highest overall median ratings.\n",
    "\n",
    "I assumed most people find pupper's (aka puppy's) cute and would naturally give them higher ratings, which would in turn decrease its rating range. However, there seems to be an unclear definition of what a pupper actually is (*i.e. is it a puppy, or a small dog?*) [<sup>2</sup>](#resources). This could lead to misconceptions that would allow for a wider range in responses, only if people tend to find puppies cuter than older / larger dogs. Since I do not have data that would support his claim, I will leave it at that.\n",
    "\n",
    "I also considered dropping rows (within column _developmentalStage_) coded with the value _no-entry_ and _multi-entry_. However, this reduced the dataset from approximately 2000 entries down below 300 entries. I decided to keep rows with values of _no-entry_ and _multi-entry_ in the data set, because their rows contained valuable data used in the other visualizations."
   ]
  },
  {
   "cell_type": "markdown",
   "metadata": {},
   "source": [
    "<a id='resources'></a>\n",
    "## Resources"
   ]
  },
  {
   "cell_type": "markdown",
   "metadata": {},
   "source": [
    "1. [Puppers vs Doggos vs Floofers](https://youtu.be/ah6fmNEtXFI)\n",
    "2. [Definitions for pupper](https://www.urbandictionary.com/define.php?term=pupper)"
   ]
  },
  {
   "cell_type": "code",
   "execution_count": null,
   "metadata": {},
   "outputs": [],
   "source": []
  }
 ],
 "metadata": {
  "kernelspec": {
   "display_name": "Python 3",
   "language": "python",
   "name": "python3"
  },
  "language_info": {
   "codemirror_mode": {
    "name": "ipython",
    "version": 3
   },
   "file_extension": ".py",
   "mimetype": "text/x-python",
   "name": "python",
   "nbconvert_exporter": "python",
   "pygments_lexer": "ipython3",
   "version": "3.6.3"
  }
 },
 "nbformat": 4,
 "nbformat_minor": 2
}
