{
 "cells": [
  {
   "cell_type": "markdown",
   "metadata": {},
   "source": [
    "# 2016 US Bike Share Activity Snapshot\n",
    "\n",
    "## Table of Contents\n",
    "- [Introduction](#intro)\n",
    "- [Data Collection and Wrangling](#wrangling)\n",
    "  - [Condensing the Trip Data](#condensing)\n",
    "- [Exploratory Data Analysis](#eda)\n",
    "  - [Statistics](#statistics)\n",
    "  - [Visualizations](#visualizations)\n",
    "- [Performing Your Own Analysis](#eda_continued)\n",
    "- [Conclusion](#conclusion)\n",
    "- [Resources](#resources)\n",
    "\n",
    "<a id='intro'></a>\n",
    "## Introduction\n",
    "\n",
    "Over the past decade, bicycle-sharing systems have been growing in number and popularity in cities across the world. Bicycle-sharing systems allow users to rent bicycles for short trips, typically 30 minutes or less. Thanks to the rise in information technologies, it is easy for a user of the system to access a dock within the system to unlock or return bicycles. These technologies also provide a wealth of data that can be used to explore how these bike-sharing systems are used.\n",
    "\n",
    "In this project, you will perform an exploratory analysis on data provided by [Motivate](https://www.motivateco.com/), a bike-share system provider for many major cities in the United States. You will compare the system usage between three large cities: New York City, Chicago, and Washington, DC. You will also see if there are any differences within each system for those users that are registered, regular users and those users that are short-term, casual users."
   ]
  },
  {
   "cell_type": "markdown",
   "metadata": {},
   "source": [
    "<a id='wrangling'></a>\n",
    "## Data Collection and Wrangling\n",
    "\n",
    "Now it's time to collect and explore our data. In this project, we will focus on the record of individual trips taken in 2016 from our selected cities: New York City, Chicago, and Washington, DC. Each of these cities has a page where we can freely download the trip data.:\n",
    "\n",
    "- New York City (Citi Bike): [Link](https://www.citibikenyc.com/system-data)\n",
    "- Chicago (Divvy): [Link](https://www.divvybikes.com/system-data)\n",
    "- Washington, DC (Capital Bikeshare): [Link](https://www.capitalbikeshare.com/system-data)\n",
    "\n",
    "If you visit these pages, you will notice that each city has a different way of delivering its data. Chicago updates with new data twice a year, Washington DC is quarterly, and New York City is monthly. **However, you do not need to download the data yourself.** The data has already been collected for you in the `/data/` folder of the project files. While the original data for 2016 is spread among multiple files for each city, the files in the `/data/` folder collect all of the trip data for the year into one file per city. Some data wrangling of inconsistencies in timestamp format within each city has already been performed for you. In addition, a random 2% sample of the original data is taken to make the exploration more manageable. There is still a lot of data for us to investigate, so it's a good idea to start off by looking at one entry from each of the cities we're going to analyze."
   ]
  },
  {
   "cell_type": "code",
   "execution_count": 1,
   "metadata": {},
   "outputs": [],
   "source": [
    "## import all necessary packages and functions.\n",
    "import csv # read and write csv files\n",
    "from datetime import datetime # operations to parse dates\n",
    "from pprint import pprint # use to print data structures like dictionaries in\n",
    "                          # a nicer way than the base print function."
   ]
  },
  {
   "cell_type": "code",
   "execution_count": 2,
   "metadata": {},
   "outputs": [
    {
     "name": "stdout",
     "output_type": "stream",
     "text": [
      "\n",
      "City: NYC\n",
      "OrderedDict([('tripduration', '839'),\n",
      "             ('starttime', '1/1/2016 00:09:55'),\n",
      "             ('stoptime', '1/1/2016 00:23:54'),\n",
      "             ('start station id', '532'),\n",
      "             ('start station name', 'S 5 Pl & S 4 St'),\n",
      "             ('start station latitude', '40.710451'),\n",
      "             ('start station longitude', '-73.960876'),\n",
      "             ('end station id', '401'),\n",
      "             ('end station name', 'Allen St & Rivington St'),\n",
      "             ('end station latitude', '40.72019576'),\n",
      "             ('end station longitude', '-73.98997825'),\n",
      "             ('bikeid', '17109'),\n",
      "             ('usertype', 'Customer'),\n",
      "             ('birth year', ''),\n",
      "             ('gender', '0')])\n",
      "\n",
      "City: Chicago\n",
      "OrderedDict([('trip_id', '9080545'),\n",
      "             ('starttime', '3/31/2016 23:30'),\n",
      "             ('stoptime', '3/31/2016 23:46'),\n",
      "             ('bikeid', '2295'),\n",
      "             ('tripduration', '926'),\n",
      "             ('from_station_id', '156'),\n",
      "             ('from_station_name', 'Clark St & Wellington Ave'),\n",
      "             ('to_station_id', '166'),\n",
      "             ('to_station_name', 'Ashland Ave & Wrightwood Ave'),\n",
      "             ('usertype', 'Subscriber'),\n",
      "             ('gender', 'Male'),\n",
      "             ('birthyear', '1990')])\n",
      "\n",
      "City: Washington\n",
      "OrderedDict([('Duration (ms)', '427387'),\n",
      "             ('Start date', '3/31/2016 22:57'),\n",
      "             ('End date', '3/31/2016 23:04'),\n",
      "             ('Start station number', '31602'),\n",
      "             ('Start station', 'Park Rd & Holmead Pl NW'),\n",
      "             ('End station number', '31207'),\n",
      "             ('End station', 'Georgia Ave and Fairmont St NW'),\n",
      "             ('Bike number', 'W20842'),\n",
      "             ('Member Type', 'Registered')])\n"
     ]
    }
   ],
   "source": [
    "def print_first_point(filename):\n",
    "    \"\"\"\n",
    "    This function prints and returns the first data point (second row) from\n",
    "    a csv file that includes a header row.\n",
    "    \"\"\"\n",
    "    # print city name for reference\n",
    "    city = filename.split('-')[0].split('/')[-1]\n",
    "    print('\\nCity: {}'.format(city))\n",
    "    \n",
    "    with open(filename, 'r') as f_in:\n",
    "        ## TODO: Use the csv library to set up a DictReader object. ##\n",
    "        ## see https://docs.python.org/3/library/csv.html           ##\n",
    "        trip_reader = list(csv.DictReader(f_in))\n",
    "        \n",
    "        ## TODO: Use a function on the DictReader object to read the     ##\n",
    "        ## first trip from the data file and store it in a variable.     ##\n",
    "        ## see https://docs.python.org/3/library/csv.html#reader-objects ##\n",
    "        first_trip = trip_reader[0]\n",
    "        \n",
    "        ## TODO: Use the pprint library to print the first trip. ##\n",
    "        ## see https://docs.python.org/3/library/pprint.html     ##\n",
    "        pprint(first_trip)\n",
    "        \n",
    "    # output city name and first trip for later testing\n",
    "    return (city, first_trip)\n",
    "\n",
    "# list of files for each city\n",
    "data_files = ['./data/NYC-CitiBike-2016.csv',\n",
    "              './data/Chicago-Divvy-2016.csv',\n",
    "              './data/Washington-CapitalBikeshare-2016.csv',]\n",
    "\n",
    "# print the first trip from each file, store in dictionary\n",
    "example_trips = {}\n",
    "for data_file in data_files:\n",
    "    city, first_trip = print_first_point(data_file)\n",
    "    example_trips[city] = first_trip"
   ]
  },
  {
   "cell_type": "markdown",
   "metadata": {},
   "source": [
    "<a id='condensing'></a>\n",
    "### Condensing the Trip Data\n",
    "\n",
    "You will generate new data files with five values of interest for each trip: trip duration, starting month, starting hour, day of the week, and user type. Each of these may require additional wrangling depending on the city:\n",
    "\n",
    "- **Duration**: This has been given to us in seconds (New York, Chicago) or milliseconds (Washington). A more natural unit of analysis will be if all the trip durations are given in terms of minutes.\n",
    "- **Month**, **Hour**, **Day of Week**: Ridership volume is likely to change based on the season, time of day, and whether it is a weekday or weekend. Use the start time of the trip to obtain these values. The New York City data includes the seconds in their timestamps, while Washington and Chicago do not. The [`datetime`](https://docs.python.org/3/library/datetime.html) package will be very useful here to make the needed conversions.\n",
    "- **User Type**: It is possible that users who are subscribed to a bike-share system will have different patterns of use compared to users who only have temporary passes. Washington divides its users into two types: 'Registered' for users with annual, monthly, and other longer-term subscriptions, and 'Casual', for users with 24-hour, 3-day, and other short-term passes. The New York and Chicago data uses 'Subscriber' and 'Customer' for these groups, respectively. For consistency, you will convert the Washington labels to match the other two."
   ]
  },
  {
   "cell_type": "code",
   "execution_count": 3,
   "metadata": {},
   "outputs": [],
   "source": [
    "def duration_in_mins(datum, city):\n",
    "    \"\"\"\n",
    "    Takes as input a dictionary containing info about a single trip (datum) and\n",
    "    its origin city (city) and returns the trip duration in units of minutes.\n",
    "    \n",
    "    Remember that Washington is in terms of milliseconds while Chicago and NYC\n",
    "    are in terms of seconds. \n",
    "    \"\"\"\n",
    "    if city == 'Chicago' or city == 'NYC':\n",
    "        # convert from seconds to minutes\n",
    "        duration = float(datum['tripduration']) / 60\n",
    "    elif city == 'Washington':\n",
    "        # convert from millseconds to minutes\n",
    "        duration = float(datum['Duration (ms)']) / 60000\n",
    "    else: \n",
    "        print('City Not found: ', city)\n",
    "   \n",
    "    # print('{}: {}'.format(city, duration))\n",
    "    \n",
    "    return duration\n",
    "    \n",
    "# Some tests to check that your code works. There should be no output if all of\n",
    "# the assertions pass. The `example_trips` dictionary was obtained from when\n",
    "# you printed the first trip from each of the original data files.\n",
    "tests = {'NYC': 13.9833,\n",
    "         'Chicago': 15.4333,\n",
    "         'Washington': 7.1231}\n",
    "\n",
    "for city in tests:\n",
    "    assert abs(duration_in_mins(example_trips[city], city) - tests[city]) < .001"
   ]
  },
  {
   "cell_type": "code",
   "execution_count": 4,
   "metadata": {},
   "outputs": [],
   "source": [
    "def time_of_trip(datum, city):\n",
    "    \"\"\"\n",
    "    Takes as input a dictionary containing info about a single trip (datum) and\n",
    "    its origin city (city) and returns the month, hour, and day of the week in\n",
    "    which the trip was made.\n",
    "    \n",
    "    Remember that NYC includes seconds, while Washington and Chicago do not.\n",
    "    \"\"\"\n",
    "    columnStartTime = 'starttime'\n",
    "    columnStartDate = 'Start date'\n",
    "    dateFormat1 = '%m/%d/%Y %H:%M'\n",
    "    dateFormat2 = '%m/%d/%Y %H:%M:%S'\n",
    "    \n",
    "    if city == 'Chicago':\n",
    "        columnName = columnStartTime\n",
    "        dateFormat = dateFormat1\n",
    "    elif city == 'NYC':\n",
    "        columnName = columnStartTime\n",
    "        dateFormat = dateFormat2\n",
    "    elif city == 'Washington':\n",
    "        columnName = columnStartDate\n",
    "        dateFormat = dateFormat1\n",
    "    else:\n",
    "        print('City Not found: ', city)       \n",
    "\n",
    "    dateString = datum[columnName]\n",
    "    dateObject = datetime.strptime(dateString, dateFormat)\n",
    "    month = dateObject.month\n",
    "    hour = dateObject.hour\n",
    "    day_of_week = dateObject.strftime('%A')\n",
    "\n",
    "    # print('City: {}'.format(city))\n",
    "    # print('dateObject: {}'.format(dateObject))\n",
    "    # print('month: {}'.format(month)        )\n",
    "    # print('hour: {}'.format(hour))\n",
    "    # print('day_of_week: {}'.format(day_of_week))\n",
    "    # print('\\n')\n",
    " \n",
    "    return (month, hour, day_of_week)\n",
    "\n",
    "# Some tests to check that your code works. There should be no output if all of\n",
    "# the assertions pass. The `example_trips` dictionary was obtained from when\n",
    "# you printed the first trip from each of the original data files.\n",
    "tests = {'NYC': (1, 0, 'Friday'),\n",
    "         'Chicago': (3, 23, 'Thursday'),\n",
    "         'Washington': (3, 22, 'Thursday')}\n",
    "\n",
    "for city in tests:\n",
    "    assert time_of_trip(example_trips[city], city) == tests[city]"
   ]
  },
  {
   "cell_type": "code",
   "execution_count": 5,
   "metadata": {},
   "outputs": [],
   "source": [
    "def type_of_user(datum, city):\n",
    "    \"\"\"\n",
    "    Takes as input a dictionary containing info about a single trip (datum) and\n",
    "    its origin city (city) and returns the type of system user that made the\n",
    "    trip.\n",
    "    \n",
    "    Remember that Washington has different category names compared to Chicago\n",
    "    and NYC. \n",
    "    \"\"\"\n",
    "        \n",
    "    # get column header and set user type\n",
    "    if city == 'Chicago' or city == 'NYC':\n",
    "        user_type = datum['usertype']\n",
    "    elif city == 'Washington':\n",
    "        if datum['Member Type'] == 'Registered':\n",
    "            user_type = 'Subscriber'\n",
    "        else:\n",
    "            user_type = 'Customer'                \n",
    "    else:\n",
    "        print('City not found: ', city)\n",
    "        \n",
    "    # print(\"{}: {}\".format(city, user_type))    \n",
    "    \n",
    "    return user_type\n",
    "\n",
    "\n",
    "# Some tests to check that your code works. There should be no output if all of\n",
    "# the assertions pass. The `example_trips` dictionary was obtained from when\n",
    "# you printed the first trip from each of the original data files.\n",
    "tests = {'NYC': 'Customer',\n",
    "         'Chicago': 'Subscriber',\n",
    "         'Washington': 'Subscriber'}\n",
    "\n",
    "for city in tests:\n",
    "    assert type_of_user(example_trips[city], city) == tests[city]"
   ]
  },
  {
   "cell_type": "code",
   "execution_count": 6,
   "metadata": {},
   "outputs": [],
   "source": [
    "def condense_data(in_file, out_file, city):\n",
    "    \"\"\"\n",
    "    This function takes full data from the specified input file\n",
    "    and writes the condensed data to a specified output file. The city\n",
    "    argument determines how the input file will be parsed.\n",
    "    \"\"\"\n",
    "    import csv\n",
    "    with open(out_file, 'w') as f_out, open(in_file, 'r') as f_in:\n",
    "        # set up csv DictWriter object - writer requires column names for the\n",
    "        # first row as the \"fieldnames\" argument\n",
    "        out_colnames = ['duration', 'month', 'hour', 'day_of_week', 'user_type']        \n",
    "        trip_writer = csv.DictWriter(f_out, fieldnames = out_colnames)\n",
    "        trip_writer.writeheader()\n",
    "        \n",
    "        ## TODO: set up csv DictReader object ##\n",
    "        trip_reader = list(csv.DictReader(f_in))\n",
    "\n",
    "        # collect data from and process each row\n",
    "        for row in trip_reader:\n",
    "            # set up a dictionary to hold the values for the cleaned and trimmed\n",
    "            # data point\n",
    "            new_point = {}\n",
    "\n",
    "            ## TODO: use the helper functions to get the cleaned data from  ##\n",
    "            ## the original data dictionaries.                              ##\n",
    "            ## Note that the keys for the new_point dictionary should match ##\n",
    "            ## the column names set in the DictWriter object above.         ##\n",
    "            # print('time of trip: {}',  time_of_trip(row, city)[2])\n",
    "            new_point['duration'] = duration_in_mins(row, city)\n",
    "            new_point['month'] = time_of_trip(row, city)[0]\n",
    "            new_point['hour'] = time_of_trip(row, city)[1]\n",
    "            new_point['day_of_week'] = time_of_trip(row, city)[2]\n",
    "            new_point['user_type'] = type_of_user(row, city)\n",
    "\n",
    "            ## TODO: write the processed information to the output file.     ##\n",
    "            ## see https://docs.python.org/3/library/csv.html#writer-objects ##\n",
    "            # print('new point: {}', new_point)\n",
    "            trip_writer.writerow(new_point)"
   ]
  },
  {
   "cell_type": "code",
   "execution_count": 7,
   "metadata": {
    "scrolled": true
   },
   "outputs": [
    {
     "name": "stdout",
     "output_type": "stream",
     "text": [
      "\n",
      "City: Washington\n",
      "OrderedDict([('duration', '7.123116666666666'),\n",
      "             ('month', '3'),\n",
      "             ('hour', '22'),\n",
      "             ('day_of_week', 'Thursday'),\n",
      "             ('user_type', 'Subscriber')])\n",
      "\n",
      "City: Chicago\n",
      "OrderedDict([('duration', '15.433333333333334'),\n",
      "             ('month', '3'),\n",
      "             ('hour', '23'),\n",
      "             ('day_of_week', 'Thursday'),\n",
      "             ('user_type', 'Subscriber')])\n",
      "\n",
      "City: NYC\n",
      "OrderedDict([('duration', '13.983333333333333'),\n",
      "             ('month', '1'),\n",
      "             ('hour', '0'),\n",
      "             ('day_of_week', 'Friday'),\n",
      "             ('user_type', 'Customer')])\n"
     ]
    }
   ],
   "source": [
    "# Run this cell to check your work\n",
    "city_info = {'Washington': {'in_file': './data/Washington-CapitalBikeshare-2016.csv',\n",
    "                            'out_file': './data/Washington-2016-Summary.csv'},\n",
    "             'Chicago': {'in_file': './data/Chicago-Divvy-2016.csv',\n",
    "                         'out_file': './data/Chicago-2016-Summary.csv'},\n",
    "             'NYC': {'in_file': './data/NYC-CitiBike-2016.csv',\n",
    "                     'out_file': './data/NYC-2016-Summary.csv'}}\n",
    "\n",
    "for city, filenames in city_info.items():\n",
    "    condense_data(filenames['in_file'], filenames['out_file'], city)\n",
    "    print_first_point(filenames['out_file'])"
   ]
  },
  {
   "cell_type": "markdown",
   "metadata": {},
   "source": [
    "<a id='eda'></a>\n",
    "## Exploratory Data Analysis\n",
    "\n",
    "Now that you have the data collected and wrangled, you're ready to start exploring the data. In this section you will write some code to compute descriptive statistics from the data. You will also be introduced to the `matplotlib` library to create some basic histograms of the data.\n",
    "\n",
    "<a id='statistics'></a>\n",
    "### Statistics\n",
    "\n",
    "First, let's compute some basic counts. The first cell below contains a function that uses the csv module to iterate through a provided data file, returning the number of trips made by subscribers and customers. The second cell runs this function on the example Bay Area data in the `/examples/` folder. Modify the cells to answer the question below.\n",
    "\n",
    "Which city has the highest number of trips? Which city has the highest proportion of trips made by subscribers? Which city has the highest proportion of trips made by short-term customers?\n",
    "\n",
    "New York has the highest number of trips, totaling 276,798 rides. New York also has the highest proportion of trips made by subscribers, approximately 89%. Chicago has the highest proportion of trips made by short-term customers, apporximately 24%."
   ]
  },
  {
   "cell_type": "code",
   "execution_count": 8,
   "metadata": {},
   "outputs": [],
   "source": [
    "def number_of_trips(filename):\n",
    "    \"\"\"\n",
    "    This function reads in a file with trip data and reports the number of\n",
    "    trips made by subscribers, customers, and total overall.\n",
    "    \"\"\"\n",
    "    with open(filename, 'r') as f_in:\n",
    "        # set up csv reader object\n",
    "        reader = csv.DictReader(f_in)\n",
    "        \n",
    "        # initialize count variables\n",
    "        n_subscribers = 0\n",
    "        n_customers = 0\n",
    "\n",
    "        # tally up ride types\n",
    "        for row in reader:\n",
    "            if row['user_type'] == 'Subscriber':\n",
    "                n_subscribers += 1\n",
    "            else:\n",
    "                n_customers += 1\n",
    "        \n",
    "        # compute total number of rides\n",
    "        n_total = n_subscribers + n_customers\n",
    "        \n",
    "        # proportion of trips made by subscribers -> subcripbers / total\n",
    "        p_subscribers = (n_subscribers / n_total) * 100\n",
    "        \n",
    "        # proportion of trips made by customers -> customers / total\n",
    "        p_customers = (n_customers / n_total) * 100\n",
    "        \n",
    "        # return tallies as a tuple\n",
    "        return(n_subscribers, n_customers, n_total, p_subscribers, p_customers)"
   ]
  },
  {
   "cell_type": "code",
   "execution_count": 9,
   "metadata": {},
   "outputs": [
    {
     "name": "stdout",
     "output_type": "stream",
     "text": [
      "(54982, 17149, 72131, 76.22520136973007, 23.774798630269924)\n",
      "(245896, 30902, 276798, 88.83590199351151, 11.164098006488485)\n",
      "(51753, 14573, 66326, 78.0282242257938, 21.971775774206193)\n"
     ]
    }
   ],
   "source": [
    "## Modify this and the previous cell to answer Question 4a. Remember to run ##\n",
    "## the function on the cleaned data files you created from Question 3.      ##\n",
    "\n",
    "\n",
    "example_file = './examples/BayArea-Y3-Summary.csv'\n",
    "\n",
    "data_file = ['./data/Chicago-2016-Summary.csv',\n",
    "             './data/NYC-2016-Summary.csv',\n",
    "             './data/Washington-2016-Summary.csv']\n",
    "for filepath in data_file:\n",
    "    print(number_of_trips(filepath))"
   ]
  },
  {
   "cell_type": "markdown",
   "metadata": {},
   "source": [
    "Now, you will write your own code to continue investigating properties of the data.\n",
    "\n",
    "Bike-share systems are designed for riders to take short trips. Most of the time, users are allowed to take trips of 30 minutes or less with no additional charges, with overage charges made for trips of longer than that duration. The average ride lenghts for Chicago, NYC, and Washington are 16.5 minutes, 15.8 minutes, and 18.9 minutes, respectively. Regarding rides greater than 30 miuntes, the proportions for Chicago, NYC, and Washington are 8.3%, 7.3%, and 10.8%, respectively."
   ]
  },
  {
   "cell_type": "code",
   "execution_count": 10,
   "metadata": {
    "scrolled": true
   },
   "outputs": [],
   "source": [
    "def trip_length(filename):\n",
    "    \n",
    "    with open(filename, 'r') as f_in:\n",
    "        # set up csv reader object\n",
    "        reader = csv.DictReader(f_in)\n",
    "        \n",
    "        #initialize count variables\n",
    "        trip_counter = 0\n",
    "        trip_counter_30plus = 0\n",
    "        duration_total = 0\n",
    "        \n",
    "        duration_subscribers = 0\n",
    "        duration_customers = 0\n",
    "        trip_counter_subscribers = 0\n",
    "        trip_counter_customers = 0\n",
    "        \n",
    "        for row in reader:\n",
    "            trip_counter += 1\n",
    "            current_duration = float(row['duration'])\n",
    "            if current_duration > 30:\n",
    "                trip_counter_30plus += 1            \n",
    "            duration_total += current_duration\n",
    "            \n",
    "            # duration of ride types\n",
    "            if row['user_type'] == 'Subscriber':\n",
    "                trip_counter_subscribers += 1\n",
    "                duration_subscribers += current_duration\n",
    "            else:\n",
    "                trip_counter_customers += 1\n",
    "                duration_customers += current_duration\n",
    "                \n",
    "        # average trip length\n",
    "        average_duration = duration_total/trip_counter\n",
    "        average_duration_subscribers = duration_subscribers / trip_counter_subscribers\n",
    "        average_duration_customers = duration_customers / trip_counter_customers\n",
    "        \n",
    "        # proportions greater than 30 minutes\n",
    "        p_30plus = (trip_counter_30plus / trip_counter)*100\n",
    "    \n",
    "        return (average_duration, p_30plus, average_duration_subscribers, average_duration_customers)"
   ]
  },
  {
   "cell_type": "code",
   "execution_count": 11,
   "metadata": {},
   "outputs": [
    {
     "name": "stdout",
     "output_type": "stream",
     "text": [
      "(14.038656929671422, 3.5243689474519764, 9.512633839275217, 54.55121116377032)\n",
      "(16.563629368787335, 8.332062497400562, 12.067201690250076, 30.979781133982506)\n",
      "(15.81259299802294, 7.3024371563378345, 13.680790523907177, 32.77595139473187)\n",
      "(18.93287355913721, 10.83888671109369, 12.528120499294745, 41.67803139252976)\n"
     ]
    }
   ],
   "source": [
    "print(trip_length(example_file))\n",
    "\n",
    "for filepath in data_file:\n",
    "    print(trip_length(filepath))"
   ]
  },
  {
   "cell_type": "markdown",
   "metadata": {},
   "source": [
    "I chose Chicago. Customers take longer rides on average (≈30.9 minutes) compared to subscribers (≈12.1 minutes). This was also true for NYC and Washington. I think another interesting question could build from this previous finding. Why are customer average rides 2 to 3 times longer than subscribers?"
   ]
  },
  {
   "cell_type": "code",
   "execution_count": 12,
   "metadata": {},
   "outputs": [
    {
     "name": "stdout",
     "output_type": "stream",
     "text": [
      "(16.563629368787335, 8.332062497400562, 12.067201690250076, 30.979781133982506)\n"
     ]
    }
   ],
   "source": [
    "# print(trip_length(example_file))\n",
    "print(trip_length('./data/Chicago-2016-Summary.csv'))"
   ]
  },
  {
   "cell_type": "markdown",
   "metadata": {},
   "source": [
    "<a id='visualizations'></a>\n",
    "### Visualizations\n",
    "\n",
    "The last set of values that you computed should have pulled up an interesting result. While the mean trip time for Subscribers is well under 30 minutes, the mean trip time for Customers is actually _above_ 30 minutes! It will be interesting for us to look at how the trip times are distributed. In order to do this, a new library will be introduced here, `matplotlib`. Run the cell below to load the library and to generate an example plot."
   ]
  },
  {
   "cell_type": "markdown",
   "metadata": {},
   "source": [
    "<a id='libraries'></a>\n",
    "#### Additional Libraries\n",
    "- numpy: [Link](https://www.scipy.org/getting-started.html)\n",
    "- pandas -> DataFrame: [Link](https://pandas.pydata.org/pandas-docs/stable/generated/pandas.DataFrame.html)"
   ]
  },
  {
   "cell_type": "code",
   "execution_count": 13,
   "metadata": {},
   "outputs": [
    {
     "data": {
      "image/png": "[encoded data removed]",
      "text/plain": [
       "<matplotlib.figure.Figure at 0x10ea0c198>"
      ]
     },
     "metadata": {},
     "output_type": "display_data"
    }
   ],
   "source": [
    "# load librarys\n",
    "import matplotlib.pyplot as plt\n",
    "import numpy as np\n",
    "import pandas as pd\n",
    "# from pandas import DataFrame\n",
    "\n",
    "# this is a 'magic word' that allows for plots to be displayed\n",
    "# inline with the notebook. If you want to know more, see:\n",
    "# http://ipython.readthedocs.io/en/stable/interactive/magics.html\n",
    "%matplotlib inline \n",
    "\n",
    "# example histogram, data taken from bay area sample\n",
    "data = [ 7.65,  8.92,  7.42,  5.50, 16.17,  4.20,  8.98,  9.62, 11.48, 14.33,\n",
    "        19.02, 21.53,  3.90,  7.97,  2.62,  2.67,  3.08, 14.40, 12.90,  7.83,\n",
    "        25.12,  8.30,  4.93, 12.43, 10.60,  6.17, 10.88,  4.78, 15.15,  3.53,\n",
    "         9.43, 13.32, 11.72,  9.85,  5.22, 15.10,  3.95,  3.17,  8.78,  1.88,\n",
    "         4.55, 12.68, 12.38,  9.78,  7.63,  6.45, 17.38, 11.90, 11.52,  8.63,]\n",
    "plt.hist(data)\n",
    "plt.title('Distribution of Trip Durations')\n",
    "plt.xlabel('Duration (m)')\n",
    "plt.show()"
   ]
  },
  {
   "cell_type": "code",
   "execution_count": 14,
   "metadata": {},
   "outputs": [],
   "source": [
    "## Use this and additional cells to collect all of the trip times as a list ##\n",
    "## and then use pyplot functions to generate a histogram of trip times.     ##\n",
    "\n",
    "def trip_times(filename):\n",
    "    with open(filename, 'r') as f_in:\n",
    "        # set up csv reader object\n",
    "        reader = csv.DictReader(f_in)\n",
    "    \n",
    "        rides = []\n",
    "        \n",
    "        for row in reader:\n",
    "            rides.append(float(row['duration']))\n",
    "        return rides"
   ]
  },
  {
   "cell_type": "markdown",
   "metadata": {},
   "source": [
    "#### Additional graph settings\n",
    "- Arange: [Link](https://docs.scipy.org/doc/numpy/reference/generated/numpy.arange.html)\n",
    "- Bins: [Link 1](https://matplotlib.org/devdocs/api/_as_gen/matplotlib.pyplot.hist.html)\n",
    "- Bins: [Link 2](https://docs.scipy.org/doc/numpy/reference/generated/numpy.arange.html)\n",
    "- Bins: [Link 3](https://www.youtube.com/watch?v=snkkKrek7TU)\n",
    "- XLim: [Link](https://matplotlib.org/devdocs/api/_as_gen/matplotlib.pyplot.xlim.html#matplotlib.pyplot.xlim)\n",
    "- XTick: [Link 1](https://matplotlib.org/devdocs/api/_as_gen/matplotlib.pyplot.xticks.html#matplotlib.pyplot.xticks)\n",
    "- XTick: [Link 2](https://matplotlib.org/devdocs/gallery/lines_bars_and_markers/bar_stacked.html#sphx-glr-gallery-lines-bars-and-markers-bar-stacked-py)\n"
   ]
  },
  {
   "cell_type": "code",
   "execution_count": 15,
   "metadata": {},
   "outputs": [],
   "source": [
    "# axis variables\n",
    "min = 0\n",
    "max = 75\n",
    "step = 5\n",
    "\n",
    "# set stop to 75 to exclude 75 and capture values less than 75\n",
    "bins = np.arange(min, max, step)\n",
    "# bin_edges = [1,25, 50, 75, 100, 125, 150, 175, 200, 250, 300]"
   ]
  },
  {
   "cell_type": "code",
   "execution_count": 16,
   "metadata": {},
   "outputs": [],
   "source": [
    "# print(trip_times('./data/Chicago-2016-Summary.csv'))\n",
    "data_chicago_allRides = trip_times('./data/Chicago-2016-Summary.csv')"
   ]
  },
  {
   "cell_type": "code",
   "execution_count": 17,
   "metadata": {},
   "outputs": [
    {
     "data": {
      "image/png": "[encoded data removed]",
      "text/plain": [
       "<matplotlib.figure.Figure at 0x10d4a9b38>"
      ]
     },
     "metadata": {},
     "output_type": "display_data"
    }
   ],
   "source": [
    "# I commented out the exercise plt.hist() below and added bins to the parameter\n",
    "# plt.hist(data_chicago_allRides)\n",
    "plt.hist(data_chicago_allRides, bins)\n",
    "plt.xticks(bins)\n",
    "plt.xlim(min)\n",
    "plt.title('Distribution of Chicago Trip Durations')\n",
    "plt.xlabel('Duration (m)')\n",
    "plt.ylabel('Number of Rides')\n",
    "plt.show()"
   ]
  },
  {
   "cell_type": "markdown",
   "metadata": {},
   "source": [
    "The peak (mode) for Subscirbers is between 5-10 minutes, and Customers is between 20-25 minutes. Both the Subscriber and Customer charts look like they are right-skewed distribution. Even thought the Customer graph is a bit closer to normal distribution (when compared to the Subscriber graph), it is skewed to the right. Remember the mean values were calculated in question _4c_; approximately 12 minutes, and 30 minutes for subscribers, and customers, respectively. Both graphs display mode values aligned to the left of the mean values. The mean values are being pulled by the tail of the distribution. Furthermore, the graphs have taller bins on the left, and shorter bins on the right. These artifiacts are all indicators of right-skewed distribution."
   ]
  },
  {
   "cell_type": "markdown",
   "metadata": {},
   "source": [
    "#### Re-writing Code\n",
    "I created the function _trip_\\__times()_ for my first visualization exercise (above). Now I want to try something different to keep the code looking clean. [_pandas.read_\\__csv()_](https://pandas.pydata.org/pandas-docs/stable/generated/pandas.read_csv.html) returns a _DataFrame_. _pandas.DataFrame_ has a method called _query_ that I want to run to capture specific data, rather than creating _if/elif/else_ conditions. What I'm not sure about is if I need to import DataFrame as this [link](https://pandas.pydata.org/pandas-docs/stable/generated/pandas.DataFrame.query.html) describes. Above where I import the [libraries](#libraries), I'm going to leave _from pandas import DataFrame_ commented out unless I need to import it. I believe _DataFrame_ was imported with other libraries when I imported _pandas_."
   ]
  },
  {
   "cell_type": "code",
   "execution_count": 18,
   "metadata": {},
   "outputs": [],
   "source": [
    "data_chicago_allRides = pd.read_csv('./data/Chicago-2016-Summary.csv')"
   ]
  },
  {
   "cell_type": "code",
   "execution_count": 19,
   "metadata": {},
   "outputs": [
    {
     "data": {
      "image/png": "[encoded data removed]",
      "text/plain": [
       "<matplotlib.figure.Figure at 0x112860860>"
      ]
     },
     "metadata": {},
     "output_type": "display_data"
    }
   ],
   "source": [
    "#subscribers visualization\n",
    "data_chicago_subribers = data_chicago_allRides.query('user_type == \"Subscriber\"')\n",
    "subscribers_below75 = data_chicago_subribers.query('duration < 75')\n",
    "duration = subscribers_below75['duration']\n",
    "plt.hist(duration, bins)\n",
    "plt.xticks(bins)\n",
    "plt.xlim(min)\n",
    "plt.title('Distribution of Chicago Trip Durations for Subscribers')\n",
    "plt.xlabel('Duration (m)')\n",
    "plt.ylabel('Number of Rides')\n",
    "plt.show()"
   ]
  },
  {
   "cell_type": "code",
   "execution_count": 20,
   "metadata": {},
   "outputs": [
    {
     "data": {
      "image/png": "[encoded data removed]",
      "text/plain": [
       "<matplotlib.figure.Figure at 0x11281bf28>"
      ]
     },
     "metadata": {},
     "output_type": "display_data"
    }
   ],
   "source": [
    "#customers visualization\n",
    "data_chicago_customers = data_chicago_allRides.query('user_type == \"Customer\"')\n",
    "customers_below75 = data_chicago_customers.query('duration < 75')\n",
    "duration = customers_below75['duration']\n",
    "plt.hist(duration, bins)\n",
    "plt.xticks(bins)\n",
    "plt.xlim(min)\n",
    "plt.title('Distribution of Chicago Trip Durations for Customers')\n",
    "plt.xlabel('Duration (m)')\n",
    "plt.ylabel('Number of Rides')\n",
    "plt.show()"
   ]
  },
  {
   "cell_type": "markdown",
   "metadata": {
    "collapsed": true
   },
   "source": [
    "<a id='eda_continued'></a>\n",
    "## Performing Your Own Analysis\n",
    "\n",
    "_How does ridership differ by month? Which month has the highest ridership? Does the percentage of Subscriber or Customer trips change depending on the month or season?_\n",
    "\n",
    "I started with the big picture by looking at monthly ridership percentages, and provided 6 graphs to answer the questions above.\n",
    "\n",
    "The first three cells are broken up by city. They house calculations and graphs that display the average ride lengths per user type for each month of the year. Chicago's highest ridership took place in July; customer's averaged 32.6 minutes, and subscribers averaged 13.5 minues. NYC's highest ridership varied; customer's averaged 41.4 minutes in June, and subscriber's averaged 14.6 minutes in April. Washington's highest ridership also varied; customer's averaged 45.7 minutes in April, and subscribers averaged 14.0 minutes June. Although the month for highest ridership is not consistant between cities, they all tend to have higher ridership in May and Jun for each user type. From there, the range of high ridership values hover around April to July, but these trends are not uniform, and vary slightly from city to city. The average ride lengths tend to be more consistant for subscribers throughout the year, while customers have higher peaks in spring and summer with a drop in value around the fall. \n",
    "\n",
    "The second set of cells are also broken up by city. They house calculations and graphs that display the percent of rides per user type for each month. Each graph follows a similar trend. Starting in January, the percent values increase till the peak around July, then decrease in value till December. In conclusion, this is only a snapshot of one year. More data points need to be gathered from other years to determine if there is a cylclal pattern or if there is a seasonal trend."
   ]
  },
  {
   "cell_type": "code",
   "execution_count": 21,
   "metadata": {},
   "outputs": [],
   "source": [
    "# read csv files\n",
    "# chicago csv is above, variable declared as data_chicago_allRides\n",
    "data_nyc_allRides = pd.read_csv('./data/NYC-2016-Summary.csv')\n",
    "data_washington_allRides = pd.read_csv('./data/Washington-2016-Summary.csv')"
   ]
  },
  {
   "cell_type": "code",
   "execution_count": 22,
   "metadata": {
    "scrolled": true
   },
   "outputs": [],
   "source": [
    "#setting xtick values\n",
    "x_months = [0,1,2,3,4,5,6,7,8,9,10,11]\n",
    "labels_months = ['Jan', 'Feb', 'Mar', \n",
    "                 'Apr', 'May', 'Jun', \n",
    "                 'Jul', 'Aug', 'Sept', \n",
    "                 'Oct', 'Nov', 'Dec']"
   ]
  },
  {
   "cell_type": "markdown",
   "metadata": {},
   "source": [
    "#### Visualizations: Averages"
   ]
  },
  {
   "cell_type": "code",
   "execution_count": 23,
   "metadata": {},
   "outputs": [
    {
     "name": "stdout",
     "output_type": "stream",
     "text": [
      "user_type   Customer  Subscriber\n",
      "month                           \n",
      "1          20.734677   10.243520\n",
      "2          25.717032   10.842890\n",
      "3          26.261563   10.571243\n",
      "4          32.417306   12.120714\n",
      "5          31.698940   12.660765\n",
      "6          31.386932   13.026511\n",
      "7          32.571868   13.497654\n",
      "8          31.894674   12.446522\n",
      "9          30.141872   11.846415\n",
      "10         28.812701   11.321418\n",
      "11         28.347326   11.101754\n",
      "12         25.600000   10.642084\n"
     ]
    },
    {
     "data": {
      "image/png": "[encoded data removed]",
      "text/plain": [
       "<matplotlib.figure.Figure at 0x1113fab00>"
      ]
     },
     "metadata": {},
     "output_type": "display_data"
    }
   ],
   "source": [
    "#chicago average rides per month\n",
    "monthly_rides_chicago = data_chicago_allRides.groupby(['month','user_type']).mean()['duration'].unstack()\n",
    "print(monthly_rides_chicago)\n",
    "monthly_rides_chicago.plot(kind = 'bar', legend = 'user_type')\n",
    "\n",
    "title_string = \"Chicago\"\n",
    "subtitle_string = \"Length of Average Bike Ride per User Each Month\"\n",
    "plt.suptitle(title_string, y=1.01, fontsize=18)\n",
    "plt.title(subtitle_string, fontsize=10)\n",
    "\n",
    "plt.xlabel('Months')\n",
    "plt.ylabel('Average Ride Lengths')\n",
    "\n",
    "plt.xticks(x_months,labels_months)\n",
    "plt.legend(bbox_to_anchor=(1.05, 1), loc=2, borderaxespad=0.5)\n",
    "plt.show()"
   ]
  },
  {
   "cell_type": "code",
   "execution_count": 24,
   "metadata": {},
   "outputs": [
    {
     "name": "stdout",
     "output_type": "stream",
     "text": [
      "user_type   Customer  Subscriber\n",
      "month                           \n",
      "1          38.718784   13.058301\n",
      "2          40.325747   14.078923\n",
      "3          38.298580   13.606922\n",
      "4          40.405509   14.636155\n",
      "5          37.007453   14.428657\n",
      "6          41.355028   14.210884\n",
      "7          31.026590   13.015686\n",
      "8          28.013633   13.695432\n",
      "9          28.447853   13.573126\n",
      "10         29.050931   13.064405\n",
      "11         27.775672   14.246784\n",
      "12         25.871016   12.362877\n"
     ]
    },
    {
     "data": {
      "image/png": "[encoded data removed]",
      "text/plain": [
       "<matplotlib.figure.Figure at 0x1124d9860>"
      ]
     },
     "metadata": {},
     "output_type": "display_data"
    }
   ],
   "source": [
    "#nyc average rides per month\n",
    "monthly_rides_nyc = data_nyc_allRides.groupby(['month','user_type']).mean()['duration'].unstack()\n",
    "print(monthly_rides_nyc)\n",
    "monthly_rides_nyc.plot(kind = 'bar', legend = 'user_type')\n",
    "\n",
    "title_string = \"NYC\"\n",
    "subtitle_string = \"Length of Average Bike Ride per User Each Month\"\n",
    "plt.suptitle(title_string, y=1.01, fontsize=18)\n",
    "plt.title(subtitle_string, fontsize=10)\n",
    "\n",
    "plt.xlabel('Months')\n",
    "plt.ylabel('Average Ride Lengths')\n",
    "\n",
    "plt.xticks(x_months,labels_months)\n",
    "plt.legend(bbox_to_anchor=(1.05, 1), loc=2, borderaxespad=0.5)\n",
    "plt.show()"
   ]
  },
  {
   "cell_type": "code",
   "execution_count": 25,
   "metadata": {},
   "outputs": [
    {
     "name": "stdout",
     "output_type": "stream",
     "text": [
      "user_type   Customer  Subscriber\n",
      "month                           \n",
      "1          37.188569   10.345552\n",
      "2          32.917248   10.598818\n",
      "3          44.751714   12.984291\n",
      "4          45.665260   12.560703\n",
      "5          44.325386   13.451142\n",
      "6          44.061997   14.027611\n",
      "7          44.458589   13.753074\n",
      "8          36.825361   12.651764\n",
      "9          40.504592   12.267442\n",
      "10         39.719464   12.069564\n",
      "11         39.803962   11.404771\n",
      "12         35.701813   11.323556\n"
     ]
    },
    {
     "data": {
      "image/png": "[encoded data removed]",
      "text/plain": [
       "<matplotlib.figure.Figure at 0x113ed01d0>"
      ]
     },
     "metadata": {},
     "output_type": "display_data"
    }
   ],
   "source": [
    "#washington average rides per month\n",
    "monthly_rides_washington = data_washington_allRides.groupby(['month','user_type']).mean()['duration'].unstack()\n",
    "print(monthly_rides_washington)\n",
    "monthly_rides_washington.plot(kind = 'bar', legend = 'user_type')\n",
    "\n",
    "title_string = \"Washington\"\n",
    "subtitle_string = \"Length of Average Bike Ride per User Each Month\"\n",
    "plt.suptitle(title_string, y=1.01, fontsize=18)\n",
    "plt.title(subtitle_string, fontsize=10)\n",
    "\n",
    "plt.xlabel('Months')\n",
    "plt.ylabel('Average Ride Lengths')\n",
    "\n",
    "plt.xticks(x_months,labels_months)\n",
    "plt.legend(bbox_to_anchor=(1.05, 1), loc=2, borderaxespad=0.5)\n",
    "plt.show()"
   ]
  },
  {
   "cell_type": "markdown",
   "metadata": {},
   "source": [
    "#### Visualizations: Percentages\n",
    "\n",
    "The values for the next three graphs were easy to calculate. However, I had trouble initially setting up and aligning the items in these graphs, but was able to assemble the elements after reading through [_Matplotlib's_ resource on bar charts](https://pythonspot.com/matplotlib-bar-chart/)."
   ]
  },
  {
   "cell_type": "code",
   "execution_count": 26,
   "metadata": {
    "scrolled": true
   },
   "outputs": [
    {
     "name": "stdout",
     "output_type": "stream",
     "text": [
      "month\n",
      "1      0.361537\n",
      "2      1.329524\n",
      "3      3.294653\n",
      "4      5.930375\n",
      "5     11.732463\n",
      "6     15.231209\n",
      "7     19.377223\n",
      "8     16.076739\n",
      "9     13.726748\n",
      "10     8.700216\n",
      "11     3.889440\n",
      "12     0.349875\n",
      "Name: Customer, dtype: float64\n",
      "month\n",
      "1      3.344731\n",
      "2      3.939471\n",
      "3      5.736423\n",
      "4      6.456659\n",
      "5      9.455822\n",
      "6     13.062457\n",
      "7     12.664145\n",
      "8     12.827835\n",
      "9     11.541959\n",
      "10    10.308828\n",
      "11     7.537012\n",
      "12     3.124659\n",
      "Name: Subscriber, dtype: float64\n"
     ]
    },
    {
     "data": {
      "image/png": "[encoded data removed]",
      "text/plain": [
       "<matplotlib.figure.Figure at 0x113ef9a58>"
      ]
     },
     "metadata": {},
     "output_type": "display_data"
    }
   ],
   "source": [
    "#chicago percent of subscribers:customers per month\n",
    "\n",
    "#print(data_chicago_allRides)\n",
    "count_user_type_rides_chicago = data_chicago_allRides.groupby(['month','user_type']).count()['duration'].unstack()\n",
    "total_daily_rides_chicago = data_chicago_allRides.groupby(['user_type']).count()['duration']\n",
    "percent_subscribers = (count_user_type_rides_chicago['Subscriber'] / total_daily_rides_chicago ['Subscriber']) * 100\n",
    "percent_customers = (count_user_type_rides_chicago['Customer'] / total_daily_rides_chicago ['Customer']) * 100\n",
    "\n",
    "print(percent_customers)\n",
    "print(percent_subscribers)\n",
    "\n",
    "fig, ax = plt.subplots()\n",
    "index = np.arange(len(x_months))\n",
    "bar_width = 0.35\n",
    "\n",
    "customer_bars_chicago = plt.bar(index,\n",
    "                                percent_customers,\n",
    "                                bar_width,\n",
    "                                label='Customer')\n",
    "\n",
    "subscriber_bars_chicago = plt.bar(index+bar_width,\n",
    "                                  percent_subscribers,\n",
    "                                  bar_width,\n",
    "                                  label='Subscriber')\n",
    "\n",
    "title_string = \"Chicago\"\n",
    "subtitle_string = \"Percent of Rides per Month\"\n",
    "plt.suptitle(title_string, y=1.01, fontsize=18)\n",
    "plt.title(subtitle_string, fontsize=10)\n",
    "\n",
    "plt.xlabel('Months')\n",
    "plt.ylabel('Percent of Rides')\n",
    "plt.xticks(index + (bar_width/2), labels_months)\n",
    "plt.legend(bbox_to_anchor=(1.05, 1), loc=2, borderaxespad=0.5)\n",
    "plt.show()\n"
   ]
  },
  {
   "cell_type": "code",
   "execution_count": 27,
   "metadata": {},
   "outputs": [
    {
     "name": "stdout",
     "output_type": "stream",
     "text": [
      "month\n",
      "1      1.616697\n",
      "2      1.885042\n",
      "3      6.221633\n",
      "4      8.719563\n",
      "5     10.631108\n",
      "6     10.389266\n",
      "7     13.175418\n",
      "8     14.616531\n",
      "9     14.553586\n",
      "10     9.958589\n",
      "11     5.959914\n",
      "12     2.272652\n",
      "Name: Customer, dtype: float64\n",
      "month\n",
      "1      3.941504\n",
      "2      4.311172\n",
      "3      6.724388\n",
      "4      7.128217\n",
      "5      8.640238\n",
      "6     10.616683\n",
      "7      9.575186\n",
      "8     10.854996\n",
      "9     11.511371\n",
      "10    11.443456\n",
      "11     8.991200\n",
      "12     6.261590\n",
      "Name: Subscriber, dtype: float64\n"
     ]
    },
    {
     "data": {
      "image/png": "[encoded data removed]",
      "text/plain": [
       "<matplotlib.figure.Figure at 0x113ef96a0>"
      ]
     },
     "metadata": {},
     "output_type": "display_data"
    }
   ],
   "source": [
    "#nyc percent of subscribers:customers per month\n",
    "\n",
    "#print(data_nyc_allRides)\n",
    "count_user_type_rides_nyc = data_nyc_allRides.groupby(['month','user_type']).count()['duration'].unstack()\n",
    "total_daily_rides_nyc = data_nyc_allRides.groupby(['user_type']).count()['duration']\n",
    "percent_subscribers = (count_user_type_rides_nyc['Subscriber'] / total_daily_rides_nyc ['Subscriber']) * 100\n",
    "percent_customers = (count_user_type_rides_nyc['Customer'] / total_daily_rides_nyc ['Customer']) * 100\n",
    "\n",
    "print(percent_customers)\n",
    "print(percent_subscribers)\n",
    "\n",
    "fig, ax = plt.subplots()\n",
    "index = np.arange(len(x_months))\n",
    "bar_width = 0.35\n",
    "\n",
    "customer_bars_nyc = plt.bar(index,\n",
    "                                percent_customers,\n",
    "                                bar_width,\n",
    "                                label='Customer')\n",
    "\n",
    "subscriber_bars_nyc = plt.bar(index+bar_width,\n",
    "                                  percent_subscribers,\n",
    "                                  bar_width,\n",
    "                                  label='Subscriber')\n",
    "\n",
    "title_string = \"NYC\"\n",
    "subtitle_string = \"Percent of Rides per Month\"\n",
    "plt.suptitle(title_string, y=1.01, fontsize=18)\n",
    "plt.title(subtitle_string, fontsize=10)\n",
    "\n",
    "plt.xlabel('Months')\n",
    "plt.ylabel('Percent of Rides')\n",
    "plt.xticks(index + (bar_width/2), labels_months)\n",
    "plt.legend(bbox_to_anchor=(1.05, 1), loc=2, borderaxespad=0.5)\n",
    "plt.show()\n"
   ]
  },
  {
   "cell_type": "code",
   "execution_count": 28,
   "metadata": {},
   "outputs": [
    {
     "name": "stdout",
     "output_type": "stream",
     "text": [
      "month\n",
      "1      1.523365\n",
      "2      1.941947\n",
      "3      8.152062\n",
      "4      8.179510\n",
      "5      8.563782\n",
      "6     11.713443\n",
      "7     15.000343\n",
      "8     12.392781\n",
      "9     11.486997\n",
      "10    10.704728\n",
      "11     7.376655\n",
      "12     2.964386\n",
      "Name: Customer, dtype: float64\n",
      "month\n",
      "1      4.274148\n",
      "2      4.967828\n",
      "3      8.469074\n",
      "4      8.521245\n",
      "5      8.733793\n",
      "6     10.845748\n",
      "7      9.960775\n",
      "8     10.418720\n",
      "9     10.055456\n",
      "10    10.109559\n",
      "11     7.997604\n",
      "12     5.646050\n",
      "Name: Subscriber, dtype: float64\n"
     ]
    },
    {
     "data": {
      "image/png": "[encoded data removed]",
      "text/plain": [
       "<matplotlib.figure.Figure at 0x1130895f8>"
      ]
     },
     "metadata": {},
     "output_type": "display_data"
    }
   ],
   "source": [
    "#washington percent of subscribers:customers per month\n",
    "\n",
    "#print(data_washington_allRides)\n",
    "count_user_type_rides_washington = data_washington_allRides.groupby(['month','user_type']).count()['duration'].unstack()\n",
    "total_daily_rides_washington = data_washington_allRides.groupby(['user_type']).count()['duration']\n",
    "percent_subscribers = (count_user_type_rides_washington['Subscriber'] / total_daily_rides_washington ['Subscriber']) * 100\n",
    "percent_customers = (count_user_type_rides_washington['Customer'] / total_daily_rides_washington ['Customer']) * 100\n",
    "\n",
    "print(percent_customers)\n",
    "print(percent_subscribers)\n",
    "\n",
    "fig, ax = plt.subplots()\n",
    "index = np.arange(len(x_months))\n",
    "bar_width = 0.35\n",
    "\n",
    "customer_bars_washington = plt.bar(index,\n",
    "                                percent_customers,\n",
    "                                bar_width,\n",
    "                                label='Customer')\n",
    "\n",
    "subscriber_bars_washington = plt.bar(index+bar_width,\n",
    "                                  percent_subscribers,\n",
    "                                  bar_width,\n",
    "                                  label='Subscriber')\n",
    "\n",
    "title_string = \"Washington\"\n",
    "subtitle_string = \"Percent of Rides per Month\"\n",
    "plt.suptitle(title_string, y=1.01, fontsize=18)\n",
    "plt.title(subtitle_string, fontsize=10)\n",
    "\n",
    "plt.xlabel('Months')\n",
    "plt.ylabel('Percent of Rides')\n",
    "plt.xticks(index + (bar_width/2), labels_months)\n",
    "plt.legend(bbox_to_anchor=(1.05, 1), loc=2, borderaxespad=0.5)\n",
    "plt.show()"
   ]
  },
  {
   "cell_type": "code",
   "execution_count": 29,
   "metadata": {},
   "outputs": [],
   "source": [
    "## graph subscribers vs customers average rides individual days"
   ]
  },
  {
   "cell_type": "markdown",
   "metadata": {},
   "source": [
    "<a id='conclusion'></a>\n",
    "## Conclusion\n",
    "\n",
    "_Putting the bike share data aside, think of a topic or field of interest where you would like to be able to apply the techniques of data science. What would you like to be able to learn from your chosen subject?_\n",
    "\n",
    "This is a great question. I am an Instructional Designer, and transitioning into a Data Analyst role with empashis on _Learning & Performance_. It would be interesting to apply these techniques at my company (which is the goal). I could use these techniques to wrangle data from our various data sources (_e.g._ CMS's, LMS's, Salesforce,  etc.), clean the data, ensure there is a uniform format, and provide visuals that help senior management (plus myself) find insights related to training and its impact on performance in the real world. In turn, this will not only drive training, it will drive higher performance. I'm not sure if these techniques could also be used with interactive graphing software like Tableau or Domo. But if it can, I would like to learn how to utilize what I've learned with their APIs to manipulate, store, and track data in real-time.\n",
    "\n",
    "Looking back, there is a lot of duplicated code in this project. If I where to redo this work, I'd utilize another library that would help make data manipulations easier and more efficient. The following example leverages _pandas_ and _seaborn_, with just a couple lines of code, to read data from Washington and make a plot of ridership broken down by Subscribers and Customers."
   ]
  },
  {
   "cell_type": "code",
   "execution_count": 30,
   "metadata": {},
   "outputs": [
    {
     "data": {
      "text/plain": [
       "<matplotlib.axes._subplots.AxesSubplot at 0x11512c898>"
      ]
     },
     "execution_count": 30,
     "metadata": {},
     "output_type": "execute_result"
    },
    {
     "data": {
      "image/png": "[encoded data removed]",
      "text/plain": [
       "<matplotlib.figure.Figure at 0x11512c2e8>"
      ]
     },
     "metadata": {},
     "output_type": "display_data"
    }
   ],
   "source": [
    "import seaborn as sns\n",
    "dc = pd.read_csv('./data/Washington-2016-Summary.csv')\n",
    "sns.countplot(x='month', data = dc, hue='user_type', palette='Greens_d')"
   ]
  },
  {
   "cell_type": "markdown",
   "metadata": {},
   "source": [
    "<a id='resources'></a>\n",
    "## Resources\n",
    "- numpy: [Link](https://www.scipy.org/getting-started.html)\n",
    "- pandas -> DataFrame: [Link](https://pandas.pydata.org/pandas-docs/stable/generated/pandas.DataFrame.html)\n",
    "- pandas.read_csv() [Link](https://pandas.pydata.org/pandas-docs/stable/generated/pandas.read_csv.html)\n",
    "- DataFrame.query [Link](https://pandas.pydata.org/pandas-docs/stable/generated/pandas.DataFrame.query.html)\n",
    "- Matplotlib Bar Charts [Link](https://pythonspot.com/matplotlib-bar-chart/)"
   ]
  },
  {
   "cell_type": "code",
   "execution_count": 31,
   "metadata": {},
   "outputs": [
    {
     "data": {
      "text/plain": [
       "0"
      ]
     },
     "execution_count": 31,
     "metadata": {},
     "output_type": "execute_result"
    }
   ],
   "source": [
    "# convert file to html\n",
    "from subprocess import call\n",
    "call(['python', '-m', 'nbconvert', 'Bike_Share_Analysis.ipynb'])"
   ]
  }
 ],
 "metadata": {
  "anaconda-cloud": {},
  "kernelspec": {
   "display_name": "Python 3",
   "language": "python",
   "name": "python3"
  },
  "language_info": {
   "codemirror_mode": {
    "name": "ipython",
    "version": 3
   },
   "file_extension": ".py",
   "mimetype": "text/x-python",
   "name": "python",
   "nbconvert_exporter": "python",
   "pygments_lexer": "ipython3",
   "version": "3.6.4"
  }
 },
 "nbformat": 4,
 "nbformat_minor": 1
}
