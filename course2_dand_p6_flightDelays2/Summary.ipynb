{
 "cells": [
  {
   "cell_type": "markdown",
   "metadata": {},
   "source": [
    "# Flight Delays\n",
    "\n",
    "### by Travis Gillespie"
   ]
  },
  {
   "cell_type": "markdown",
   "metadata": {},
   "source": [
    "## Table of Contents\n",
    "- [Summary](#summary)\n",
    "- [Design](#design)\n",
    "    - [Visualization 1](#visual1)\n",
    "    - [Visualization 2](#visual2)\n",
    "    - [Visualization 3](#visual3)\n",
    "    - [Visualization 4](#visual4)    \n",
    "- [Feedback](#feedback)\n",
    "- [Resources](#resources)"
   ]
  },
  {
   "cell_type": "markdown",
   "metadata": {},
   "source": [
    "<a id='summary'></a>\n",
    "## Summary"
   ]
  },
  {
   "cell_type": "markdown",
   "metadata": {},
   "source": [
    "The purpose of this project is to explore a dataset with Tableau and create an explanatory data visualisation that clearly communicates my findings. The flight delays data for this project comes from a Kaggle dataset (#resources), which tracks performance of on-time US domestic flights operated by large air carriers in 2015. The data can be downloaded from Kaggle [<sup>1</sup>](#resources), or found in _data.zip_. The flight delays data set was used to create the following [Tableau story](https://public.tableau.com/views/flight_delays/Story1?:embed=y&:display_count=yes&publish=yes):\n",
    "\n",
    "[![Image](./images/tableauStory.png)](https://public.tableau.com/views/flight_delays/Story1?:embed=y&:display_count=yes&publish=yes\")\n"
   ]
  },
  {
   "cell_type": "markdown",
   "metadata": {},
   "source": [
    "-----"
   ]
  },
  {
   "cell_type": "markdown",
   "metadata": {},
   "source": [
    "<a id='design'></a>\n",
    "## Design"
   ]
  },
  {
   "cell_type": "markdown",
   "metadata": {},
   "source": [
    "<a id='visual1'></a>\n",
    "### Visual 1"
   ]
  },
  {
   "cell_type": "markdown",
   "metadata": {},
   "source": [
    "This first dashboard displays the [number of delays](https://public.tableau.com/views/flight_delays/Dashboard_DelaysDeparturesvsArrivals?:embed=y&:display_count=yes\") using bar graphs (both for arrivals and departures). I chose a bar graph because the data is comparing the total count of delays per airport.\n",
    "\n",
    "[![Image](./images/DelaysDeparturesVSArrivals.png)](https://public.tableau.com/views/flight_delays/Dashboard_DelaysDeparturesvsArrivals?:embed=y&:display_count=yes\")"
   ]
  },
  {
   "cell_type": "markdown",
   "metadata": {},
   "source": [
    "-----"
   ]
  },
  {
   "cell_type": "markdown",
   "metadata": {},
   "source": [
    "<a id='visual2'></a>\n",
    "### Visual 2"
   ]
  },
  {
   "cell_type": "markdown",
   "metadata": {},
   "source": [
    "This second dashboard displays the [number of delays](https://public.tableau.com/profile/travis.gillespie#!/vizhome/flight_delays/Dashboard_AirportDelays \"Airport Delays Dashboard\") using a map (both for arrivals and departures). I used a map because the data contains information regarding geographical locations.\n",
    "\n",
    "One key finding displayed on both graphs is the busiest hubs have more delays throughout the year (e.g. ATL, ORD, DFW, DEN, and LAX). This link provides a list of the busiest airports in the United States.\n",
    "Use the slider at the bottom of this dashboard to scrub through the data. Colors were selected based on suggestions in the blog, 5 tips on designing colorblind friendly visualizations. [<sup>2</sup>](#resources)\n",
    "\n",
    "[![Image](./images/FlightDelaysByAirport.png)](https://public.tableau.com/profile/travis.gillespie#!/vizhome/flight_delays/Dashboard_AirportDelays \"Airport Delays Dashboard\")"
   ]
  },
  {
   "cell_type": "markdown",
   "metadata": {},
   "source": [
    "-----"
   ]
  },
  {
   "cell_type": "markdown",
   "metadata": {},
   "source": [
    "<a id='visual3'></a>\n",
    "### Visual 3"
   ]
  },
  {
   "cell_type": "markdown",
   "metadata": {},
   "source": [
    "This third dashboard compares the [number of delayed and on-time arrivals](https://public.tableau.com/profile/travis.gillespie#!/vizhome/flight_delays/Dashboard_DestinationDelays \"On-Time vs Delayed\"). The following graphs display my initial findings. I chose scatter plots for this section because each graph displays the relationship between two variables.\n",
    "\n",
    "[![Image](./images/OntimeVsDelayed.png)](https://public.tableau.com/profile/travis.gillespie#!/vizhome/flight_delays/Dashboard_DestinationDelays \"On-Time vs Delayed\")\n",
    "\n",
    "* Top: As the total number of arrivals (per airport) increase, the number of delayed and on-time arrivals increase. Notice the spread between delayed and on-time arrivals also increases.\n",
    "\n",
    "* Bottom Left: An r-square value of 0.98 suggests there is a strong correlation between the number of delayed and on-time arrivals.\n",
    "\n",
    "* Bottom Right: Although the spread increases (shown in top graph) as the total number of arrivals increase, the percent difference stays within a 15-40% range for busy hubs; suggesting busier airports are highly organized and can manage greater traffic loads.\n",
    "\n"
   ]
  },
  {
   "cell_type": "markdown",
   "metadata": {},
   "source": [
    "-----"
   ]
  },
  {
   "cell_type": "markdown",
   "metadata": {},
   "source": [
    "<a id='visual4'></a>\n",
    "### Visual 4"
   ]
  },
  {
   "cell_type": "markdown",
   "metadata": {},
   "source": [
    "The fourth dashboard displays the [median length of delays per month](https://public.tableau.com/profile/travis.gillespie#!/vizhome/flight_delays/Dashboard_DelaysbyMonth \"Delays per Month\"). I chose a line graph to display changes over time.\n",
    "\n",
    "Users can also drill-down to view the median length of daily delays per month. For example, the monthly view shows June having the highest median delays. After drilling down into a daily view per month, we can see that the highest median delay values fall within other months (outside of June). In fact, the 18th of July has a median delay value of 30, while the 18th of June (date of highest median delay in June) has a median delay of 29.\n",
    "\n",
    "It would be interesting to gather data over multiple years to look for cyclical trends, such as higher rates of delays at the end of December and beginning of January. Did this only occur during 2015, or are the higher median delay values due to higher rates of travel during the holidays?\n",
    "\n",
    "[![Image](./images/DelaysPerMonth.png)](https://public.tableau.com/profile/travis.gillespie#!/vizhome/flight_delays/Dashboard_DelaysbyMonth \"Delays per Month\")"
   ]
  },
  {
   "cell_type": "markdown",
   "metadata": {},
   "source": [
    "-----"
   ]
  },
  {
   "cell_type": "markdown",
   "metadata": {},
   "source": [
    "<a id='feedback'></a>\n",
    "### Feedback"
   ]
  },
  {
   "cell_type": "markdown",
   "metadata": {},
   "source": [
    "The following feedback refrences the visuals from my [original sketches](./originalSketches/sketch1.pdf), which can be found in the folder labeled originalSketches.\n",
    "\n",
    "#### <span style=\"color:darkblue\">The following reference _visual 1_ and _visual 2_ above, plus _Dashboard 1_ in my original sketch:</span>\n",
    "<img src=\"./originalSketches/originalDashboard1.png\" width=\"75%\">"
   ]
  },
  {
   "cell_type": "markdown",
   "metadata": {},
   "source": [
    "<span style=\"color:blue\">• *The bar charts aren't working. There should be the same number of bars and labels. Every bar should be aligned with a label.*</span>\n",
    "\n",
    "```I originally had two bar charts in one Tableau worksheet. After the feed back, I moved one of the bar graphs to a second worksheet. This allowed me to place labels under each bar within both bar graphs. Then I placed both worksheets in one dashboard, and added a textbox below each graph to label both x-axes.```\n",
    "\n",
    "<span style=\"color:blue\">• *When you have data that can be directly linked to a geographical location, almost always, a map will be a better choice.*</span>\n",
    "\n",
    "```I created a second set of worksheets that used each airport's longitude and latitude to place them on a map.```\n",
    "\n",
    "<span style=\"color:blue\">• *You should either remove the bar charts or make sure that you correctly display the data in them.*</span>\n",
    "\n",
    "```I created a second set of worksheets that used each airport's longitude and latitude to place them on a map.```"
   ]
  },
  {
   "cell_type": "markdown",
   "metadata": {},
   "source": [
    "-----"
   ]
  },
  {
   "cell_type": "markdown",
   "metadata": {},
   "source": [
    "#### <span style=\"color:darkblue\">The following reference _visual 3_ above, and _Dashboard 2_ in my original sketch:</span>\n",
    "<img src=\"./originalSketches/originalDashboard2.png\" width=\"75%\">"
   ]
  },
  {
   "cell_type": "markdown",
   "metadata": {},
   "source": [
    "<span style=\"color:blue\">• *In the second link, there should be a title for the whole dashboard.*\n",
    "\n",
    "```I created a title for the dashboard. Then placed the dashboard in a story.```"
   ]
  },
  {
   "cell_type": "markdown",
   "metadata": {},
   "source": [
    "#### <span style=\"color:darkblue\">The following reference _visual 4_ above, and _Dashboard 3_ in my original sketch:</span>\n",
    "<img src=\"./originalSketches/originalDashboard3.png\" width=\"75%\">"
   ]
  },
  {
   "cell_type": "markdown",
   "metadata": {},
   "source": [
    "<span style=\"color:blue\">• *In the third link, all the plots need to be modified. When you have time series, you must use line charts. Remember, bar charts are used to compare categorical variables and scatterplots to see the relationship between 2 variables. Please use line charts next time and use month names as labels.*</span>\n",
    "\n",
    "```I removed all graphs and started from scratch. I changed the bar charts to a line graph as suggested, to compare the length of delays over time (by month). I also created a drill down path. By expanding the month, you can drill down a layer to view the individual days within each month. The filter is another hadny feature that allows you to select desired months and days. I watched a youtube video to help refresh me on drill hierachal drilldowns in Tableau.``` [<sup>3</sup>](#resources)\n"
   ]
  },
  {
   "cell_type": "markdown",
   "metadata": {},
   "source": [
    "-----"
   ]
  },
  {
   "cell_type": "markdown",
   "metadata": {},
   "source": [
    "<a id='resources'></a>\n",
    "### Resources"
   ]
  },
  {
   "cell_type": "markdown",
   "metadata": {},
   "source": [
    "1. [Flight Delays](https://www.kaggle.com/usdot/flight-delays/data \"Flight Delays Data\")\n",
    "\n",
    "* [Coloring for Colorblindness](https://www.tableau.com/about/blog/2016/4/examining-data-viz-rules-dont-use-red-green-together-53463)\n",
    "\n",
    "* [Tableau Drilldowns](https://youtu.be/K7VJpXvBfIY)"
   ]
  },
  {
   "cell_type": "code",
   "execution_count": null,
   "metadata": {},
   "outputs": [],
   "source": []
  }
 ],
 "metadata": {
  "kernelspec": {
   "display_name": "Python 3",
   "language": "python",
   "name": "python3"
  },
  "language_info": {
   "codemirror_mode": {
    "name": "ipython",
    "version": 3
   },
   "file_extension": ".py",
   "mimetype": "text/x-python",
   "name": "python",
   "nbconvert_exporter": "python",
   "pygments_lexer": "ipython3",
   "version": "3.6.4"
  }
 },
 "nbformat": 4,
 "nbformat_minor": 2
}
